{
  "cells": [
    {
      "cell_type": "markdown",
      "metadata": {
        "id": "view-in-github",
        "colab_type": "text"
      },
      "source": [
        "<a href=\"https://colab.research.google.com/github/rdemarqui/sentiment_analysis/blob/main/01%20Text%20Preprocessing.ipynb\" target=\"_parent\"><img src=\"https://colab.research.google.com/assets/colab-badge.svg\" alt=\"Open In Colab\"/></a>"
      ]
    },
    {
      "cell_type": "markdown",
      "metadata": {
        "id": "lty2U1zMQwRe"
      },
      "source": [
        "# Sentiment Analysis\n",
        "## Text Preprocessing"
      ]
    },
    {
      "cell_type": "code",
      "execution_count": 1,
      "metadata": {
        "ExecuteTime": {
          "end_time": "2023-08-18T20:43:16.748625Z",
          "start_time": "2023-08-18T20:43:15.984396Z"
        },
        "id": "edaJMfHXQwRh"
      },
      "outputs": [],
      "source": [
        "import pandas as pd\n",
        "import string, os"
      ]
    },
    {
      "cell_type": "code",
      "execution_count": 2,
      "metadata": {
        "ExecuteTime": {
          "end_time": "2023-08-18T20:43:46.628544Z",
          "start_time": "2023-08-18T20:43:46.620563Z"
        },
        "colab": {
          "base_uri": "https://localhost:8080/",
          "height": 35
        },
        "id": "FLHAGhNNQwRk",
        "outputId": "39de444a-9f40-496a-93f8-33a77f4332f8"
      },
      "outputs": [
        {
          "output_type": "execute_result",
          "data": {
            "text/plain": [
              "'/content'"
            ],
            "application/vnd.google.colaboratory.intrinsic+json": {
              "type": "string"
            }
          },
          "metadata": {},
          "execution_count": 2
        }
      ],
      "source": [
        "path = os.getcwd()\n",
        "path"
      ]
    },
    {
      "cell_type": "markdown",
      "metadata": {
        "id": "3NUShJilQwRk"
      },
      "source": [
        "### Load data"
      ]
    },
    {
      "cell_type": "code",
      "execution_count": 3,
      "metadata": {
        "ExecuteTime": {
          "end_time": "2023-08-18T20:43:49.352685Z",
          "start_time": "2023-08-18T20:43:48.677670Z"
        },
        "colab": {
          "base_uri": "https://localhost:8080/",
          "height": 224
        },
        "id": "1uXTEaLeQwRk",
        "outputId": "a46caf05-3417-4c40-de65-fb361e25df17"
      },
      "outputs": [
        {
          "output_type": "stream",
          "name": "stdout",
          "text": [
            "(132373, 3)\n"
          ]
        },
        {
          "output_type": "execute_result",
          "data": {
            "text/plain": [
              "   overall_rating recommend_to_a_friend  \\\n",
              "0               4                   Yes   \n",
              "1               4                   Yes   \n",
              "2               4                   Yes   \n",
              "3               4                   Yes   \n",
              "4               5                   Yes   \n",
              "\n",
              "                                         review_text  \n",
              "0  Estou contente com a compra entrega rápida o ú...  \n",
              "1  Por apenas R$1994.20,eu consegui comprar esse ...  \n",
              "2  SUPERA EM AGILIDADE E PRATICIDADE OUTRAS PANEL...  \n",
              "3  MEU FILHO AMOU! PARECE DE VERDADE COM TANTOS D...  \n",
              "4  A entrega foi no prazo, as americanas estão de...  "
            ],
            "text/html": [
              "\n",
              "  <div id=\"df-d7833bf2-f001-4075-bd50-3b8533bfaf82\" class=\"colab-df-container\">\n",
              "    <div>\n",
              "<style scoped>\n",
              "    .dataframe tbody tr th:only-of-type {\n",
              "        vertical-align: middle;\n",
              "    }\n",
              "\n",
              "    .dataframe tbody tr th {\n",
              "        vertical-align: top;\n",
              "    }\n",
              "\n",
              "    .dataframe thead th {\n",
              "        text-align: right;\n",
              "    }\n",
              "</style>\n",
              "<table border=\"1\" class=\"dataframe\">\n",
              "  <thead>\n",
              "    <tr style=\"text-align: right;\">\n",
              "      <th></th>\n",
              "      <th>overall_rating</th>\n",
              "      <th>recommend_to_a_friend</th>\n",
              "      <th>review_text</th>\n",
              "    </tr>\n",
              "  </thead>\n",
              "  <tbody>\n",
              "    <tr>\n",
              "      <th>0</th>\n",
              "      <td>4</td>\n",
              "      <td>Yes</td>\n",
              "      <td>Estou contente com a compra entrega rápida o ú...</td>\n",
              "    </tr>\n",
              "    <tr>\n",
              "      <th>1</th>\n",
              "      <td>4</td>\n",
              "      <td>Yes</td>\n",
              "      <td>Por apenas R$1994.20,eu consegui comprar esse ...</td>\n",
              "    </tr>\n",
              "    <tr>\n",
              "      <th>2</th>\n",
              "      <td>4</td>\n",
              "      <td>Yes</td>\n",
              "      <td>SUPERA EM AGILIDADE E PRATICIDADE OUTRAS PANEL...</td>\n",
              "    </tr>\n",
              "    <tr>\n",
              "      <th>3</th>\n",
              "      <td>4</td>\n",
              "      <td>Yes</td>\n",
              "      <td>MEU FILHO AMOU! PARECE DE VERDADE COM TANTOS D...</td>\n",
              "    </tr>\n",
              "    <tr>\n",
              "      <th>4</th>\n",
              "      <td>5</td>\n",
              "      <td>Yes</td>\n",
              "      <td>A entrega foi no prazo, as americanas estão de...</td>\n",
              "    </tr>\n",
              "  </tbody>\n",
              "</table>\n",
              "</div>\n",
              "    <div class=\"colab-df-buttons\">\n",
              "\n",
              "  <div class=\"colab-df-container\">\n",
              "    <button class=\"colab-df-convert\" onclick=\"convertToInteractive('df-d7833bf2-f001-4075-bd50-3b8533bfaf82')\"\n",
              "            title=\"Convert this dataframe to an interactive table.\"\n",
              "            style=\"display:none;\">\n",
              "\n",
              "  <svg xmlns=\"http://www.w3.org/2000/svg\" height=\"24px\" viewBox=\"0 -960 960 960\">\n",
              "    <path d=\"M120-120v-720h720v720H120Zm60-500h600v-160H180v160Zm220 220h160v-160H400v160Zm0 220h160v-160H400v160ZM180-400h160v-160H180v160Zm440 0h160v-160H620v160ZM180-180h160v-160H180v160Zm440 0h160v-160H620v160Z\"/>\n",
              "  </svg>\n",
              "    </button>\n",
              "\n",
              "  <style>\n",
              "    .colab-df-container {\n",
              "      display:flex;\n",
              "      gap: 12px;\n",
              "    }\n",
              "\n",
              "    .colab-df-convert {\n",
              "      background-color: #E8F0FE;\n",
              "      border: none;\n",
              "      border-radius: 50%;\n",
              "      cursor: pointer;\n",
              "      display: none;\n",
              "      fill: #1967D2;\n",
              "      height: 32px;\n",
              "      padding: 0 0 0 0;\n",
              "      width: 32px;\n",
              "    }\n",
              "\n",
              "    .colab-df-convert:hover {\n",
              "      background-color: #E2EBFA;\n",
              "      box-shadow: 0px 1px 2px rgba(60, 64, 67, 0.3), 0px 1px 3px 1px rgba(60, 64, 67, 0.15);\n",
              "      fill: #174EA6;\n",
              "    }\n",
              "\n",
              "    .colab-df-buttons div {\n",
              "      margin-bottom: 4px;\n",
              "    }\n",
              "\n",
              "    [theme=dark] .colab-df-convert {\n",
              "      background-color: #3B4455;\n",
              "      fill: #D2E3FC;\n",
              "    }\n",
              "\n",
              "    [theme=dark] .colab-df-convert:hover {\n",
              "      background-color: #434B5C;\n",
              "      box-shadow: 0px 1px 3px 1px rgba(0, 0, 0, 0.15);\n",
              "      filter: drop-shadow(0px 1px 2px rgba(0, 0, 0, 0.3));\n",
              "      fill: #FFFFFF;\n",
              "    }\n",
              "  </style>\n",
              "\n",
              "    <script>\n",
              "      const buttonEl =\n",
              "        document.querySelector('#df-d7833bf2-f001-4075-bd50-3b8533bfaf82 button.colab-df-convert');\n",
              "      buttonEl.style.display =\n",
              "        google.colab.kernel.accessAllowed ? 'block' : 'none';\n",
              "\n",
              "      async function convertToInteractive(key) {\n",
              "        const element = document.querySelector('#df-d7833bf2-f001-4075-bd50-3b8533bfaf82');\n",
              "        const dataTable =\n",
              "          await google.colab.kernel.invokeFunction('convertToInteractive',\n",
              "                                                    [key], {});\n",
              "        if (!dataTable) return;\n",
              "\n",
              "        const docLinkHtml = 'Like what you see? Visit the ' +\n",
              "          '<a target=\"_blank\" href=https://colab.research.google.com/notebooks/data_table.ipynb>data table notebook</a>'\n",
              "          + ' to learn more about interactive tables.';\n",
              "        element.innerHTML = '';\n",
              "        dataTable['output_type'] = 'display_data';\n",
              "        await google.colab.output.renderOutput(dataTable, element);\n",
              "        const docLink = document.createElement('div');\n",
              "        docLink.innerHTML = docLinkHtml;\n",
              "        element.appendChild(docLink);\n",
              "      }\n",
              "    </script>\n",
              "  </div>\n",
              "\n",
              "\n",
              "<div id=\"df-efd24a2e-c4b5-4148-8437-32f9121a2d03\">\n",
              "  <button class=\"colab-df-quickchart\" onclick=\"quickchart('df-efd24a2e-c4b5-4148-8437-32f9121a2d03')\"\n",
              "            title=\"Suggest charts.\"\n",
              "            style=\"display:none;\">\n",
              "\n",
              "<svg xmlns=\"http://www.w3.org/2000/svg\" height=\"24px\"viewBox=\"0 0 24 24\"\n",
              "     width=\"24px\">\n",
              "    <g>\n",
              "        <path d=\"M19 3H5c-1.1 0-2 .9-2 2v14c0 1.1.9 2 2 2h14c1.1 0 2-.9 2-2V5c0-1.1-.9-2-2-2zM9 17H7v-7h2v7zm4 0h-2V7h2v10zm4 0h-2v-4h2v4z\"/>\n",
              "    </g>\n",
              "</svg>\n",
              "  </button>\n",
              "\n",
              "<style>\n",
              "  .colab-df-quickchart {\n",
              "    background-color: #E8F0FE;\n",
              "    border: none;\n",
              "    border-radius: 50%;\n",
              "    cursor: pointer;\n",
              "    display: none;\n",
              "    fill: #1967D2;\n",
              "    height: 32px;\n",
              "    padding: 0 0 0 0;\n",
              "    width: 32px;\n",
              "  }\n",
              "\n",
              "  .colab-df-quickchart:hover {\n",
              "    background-color: #E2EBFA;\n",
              "    box-shadow: 0px 1px 2px rgba(60, 64, 67, 0.3), 0px 1px 3px 1px rgba(60, 64, 67, 0.15);\n",
              "    fill: #174EA6;\n",
              "  }\n",
              "\n",
              "  [theme=dark] .colab-df-quickchart {\n",
              "    background-color: #3B4455;\n",
              "    fill: #D2E3FC;\n",
              "  }\n",
              "\n",
              "  [theme=dark] .colab-df-quickchart:hover {\n",
              "    background-color: #434B5C;\n",
              "    box-shadow: 0px 1px 3px 1px rgba(0, 0, 0, 0.15);\n",
              "    filter: drop-shadow(0px 1px 2px rgba(0, 0, 0, 0.3));\n",
              "    fill: #FFFFFF;\n",
              "  }\n",
              "</style>\n",
              "\n",
              "  <script>\n",
              "    async function quickchart(key) {\n",
              "      const charts = await google.colab.kernel.invokeFunction(\n",
              "          'suggestCharts', [key], {});\n",
              "    }\n",
              "    (() => {\n",
              "      let quickchartButtonEl =\n",
              "        document.querySelector('#df-efd24a2e-c4b5-4148-8437-32f9121a2d03 button');\n",
              "      quickchartButtonEl.style.display =\n",
              "        google.colab.kernel.accessAllowed ? 'block' : 'none';\n",
              "    })();\n",
              "  </script>\n",
              "</div>\n",
              "    </div>\n",
              "  </div>\n"
            ]
          },
          "metadata": {},
          "execution_count": 3
        }
      ],
      "source": [
        "# Open dataframe\n",
        "columns = ['review_text', 'overall_rating', 'recommend_to_a_friend']\n",
        "\n",
        "try:\n",
        "  df = pd.read_csv(os.path.join(path, 'data\\B2W-Reviews01.zip'),\n",
        "                   sep=',', compression='zip', usecols=columns)\n",
        "except:\n",
        "  !wget https://github.com/rdemarqui/sentiment_analysis/raw/main/data/B2W-Reviews01.zip -q\n",
        "  df = pd.read_csv(os.path.join(path, 'B2W-Reviews01.zip'),\n",
        "                   sep=',', compression='zip', usecols=columns)\n",
        "\n",
        "print(df.shape)\n",
        "df.head()"
      ]
    },
    {
      "cell_type": "markdown",
      "metadata": {
        "id": "IQyBLZ1VQwRk"
      },
      "source": [
        "### Normalization"
      ]
    },
    {
      "cell_type": "code",
      "execution_count": 4,
      "metadata": {
        "ExecuteTime": {
          "end_time": "2023-08-18T20:43:51.331233Z",
          "start_time": "2023-08-18T20:43:51.253867Z"
        },
        "colab": {
          "base_uri": "https://localhost:8080/",
          "height": 224
        },
        "id": "5URVXmY-QwRk",
        "outputId": "93d948d2-ca61-46a1-8147-3d1ea7f3e2ce"
      },
      "outputs": [
        {
          "output_type": "stream",
          "name": "stdout",
          "text": [
            "(116058, 3)\n"
          ]
        },
        {
          "output_type": "execute_result",
          "data": {
            "text/plain": [
              "   overall_rating recommend_to_a_friend  \\\n",
              "0               4                   Yes   \n",
              "1               4                   Yes   \n",
              "2               4                   Yes   \n",
              "3               4                   Yes   \n",
              "4               5                   Yes   \n",
              "\n",
              "                                         review_text  \n",
              "0  Estou contente com a compra entrega rápida o ú...  \n",
              "1  Por apenas R$1994.20,eu consegui comprar esse ...  \n",
              "2  SUPERA EM AGILIDADE E PRATICIDADE OUTRAS PANEL...  \n",
              "3  MEU FILHO AMOU! PARECE DE VERDADE COM TANTOS D...  \n",
              "4  A entrega foi no prazo, as americanas estão de...  "
            ],
            "text/html": [
              "\n",
              "  <div id=\"df-e6fdc4cf-ee4c-4c9f-a44d-d28979b9f37d\" class=\"colab-df-container\">\n",
              "    <div>\n",
              "<style scoped>\n",
              "    .dataframe tbody tr th:only-of-type {\n",
              "        vertical-align: middle;\n",
              "    }\n",
              "\n",
              "    .dataframe tbody tr th {\n",
              "        vertical-align: top;\n",
              "    }\n",
              "\n",
              "    .dataframe thead th {\n",
              "        text-align: right;\n",
              "    }\n",
              "</style>\n",
              "<table border=\"1\" class=\"dataframe\">\n",
              "  <thead>\n",
              "    <tr style=\"text-align: right;\">\n",
              "      <th></th>\n",
              "      <th>overall_rating</th>\n",
              "      <th>recommend_to_a_friend</th>\n",
              "      <th>review_text</th>\n",
              "    </tr>\n",
              "  </thead>\n",
              "  <tbody>\n",
              "    <tr>\n",
              "      <th>0</th>\n",
              "      <td>4</td>\n",
              "      <td>Yes</td>\n",
              "      <td>Estou contente com a compra entrega rápida o ú...</td>\n",
              "    </tr>\n",
              "    <tr>\n",
              "      <th>1</th>\n",
              "      <td>4</td>\n",
              "      <td>Yes</td>\n",
              "      <td>Por apenas R$1994.20,eu consegui comprar esse ...</td>\n",
              "    </tr>\n",
              "    <tr>\n",
              "      <th>2</th>\n",
              "      <td>4</td>\n",
              "      <td>Yes</td>\n",
              "      <td>SUPERA EM AGILIDADE E PRATICIDADE OUTRAS PANEL...</td>\n",
              "    </tr>\n",
              "    <tr>\n",
              "      <th>3</th>\n",
              "      <td>4</td>\n",
              "      <td>Yes</td>\n",
              "      <td>MEU FILHO AMOU! PARECE DE VERDADE COM TANTOS D...</td>\n",
              "    </tr>\n",
              "    <tr>\n",
              "      <th>4</th>\n",
              "      <td>5</td>\n",
              "      <td>Yes</td>\n",
              "      <td>A entrega foi no prazo, as americanas estão de...</td>\n",
              "    </tr>\n",
              "  </tbody>\n",
              "</table>\n",
              "</div>\n",
              "    <div class=\"colab-df-buttons\">\n",
              "\n",
              "  <div class=\"colab-df-container\">\n",
              "    <button class=\"colab-df-convert\" onclick=\"convertToInteractive('df-e6fdc4cf-ee4c-4c9f-a44d-d28979b9f37d')\"\n",
              "            title=\"Convert this dataframe to an interactive table.\"\n",
              "            style=\"display:none;\">\n",
              "\n",
              "  <svg xmlns=\"http://www.w3.org/2000/svg\" height=\"24px\" viewBox=\"0 -960 960 960\">\n",
              "    <path d=\"M120-120v-720h720v720H120Zm60-500h600v-160H180v160Zm220 220h160v-160H400v160Zm0 220h160v-160H400v160ZM180-400h160v-160H180v160Zm440 0h160v-160H620v160ZM180-180h160v-160H180v160Zm440 0h160v-160H620v160Z\"/>\n",
              "  </svg>\n",
              "    </button>\n",
              "\n",
              "  <style>\n",
              "    .colab-df-container {\n",
              "      display:flex;\n",
              "      gap: 12px;\n",
              "    }\n",
              "\n",
              "    .colab-df-convert {\n",
              "      background-color: #E8F0FE;\n",
              "      border: none;\n",
              "      border-radius: 50%;\n",
              "      cursor: pointer;\n",
              "      display: none;\n",
              "      fill: #1967D2;\n",
              "      height: 32px;\n",
              "      padding: 0 0 0 0;\n",
              "      width: 32px;\n",
              "    }\n",
              "\n",
              "    .colab-df-convert:hover {\n",
              "      background-color: #E2EBFA;\n",
              "      box-shadow: 0px 1px 2px rgba(60, 64, 67, 0.3), 0px 1px 3px 1px rgba(60, 64, 67, 0.15);\n",
              "      fill: #174EA6;\n",
              "    }\n",
              "\n",
              "    .colab-df-buttons div {\n",
              "      margin-bottom: 4px;\n",
              "    }\n",
              "\n",
              "    [theme=dark] .colab-df-convert {\n",
              "      background-color: #3B4455;\n",
              "      fill: #D2E3FC;\n",
              "    }\n",
              "\n",
              "    [theme=dark] .colab-df-convert:hover {\n",
              "      background-color: #434B5C;\n",
              "      box-shadow: 0px 1px 3px 1px rgba(0, 0, 0, 0.15);\n",
              "      filter: drop-shadow(0px 1px 2px rgba(0, 0, 0, 0.3));\n",
              "      fill: #FFFFFF;\n",
              "    }\n",
              "  </style>\n",
              "\n",
              "    <script>\n",
              "      const buttonEl =\n",
              "        document.querySelector('#df-e6fdc4cf-ee4c-4c9f-a44d-d28979b9f37d button.colab-df-convert');\n",
              "      buttonEl.style.display =\n",
              "        google.colab.kernel.accessAllowed ? 'block' : 'none';\n",
              "\n",
              "      async function convertToInteractive(key) {\n",
              "        const element = document.querySelector('#df-e6fdc4cf-ee4c-4c9f-a44d-d28979b9f37d');\n",
              "        const dataTable =\n",
              "          await google.colab.kernel.invokeFunction('convertToInteractive',\n",
              "                                                    [key], {});\n",
              "        if (!dataTable) return;\n",
              "\n",
              "        const docLinkHtml = 'Like what you see? Visit the ' +\n",
              "          '<a target=\"_blank\" href=https://colab.research.google.com/notebooks/data_table.ipynb>data table notebook</a>'\n",
              "          + ' to learn more about interactive tables.';\n",
              "        element.innerHTML = '';\n",
              "        dataTable['output_type'] = 'display_data';\n",
              "        await google.colab.output.renderOutput(dataTable, element);\n",
              "        const docLink = document.createElement('div');\n",
              "        docLink.innerHTML = docLinkHtml;\n",
              "        element.appendChild(docLink);\n",
              "      }\n",
              "    </script>\n",
              "  </div>\n",
              "\n",
              "\n",
              "<div id=\"df-4e70b139-224a-48b6-a26c-929bf2640d8c\">\n",
              "  <button class=\"colab-df-quickchart\" onclick=\"quickchart('df-4e70b139-224a-48b6-a26c-929bf2640d8c')\"\n",
              "            title=\"Suggest charts.\"\n",
              "            style=\"display:none;\">\n",
              "\n",
              "<svg xmlns=\"http://www.w3.org/2000/svg\" height=\"24px\"viewBox=\"0 0 24 24\"\n",
              "     width=\"24px\">\n",
              "    <g>\n",
              "        <path d=\"M19 3H5c-1.1 0-2 .9-2 2v14c0 1.1.9 2 2 2h14c1.1 0 2-.9 2-2V5c0-1.1-.9-2-2-2zM9 17H7v-7h2v7zm4 0h-2V7h2v10zm4 0h-2v-4h2v4z\"/>\n",
              "    </g>\n",
              "</svg>\n",
              "  </button>\n",
              "\n",
              "<style>\n",
              "  .colab-df-quickchart {\n",
              "    background-color: #E8F0FE;\n",
              "    border: none;\n",
              "    border-radius: 50%;\n",
              "    cursor: pointer;\n",
              "    display: none;\n",
              "    fill: #1967D2;\n",
              "    height: 32px;\n",
              "    padding: 0 0 0 0;\n",
              "    width: 32px;\n",
              "  }\n",
              "\n",
              "  .colab-df-quickchart:hover {\n",
              "    background-color: #E2EBFA;\n",
              "    box-shadow: 0px 1px 2px rgba(60, 64, 67, 0.3), 0px 1px 3px 1px rgba(60, 64, 67, 0.15);\n",
              "    fill: #174EA6;\n",
              "  }\n",
              "\n",
              "  [theme=dark] .colab-df-quickchart {\n",
              "    background-color: #3B4455;\n",
              "    fill: #D2E3FC;\n",
              "  }\n",
              "\n",
              "  [theme=dark] .colab-df-quickchart:hover {\n",
              "    background-color: #434B5C;\n",
              "    box-shadow: 0px 1px 3px 1px rgba(0, 0, 0, 0.15);\n",
              "    filter: drop-shadow(0px 1px 2px rgba(0, 0, 0, 0.3));\n",
              "    fill: #FFFFFF;\n",
              "  }\n",
              "</style>\n",
              "\n",
              "  <script>\n",
              "    async function quickchart(key) {\n",
              "      const charts = await google.colab.kernel.invokeFunction(\n",
              "          'suggestCharts', [key], {});\n",
              "    }\n",
              "    (() => {\n",
              "      let quickchartButtonEl =\n",
              "        document.querySelector('#df-4e70b139-224a-48b6-a26c-929bf2640d8c button');\n",
              "      quickchartButtonEl.style.display =\n",
              "        google.colab.kernel.accessAllowed ? 'block' : 'none';\n",
              "    })();\n",
              "  </script>\n",
              "</div>\n",
              "    </div>\n",
              "  </div>\n"
            ]
          },
          "metadata": {},
          "execution_count": 4
        }
      ],
      "source": [
        "corpus = df.query(\"overall_rating >= 4 or overall_rating <=2\").reset_index(drop=True).copy()\n",
        "print(corpus.shape)\n",
        "corpus.head()"
      ]
    },
    {
      "cell_type": "code",
      "execution_count": 5,
      "metadata": {
        "ExecuteTime": {
          "end_time": "2023-08-18T20:43:52.781515Z",
          "start_time": "2023-08-18T20:43:52.773315Z"
        },
        "id": "u-Q8-PJvQwRl"
      },
      "outputs": [],
      "source": [
        "punctuations = list(string.punctuation)\n",
        "def remove_punctuation(text):\n",
        "    for item in punctuations:\n",
        "        text = text.replace(item, \" \")\n",
        "\n",
        "    return text"
      ]
    },
    {
      "cell_type": "code",
      "execution_count": 6,
      "metadata": {
        "ExecuteTime": {
          "end_time": "2023-08-18T20:43:53.380588Z",
          "start_time": "2023-08-18T20:43:53.366480Z"
        },
        "id": "XfHnRcbsQwRl"
      },
      "outputs": [],
      "source": [
        "accentuation = {\n",
        "    \"á\": \"a\", \"ã\": \"a\", \"à\": \"a\",\"â\": \"a\",\n",
        "    \"é\": \"e\",\"ê\": \"e\",\n",
        "    \"í\": \"i\",\n",
        "    \"ó\": \"o\",\"õ\": \"o\", \"ô\":\"o\",\n",
        "    \"ú\": \"u\",\n",
        "    \"ç\": \"c\"\n",
        "    }\n",
        "def remove_accentuation(text):\n",
        "    for item in accentuation.items():\n",
        "        text = text.replace(str(item[0]), str(item[1]))\n",
        "\n",
        "    return text"
      ]
    },
    {
      "cell_type": "code",
      "execution_count": 7,
      "metadata": {
        "ExecuteTime": {
          "end_time": "2023-08-18T20:43:53.795949Z",
          "start_time": "2023-08-18T20:43:53.771984Z"
        },
        "id": "xdgdhZyzQwRl"
      },
      "outputs": [],
      "source": [
        "special_charaters = [\n",
        "    \"1\",\"2\",\"3\",\"4\",\"5\",\"6\",\"7\",\"8\",\"9\",\"0\",\n",
        "    \" a \",\" b \",\" c \",\" d \",\" e \",\" f \",\" g \",\" h \",\" i \",\" j \",\" k \",\" l \",\n",
        "    \" m \",\" n \",\" o \",\" p \",\" q \",\" r \",\" s \",\" t \",\" u \",\" v \",\" x \",\" z \",\n",
        "    \"r$\", \"$\"\n",
        "    ]\n",
        "def remove_special_characters(text):\n",
        "    for item in special_charaters:\n",
        "        text = text.replace(item, \" \")\n",
        "\n",
        "    return text"
      ]
    },
    {
      "cell_type": "code",
      "execution_count": 8,
      "metadata": {
        "ExecuteTime": {
          "end_time": "2023-08-18T20:43:55.332160Z",
          "start_time": "2023-08-18T20:43:55.326090Z"
        },
        "id": "5oDuAVLMQwRm"
      },
      "outputs": [],
      "source": [
        "def normalize_text(df, text_field, lower=True, rem_punct=True, rem_accent=True, rem_spec_caract=True, rem_name=False):\n",
        "    df[text_field + \"_clean\"] = df[text_field].astype(str)\n",
        "    if lower: df[text_field + \"_clean\"] = df[text_field + \"_clean\"].str.lower()\n",
        "    if rem_punct: df[text_field + \"_clean\"] = df[text_field + \"_clean\"].apply(remove_punctuation)\n",
        "    if rem_accent: df[text_field + \"_clean\"] = df[text_field + \"_clean\"].apply(remove_accentuation)\n",
        "    if rem_spec_caract: df[text_field + \"_clean\"] = df[text_field + \"_clean\"].apply(remove_special_characters)\n",
        "    df[text_field + \"_clean\"] = df[text_field + \"_clean\"].replace(r'\\s+', ' ', regex=True) #remove spaces"
      ]
    },
    {
      "cell_type": "code",
      "execution_count": 9,
      "metadata": {
        "ExecuteTime": {
          "end_time": "2023-08-18T20:43:58.001750Z",
          "start_time": "2023-08-18T20:43:55.978474Z"
        },
        "id": "l10Nk7aMQwRm"
      },
      "outputs": [],
      "source": [
        "normalize_text(corpus, 'review_text')"
      ]
    },
    {
      "cell_type": "markdown",
      "metadata": {
        "id": "JvNVOSoTQwRm"
      },
      "source": [
        "### Stop Words"
      ]
    },
    {
      "cell_type": "code",
      "source": [
        "import nltk\n",
        "nltk.download('stopwords')"
      ],
      "metadata": {
        "colab": {
          "base_uri": "https://localhost:8080/"
        },
        "id": "q2jWi9-qceIU",
        "outputId": "23e4f581-58a5-4704-9d8d-0ec4de4d2b12"
      },
      "execution_count": 10,
      "outputs": [
        {
          "output_type": "stream",
          "name": "stderr",
          "text": [
            "[nltk_data] Downloading package stopwords to /root/nltk_data...\n",
            "[nltk_data]   Unzipping corpora/stopwords.zip.\n"
          ]
        },
        {
          "output_type": "execute_result",
          "data": {
            "text/plain": [
              "True"
            ]
          },
          "metadata": {},
          "execution_count": 10
        }
      ]
    },
    {
      "cell_type": "code",
      "execution_count": 11,
      "metadata": {
        "ExecuteTime": {
          "end_time": "2023-08-18T20:44:16.621679Z",
          "start_time": "2023-08-18T20:44:16.607912Z"
        },
        "id": "7MYwj8DIQwRm"
      },
      "outputs": [],
      "source": [
        "stops_nltk = nltk.corpus.stopwords.words('portuguese')\n",
        "stop_words = list(stops_nltk)\n",
        "stop_words = [remove_accentuation(word) for word in stop_words]\n",
        "stop_words = list(set(stop_words))\n",
        "\n",
        "def remove_stop_words(text):\n",
        "    words_list = text.split()\n",
        "    words_list = [word for word in words_list if word not in stop_words]\n",
        "    text = ' '.join(words_list)\n",
        "\n",
        "    return text"
      ]
    },
    {
      "cell_type": "code",
      "execution_count": 12,
      "metadata": {
        "ExecuteTime": {
          "end_time": "2023-08-18T20:44:24.081650Z",
          "start_time": "2023-08-18T20:44:20.334426Z"
        },
        "id": "Y4DWyfgDQwRn"
      },
      "outputs": [],
      "source": [
        "corpus[\"review_text_clean_stop\"] = corpus[\"review_text_clean\"].apply(remove_stop_words)"
      ]
    },
    {
      "cell_type": "markdown",
      "metadata": {
        "id": "cl86wFKMQwRn"
      },
      "source": [
        "### Stematization"
      ]
    },
    {
      "cell_type": "code",
      "execution_count": 13,
      "metadata": {
        "ExecuteTime": {
          "end_time": "2023-08-18T19:35:23.424355Z",
          "start_time": "2023-08-18T19:35:23.319001Z"
        },
        "id": "Nn4laf_fQwRn",
        "colab": {
          "base_uri": "https://localhost:8080/"
        },
        "outputId": "466f231a-d439-4aa1-e60a-bf39d117bfd9"
      },
      "outputs": [
        {
          "output_type": "stream",
          "name": "stderr",
          "text": [
            "[nltk_data] Downloading package rslp to /root/nltk_data...\n",
            "[nltk_data]   Unzipping stemmers/rslp.zip.\n"
          ]
        },
        {
          "output_type": "execute_result",
          "data": {
            "text/plain": [
              "True"
            ]
          },
          "metadata": {},
          "execution_count": 13
        }
      ],
      "source": [
        "nltk.download('rslp')"
      ]
    },
    {
      "cell_type": "code",
      "execution_count": 14,
      "metadata": {
        "ExecuteTime": {
          "end_time": "2023-08-18T19:35:23.486580Z",
          "start_time": "2023-08-18T19:35:23.426208Z"
        },
        "id": "Y_ivl6XcQwRn"
      },
      "outputs": [],
      "source": [
        "stemmer = nltk.stem.RSLPStemmer()\n",
        "def stematization(text):\n",
        "    words = text.split()\n",
        "    stemmed_words = [stemmer.stem(word) for word in words]\n",
        "\n",
        "    return ' '.join(stemmed_words)"
      ]
    },
    {
      "cell_type": "code",
      "execution_count": 15,
      "metadata": {
        "ExecuteTime": {
          "end_time": "2023-08-18T19:36:40.966129Z",
          "start_time": "2023-08-18T19:35:23.489610Z"
        },
        "id": "CMBSKBghQwRn"
      },
      "outputs": [],
      "source": [
        "corpus[\"review_text_clean_stem\"] = corpus[\"review_text_clean\"].apply(stematization)"
      ]
    },
    {
      "cell_type": "code",
      "source": [
        "corpus[\"review_text_clean_stop_stem\"] = corpus[\"review_text_clean_stop\"].apply(stematization)"
      ],
      "metadata": {
        "id": "zvXVe6wU_afF"
      },
      "execution_count": 16,
      "outputs": []
    },
    {
      "cell_type": "markdown",
      "metadata": {
        "id": "4DSxKhIjQwRn"
      },
      "source": [
        "### Lemmatization"
      ]
    },
    {
      "cell_type": "code",
      "source": [
        "import spacy.cli\n",
        "\n",
        "language_models = ['pt_core_news_sm', 'pt_core_news_md', 'pt_core_news_lg']\n",
        "spacy_model = language_models[2]\n",
        "\n",
        "disable = ['tagger', 'parser', 'ner', 'entity_ruler', 'entity_linker', 'textcat',\n",
        "           'morphologizer','attribute_ruler']\n",
        "\n",
        "try:\n",
        "  nlp = spacy.load(spacy_model, disable=disable)\n",
        "except:\n",
        "  spacy.cli.download(spacy_model)\n",
        "  nlp = spacy.load(spacy_model, disable=disable)\n",
        "\n",
        "print(nlp.pipe_names)"
      ],
      "metadata": {
        "colab": {
          "base_uri": "https://localhost:8080/"
        },
        "id": "eg-eoK8MbKU0",
        "outputId": "4a71c8c1-de32-4e61-ec61-237f13029374"
      },
      "execution_count": 17,
      "outputs": [
        {
          "output_type": "stream",
          "name": "stdout",
          "text": [
            "\u001b[38;5;2m✔ Download and installation successful\u001b[0m\n",
            "You can now load the package via spacy.load('pt_core_news_lg')\n",
            "['tok2vec', 'lemmatizer']\n"
          ]
        }
      ]
    },
    {
      "cell_type": "code",
      "execution_count": 18,
      "metadata": {
        "ExecuteTime": {
          "end_time": "2023-08-18T21:20:15.189827Z",
          "start_time": "2023-08-18T21:20:15.162924Z"
        },
        "id": "NjiJB0riQwRn"
      },
      "outputs": [],
      "source": [
        "def lemma_single(text):\n",
        "    doc = nlp(text)\n",
        "    lema_words = [token.lemma_ for token in doc]\n",
        "\n",
        "    return ' '.join(lema_words)"
      ]
    },
    {
      "cell_type": "code",
      "execution_count": 19,
      "metadata": {
        "ExecuteTime": {
          "end_time": "2023-08-18T21:26:44.795835Z",
          "start_time": "2023-08-18T21:20:19.297273Z"
        },
        "id": "L4sU-KRoQwRn"
      },
      "outputs": [],
      "source": [
        "#corpus[\"review_text_clean_lemma\"] = corpus[\"review_text_clean\"].apply(lemma_single)"
      ]
    },
    {
      "cell_type": "code",
      "source": [
        "def lemma_pipe(doc_list):\n",
        "  lemma_text_list = []\n",
        "  for doc in nlp.pipe(doc_list, n_process=-1):\n",
        "      lemma_text_list.append(\" \".join(token.lemma_ for token in doc))\n",
        "\n",
        "  return lemma_text_list"
      ],
      "metadata": {
        "id": "UReJp0pC54XJ"
      },
      "execution_count": 20,
      "outputs": []
    },
    {
      "cell_type": "code",
      "source": [
        "corpus[\"review_text_clean_lemma\"] = lemma_pipe(corpus[\"review_text_clean\"])"
      ],
      "metadata": {
        "id": "98RqcgDi54fm"
      },
      "execution_count": 21,
      "outputs": []
    },
    {
      "cell_type": "code",
      "source": [
        "corpus[\"review_text_clean_stop_lemma\"] = lemma_pipe(corpus[\"review_text_clean_stop\"])"
      ],
      "metadata": {
        "id": "_p9jJ72i_h56"
      },
      "execution_count": 22,
      "outputs": []
    },
    {
      "cell_type": "markdown",
      "metadata": {
        "id": "xo_9c4zPQwRo"
      },
      "source": [
        "## Save Data"
      ]
    },
    {
      "cell_type": "code",
      "source": [
        "corpus.head()"
      ],
      "metadata": {
        "colab": {
          "base_uri": "https://localhost:8080/",
          "height": 432
        },
        "id": "GMohAgJ79bpT",
        "outputId": "175c3a66-67f6-4e0b-dd88-a6f494b761d6"
      },
      "execution_count": 26,
      "outputs": [
        {
          "output_type": "execute_result",
          "data": {
            "text/plain": [
              "   overall_rating recommend_to_a_friend  \\\n",
              "0               4                   Yes   \n",
              "1               4                   Yes   \n",
              "2               4                   Yes   \n",
              "3               4                   Yes   \n",
              "4               5                   Yes   \n",
              "\n",
              "                                         review_text  \\\n",
              "0  Estou contente com a compra entrega rápida o ú...   \n",
              "1  Por apenas R$1994.20,eu consegui comprar esse ...   \n",
              "2  SUPERA EM AGILIDADE E PRATICIDADE OUTRAS PANEL...   \n",
              "3  MEU FILHO AMOU! PARECE DE VERDADE COM TANTOS D...   \n",
              "4  A entrega foi no prazo, as americanas estão de...   \n",
              "\n",
              "                                   review_text_clean  \\\n",
              "0  estou contente com compra entrega rapida unico...   \n",
              "1  por apenas eu consegui comprar esse lindo copo...   \n",
              "2  supera em agilidade praticidade outras panelas...   \n",
              "3  meu filho amou parece de verdade com tantos de...   \n",
              "4  a entrega foi no prazo as americanas estao de ...   \n",
              "\n",
              "                              review_text_clean_stop  \\\n",
              "0  contente compra entrega rapida unico problema ...   \n",
              "1        apenas consegui comprar lindo copo acrilico   \n",
              "2  supera agilidade praticidade outras panelas el...   \n",
              "3          filho amou parece verdade tantos detalhes   \n",
              "4  entrega prazo americanas parabens smart tv boa...   \n",
              "\n",
              "                              review_text_clean_stem  \\\n",
              "0  est cont com compr entreg rap unic problem com...   \n",
              "1    por apen eu consegu compr ess lind cop de acril   \n",
              "2  sup em agil pratic outr panel eletr costum us ...   \n",
              "3  meu filh amou parec de verdad com tant detalh ...   \n",
              "4  a entreg foi no praz as americ esta de parab s...   \n",
              "\n",
              "                         review_text_clean_stop_stem  \\\n",
              "0  cont compr entreg rap unic problem americ troc...   \n",
              "1                  apen consegu compr lind cop acril   \n",
              "2  sup agil pratic outr panel eletr costum us out...   \n",
              "3                 filh amou parec verdad tant detalh   \n",
              "4  entreg praz americ parab smart tv boa navegaca...   \n",
              "\n",
              "                             review_text_clean_lemma  \\\n",
              "0  estar contente com compra entregar rapido unic...   \n",
              "1  por apenas eu conseguir comprar esse lindo cop...   \n",
              "2  superar em agilidade praticidade outro panela ...   \n",
              "3  meu filho amar parecer de verdade com tanto de...   \n",
              "4  o entrega ser em o prazo o americana estao de ...   \n",
              "\n",
              "                        review_text_clean_stop_lemma  \n",
              "0  contente compra entregar rapido unico problema...  \n",
              "1         apenas conseguir comprar lir copo acrilico  \n",
              "2  superar agilidade praticidade outro panela ele...  \n",
              "3           filho amar parecer verdade tanto detalhe  \n",
              "4  entregar prazo americana parabem smart tv bom ...  "
            ],
            "text/html": [
              "\n",
              "  <div id=\"df-6e401286-fb34-48dd-8324-519bfc7cb052\" class=\"colab-df-container\">\n",
              "    <div>\n",
              "<style scoped>\n",
              "    .dataframe tbody tr th:only-of-type {\n",
              "        vertical-align: middle;\n",
              "    }\n",
              "\n",
              "    .dataframe tbody tr th {\n",
              "        vertical-align: top;\n",
              "    }\n",
              "\n",
              "    .dataframe thead th {\n",
              "        text-align: right;\n",
              "    }\n",
              "</style>\n",
              "<table border=\"1\" class=\"dataframe\">\n",
              "  <thead>\n",
              "    <tr style=\"text-align: right;\">\n",
              "      <th></th>\n",
              "      <th>overall_rating</th>\n",
              "      <th>recommend_to_a_friend</th>\n",
              "      <th>review_text</th>\n",
              "      <th>review_text_clean</th>\n",
              "      <th>review_text_clean_stop</th>\n",
              "      <th>review_text_clean_stem</th>\n",
              "      <th>review_text_clean_stop_stem</th>\n",
              "      <th>review_text_clean_lemma</th>\n",
              "      <th>review_text_clean_stop_lemma</th>\n",
              "    </tr>\n",
              "  </thead>\n",
              "  <tbody>\n",
              "    <tr>\n",
              "      <th>0</th>\n",
              "      <td>4</td>\n",
              "      <td>Yes</td>\n",
              "      <td>Estou contente com a compra entrega rápida o ú...</td>\n",
              "      <td>estou contente com compra entrega rapida unico...</td>\n",
              "      <td>contente compra entrega rapida unico problema ...</td>\n",
              "      <td>est cont com compr entreg rap unic problem com...</td>\n",
              "      <td>cont compr entreg rap unic problem americ troc...</td>\n",
              "      <td>estar contente com compra entregar rapido unic...</td>\n",
              "      <td>contente compra entregar rapido unico problema...</td>\n",
              "    </tr>\n",
              "    <tr>\n",
              "      <th>1</th>\n",
              "      <td>4</td>\n",
              "      <td>Yes</td>\n",
              "      <td>Por apenas R$1994.20,eu consegui comprar esse ...</td>\n",
              "      <td>por apenas eu consegui comprar esse lindo copo...</td>\n",
              "      <td>apenas consegui comprar lindo copo acrilico</td>\n",
              "      <td>por apen eu consegu compr ess lind cop de acril</td>\n",
              "      <td>apen consegu compr lind cop acril</td>\n",
              "      <td>por apenas eu conseguir comprar esse lindo cop...</td>\n",
              "      <td>apenas conseguir comprar lir copo acrilico</td>\n",
              "    </tr>\n",
              "    <tr>\n",
              "      <th>2</th>\n",
              "      <td>4</td>\n",
              "      <td>Yes</td>\n",
              "      <td>SUPERA EM AGILIDADE E PRATICIDADE OUTRAS PANEL...</td>\n",
              "      <td>supera em agilidade praticidade outras panelas...</td>\n",
              "      <td>supera agilidade praticidade outras panelas el...</td>\n",
              "      <td>sup em agil pratic outr panel eletr costum us ...</td>\n",
              "      <td>sup agil pratic outr panel eletr costum us out...</td>\n",
              "      <td>superar em agilidade praticidade outro panela ...</td>\n",
              "      <td>superar agilidade praticidade outro panela ele...</td>\n",
              "    </tr>\n",
              "    <tr>\n",
              "      <th>3</th>\n",
              "      <td>4</td>\n",
              "      <td>Yes</td>\n",
              "      <td>MEU FILHO AMOU! PARECE DE VERDADE COM TANTOS D...</td>\n",
              "      <td>meu filho amou parece de verdade com tantos de...</td>\n",
              "      <td>filho amou parece verdade tantos detalhes</td>\n",
              "      <td>meu filh amou parec de verdad com tant detalh ...</td>\n",
              "      <td>filh amou parec verdad tant detalh</td>\n",
              "      <td>meu filho amar parecer de verdade com tanto de...</td>\n",
              "      <td>filho amar parecer verdade tanto detalhe</td>\n",
              "    </tr>\n",
              "    <tr>\n",
              "      <th>4</th>\n",
              "      <td>5</td>\n",
              "      <td>Yes</td>\n",
              "      <td>A entrega foi no prazo, as americanas estão de...</td>\n",
              "      <td>a entrega foi no prazo as americanas estao de ...</td>\n",
              "      <td>entrega prazo americanas parabens smart tv boa...</td>\n",
              "      <td>a entreg foi no praz as americ esta de parab s...</td>\n",
              "      <td>entreg praz americ parab smart tv boa navegaca...</td>\n",
              "      <td>o entrega ser em o prazo o americana estao de ...</td>\n",
              "      <td>entregar prazo americana parabem smart tv bom ...</td>\n",
              "    </tr>\n",
              "  </tbody>\n",
              "</table>\n",
              "</div>\n",
              "    <div class=\"colab-df-buttons\">\n",
              "\n",
              "  <div class=\"colab-df-container\">\n",
              "    <button class=\"colab-df-convert\" onclick=\"convertToInteractive('df-6e401286-fb34-48dd-8324-519bfc7cb052')\"\n",
              "            title=\"Convert this dataframe to an interactive table.\"\n",
              "            style=\"display:none;\">\n",
              "\n",
              "  <svg xmlns=\"http://www.w3.org/2000/svg\" height=\"24px\" viewBox=\"0 -960 960 960\">\n",
              "    <path d=\"M120-120v-720h720v720H120Zm60-500h600v-160H180v160Zm220 220h160v-160H400v160Zm0 220h160v-160H400v160ZM180-400h160v-160H180v160Zm440 0h160v-160H620v160ZM180-180h160v-160H180v160Zm440 0h160v-160H620v160Z\"/>\n",
              "  </svg>\n",
              "    </button>\n",
              "\n",
              "  <style>\n",
              "    .colab-df-container {\n",
              "      display:flex;\n",
              "      gap: 12px;\n",
              "    }\n",
              "\n",
              "    .colab-df-convert {\n",
              "      background-color: #E8F0FE;\n",
              "      border: none;\n",
              "      border-radius: 50%;\n",
              "      cursor: pointer;\n",
              "      display: none;\n",
              "      fill: #1967D2;\n",
              "      height: 32px;\n",
              "      padding: 0 0 0 0;\n",
              "      width: 32px;\n",
              "    }\n",
              "\n",
              "    .colab-df-convert:hover {\n",
              "      background-color: #E2EBFA;\n",
              "      box-shadow: 0px 1px 2px rgba(60, 64, 67, 0.3), 0px 1px 3px 1px rgba(60, 64, 67, 0.15);\n",
              "      fill: #174EA6;\n",
              "    }\n",
              "\n",
              "    .colab-df-buttons div {\n",
              "      margin-bottom: 4px;\n",
              "    }\n",
              "\n",
              "    [theme=dark] .colab-df-convert {\n",
              "      background-color: #3B4455;\n",
              "      fill: #D2E3FC;\n",
              "    }\n",
              "\n",
              "    [theme=dark] .colab-df-convert:hover {\n",
              "      background-color: #434B5C;\n",
              "      box-shadow: 0px 1px 3px 1px rgba(0, 0, 0, 0.15);\n",
              "      filter: drop-shadow(0px 1px 2px rgba(0, 0, 0, 0.3));\n",
              "      fill: #FFFFFF;\n",
              "    }\n",
              "  </style>\n",
              "\n",
              "    <script>\n",
              "      const buttonEl =\n",
              "        document.querySelector('#df-6e401286-fb34-48dd-8324-519bfc7cb052 button.colab-df-convert');\n",
              "      buttonEl.style.display =\n",
              "        google.colab.kernel.accessAllowed ? 'block' : 'none';\n",
              "\n",
              "      async function convertToInteractive(key) {\n",
              "        const element = document.querySelector('#df-6e401286-fb34-48dd-8324-519bfc7cb052');\n",
              "        const dataTable =\n",
              "          await google.colab.kernel.invokeFunction('convertToInteractive',\n",
              "                                                    [key], {});\n",
              "        if (!dataTable) return;\n",
              "\n",
              "        const docLinkHtml = 'Like what you see? Visit the ' +\n",
              "          '<a target=\"_blank\" href=https://colab.research.google.com/notebooks/data_table.ipynb>data table notebook</a>'\n",
              "          + ' to learn more about interactive tables.';\n",
              "        element.innerHTML = '';\n",
              "        dataTable['output_type'] = 'display_data';\n",
              "        await google.colab.output.renderOutput(dataTable, element);\n",
              "        const docLink = document.createElement('div');\n",
              "        docLink.innerHTML = docLinkHtml;\n",
              "        element.appendChild(docLink);\n",
              "      }\n",
              "    </script>\n",
              "  </div>\n",
              "\n",
              "\n",
              "<div id=\"df-a433f561-0ffb-4e1f-a365-2f3d2b1aca38\">\n",
              "  <button class=\"colab-df-quickchart\" onclick=\"quickchart('df-a433f561-0ffb-4e1f-a365-2f3d2b1aca38')\"\n",
              "            title=\"Suggest charts.\"\n",
              "            style=\"display:none;\">\n",
              "\n",
              "<svg xmlns=\"http://www.w3.org/2000/svg\" height=\"24px\"viewBox=\"0 0 24 24\"\n",
              "     width=\"24px\">\n",
              "    <g>\n",
              "        <path d=\"M19 3H5c-1.1 0-2 .9-2 2v14c0 1.1.9 2 2 2h14c1.1 0 2-.9 2-2V5c0-1.1-.9-2-2-2zM9 17H7v-7h2v7zm4 0h-2V7h2v10zm4 0h-2v-4h2v4z\"/>\n",
              "    </g>\n",
              "</svg>\n",
              "  </button>\n",
              "\n",
              "<style>\n",
              "  .colab-df-quickchart {\n",
              "    background-color: #E8F0FE;\n",
              "    border: none;\n",
              "    border-radius: 50%;\n",
              "    cursor: pointer;\n",
              "    display: none;\n",
              "    fill: #1967D2;\n",
              "    height: 32px;\n",
              "    padding: 0 0 0 0;\n",
              "    width: 32px;\n",
              "  }\n",
              "\n",
              "  .colab-df-quickchart:hover {\n",
              "    background-color: #E2EBFA;\n",
              "    box-shadow: 0px 1px 2px rgba(60, 64, 67, 0.3), 0px 1px 3px 1px rgba(60, 64, 67, 0.15);\n",
              "    fill: #174EA6;\n",
              "  }\n",
              "\n",
              "  [theme=dark] .colab-df-quickchart {\n",
              "    background-color: #3B4455;\n",
              "    fill: #D2E3FC;\n",
              "  }\n",
              "\n",
              "  [theme=dark] .colab-df-quickchart:hover {\n",
              "    background-color: #434B5C;\n",
              "    box-shadow: 0px 1px 3px 1px rgba(0, 0, 0, 0.15);\n",
              "    filter: drop-shadow(0px 1px 2px rgba(0, 0, 0, 0.3));\n",
              "    fill: #FFFFFF;\n",
              "  }\n",
              "</style>\n",
              "\n",
              "  <script>\n",
              "    async function quickchart(key) {\n",
              "      const charts = await google.colab.kernel.invokeFunction(\n",
              "          'suggestCharts', [key], {});\n",
              "    }\n",
              "    (() => {\n",
              "      let quickchartButtonEl =\n",
              "        document.querySelector('#df-a433f561-0ffb-4e1f-a365-2f3d2b1aca38 button');\n",
              "      quickchartButtonEl.style.display =\n",
              "        google.colab.kernel.accessAllowed ? 'block' : 'none';\n",
              "    })();\n",
              "  </script>\n",
              "</div>\n",
              "    </div>\n",
              "  </div>\n"
            ]
          },
          "metadata": {},
          "execution_count": 26
        }
      ]
    },
    {
      "cell_type": "code",
      "execution_count": 27,
      "metadata": {
        "id": "GZF4qcfjQwRp",
        "colab": {
          "base_uri": "https://localhost:8080/"
        },
        "outputId": "7cd9eb98-44dc-45e3-b1a9-85e95b5fb6db"
      },
      "outputs": [
        {
          "output_type": "stream",
          "name": "stdout",
          "text": [
            "Preprocessed corpus saved on: /content\n"
          ]
        }
      ],
      "source": [
        "filename = 'preprocessed_corpus'\n",
        "compression_options = dict(method='zip', archive_name=f'{filename}.csv')\n",
        "corpus.to_csv(f'{filename}.zip', compression=compression_options)\n",
        "\n",
        "print(f'Preprocessed corpus saved on: {path}')"
      ]
    }
  ],
  "metadata": {
    "colab": {
      "provenance": [],
      "include_colab_link": true
    },
    "kernelspec": {
      "display_name": "Python 3 (ipykernel)",
      "language": "python",
      "name": "python3"
    },
    "language_info": {
      "codemirror_mode": {
        "name": "ipython",
        "version": 3
      },
      "file_extension": ".py",
      "mimetype": "text/x-python",
      "name": "python",
      "nbconvert_exporter": "python",
      "pygments_lexer": "ipython3",
      "version": "3.10.9"
    },
    "toc": {
      "base_numbering": 1,
      "nav_menu": {},
      "number_sections": false,
      "sideBar": true,
      "skip_h1_title": false,
      "title_cell": "Table of Contents",
      "title_sidebar": "Contents",
      "toc_cell": false,
      "toc_position": {
        "height": "calc(100% - 180px)",
        "left": "10px",
        "top": "150px",
        "width": "242.875px"
      },
      "toc_section_display": true,
      "toc_window_display": true
    },
    "varInspector": {
      "cols": {
        "lenName": 16,
        "lenType": 16,
        "lenVar": 40
      },
      "kernels_config": {
        "python": {
          "delete_cmd_postfix": "",
          "delete_cmd_prefix": "del ",
          "library": "var_list.py",
          "varRefreshCmd": "print(var_dic_list())"
        },
        "r": {
          "delete_cmd_postfix": ") ",
          "delete_cmd_prefix": "rm(",
          "library": "var_list.r",
          "varRefreshCmd": "cat(var_dic_list()) "
        }
      },
      "types_to_exclude": [
        "module",
        "function",
        "builtin_function_or_method",
        "instance",
        "_Feature"
      ],
      "window_display": false
    }
  },
  "nbformat": 4,
  "nbformat_minor": 0
}