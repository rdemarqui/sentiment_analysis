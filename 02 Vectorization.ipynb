{
  "cells": [
    {
      "cell_type": "markdown",
      "metadata": {
        "id": "view-in-github",
        "colab_type": "text"
      },
      "source": [
        "<a href=\"https://colab.research.google.com/github/rdemarqui/sentiment_analysis/blob/main/02%20Vectorization.ipynb\" target=\"_parent\"><img src=\"https://colab.research.google.com/assets/colab-badge.svg\" alt=\"Open In Colab\"/></a>"
      ]
    },
    {
      "cell_type": "markdown",
      "source": [
        "# Sentiment Analysis"
      ],
      "metadata": {
        "id": "dZpm8cGCojAP"
      },
      "id": "dZpm8cGCojAP"
    },
    {
      "cell_type": "markdown",
      "id": "bba64818",
      "metadata": {
        "id": "bba64818"
      },
      "source": [
        "# Vectorization"
      ]
    },
    {
      "cell_type": "code",
      "execution_count": 127,
      "id": "39805500",
      "metadata": {
        "ExecuteTime": {
          "end_time": "2023-08-16T19:50:38.338557Z",
          "start_time": "2023-08-16T19:50:37.039133Z"
        },
        "id": "39805500"
      },
      "outputs": [],
      "source": [
        "import multiprocessing, os\n",
        "from lightgbm import LGBMClassifier"
      ]
    },
    {
      "cell_type": "code",
      "execution_count": 15,
      "id": "20c692eb",
      "metadata": {
        "ExecuteTime": {
          "end_time": "2023-08-16T19:50:38.358234Z",
          "start_time": "2023-08-16T19:50:38.341560Z"
        },
        "colab": {
          "base_uri": "https://localhost:8080/"
        },
        "id": "20c692eb",
        "outputId": "87d350ad-d11f-4523-bf4c-2bdeec396294"
      },
      "outputs": [
        {
          "output_type": "execute_result",
          "data": {
            "text/plain": [
              "2"
            ]
          },
          "metadata": {},
          "execution_count": 15
        }
      ],
      "source": [
        "cores = multiprocessing.cpu_count()\n",
        "cores"
      ]
    },
    {
      "cell_type": "code",
      "source": [
        "path = os.getcwd()\n",
        "path"
      ],
      "metadata": {
        "colab": {
          "base_uri": "https://localhost:8080/",
          "height": 35
        },
        "id": "yVJJ69iue9jW",
        "outputId": "fc82304c-496a-4a1f-8a16-962aeec73180"
      },
      "id": "yVJJ69iue9jW",
      "execution_count": 16,
      "outputs": [
        {
          "output_type": "execute_result",
          "data": {
            "text/plain": [
              "'/content'"
            ],
            "application/vnd.google.colaboratory.intrinsic+json": {
              "type": "string"
            }
          },
          "metadata": {},
          "execution_count": 16
        }
      ]
    },
    {
      "cell_type": "code",
      "source": [
        "random_state = 42"
      ],
      "metadata": {
        "id": "iQnrTNjxLfl8"
      },
      "id": "iQnrTNjxLfl8",
      "execution_count": 117,
      "outputs": []
    },
    {
      "cell_type": "code",
      "source": [
        "# Create Cross-Validation method"
      ],
      "metadata": {
        "id": "cCBe276ESjoV"
      },
      "id": "cCBe276ESjoV",
      "execution_count": null,
      "outputs": []
    },
    {
      "cell_type": "markdown",
      "id": "17220a72",
      "metadata": {
        "id": "17220a72"
      },
      "source": [
        "## Dataset"
      ]
    },
    {
      "cell_type": "code",
      "source": [
        "import pandas as pd\n",
        "import numpy as np\n",
        "from sklearn.model_selection import train_test_split\n",
        "from itertools import chain"
      ],
      "metadata": {
        "id": "83M1FiUCF4LQ"
      },
      "id": "83M1FiUCF4LQ",
      "execution_count": null,
      "outputs": []
    },
    {
      "cell_type": "code",
      "source": [
        "try:\n",
        "  df = pd.read_csv(os.path.join(path, 'data\\preprocessed_corpus.zip'),\n",
        "                   sep=',', compression='zip')\n",
        "except:\n",
        "  !wget https://github.com/rdemarqui/sentiment_analysis/raw/main/data/preprocessed_corpus.zip -q\n",
        "  df = pd.read_csv(os.path.join(path, 'preprocessed_corpus.zip'),\n",
        "                   sep=',', compression='zip')"
      ],
      "metadata": {
        "id": "VSOorgW0Zh-4"
      },
      "id": "VSOorgW0Zh-4",
      "execution_count": 17,
      "outputs": []
    },
    {
      "cell_type": "code",
      "execution_count": 22,
      "id": "f773490d",
      "metadata": {
        "ExecuteTime": {
          "end_time": "2023-08-16T19:50:38.876610Z",
          "start_time": "2023-08-16T19:50:38.861358Z"
        },
        "colab": {
          "base_uri": "https://localhost:8080/"
        },
        "id": "f773490d",
        "outputId": "8ceaeee1-e1f4-40b4-e1c4-ef4d93cc59bb"
      },
      "outputs": [
        {
          "output_type": "stream",
          "name": "stdout",
          "text": [
            "(116058, 7)\n"
          ]
        }
      ],
      "source": [
        "columns = ['review_text_clean', 'review_text_clean_stop', 'review_text_clean_stem',\n",
        "           'review_text_clean_stop_stem', 'review_text_clean_lemma', 'review_text_clean_stop_lemma',\n",
        "           'overall_rating']\n",
        "corpus = df[columns].copy()\n",
        "corpus['overall_rating'] = corpus['overall_rating'].apply(lambda x: 1 if x >= 4 else 0)\n",
        "print(corpus.shape)"
      ]
    },
    {
      "cell_type": "code",
      "source": [
        "X_train, X_test, y_train, y_test = train_test_split(corpus.iloc[:, :-1], corpus.iloc[:, -1:],\n",
        "                                                    test_size=0.2, random_state=random_state)\n",
        "X_train = X_train.astype(str)\n",
        "X_test = X_test.astype(str)"
      ],
      "metadata": {
        "id": "s8cXg8GG6B6W"
      },
      "id": "s8cXg8GG6B6W",
      "execution_count": 40,
      "outputs": []
    },
    {
      "cell_type": "code",
      "source": [
        "X_train.head()"
      ],
      "metadata": {
        "colab": {
          "base_uri": "https://localhost:8080/",
          "height": 293
        },
        "id": "qz0kkZvg9ka-",
        "outputId": "dc2a2bbf-d2eb-4a73-dda1-1c2ebe241a53"
      },
      "id": "qz0kkZvg9ka-",
      "execution_count": 41,
      "outputs": [
        {
          "output_type": "execute_result",
          "data": {
            "text/plain": [
              "                                       review_text_clean  \\\n",
              "88875  bateria realmente muito boa fiquei meio receos...   \n",
              "581    minha filha gostou muito consegue utiliza lo s...   \n",
              "34525  bom custo beneficio produto lindo com uma otim...   \n",
              "96796  comprei meu pro ha dias um smartphone maravilh...   \n",
              "93967  nnao achava que este produto podese resolver m...   \n",
              "\n",
              "                                  review_text_clean_stop  \\\n",
              "88875  bateria realmente boa fiquei meio receoso pore...   \n",
              "581    filha gostou consegue utiliza lo ajuda outras ...   \n",
              "34525  bom custo beneficio produto lindo otima qualid...   \n",
              "96796  comprei pro dias smartphone maravilhoso camera...   \n",
              "93967  nnao achava produto podese resolver poblemas p...   \n",
              "\n",
              "                                  review_text_clean_stem  \\\n",
              "88875  bat real muit boa fiq mei rece por part fic be...   \n",
              "581    minh filh gost muit conseg utiliz lo sem ajud ...   \n",
              "34525  bom cust benefici produt lind com uma otim qua...   \n",
              "96796  compr meu pro ha dia um smartphon maravilh cam...   \n",
              "93967  nna ach que est produt podes resolv meu poblem...   \n",
              "\n",
              "                             review_text_clean_stop_stem  \\\n",
              "88875    bat real boa fiq mei rece por part fic bem fort   \n",
              "581    filh gost conseg utiliz lo ajud outr pesso gan...   \n",
              "34525  bom cust benefici produt lind otim qual cheg a...   \n",
              "96796  compr pro dia smartphon maravilh cam otim reso...   \n",
              "93967  nna ach produt podes resolv poblem poi pesso s...   \n",
              "\n",
              "                                 review_text_clean_lemma  \\\n",
              "88875  bateria realmente muito boa fiquei meio receos...   \n",
              "581    meu filha gostar muito conseguir utilizar lo s...   \n",
              "34525  bom custo beneficio produto lir com um otimo q...   \n",
              "96796  comprar meu pro ha dia um smartphone maravilho...   \n",
              "93967  nnao achar que este produto podeser resolver m...   \n",
              "\n",
              "                            review_text_clean_stop_lemma  \n",
              "88875  bateria realmente boa fiquei meio receoso pore...  \n",
              "581    filha gostar conseguir utilizar lo ajudar outr...  \n",
              "34525  bom custo beneficio produto lir otimo qualidad...  \n",
              "96796  comprar pro dia smartphone maravilhoso camera ...  \n",
              "93967  nnao achar produto podeser resolver poblema po...  "
            ],
            "text/html": [
              "\n",
              "  <div id=\"df-6652565d-f3db-4bd7-9ef6-ef3b2c62b305\" class=\"colab-df-container\">\n",
              "    <div>\n",
              "<style scoped>\n",
              "    .dataframe tbody tr th:only-of-type {\n",
              "        vertical-align: middle;\n",
              "    }\n",
              "\n",
              "    .dataframe tbody tr th {\n",
              "        vertical-align: top;\n",
              "    }\n",
              "\n",
              "    .dataframe thead th {\n",
              "        text-align: right;\n",
              "    }\n",
              "</style>\n",
              "<table border=\"1\" class=\"dataframe\">\n",
              "  <thead>\n",
              "    <tr style=\"text-align: right;\">\n",
              "      <th></th>\n",
              "      <th>review_text_clean</th>\n",
              "      <th>review_text_clean_stop</th>\n",
              "      <th>review_text_clean_stem</th>\n",
              "      <th>review_text_clean_stop_stem</th>\n",
              "      <th>review_text_clean_lemma</th>\n",
              "      <th>review_text_clean_stop_lemma</th>\n",
              "    </tr>\n",
              "  </thead>\n",
              "  <tbody>\n",
              "    <tr>\n",
              "      <th>88875</th>\n",
              "      <td>bateria realmente muito boa fiquei meio receos...</td>\n",
              "      <td>bateria realmente boa fiquei meio receoso pore...</td>\n",
              "      <td>bat real muit boa fiq mei rece por part fic be...</td>\n",
              "      <td>bat real boa fiq mei rece por part fic bem fort</td>\n",
              "      <td>bateria realmente muito boa fiquei meio receos...</td>\n",
              "      <td>bateria realmente boa fiquei meio receoso pore...</td>\n",
              "    </tr>\n",
              "    <tr>\n",
              "      <th>581</th>\n",
              "      <td>minha filha gostou muito consegue utiliza lo s...</td>\n",
              "      <td>filha gostou consegue utiliza lo ajuda outras ...</td>\n",
              "      <td>minh filh gost muit conseg utiliz lo sem ajud ...</td>\n",
              "      <td>filh gost conseg utiliz lo ajud outr pesso gan...</td>\n",
              "      <td>meu filha gostar muito conseguir utilizar lo s...</td>\n",
              "      <td>filha gostar conseguir utilizar lo ajudar outr...</td>\n",
              "    </tr>\n",
              "    <tr>\n",
              "      <th>34525</th>\n",
              "      <td>bom custo beneficio produto lindo com uma otim...</td>\n",
              "      <td>bom custo beneficio produto lindo otima qualid...</td>\n",
              "      <td>bom cust benefici produt lind com uma otim qua...</td>\n",
              "      <td>bom cust benefici produt lind otim qual cheg a...</td>\n",
              "      <td>bom custo beneficio produto lir com um otimo q...</td>\n",
              "      <td>bom custo beneficio produto lir otimo qualidad...</td>\n",
              "    </tr>\n",
              "    <tr>\n",
              "      <th>96796</th>\n",
              "      <td>comprei meu pro ha dias um smartphone maravilh...</td>\n",
              "      <td>comprei pro dias smartphone maravilhoso camera...</td>\n",
              "      <td>compr meu pro ha dia um smartphon maravilh cam...</td>\n",
              "      <td>compr pro dia smartphon maravilh cam otim reso...</td>\n",
              "      <td>comprar meu pro ha dia um smartphone maravilho...</td>\n",
              "      <td>comprar pro dia smartphone maravilhoso camera ...</td>\n",
              "    </tr>\n",
              "    <tr>\n",
              "      <th>93967</th>\n",
              "      <td>nnao achava que este produto podese resolver m...</td>\n",
              "      <td>nnao achava produto podese resolver poblemas p...</td>\n",
              "      <td>nna ach que est produt podes resolv meu poblem...</td>\n",
              "      <td>nna ach produt podes resolv poblem poi pesso s...</td>\n",
              "      <td>nnao achar que este produto podeser resolver m...</td>\n",
              "      <td>nnao achar produto podeser resolver poblema po...</td>\n",
              "    </tr>\n",
              "  </tbody>\n",
              "</table>\n",
              "</div>\n",
              "    <div class=\"colab-df-buttons\">\n",
              "\n",
              "  <div class=\"colab-df-container\">\n",
              "    <button class=\"colab-df-convert\" onclick=\"convertToInteractive('df-6652565d-f3db-4bd7-9ef6-ef3b2c62b305')\"\n",
              "            title=\"Convert this dataframe to an interactive table.\"\n",
              "            style=\"display:none;\">\n",
              "\n",
              "  <svg xmlns=\"http://www.w3.org/2000/svg\" height=\"24px\" viewBox=\"0 -960 960 960\">\n",
              "    <path d=\"M120-120v-720h720v720H120Zm60-500h600v-160H180v160Zm220 220h160v-160H400v160Zm0 220h160v-160H400v160ZM180-400h160v-160H180v160Zm440 0h160v-160H620v160ZM180-180h160v-160H180v160Zm440 0h160v-160H620v160Z\"/>\n",
              "  </svg>\n",
              "    </button>\n",
              "\n",
              "  <style>\n",
              "    .colab-df-container {\n",
              "      display:flex;\n",
              "      gap: 12px;\n",
              "    }\n",
              "\n",
              "    .colab-df-convert {\n",
              "      background-color: #E8F0FE;\n",
              "      border: none;\n",
              "      border-radius: 50%;\n",
              "      cursor: pointer;\n",
              "      display: none;\n",
              "      fill: #1967D2;\n",
              "      height: 32px;\n",
              "      padding: 0 0 0 0;\n",
              "      width: 32px;\n",
              "    }\n",
              "\n",
              "    .colab-df-convert:hover {\n",
              "      background-color: #E2EBFA;\n",
              "      box-shadow: 0px 1px 2px rgba(60, 64, 67, 0.3), 0px 1px 3px 1px rgba(60, 64, 67, 0.15);\n",
              "      fill: #174EA6;\n",
              "    }\n",
              "\n",
              "    .colab-df-buttons div {\n",
              "      margin-bottom: 4px;\n",
              "    }\n",
              "\n",
              "    [theme=dark] .colab-df-convert {\n",
              "      background-color: #3B4455;\n",
              "      fill: #D2E3FC;\n",
              "    }\n",
              "\n",
              "    [theme=dark] .colab-df-convert:hover {\n",
              "      background-color: #434B5C;\n",
              "      box-shadow: 0px 1px 3px 1px rgba(0, 0, 0, 0.15);\n",
              "      filter: drop-shadow(0px 1px 2px rgba(0, 0, 0, 0.3));\n",
              "      fill: #FFFFFF;\n",
              "    }\n",
              "  </style>\n",
              "\n",
              "    <script>\n",
              "      const buttonEl =\n",
              "        document.querySelector('#df-6652565d-f3db-4bd7-9ef6-ef3b2c62b305 button.colab-df-convert');\n",
              "      buttonEl.style.display =\n",
              "        google.colab.kernel.accessAllowed ? 'block' : 'none';\n",
              "\n",
              "      async function convertToInteractive(key) {\n",
              "        const element = document.querySelector('#df-6652565d-f3db-4bd7-9ef6-ef3b2c62b305');\n",
              "        const dataTable =\n",
              "          await google.colab.kernel.invokeFunction('convertToInteractive',\n",
              "                                                    [key], {});\n",
              "        if (!dataTable) return;\n",
              "\n",
              "        const docLinkHtml = 'Like what you see? Visit the ' +\n",
              "          '<a target=\"_blank\" href=https://colab.research.google.com/notebooks/data_table.ipynb>data table notebook</a>'\n",
              "          + ' to learn more about interactive tables.';\n",
              "        element.innerHTML = '';\n",
              "        dataTable['output_type'] = 'display_data';\n",
              "        await google.colab.output.renderOutput(dataTable, element);\n",
              "        const docLink = document.createElement('div');\n",
              "        docLink.innerHTML = docLinkHtml;\n",
              "        element.appendChild(docLink);\n",
              "      }\n",
              "    </script>\n",
              "  </div>\n",
              "\n",
              "\n",
              "<div id=\"df-76576115-5fde-4746-8ac9-822513155dc9\">\n",
              "  <button class=\"colab-df-quickchart\" onclick=\"quickchart('df-76576115-5fde-4746-8ac9-822513155dc9')\"\n",
              "            title=\"Suggest charts.\"\n",
              "            style=\"display:none;\">\n",
              "\n",
              "<svg xmlns=\"http://www.w3.org/2000/svg\" height=\"24px\"viewBox=\"0 0 24 24\"\n",
              "     width=\"24px\">\n",
              "    <g>\n",
              "        <path d=\"M19 3H5c-1.1 0-2 .9-2 2v14c0 1.1.9 2 2 2h14c1.1 0 2-.9 2-2V5c0-1.1-.9-2-2-2zM9 17H7v-7h2v7zm4 0h-2V7h2v10zm4 0h-2v-4h2v4z\"/>\n",
              "    </g>\n",
              "</svg>\n",
              "  </button>\n",
              "\n",
              "<style>\n",
              "  .colab-df-quickchart {\n",
              "    background-color: #E8F0FE;\n",
              "    border: none;\n",
              "    border-radius: 50%;\n",
              "    cursor: pointer;\n",
              "    display: none;\n",
              "    fill: #1967D2;\n",
              "    height: 32px;\n",
              "    padding: 0 0 0 0;\n",
              "    width: 32px;\n",
              "  }\n",
              "\n",
              "  .colab-df-quickchart:hover {\n",
              "    background-color: #E2EBFA;\n",
              "    box-shadow: 0px 1px 2px rgba(60, 64, 67, 0.3), 0px 1px 3px 1px rgba(60, 64, 67, 0.15);\n",
              "    fill: #174EA6;\n",
              "  }\n",
              "\n",
              "  [theme=dark] .colab-df-quickchart {\n",
              "    background-color: #3B4455;\n",
              "    fill: #D2E3FC;\n",
              "  }\n",
              "\n",
              "  [theme=dark] .colab-df-quickchart:hover {\n",
              "    background-color: #434B5C;\n",
              "    box-shadow: 0px 1px 3px 1px rgba(0, 0, 0, 0.15);\n",
              "    filter: drop-shadow(0px 1px 2px rgba(0, 0, 0, 0.3));\n",
              "    fill: #FFFFFF;\n",
              "  }\n",
              "</style>\n",
              "\n",
              "  <script>\n",
              "    async function quickchart(key) {\n",
              "      const charts = await google.colab.kernel.invokeFunction(\n",
              "          'suggestCharts', [key], {});\n",
              "    }\n",
              "    (() => {\n",
              "      let quickchartButtonEl =\n",
              "        document.querySelector('#df-76576115-5fde-4746-8ac9-822513155dc9 button');\n",
              "      quickchartButtonEl.style.display =\n",
              "        google.colab.kernel.accessAllowed ? 'block' : 'none';\n",
              "    })();\n",
              "  </script>\n",
              "</div>\n",
              "    </div>\n",
              "  </div>\n"
            ]
          },
          "metadata": {},
          "execution_count": 41
        }
      ]
    },
    {
      "cell_type": "code",
      "source": [
        "# Checking y proportion\n",
        "print(f'Train proportion\\n{y_train.value_counts()/y_train.shape[0]}')"
      ],
      "metadata": {
        "colab": {
          "base_uri": "https://localhost:8080/"
        },
        "id": "S579M1OV6r_r",
        "outputId": "01d639b8-099c-480e-dd18-44b6c01fcac8"
      },
      "id": "S579M1OV6r_r",
      "execution_count": 85,
      "outputs": [
        {
          "output_type": "stream",
          "name": "stdout",
          "text": [
            "Train proportion\n",
            "overall_rating\n",
            "1                 0.691985\n",
            "0                 0.308015\n",
            "dtype: float64.2\n"
          ]
        }
      ]
    },
    {
      "cell_type": "code",
      "source": [
        "# Check Vocabulary size\n",
        "voc_size = {}\n",
        "for column in X_train.columns:\n",
        "  full_text = ' '.join(X_train[column].tolist())\n",
        "  words = full_text.split()\n",
        "  vocabulary = set(words)\n",
        "  voc_size[column] = len(vocabulary)\n",
        "\n",
        "df_vocabulary_size = pd.DataFrame(list(voc_size.items()), columns=['Corpus', 'Voc_size'])\n",
        "ax = df_vocabulary_size.plot.barh()\n",
        "ax.set_yticklabels(df_vocabulary_size.Corpus)\n",
        "ax.invert_yaxis();"
      ],
      "metadata": {
        "colab": {
          "base_uri": "https://localhost:8080/",
          "height": 430
        },
        "id": "mp-HFOnJ9KhV",
        "outputId": "1e7f80a0-7093-45b7-fa89-a6536af7d450"
      },
      "id": "mp-HFOnJ9KhV",
      "execution_count": 87,
      "outputs": [
        {
          "output_type": "display_data",
          "data": {
            "text/plain": [
              "<Figure size 640x480 with 1 Axes>"
            ],
            "image/png": "[encoded data removed]"
          },
          "metadata": {}
        }
      ]
    },
    {
      "cell_type": "markdown",
      "id": "bdbe9969",
      "metadata": {
        "id": "bdbe9969"
      },
      "source": [
        "## Sparse"
      ]
    },
    {
      "cell_type": "markdown",
      "id": "e6861466",
      "metadata": {
        "id": "e6861466"
      },
      "source": [
        "### Bag of Word"
      ]
    },
    {
      "cell_type": "code",
      "execution_count": 78,
      "id": "80626732",
      "metadata": {
        "ExecuteTime": {
          "end_time": "2023-07-25T17:42:46.472927Z",
          "start_time": "2023-07-25T17:42:46.429443Z"
        },
        "id": "80626732"
      },
      "outputs": [],
      "source": [
        "from sklearn.feature_extraction.text import CountVectorizer"
      ]
    },
    {
      "cell_type": "code",
      "source": [
        "def apply_bag_of_word(dataframe):\n",
        "  for column in dataframe.columns:\n",
        "    count_vectorizer = CountVectorizer(dtype=np.float32)\n",
        "    bag_of_words = count_vectorizer.fit_transform(dataframe[column])\n",
        "\n",
        "    return bag_of_words"
      ],
      "metadata": {
        "id": "vUucY72sIH8v"
      },
      "id": "vUucY72sIH8v",
      "execution_count": 118,
      "outputs": []
    },
    {
      "cell_type": "code",
      "source": [
        "ee = apply_bag_of_word(pd.DataFrame(X_train['review_text_clean_stop_stem']))"
      ],
      "metadata": {
        "id": "_7cpqWtELqdJ"
      },
      "id": "_7cpqWtELqdJ",
      "execution_count": 119,
      "outputs": []
    },
    {
      "cell_type": "code",
      "source": [
        "type(ee)"
      ],
      "metadata": {
        "id": "qB0k-jZeNUf6",
        "outputId": "6652ed51-0227-4f15-cdfb-365382920f6f",
        "colab": {
          "base_uri": "https://localhost:8080/"
        }
      },
      "id": "qB0k-jZeNUf6",
      "execution_count": 116,
      "outputs": [
        {
          "output_type": "execute_result",
          "data": {
            "text/plain": [
              "scipy.sparse._csr.csr_matrix"
            ]
          },
          "metadata": {},
          "execution_count": 116
        }
      ]
    },
    {
      "cell_type": "code",
      "source": [
        "model = LGBMClassifier(n_jobs=-1, verbose=-1, random_state=random_state)"
      ],
      "metadata": {
        "id": "Jm0vJe8PJdxo"
      },
      "id": "Jm0vJe8PJdxo",
      "execution_count": 131,
      "outputs": []
    },
    {
      "cell_type": "code",
      "source": [
        "model.fit(ee, y_train.values.ravel());"
      ],
      "metadata": {
        "id": "6fXpm_c2Ms7a"
      },
      "id": "6fXpm_c2Ms7a",
      "execution_count": 132,
      "outputs": []
    },
    {
      "cell_type": "code",
      "execution_count": 101,
      "id": "e162b8e5",
      "metadata": {
        "ExecuteTime": {
          "end_time": "2023-07-25T17:42:46.535338Z",
          "start_time": "2023-07-25T17:42:46.474920Z"
        },
        "colab": {
          "base_uri": "https://localhost:8080/"
        },
        "id": "e162b8e5",
        "outputId": "d5abfe88-4071-421e-a78e-0c6b646856b5"
      },
      "outputs": [
        {
          "output_type": "stream",
          "name": "stdout",
          "text": [
            "88876    produto excelente qualidade entregar rapido cu...\n",
            "Name: review_text_clean_stop_lemma, dtype: object\n"
          ]
        }
      ],
      "source": [
        "print(str(X_train.loc[88876:88876, 'review_text_clean_stop_lemma']))"
      ]
    },
    {
      "cell_type": "code",
      "execution_count": null,
      "id": "00557104",
      "metadata": {
        "ExecuteTime": {
          "end_time": "2023-07-25T17:42:46.582191Z",
          "start_time": "2023-07-25T17:42:46.537332Z"
        },
        "id": "00557104"
      },
      "outputs": [],
      "source": [
        "count_vectorizer = CountVectorizer()"
      ]
    },
    {
      "cell_type": "code",
      "execution_count": null,
      "id": "17d2fc51",
      "metadata": {
        "ExecuteTime": {
          "end_time": "2023-07-25T17:42:46.780354Z",
          "start_time": "2023-07-25T17:42:46.585183Z"
        },
        "id": "17d2fc51"
      },
      "outputs": [],
      "source": [
        "bag_of_words = count_vectorizer.fit_transform(corpus.motivo_CLEAN)"
      ]
    },
    {
      "cell_type": "code",
      "execution_count": null,
      "id": "5fc0040c",
      "metadata": {
        "ExecuteTime": {
          "end_time": "2023-07-25T17:42:46.795854Z",
          "start_time": "2023-07-25T17:42:46.784158Z"
        },
        "id": "5fc0040c"
      },
      "outputs": [],
      "source": [
        "similarity = 1 - cosine(bag_of_words[1].toarray().flatten(),\n",
        "                        bag_of_words[2].toarray().flatten())\n",
        "similarity"
      ]
    },
    {
      "cell_type": "markdown",
      "id": "a7567b78",
      "metadata": {
        "id": "a7567b78"
      },
      "source": [
        "### TF-IDF"
      ]
    },
    {
      "cell_type": "code",
      "execution_count": null,
      "id": "69fe16a6",
      "metadata": {
        "ExecuteTime": {
          "end_time": "2023-07-25T17:42:46.842187Z",
          "start_time": "2023-07-25T17:42:46.799777Z"
        },
        "id": "69fe16a6"
      },
      "outputs": [],
      "source": [
        "from sklearn.feature_extraction.text import TfidfVectorizer"
      ]
    },
    {
      "cell_type": "code",
      "execution_count": null,
      "id": "f5c535e6",
      "metadata": {
        "ExecuteTime": {
          "end_time": "2023-07-25T17:42:46.903345Z",
          "start_time": "2023-07-25T17:42:46.845695Z"
        },
        "id": "f5c535e6"
      },
      "outputs": [],
      "source": [
        "X = corpus.values.tolist()\n",
        "X = list(chain.from_iterable(X))\n",
        "X[0:4]"
      ]
    },
    {
      "cell_type": "code",
      "execution_count": null,
      "id": "796b7dd6",
      "metadata": {
        "ExecuteTime": {
          "end_time": "2023-07-25T17:42:46.948720Z",
          "start_time": "2023-07-25T17:42:46.906334Z"
        },
        "id": "796b7dd6"
      },
      "outputs": [],
      "source": [
        "tf_idf_vectorizer = TfidfVectorizer()"
      ]
    },
    {
      "cell_type": "code",
      "execution_count": null,
      "id": "e53b9c0a",
      "metadata": {
        "ExecuteTime": {
          "end_time": "2023-07-25T17:42:47.118913Z",
          "start_time": "2023-07-25T17:42:46.956630Z"
        },
        "id": "e53b9c0a"
      },
      "outputs": [],
      "source": [
        "tf_idf = tf_idf_vectorizer.fit_transform(corpus.motivo_CLEAN)"
      ]
    },
    {
      "cell_type": "code",
      "execution_count": null,
      "id": "b8fbeabf",
      "metadata": {
        "ExecuteTime": {
          "end_time": "2023-07-25T17:42:47.134441Z",
          "start_time": "2023-07-25T17:42:47.121413Z"
        },
        "id": "b8fbeabf"
      },
      "outputs": [],
      "source": [
        "tf_idf"
      ]
    },
    {
      "cell_type": "code",
      "execution_count": null,
      "id": "3ed7636e",
      "metadata": {
        "ExecuteTime": {
          "end_time": "2023-07-25T17:42:47.180609Z",
          "start_time": "2023-07-25T17:42:47.136360Z"
        },
        "id": "3ed7636e"
      },
      "outputs": [],
      "source": [
        "similarity = 1 - cosine(tf_idf[1].toarray().flatten(),\n",
        "                        tf_idf[3].toarray().flatten())\n",
        "similarity"
      ]
    },
    {
      "cell_type": "markdown",
      "id": "b27a3e58",
      "metadata": {
        "id": "b27a3e58"
      },
      "source": [
        "## Dense"
      ]
    },
    {
      "cell_type": "markdown",
      "id": "b6684fad",
      "metadata": {
        "id": "b6684fad"
      },
      "source": [
        "### Word2vec"
      ]
    },
    {
      "cell_type": "code",
      "execution_count": null,
      "id": "dfc1b300",
      "metadata": {
        "ExecuteTime": {
          "end_time": "2023-07-25T17:42:47.227462Z",
          "start_time": "2023-07-25T17:42:47.184701Z"
        },
        "id": "dfc1b300"
      },
      "outputs": [],
      "source": [
        "from gensim.models import Word2Vec"
      ]
    },
    {
      "cell_type": "markdown",
      "id": "a1333a36",
      "metadata": {
        "id": "a1333a36"
      },
      "source": [
        "* Vetores: http://nilc.icmc.usp.br/nilc/index.php/repositorio-de-word-embeddings-do-nilc\n",
        "* Treinamento: https://www.youtube.com/watch?v=wjsKN4uyH90\n",
        "* Tutorial: https://www.kaggle.com/code/pierremegret/gensim-word2vec-tutorial\n",
        "* Teoria: https://towardsdatascience.com/word2vec-explained-49c52b4ccb71\n",
        "* Documentação: https://www.nltk.org/howto/portuguese_en.html"
      ]
    },
    {
      "cell_type": "markdown",
      "id": "f2729a5c",
      "metadata": {
        "id": "f2729a5c"
      },
      "source": [
        "**Spacy**\n",
        "\n",
        "https://spacy.io/models/pt"
      ]
    },
    {
      "cell_type": "code",
      "execution_count": null,
      "id": "9ef969e2",
      "metadata": {
        "ExecuteTime": {
          "end_time": "2023-07-25T17:42:48.300621Z",
          "start_time": "2023-07-25T17:42:47.233711Z"
        },
        "id": "9ef969e2"
      },
      "outputs": [],
      "source": [
        "import spacy\n",
        "nlp = spacy.load('pt_core_news_sm')"
      ]
    },
    {
      "cell_type": "code",
      "execution_count": null,
      "id": "f1bc5df6",
      "metadata": {
        "ExecuteTime": {
          "end_time": "2023-07-25T17:42:48.315784Z",
          "start_time": "2023-07-25T17:42:48.302712Z"
        },
        "id": "f1bc5df6"
      },
      "outputs": [],
      "source": [
        "def spacy_tokenizer(doc):\n",
        "  return [t.text for t in nlp(doc)]"
      ]
    },
    {
      "cell_type": "code",
      "execution_count": null,
      "id": "2785dbcf",
      "metadata": {
        "ExecuteTime": {
          "end_time": "2023-07-25T17:42:48.393583Z",
          "start_time": "2023-07-25T17:42:48.318612Z"
        },
        "id": "2785dbcf"
      },
      "outputs": [],
      "source": [
        "X = corpus.values.tolist()[:3]\n",
        "X = [spacy_tokenizer(text[0]) for text in X]\n",
        "X[0:2]"
      ]
    },
    {
      "cell_type": "markdown",
      "id": "7cd0a4ed",
      "metadata": {
        "id": "7cd0a4ed"
      },
      "source": [
        "**NLTK**"
      ]
    },
    {
      "cell_type": "code",
      "execution_count": null,
      "id": "a7c38c88",
      "metadata": {
        "ExecuteTime": {
          "end_time": "2023-07-25T17:42:48.424898Z",
          "start_time": "2023-07-25T17:42:48.397243Z"
        },
        "id": "a7c38c88"
      },
      "outputs": [],
      "source": [
        "import nltk\n",
        "#nltk.download('punkt')\n",
        "from nltk.tokenize import word_tokenize"
      ]
    },
    {
      "cell_type": "code",
      "execution_count": null,
      "id": "75aa78be",
      "metadata": {
        "ExecuteTime": {
          "end_time": "2023-07-25T17:42:50.110794Z",
          "start_time": "2023-07-25T17:42:48.430235Z"
        },
        "id": "75aa78be"
      },
      "outputs": [],
      "source": [
        "X = corpus.values.tolist()\n",
        "X = [word_tokenize(text[0], language='portuguese') for text in X]\n",
        "X[0:2]"
      ]
    },
    {
      "cell_type": "markdown",
      "id": "0764cc79",
      "metadata": {
        "id": "0764cc79"
      },
      "source": [
        "#### CBOW - Continuous Bag of Words"
      ]
    },
    {
      "cell_type": "code",
      "execution_count": null,
      "id": "35f0f69a",
      "metadata": {
        "ExecuteTime": {
          "end_time": "2023-07-25T17:42:50.126776Z",
          "start_time": "2023-07-25T17:42:50.119727Z"
        },
        "id": "35f0f69a"
      },
      "outputs": [],
      "source": [
        "#model.wv.key_to_index"
      ]
    },
    {
      "cell_type": "code",
      "execution_count": null,
      "id": "55e8b915",
      "metadata": {
        "ExecuteTime": {
          "end_time": "2023-07-25T17:42:50.174643Z",
          "start_time": "2023-07-25T17:42:50.128696Z"
        },
        "id": "55e8b915"
      },
      "outputs": [],
      "source": [
        "w2v_cbow = Word2Vec(sg=0, #CBOW\n",
        "                    min_count=20,\n",
        "                    window=2,\n",
        "                    vector_size=300,\n",
        "                    sample=6e-5,\n",
        "                    alpha=0.03,\n",
        "                    min_alpha=0.0007,\n",
        "                    negative=20,\n",
        "                    workers=cores-1)"
      ]
    },
    {
      "cell_type": "code",
      "execution_count": null,
      "id": "4ba94f78",
      "metadata": {
        "ExecuteTime": {
          "end_time": "2023-07-25T17:42:50.250876Z",
          "start_time": "2023-07-25T17:42:50.179639Z"
        },
        "id": "4ba94f78"
      },
      "outputs": [],
      "source": [
        "w2v_cbow.build_vocab(X)"
      ]
    },
    {
      "cell_type": "code",
      "execution_count": null,
      "id": "1efd7852",
      "metadata": {
        "ExecuteTime": {
          "end_time": "2023-07-25T17:42:52.802340Z",
          "start_time": "2023-07-25T17:42:50.253829Z"
        },
        "id": "1efd7852"
      },
      "outputs": [],
      "source": [
        "w2v_cbow.train(X,\n",
        "               total_examples=w2v_cbow.corpus_count,\n",
        "               epochs=30,\n",
        "               report_delay=1)"
      ]
    },
    {
      "cell_type": "code",
      "execution_count": null,
      "id": "3d370c0b",
      "metadata": {
        "ExecuteTime": {
          "end_time": "2023-07-25T17:42:52.832239Z",
          "start_time": "2023-07-25T17:42:52.809157Z"
        },
        "id": "3d370c0b"
      },
      "outputs": [],
      "source": [
        "similarity = 1 - cosine(np.mean(w2v_cbow.wv[X[1]].T, axis=1),\n",
        "                        np.mean(w2v_cbow.wv[X[3]].T, axis=1))\n",
        "similarity"
      ]
    },
    {
      "cell_type": "markdown",
      "id": "7ba58812",
      "metadata": {
        "id": "7ba58812"
      },
      "source": [
        "#### SG - Skip-Gram"
      ]
    },
    {
      "cell_type": "code",
      "execution_count": null,
      "id": "7969c2b0",
      "metadata": {
        "ExecuteTime": {
          "end_time": "2023-07-25T17:42:52.893582Z",
          "start_time": "2023-07-25T17:42:52.840459Z"
        },
        "id": "7969c2b0"
      },
      "outputs": [],
      "source": [
        "w2v_skgram = Word2Vec(sg=1, #skip-gram\n",
        "                     min_count=20,\n",
        "                     window=2,\n",
        "                     vector_size=300,\n",
        "                     sample=6e-5,\n",
        "                     alpha=0.03,\n",
        "                     min_alpha=0.0007,\n",
        "                     negative=20,\n",
        "                     workers=cores-1)"
      ]
    },
    {
      "cell_type": "code",
      "execution_count": null,
      "id": "9d54f8a5",
      "metadata": {
        "ExecuteTime": {
          "end_time": "2023-07-25T17:42:52.987470Z",
          "start_time": "2023-07-25T17:42:52.898678Z"
        },
        "id": "9d54f8a5"
      },
      "outputs": [],
      "source": [
        "w2v_skgram.build_vocab(X)"
      ]
    },
    {
      "cell_type": "code",
      "execution_count": null,
      "id": "e76d17b3",
      "metadata": {
        "ExecuteTime": {
          "end_time": "2023-07-25T17:42:55.206499Z",
          "start_time": "2023-07-25T17:42:52.991469Z"
        },
        "id": "e76d17b3"
      },
      "outputs": [],
      "source": [
        "w2v_skgram.train(X,\n",
        "                 total_examples=w2v_skgram.corpus_count,\n",
        "                 epochs=30,\n",
        "                 report_delay=1)"
      ]
    },
    {
      "cell_type": "code",
      "execution_count": null,
      "id": "7242ed3b",
      "metadata": {
        "ExecuteTime": {
          "end_time": "2023-07-25T17:42:55.221691Z",
          "start_time": "2023-07-25T17:42:55.208591Z"
        },
        "id": "7242ed3b"
      },
      "outputs": [],
      "source": [
        "similarity = 1 - cosine(np.mean(w2v_skgram.wv[X[1]].T, axis=1),\n",
        "                        np.mean(w2v_skgram.wv[X[1]].T, axis=1))\n",
        "similarity"
      ]
    },
    {
      "cell_type": "markdown",
      "id": "ccf5b5fa",
      "metadata": {
        "id": "ccf5b5fa"
      },
      "source": [
        "### FastText"
      ]
    },
    {
      "cell_type": "code",
      "execution_count": null,
      "id": "d06acc07",
      "metadata": {
        "ExecuteTime": {
          "end_time": "2023-07-25T17:42:55.467814Z",
          "start_time": "2023-07-25T17:42:55.223958Z"
        },
        "id": "d06acc07"
      },
      "outputs": [],
      "source": [
        "from gensim.models import FastText"
      ]
    },
    {
      "cell_type": "code",
      "execution_count": null,
      "id": "1d496fb8",
      "metadata": {
        "ExecuteTime": {
          "end_time": "2023-07-25T17:42:55.514442Z",
          "start_time": "2023-07-25T17:42:55.471550Z"
        },
        "id": "1d496fb8"
      },
      "outputs": [],
      "source": [
        "import nltk\n",
        "nltk.download('punkt')\n",
        "from nltk.tokenize import word_tokenize"
      ]
    },
    {
      "cell_type": "code",
      "execution_count": null,
      "id": "1235315f",
      "metadata": {
        "ExecuteTime": {
          "end_time": "2023-07-25T17:42:57.654270Z",
          "start_time": "2023-07-25T17:42:55.517835Z"
        },
        "id": "1235315f"
      },
      "outputs": [],
      "source": [
        "X = corpus.values.tolist()\n",
        "X = [word_tokenize(text[0], language='portuguese') for text in X]\n",
        "X[0:2]"
      ]
    },
    {
      "cell_type": "code",
      "execution_count": null,
      "id": "32b82663",
      "metadata": {
        "ExecuteTime": {
          "end_time": "2023-07-25T17:42:57.669179Z",
          "start_time": "2023-07-25T17:42:57.657164Z"
        },
        "id": "32b82663"
      },
      "outputs": [],
      "source": [
        "fast_text = FastText(vector_size=4, window=3, min_count=1)"
      ]
    },
    {
      "cell_type": "code",
      "execution_count": null,
      "id": "afca2911",
      "metadata": {
        "ExecuteTime": {
          "end_time": "2023-07-25T17:42:57.837766Z",
          "start_time": "2023-07-25T17:42:57.673669Z"
        },
        "id": "afca2911"
      },
      "outputs": [],
      "source": [
        "fast_text.build_vocab(corpus_iterable=X)"
      ]
    },
    {
      "cell_type": "code",
      "execution_count": null,
      "id": "480fd41d",
      "metadata": {
        "ExecuteTime": {
          "end_time": "2023-07-25T17:42:58.772680Z",
          "start_time": "2023-07-25T17:42:57.840756Z"
        },
        "id": "480fd41d"
      },
      "outputs": [],
      "source": [
        "fast_text.train(corpus_iterable=X, total_examples=len(X), epochs=10)"
      ]
    },
    {
      "cell_type": "code",
      "execution_count": null,
      "id": "c1080d05",
      "metadata": {
        "ExecuteTime": {
          "end_time": "2023-07-25T17:42:58.787814Z",
          "start_time": "2023-07-25T17:42:58.775722Z"
        },
        "id": "c1080d05"
      },
      "outputs": [],
      "source": [
        "similarity = 1 - cosine(np.mean(fast_text.wv[X[1]].T, axis=1),\n",
        "                        np.mean(fast_text.wv[X[3]].T, axis=1))\n",
        "similarity"
      ]
    },
    {
      "cell_type": "markdown",
      "id": "5952f18b",
      "metadata": {
        "id": "5952f18b"
      },
      "source": [
        "### Combined"
      ]
    },
    {
      "cell_type": "markdown",
      "id": "7945c081",
      "metadata": {
        "id": "7945c081"
      },
      "source": [
        "#### Word2vec CBOW + TF-IDF"
      ]
    },
    {
      "cell_type": "markdown",
      "id": "2a07c15b",
      "metadata": {
        "id": "2a07c15b"
      },
      "source": [
        "#### Word2vec SG + TF-IDF"
      ]
    },
    {
      "cell_type": "markdown",
      "id": "949525eb",
      "metadata": {
        "id": "949525eb"
      },
      "source": [
        "#### FastTest + TF-IDF"
      ]
    },
    {
      "cell_type": "code",
      "execution_count": null,
      "id": "15363c13",
      "metadata": {
        "ExecuteTime": {
          "end_time": "2023-07-25T17:43:03.844310Z",
          "start_time": "2023-07-25T17:42:58.790848Z"
        },
        "id": "15363c13"
      },
      "outputs": [],
      "source": [
        "tfidf_sent_vectors_ft = [] # the tfidf-ft for each sentence/review is stored in this list\n",
        "row = 0\n",
        "errors = 0\n",
        "tfidf_feat = tf_idf_vectorizer.get_feature_names_out()\n",
        "X = corpus.values.tolist()\n",
        "X = [word_tokenize(text[0], language='portuguese') for text in X]\n",
        "\n",
        "for sent in X[:]: # for each review/sentence\n",
        "    vec_shape = fast_text.wv[tfidf_feat[0]].shape[0]\n",
        "    sent_vec = np.zeros(vec_shape) #\n",
        "    weight_sum = 0; # num of words with a valid vector in the sentence/review\n",
        "    for word in sent: # for each word in a review/sentence\n",
        "        try:\n",
        "            vec = fast_text.wv[word]\n",
        "            # obtain the tf_idfidf of a word in a sentence/review\n",
        "            tfidf_idx = np.where(tfidf_feat == word)[0][0]\n",
        "            tfidf_weight = tf_idf[row, tfidf_idx]\n",
        "            sent_vec += (vec * tfidf_weight)\n",
        "            weight_sum += tfidf_weight\n",
        "        except:\n",
        "            errors +=1\n",
        "            print(f\"Error in {word}\")\n",
        "            pass\n",
        "    sent_vec /= weight_sum\n",
        "\n",
        "    tfidf_sent_vectors_ft.append(sent_vec)\n",
        "    row += 1\n",
        "print('errors noted: '+str(errors))"
      ]
    },
    {
      "cell_type": "code",
      "execution_count": null,
      "id": "bdcec4ae",
      "metadata": {
        "ExecuteTime": {
          "end_time": "2023-07-25T17:43:03.859680Z",
          "start_time": "2023-07-25T17:43:03.848164Z"
        },
        "id": "bdcec4ae"
      },
      "outputs": [],
      "source": [
        "similarity = 1 - cosine(tfidf_sent_vectors_ft[1],\n",
        "                        tfidf_sent_vectors_ft[3])\n",
        "similarity"
      ]
    },
    {
      "cell_type": "markdown",
      "id": "02444b2c",
      "metadata": {
        "id": "02444b2c"
      },
      "source": [
        "### Doc2Vec"
      ]
    },
    {
      "cell_type": "markdown",
      "id": "8edbc256",
      "metadata": {
        "id": "8edbc256"
      },
      "source": [
        "* https://medium.com/wisio/a-gentle-introduction-to-doc2vec-db3e8c0cce5e\n",
        "* https://aitechtrend.com/doc2vec-made-easy-a-step-by-step-guide-to-gensim-implementation/"
      ]
    },
    {
      "cell_type": "code",
      "execution_count": null,
      "id": "f4c71a6b",
      "metadata": {
        "ExecuteTime": {
          "end_time": "2023-07-24T20:05:35.982840Z",
          "start_time": "2023-07-24T20:05:35.910763Z"
        },
        "id": "f4c71a6b"
      },
      "outputs": [],
      "source": [
        "from gensim.models.doc2vec import TaggedDocument\n",
        "from gensim.models import Doc2Vec\n",
        "from nltk.tokenize import word_tokenize"
      ]
    },
    {
      "cell_type": "code",
      "execution_count": null,
      "id": "34ffa98d",
      "metadata": {
        "ExecuteTime": {
          "end_time": "2023-07-24T20:05:38.167691Z",
          "start_time": "2023-07-24T20:05:35.987447Z"
        },
        "id": "34ffa98d"
      },
      "outputs": [],
      "source": [
        "X = corpus.values.tolist()\n",
        "X = list(chain.from_iterable(X))\n",
        "\n",
        "tagged_docs = [TaggedDocument(words=word_tokenize(doc), tags=[str(i)]) for i, doc in enumerate(X)]\n",
        "tagged_docs[:4]"
      ]
    },
    {
      "cell_type": "markdown",
      "id": "18672e00",
      "metadata": {
        "id": "18672e00"
      },
      "source": [
        "#### DBOW - Distributed Bag of Words"
      ]
    },
    {
      "cell_type": "code",
      "execution_count": null,
      "id": "0c41bc72",
      "metadata": {
        "ExecuteTime": {
          "end_time": "2023-07-24T20:05:38.198743Z",
          "start_time": "2023-07-24T20:05:38.176185Z"
        },
        "id": "0c41bc72"
      },
      "outputs": [],
      "source": [
        "d2v_dbow = Doc2Vec(dm=0,\n",
        "                   vector_size=300,\n",
        "                   negative=5,\n",
        "                   hs=0,\n",
        "                   min_count=2,\n",
        "                   sample=0,\n",
        "                   workers=cores)"
      ]
    },
    {
      "cell_type": "code",
      "execution_count": null,
      "id": "22cd3096",
      "metadata": {
        "ExecuteTime": {
          "end_time": "2023-07-24T20:05:38.527732Z",
          "start_time": "2023-07-24T20:05:38.201620Z"
        },
        "id": "22cd3096"
      },
      "outputs": [],
      "source": [
        "d2v_dbow.build_vocab(tagged_docs)"
      ]
    },
    {
      "cell_type": "code",
      "execution_count": null,
      "id": "8a3c8ebc",
      "metadata": {
        "ExecuteTime": {
          "end_time": "2023-07-24T20:06:00.524589Z",
          "start_time": "2023-07-24T20:05:38.531211Z"
        },
        "id": "8a3c8ebc"
      },
      "outputs": [],
      "source": [
        "d2v_dbow.train(tagged_docs, total_examples=d2v_dbow.corpus_count, epochs=50)"
      ]
    },
    {
      "cell_type": "code",
      "execution_count": null,
      "id": "50d0fd8c",
      "metadata": {
        "ExecuteTime": {
          "end_time": "2023-07-24T20:06:00.540348Z",
          "start_time": "2023-07-24T20:06:00.525624Z"
        },
        "id": "50d0fd8c"
      },
      "outputs": [],
      "source": [
        "similarity = 1 - cosine(d2v_dbow.infer_vector(word_tokenize(X[1])),\n",
        "                        d2v_dbow.infer_vector(word_tokenize(X[3])))\n",
        "similarity"
      ]
    },
    {
      "cell_type": "markdown",
      "id": "13d6ea4e",
      "metadata": {
        "id": "13d6ea4e"
      },
      "source": [
        "#### DM - Distributed Memory"
      ]
    },
    {
      "cell_type": "code",
      "execution_count": null,
      "id": "ce08a57c",
      "metadata": {
        "ExecuteTime": {
          "end_time": "2023-07-24T20:06:00.601301Z",
          "start_time": "2023-07-24T20:06:00.545255Z"
        },
        "id": "ce08a57c"
      },
      "outputs": [],
      "source": [
        "# 0.025\n",
        "d2v_dm = Doc2Vec(dm=1,\n",
        "                 vector_size=300,\n",
        "                 negative=5,\n",
        "                 hs=0,\n",
        "                 min_count=2,\n",
        "                 sample=0,\n",
        "                 workers=cores)"
      ]
    },
    {
      "cell_type": "code",
      "execution_count": null,
      "id": "799a094a",
      "metadata": {
        "ExecuteTime": {
          "end_time": "2023-07-24T20:06:00.867876Z",
          "start_time": "2023-07-24T20:06:00.604996Z"
        },
        "id": "799a094a"
      },
      "outputs": [],
      "source": [
        "d2v_dm.build_vocab(tagged_docs)"
      ]
    },
    {
      "cell_type": "code",
      "execution_count": null,
      "id": "d0ae5193",
      "metadata": {
        "ExecuteTime": {
          "end_time": "2023-07-24T20:06:44.950155Z",
          "start_time": "2023-07-24T20:06:00.870893Z"
        },
        "id": "d0ae5193"
      },
      "outputs": [],
      "source": [
        "d2v_dm.train(tagged_docs, total_examples=d2v_dm.corpus_count, epochs=50)"
      ]
    },
    {
      "cell_type": "code",
      "execution_count": null,
      "id": "85147b22",
      "metadata": {
        "ExecuteTime": {
          "end_time": "2023-07-24T20:06:44.981587Z",
          "start_time": "2023-07-24T20:06:44.954189Z"
        },
        "id": "85147b22"
      },
      "outputs": [],
      "source": [
        "similarity = 1 - cosine(d2v_dm.infer_vector(word_tokenize(X[1])),\n",
        "                        d2v_dm.infer_vector(word_tokenize(X[3])))\n",
        "similarity"
      ]
    },
    {
      "cell_type": "markdown",
      "id": "aba11c3d",
      "metadata": {
        "id": "aba11c3d"
      },
      "source": [
        "#### Concatenated"
      ]
    },
    {
      "cell_type": "code",
      "execution_count": null,
      "id": "7adb367b",
      "metadata": {
        "ExecuteTime": {
          "end_time": "2023-07-24T20:06:45.512634Z",
          "start_time": "2023-07-24T20:06:44.986067Z"
        },
        "id": "7adb367b"
      },
      "outputs": [],
      "source": [
        "from gensim.test.test_doc2vec import ConcatenatedDoc2Vec"
      ]
    },
    {
      "cell_type": "code",
      "execution_count": null,
      "id": "e52aceba",
      "metadata": {
        "ExecuteTime": {
          "end_time": "2023-07-24T20:06:45.528546Z",
          "start_time": "2023-07-24T20:06:45.516703Z"
        },
        "id": "e52aceba"
      },
      "outputs": [],
      "source": [
        "d2v_combined = ConcatenatedDoc2Vec([d2v_dbow, d2v_dm])"
      ]
    },
    {
      "cell_type": "code",
      "execution_count": null,
      "id": "943b9306",
      "metadata": {
        "ExecuteTime": {
          "end_time": "2023-07-24T20:06:45.590715Z",
          "start_time": "2023-07-24T20:06:45.534527Z"
        },
        "id": "943b9306"
      },
      "outputs": [],
      "source": [
        "similarity = 1 - cosine(d2v_combined.infer_vector(word_tokenize(X[1])),\n",
        "                        d2v_combined.infer_vector(word_tokenize(X[3])))\n",
        "similarity"
      ]
    },
    {
      "cell_type": "markdown",
      "id": "aa5b01a0",
      "metadata": {
        "id": "aa5b01a0"
      },
      "source": [
        "### Transformers"
      ]
    },
    {
      "cell_type": "markdown",
      "id": "54f9d586",
      "metadata": {
        "id": "54f9d586"
      },
      "source": [
        "* https://huggingface.co/models?pipeline_tag=sentence-similarity&language=pt&sort=trending\n",
        "* https://huggingface.co/blog/how-to-train-sentence-transformers"
      ]
    },
    {
      "cell_type": "code",
      "execution_count": null,
      "id": "33883135",
      "metadata": {
        "ExecuteTime": {
          "end_time": "2023-07-24T20:06:49.567212Z",
          "start_time": "2023-07-24T20:06:45.593705Z"
        },
        "id": "33883135"
      },
      "outputs": [],
      "source": [
        "from sentence_transformers import SentenceTransformer\n",
        "import torch"
      ]
    },
    {
      "cell_type": "code",
      "execution_count": null,
      "id": "8fc982be",
      "metadata": {
        "ExecuteTime": {
          "end_time": "2023-07-24T20:06:49.582171Z",
          "start_time": "2023-07-24T20:06:49.571288Z"
        },
        "id": "8fc982be"
      },
      "outputs": [],
      "source": [
        "# https://www.sbert.net/"
      ]
    },
    {
      "cell_type": "code",
      "execution_count": null,
      "id": "8c2dcd6c",
      "metadata": {
        "ExecuteTime": {
          "end_time": "2023-07-24T20:06:49.643168Z",
          "start_time": "2023-07-24T20:06:49.587288Z"
        },
        "id": "8c2dcd6c"
      },
      "outputs": [],
      "source": [
        "X = corpus.values.tolist()\n",
        "X = list(chain.from_iterable(X))\n",
        "X[0:2]"
      ]
    },
    {
      "cell_type": "code",
      "execution_count": null,
      "id": "f3fcc71b",
      "metadata": {
        "ExecuteTime": {
          "end_time": "2023-07-24T20:06:51.588652Z",
          "start_time": "2023-07-24T20:06:49.648168Z"
        },
        "id": "f3fcc71b"
      },
      "outputs": [],
      "source": [
        "from sentence_transformers import SentenceTransformer\n",
        "model = SentenceTransformer('all-MiniLM-L6-v2')\n",
        "#model = SentenceTransformer('Legal-BERTimbau-sts-large-ma-v3')"
      ]
    },
    {
      "cell_type": "code",
      "execution_count": null,
      "id": "fef00e4a",
      "metadata": {
        "ExecuteTime": {
          "end_time": "2023-07-24T20:08:08.482343Z",
          "start_time": "2023-07-24T20:06:51.592639Z"
        },
        "id": "fef00e4a"
      },
      "outputs": [],
      "source": [
        "#Sentences are encoded by calling model.encode()\n",
        "embeddings = model.encode(X)"
      ]
    },
    {
      "cell_type": "code",
      "execution_count": null,
      "id": "70c00909",
      "metadata": {
        "ExecuteTime": {
          "end_time": "2023-07-24T20:08:08.498393Z",
          "start_time": "2023-07-24T20:08:08.487115Z"
        },
        "id": "70c00909"
      },
      "outputs": [],
      "source": [
        "embeddings[0].shape"
      ]
    },
    {
      "cell_type": "code",
      "execution_count": null,
      "id": "1f4d70e6",
      "metadata": {
        "ExecuteTime": {
          "end_time": "2023-07-24T20:08:08.545146Z",
          "start_time": "2023-07-24T20:08:08.501383Z"
        },
        "id": "1f4d70e6"
      },
      "outputs": [],
      "source": [
        "similarity = 1 - cosine(embeddings[1],\n",
        "                        embeddings[3])\n",
        "similarity"
      ]
    },
    {
      "cell_type": "markdown",
      "id": "63f0741a",
      "metadata": {
        "id": "63f0741a"
      },
      "source": [
        "## References"
      ]
    },
    {
      "cell_type": "markdown",
      "id": "6097900e",
      "metadata": {
        "id": "6097900e"
      },
      "source": [
        "* http://hunterheidenreich.com/blog/intro-to-word-embeddings/"
      ]
    },
    {
      "cell_type": "code",
      "execution_count": null,
      "id": "c9ae3067",
      "metadata": {
        "id": "c9ae3067"
      },
      "outputs": [],
      "source": []
    }
  ],
  "metadata": {
    "kernelspec": {
      "display_name": "Python 3 (ipykernel)",
      "language": "python",
      "name": "python3"
    },
    "language_info": {
      "codemirror_mode": {
        "name": "ipython",
        "version": 3
      },
      "file_extension": ".py",
      "mimetype": "text/x-python",
      "name": "python",
      "nbconvert_exporter": "python",
      "pygments_lexer": "ipython3",
      "version": "3.10.9"
    },
    "toc": {
      "base_numbering": 1,
      "nav_menu": {},
      "number_sections": false,
      "sideBar": true,
      "skip_h1_title": false,
      "title_cell": "Table of Contents",
      "title_sidebar": "Contents",
      "toc_cell": false,
      "toc_position": {
        "height": "calc(100% - 180px)",
        "left": "10px",
        "top": "150px",
        "width": "280.775px"
      },
      "toc_section_display": true,
      "toc_window_display": true
    },
    "varInspector": {
      "cols": {
        "lenName": 16,
        "lenType": 16,
        "lenVar": 40
      },
      "kernels_config": {
        "python": {
          "delete_cmd_postfix": "",
          "delete_cmd_prefix": "del ",
          "library": "var_list.py",
          "varRefreshCmd": "print(var_dic_list())"
        },
        "r": {
          "delete_cmd_postfix": ") ",
          "delete_cmd_prefix": "rm(",
          "library": "var_list.r",
          "varRefreshCmd": "cat(var_dic_list()) "
        }
      },
      "types_to_exclude": [
        "module",
        "function",
        "builtin_function_or_method",
        "instance",
        "_Feature"
      ],
      "window_display": false
    },
    "colab": {
      "provenance": [],
      "toc_visible": true,
      "include_colab_link": true
    }
  },
  "nbformat": 4,
  "nbformat_minor": 5
}