{
  "cells": [
    {
      "cell_type": "markdown",
      "metadata": {
        "id": "view-in-github",
        "colab_type": "text"
      },
      "source": [
        "<a href=\"https://colab.research.google.com/github/rdemarqui/sentiment_analysis/blob/main/02%20Vectorization.ipynb\" target=\"_parent\"><img src=\"https://colab.research.google.com/assets/colab-badge.svg\" alt=\"Open In Colab\"/></a>"
      ]
    },
    {
      "cell_type": "markdown",
      "source": [
        "# Sentiment Analysis"
      ],
      "metadata": {
        "id": "dZpm8cGCojAP"
      },
      "id": "dZpm8cGCojAP"
    },
    {
      "cell_type": "markdown",
      "id": "bba64818",
      "metadata": {
        "id": "bba64818"
      },
      "source": [
        "# Vectorization\n",
        "---"
      ]
    },
    {
      "cell_type": "code",
      "source": [
        "seed_value = 42"
      ],
      "metadata": {
        "id": "iQnrTNjxLfl8"
      },
      "id": "iQnrTNjxLfl8",
      "execution_count": 252,
      "outputs": []
    },
    {
      "cell_type": "code",
      "execution_count": 253,
      "id": "39805500",
      "metadata": {
        "ExecuteTime": {
          "end_time": "2023-08-16T19:50:38.338557Z",
          "start_time": "2023-08-16T19:50:37.039133Z"
        },
        "id": "39805500"
      },
      "outputs": [],
      "source": [
        "import multiprocessing, os\n",
        "from sklearn.model_selection import GridSearchCV, KFold, cross_val_score\n",
        "from sklearn import metrics\n",
        "from lightgbm import LGBMClassifier\n",
        "import numpy as np\n",
        "np.random.seed(seed_value)"
      ]
    },
    {
      "cell_type": "code",
      "source": [
        "path = os.getcwd()\n",
        "path"
      ],
      "metadata": {
        "colab": {
          "base_uri": "https://localhost:8080/",
          "height": 35
        },
        "id": "yVJJ69iue9jW",
        "outputId": "6542362e-64f3-4b28-aba3-881729f4428c"
      },
      "id": "yVJJ69iue9jW",
      "execution_count": 254,
      "outputs": [
        {
          "output_type": "execute_result",
          "data": {
            "text/plain": [
              "'/content'"
            ],
            "application/vnd.google.colaboratory.intrinsic+json": {
              "type": "string"
            }
          },
          "metadata": {},
          "execution_count": 254
        }
      ]
    },
    {
      "cell_type": "code",
      "execution_count": 255,
      "id": "20c692eb",
      "metadata": {
        "ExecuteTime": {
          "end_time": "2023-08-16T19:50:38.358234Z",
          "start_time": "2023-08-16T19:50:38.341560Z"
        },
        "colab": {
          "base_uri": "https://localhost:8080/"
        },
        "id": "20c692eb",
        "outputId": "826fcd61-5a57-4e88-8af1-845ebbc97b55"
      },
      "outputs": [
        {
          "output_type": "execute_result",
          "data": {
            "text/plain": [
              "2"
            ]
          },
          "metadata": {},
          "execution_count": 255
        }
      ],
      "source": [
        "cores = multiprocessing.cpu_count()\n",
        "cores"
      ]
    },
    {
      "cell_type": "code",
      "source": [
        "def vector_method_score(X_train, y_train, X_test, y_test, n_splits=5, shuffle=True, scoring='roc_auc'):\n",
        "  # Check cross-validation score\n",
        "  kfold = KFold(n_splits=n_splits, shuffle=shuffle, random_state=seed_value)\n",
        "  model = LGBMClassifier(n_jobs=-1, verbose=-1, random_state=seed_value)\n",
        "  scores = cross_val_score(model, X_train, y_train, cv=kfold, scoring=scoring)\n",
        "  cv_score = np.round(scores, 5)\n",
        "\n",
        "  # Check test score\n",
        "  model.fit(X_train, y_train);\n",
        "  y_pred = model.predict_proba(X_test)[:,1]\n",
        "  test_score = np.round(metrics.roc_auc_score(y_test, y_pred), 5)\n",
        "\n",
        "  return cv_score, test_score"
      ],
      "metadata": {
        "id": "7MpOWiPwIQA1"
      },
      "id": "7MpOWiPwIQA1",
      "execution_count": 256,
      "outputs": []
    },
    {
      "cell_type": "code",
      "source": [
        "def pipeline(X_train, y_train, X_test, y_test, vect_function, **kwargs):\n",
        "  dict_csv_score = {}\n",
        "  dict_test_score = {}\n",
        "  for preproc_method in X_train.columns:\n",
        "    print(preproc_method)\n",
        "    X_train_vec, X_test_vec = vect_function(X_train[preproc_method], X_test[preproc_method])\n",
        "    cv_score, test_score = vector_method_score(X_train_vec, y_train, X_test_vec, y_test)\n",
        "\n",
        "    dict_csv_score[preproc_method] = cv_score\n",
        "    dict_test_score[preproc_method] = [test_score]\n",
        "\n",
        "  return dict_csv_score, dict_test_score"
      ],
      "metadata": {
        "id": "5LQT8Ke3JUx-"
      },
      "id": "5LQT8Ke3JUx-",
      "execution_count": 257,
      "outputs": []
    },
    {
      "cell_type": "markdown",
      "id": "17220a72",
      "metadata": {
        "id": "17220a72"
      },
      "source": [
        "## Dataset\n",
        "---"
      ]
    },
    {
      "cell_type": "code",
      "source": [
        "import pandas as pd\n",
        "from sklearn.model_selection import train_test_split\n",
        "from itertools import chain"
      ],
      "metadata": {
        "id": "83M1FiUCF4LQ"
      },
      "id": "83M1FiUCF4LQ",
      "execution_count": 258,
      "outputs": []
    },
    {
      "cell_type": "code",
      "source": [
        "try:\n",
        "  df = pd.read_csv(os.path.join(path, 'data\\preprocessed_corpus.zip'),\n",
        "                   sep=',', compression='zip')\n",
        "except:\n",
        "  !wget https://github.com/rdemarqui/sentiment_analysis/raw/main/data/preprocessed_corpus.zip -q\n",
        "  df = pd.read_csv(os.path.join(path, 'preprocessed_corpus.zip'),\n",
        "                   sep=',', compression='zip')"
      ],
      "metadata": {
        "id": "VSOorgW0Zh-4"
      },
      "id": "VSOorgW0Zh-4",
      "execution_count": 259,
      "outputs": []
    },
    {
      "cell_type": "code",
      "execution_count": 260,
      "id": "f773490d",
      "metadata": {
        "ExecuteTime": {
          "end_time": "2023-08-16T19:50:38.876610Z",
          "start_time": "2023-08-16T19:50:38.861358Z"
        },
        "colab": {
          "base_uri": "https://localhost:8080/"
        },
        "id": "f773490d",
        "outputId": "6b2076c0-a956-4558-cf80-4117c899712c"
      },
      "outputs": [
        {
          "output_type": "stream",
          "name": "stdout",
          "text": [
            "(113005, 7)\n"
          ]
        }
      ],
      "source": [
        "columns = ['review_text_clean', 'review_text_clean_stop', 'review_text_clean_stem',\n",
        "           'review_text_clean_stop_stem', 'review_text_clean_lemma', 'review_text_clean_stop_lemma',\n",
        "           'overall_rating']\n",
        "corpus = df[columns].copy()\n",
        "corpus['overall_rating'] = corpus['overall_rating'].apply(lambda x: 1 if x >= 4 else 0)\n",
        "corpus = corpus.dropna()\n",
        "print(corpus.shape)"
      ]
    },
    {
      "cell_type": "code",
      "source": [
        "X_train, X_test, y_train, y_test = train_test_split(corpus.iloc[:, :-1], corpus.iloc[:, -1:],\n",
        "                                                    test_size=0.2, random_state=seed_value)"
      ],
      "metadata": {
        "id": "s8cXg8GG6B6W"
      },
      "id": "s8cXg8GG6B6W",
      "execution_count": 261,
      "outputs": []
    },
    {
      "cell_type": "code",
      "source": [
        "X_train.head()"
      ],
      "metadata": {
        "colab": {
          "base_uri": "https://localhost:8080/",
          "height": 417
        },
        "id": "qz0kkZvg9ka-",
        "outputId": "081d9f0f-0f33-4fcf-efff-f669d4c4dec6"
      },
      "id": "qz0kkZvg9ka-",
      "execution_count": 262,
      "outputs": [
        {
          "output_type": "execute_result",
          "data": {
            "text/plain": [
              "                                        review_text_clean  \\\n",
              "77662   adorei produto muito pratico serviu ao propros...   \n",
              "78184   meu produto veio danificado porem nao sera mot...   \n",
              "105690  otimo produto travesseiro maravilhoso quantida...   \n",
              "96751   otima aquisicao agua geladinha fresca designer...   \n",
              "49691   produto atende corresponde as especificacoes s...   \n",
              "\n",
              "                                   review_text_clean_stop  \\\n",
              "77662   adorei produto pratico serviu proprosito prome...   \n",
              "78184   produto veio danificado porem motivo devolucao...   \n",
              "105690  otimo produto travesseiro maravilhoso quantida...   \n",
              "96751   otima aquisicao agua geladinha fresca designer...   \n",
              "49691   produto atende corresponde especificacoes cont...   \n",
              "\n",
              "                                   review_text_clean_stem  \\\n",
              "77662       ador produt muit pra serv ao proprosit promet   \n",
              "78184   meu produt vei danific por nao ser motiv par d...   \n",
              "105690  otim produt travess maravilh quant muit boa de...   \n",
              "96751   otim aquisica agu gel fresc design bonit ador ...   \n",
              "49691   produt atend correspond as especificaco sem co...   \n",
              "\n",
              "                              review_text_clean_stop_stem  \\\n",
              "77662               ador produt pra serv proprosit promet   \n",
              "78184         produt vei danific por motiv devoluca obrig   \n",
              "105690  otim produt travess maravilh quant boa pen gan...   \n",
              "96751   otim aquisica agu gel fresc design bonit ador ...   \n",
              "49691   produt atend correspond especificaco cont pen ...   \n",
              "\n",
              "                                  review_text_clean_lemma  \\\n",
              "77662   adorar produto muito pratico servir a o propro...   \n",
              "78184   meu produto vir danificar porem nao sera motiv...   \n",
              "105690  otimo produto travesseiro maravilhoso quantida...   \n",
              "96751   otimo aquisicao aguo geladinho fresco designer...   \n",
              "49691   produto atender corresponder o especificacoe s...   \n",
              "\n",
              "                             review_text_clean_stop_lemma  \n",
              "77662   adorar produto pratico servir proprosito prometer  \n",
              "78184   produto vir danificar porem motivo devolucao o...  \n",
              "105690  otimo produto travesseiro maravilhoso quantida...  \n",
              "96751   otimo aquisicao aguo geladinho fresco designer...  \n",
              "49691   produto atender corresponder especificacoes co...  "
            ],
            "text/html": [
              "\n",
              "  <div id=\"df-88049c05-88a3-4ffd-9f57-846f9b55a96b\" class=\"colab-df-container\">\n",
              "    <div>\n",
              "<style scoped>\n",
              "    .dataframe tbody tr th:only-of-type {\n",
              "        vertical-align: middle;\n",
              "    }\n",
              "\n",
              "    .dataframe tbody tr th {\n",
              "        vertical-align: top;\n",
              "    }\n",
              "\n",
              "    .dataframe thead th {\n",
              "        text-align: right;\n",
              "    }\n",
              "</style>\n",
              "<table border=\"1\" class=\"dataframe\">\n",
              "  <thead>\n",
              "    <tr style=\"text-align: right;\">\n",
              "      <th></th>\n",
              "      <th>review_text_clean</th>\n",
              "      <th>review_text_clean_stop</th>\n",
              "      <th>review_text_clean_stem</th>\n",
              "      <th>review_text_clean_stop_stem</th>\n",
              "      <th>review_text_clean_lemma</th>\n",
              "      <th>review_text_clean_stop_lemma</th>\n",
              "    </tr>\n",
              "  </thead>\n",
              "  <tbody>\n",
              "    <tr>\n",
              "      <th>77662</th>\n",
              "      <td>adorei produto muito pratico serviu ao propros...</td>\n",
              "      <td>adorei produto pratico serviu proprosito prome...</td>\n",
              "      <td>ador produt muit pra serv ao proprosit promet</td>\n",
              "      <td>ador produt pra serv proprosit promet</td>\n",
              "      <td>adorar produto muito pratico servir a o propro...</td>\n",
              "      <td>adorar produto pratico servir proprosito prometer</td>\n",
              "    </tr>\n",
              "    <tr>\n",
              "      <th>78184</th>\n",
              "      <td>meu produto veio danificado porem nao sera mot...</td>\n",
              "      <td>produto veio danificado porem motivo devolucao...</td>\n",
              "      <td>meu produt vei danific por nao ser motiv par d...</td>\n",
              "      <td>produt vei danific por motiv devoluca obrig</td>\n",
              "      <td>meu produto vir danificar porem nao sera motiv...</td>\n",
              "      <td>produto vir danificar porem motivo devolucao o...</td>\n",
              "    </tr>\n",
              "    <tr>\n",
              "      <th>105690</th>\n",
              "      <td>otimo produto travesseiro maravilhoso quantida...</td>\n",
              "      <td>otimo produto travesseiro maravilhoso quantida...</td>\n",
              "      <td>otim produt travess maravilh quant muit boa de...</td>\n",
              "      <td>otim produt travess maravilh quant boa pen gan...</td>\n",
              "      <td>otimo produto travesseiro maravilhoso quantida...</td>\n",
              "      <td>otimo produto travesseiro maravilhoso quantida...</td>\n",
              "    </tr>\n",
              "    <tr>\n",
              "      <th>96751</th>\n",
              "      <td>otima aquisicao agua geladinha fresca designer...</td>\n",
              "      <td>otima aquisicao agua geladinha fresca designer...</td>\n",
              "      <td>otim aquisica agu gel fresc design bonit ador ...</td>\n",
              "      <td>otim aquisica agu gel fresc design bonit ador ...</td>\n",
              "      <td>otimo aquisicao aguo geladinho fresco designer...</td>\n",
              "      <td>otimo aquisicao aguo geladinho fresco designer...</td>\n",
              "    </tr>\n",
              "    <tr>\n",
              "      <th>49691</th>\n",
              "      <td>produto atende corresponde as especificacoes s...</td>\n",
              "      <td>produto atende corresponde especificacoes cont...</td>\n",
              "      <td>produt atend correspond as especificaco sem co...</td>\n",
              "      <td>produt atend correspond especificaco cont pen ...</td>\n",
              "      <td>produto atender corresponder o especificacoe s...</td>\n",
              "      <td>produto atender corresponder especificacoes co...</td>\n",
              "    </tr>\n",
              "  </tbody>\n",
              "</table>\n",
              "</div>\n",
              "    <div class=\"colab-df-buttons\">\n",
              "\n",
              "  <div class=\"colab-df-container\">\n",
              "    <button class=\"colab-df-convert\" onclick=\"convertToInteractive('df-88049c05-88a3-4ffd-9f57-846f9b55a96b')\"\n",
              "            title=\"Convert this dataframe to an interactive table.\"\n",
              "            style=\"display:none;\">\n",
              "\n",
              "  <svg xmlns=\"http://www.w3.org/2000/svg\" height=\"24px\" viewBox=\"0 -960 960 960\">\n",
              "    <path d=\"M120-120v-720h720v720H120Zm60-500h600v-160H180v160Zm220 220h160v-160H400v160Zm0 220h160v-160H400v160ZM180-400h160v-160H180v160Zm440 0h160v-160H620v160ZM180-180h160v-160H180v160Zm440 0h160v-160H620v160Z\"/>\n",
              "  </svg>\n",
              "    </button>\n",
              "\n",
              "  <style>\n",
              "    .colab-df-container {\n",
              "      display:flex;\n",
              "      gap: 12px;\n",
              "    }\n",
              "\n",
              "    .colab-df-convert {\n",
              "      background-color: #E8F0FE;\n",
              "      border: none;\n",
              "      border-radius: 50%;\n",
              "      cursor: pointer;\n",
              "      display: none;\n",
              "      fill: #1967D2;\n",
              "      height: 32px;\n",
              "      padding: 0 0 0 0;\n",
              "      width: 32px;\n",
              "    }\n",
              "\n",
              "    .colab-df-convert:hover {\n",
              "      background-color: #E2EBFA;\n",
              "      box-shadow: 0px 1px 2px rgba(60, 64, 67, 0.3), 0px 1px 3px 1px rgba(60, 64, 67, 0.15);\n",
              "      fill: #174EA6;\n",
              "    }\n",
              "\n",
              "    .colab-df-buttons div {\n",
              "      margin-bottom: 4px;\n",
              "    }\n",
              "\n",
              "    [theme=dark] .colab-df-convert {\n",
              "      background-color: #3B4455;\n",
              "      fill: #D2E3FC;\n",
              "    }\n",
              "\n",
              "    [theme=dark] .colab-df-convert:hover {\n",
              "      background-color: #434B5C;\n",
              "      box-shadow: 0px 1px 3px 1px rgba(0, 0, 0, 0.15);\n",
              "      filter: drop-shadow(0px 1px 2px rgba(0, 0, 0, 0.3));\n",
              "      fill: #FFFFFF;\n",
              "    }\n",
              "  </style>\n",
              "\n",
              "    <script>\n",
              "      const buttonEl =\n",
              "        document.querySelector('#df-88049c05-88a3-4ffd-9f57-846f9b55a96b button.colab-df-convert');\n",
              "      buttonEl.style.display =\n",
              "        google.colab.kernel.accessAllowed ? 'block' : 'none';\n",
              "\n",
              "      async function convertToInteractive(key) {\n",
              "        const element = document.querySelector('#df-88049c05-88a3-4ffd-9f57-846f9b55a96b');\n",
              "        const dataTable =\n",
              "          await google.colab.kernel.invokeFunction('convertToInteractive',\n",
              "                                                    [key], {});\n",
              "        if (!dataTable) return;\n",
              "\n",
              "        const docLinkHtml = 'Like what you see? Visit the ' +\n",
              "          '<a target=\"_blank\" href=https://colab.research.google.com/notebooks/data_table.ipynb>data table notebook</a>'\n",
              "          + ' to learn more about interactive tables.';\n",
              "        element.innerHTML = '';\n",
              "        dataTable['output_type'] = 'display_data';\n",
              "        await google.colab.output.renderOutput(dataTable, element);\n",
              "        const docLink = document.createElement('div');\n",
              "        docLink.innerHTML = docLinkHtml;\n",
              "        element.appendChild(docLink);\n",
              "      }\n",
              "    </script>\n",
              "  </div>\n",
              "\n",
              "\n",
              "<div id=\"df-9cd897bf-36f9-4b60-9476-cd0ec5ce2a3f\">\n",
              "  <button class=\"colab-df-quickchart\" onclick=\"quickchart('df-9cd897bf-36f9-4b60-9476-cd0ec5ce2a3f')\"\n",
              "            title=\"Suggest charts.\"\n",
              "            style=\"display:none;\">\n",
              "\n",
              "<svg xmlns=\"http://www.w3.org/2000/svg\" height=\"24px\"viewBox=\"0 0 24 24\"\n",
              "     width=\"24px\">\n",
              "    <g>\n",
              "        <path d=\"M19 3H5c-1.1 0-2 .9-2 2v14c0 1.1.9 2 2 2h14c1.1 0 2-.9 2-2V5c0-1.1-.9-2-2-2zM9 17H7v-7h2v7zm4 0h-2V7h2v10zm4 0h-2v-4h2v4z\"/>\n",
              "    </g>\n",
              "</svg>\n",
              "  </button>\n",
              "\n",
              "<style>\n",
              "  .colab-df-quickchart {\n",
              "    background-color: #E8F0FE;\n",
              "    border: none;\n",
              "    border-radius: 50%;\n",
              "    cursor: pointer;\n",
              "    display: none;\n",
              "    fill: #1967D2;\n",
              "    height: 32px;\n",
              "    padding: 0 0 0 0;\n",
              "    width: 32px;\n",
              "  }\n",
              "\n",
              "  .colab-df-quickchart:hover {\n",
              "    background-color: #E2EBFA;\n",
              "    box-shadow: 0px 1px 2px rgba(60, 64, 67, 0.3), 0px 1px 3px 1px rgba(60, 64, 67, 0.15);\n",
              "    fill: #174EA6;\n",
              "  }\n",
              "\n",
              "  [theme=dark] .colab-df-quickchart {\n",
              "    background-color: #3B4455;\n",
              "    fill: #D2E3FC;\n",
              "  }\n",
              "\n",
              "  [theme=dark] .colab-df-quickchart:hover {\n",
              "    background-color: #434B5C;\n",
              "    box-shadow: 0px 1px 3px 1px rgba(0, 0, 0, 0.15);\n",
              "    filter: drop-shadow(0px 1px 2px rgba(0, 0, 0, 0.3));\n",
              "    fill: #FFFFFF;\n",
              "  }\n",
              "</style>\n",
              "\n",
              "  <script>\n",
              "    async function quickchart(key) {\n",
              "      const charts = await google.colab.kernel.invokeFunction(\n",
              "          'suggestCharts', [key], {});\n",
              "    }\n",
              "    (() => {\n",
              "      let quickchartButtonEl =\n",
              "        document.querySelector('#df-9cd897bf-36f9-4b60-9476-cd0ec5ce2a3f button');\n",
              "      quickchartButtonEl.style.display =\n",
              "        google.colab.kernel.accessAllowed ? 'block' : 'none';\n",
              "    })();\n",
              "  </script>\n",
              "</div>\n",
              "    </div>\n",
              "  </div>\n"
            ]
          },
          "metadata": {},
          "execution_count": 262
        }
      ]
    },
    {
      "cell_type": "code",
      "source": [
        "# Checking y proportion\n",
        "print(f'Train proportion\\n{y_train.value_counts()/y_train.shape[0]}')"
      ],
      "metadata": {
        "colab": {
          "base_uri": "https://localhost:8080/"
        },
        "id": "S579M1OV6r_r",
        "outputId": "5c513391-c357-430f-9dcd-47141c9c8368"
      },
      "id": "S579M1OV6r_r",
      "execution_count": 263,
      "outputs": [
        {
          "output_type": "stream",
          "name": "stdout",
          "text": [
            "Train proportion\n",
            "overall_rating\n",
            "1                 0.700323\n",
            "0                 0.299677\n",
            "dtype: float64\n"
          ]
        }
      ]
    },
    {
      "cell_type": "code",
      "source": [
        "X_train = X_train.astype(str)\n",
        "y_train = y_train.values.ravel()\n",
        "X_test = X_test.astype(str)\n",
        "y_test = y_test.values.ravel()"
      ],
      "metadata": {
        "id": "GuYn5oZEqW0t"
      },
      "id": "GuYn5oZEqW0t",
      "execution_count": 264,
      "outputs": []
    },
    {
      "cell_type": "code",
      "source": [
        "# Check Vocabulary size\n",
        "voc_size = {}\n",
        "for column in X_train.columns:\n",
        "  full_text = ' '.join(X_train[column].tolist())\n",
        "  words = full_text.split()\n",
        "  vocabulary = set(words)\n",
        "  voc_size[column] = len(vocabulary)\n",
        "\n",
        "df_vocabulary_size = pd.DataFrame(list(voc_size.items()), columns=['Corpus', 'Voc_size'])\n",
        "ax = df_vocabulary_size.plot.barh()\n",
        "ax.set_yticklabels(df_vocabulary_size.Corpus)\n",
        "ax.invert_yaxis();"
      ],
      "metadata": {
        "colab": {
          "base_uri": "https://localhost:8080/",
          "height": 430
        },
        "id": "mp-HFOnJ9KhV",
        "outputId": "bcdc1b53-32e6-4318-acd8-11d59fa3e5cd"
      },
      "id": "mp-HFOnJ9KhV",
      "execution_count": 265,
      "outputs": [
        {
          "output_type": "display_data",
          "data": {
            "text/plain": [
              "<Figure size 640x480 with 1 Axes>"
            ],
            "image/png": "[encoded data removed]"
          },
          "metadata": {}
        }
      ]
    },
    {
      "cell_type": "markdown",
      "id": "bdbe9969",
      "metadata": {
        "id": "bdbe9969"
      },
      "source": [
        "## Sparse\n",
        "---"
      ]
    },
    {
      "cell_type": "markdown",
      "id": "e6861466",
      "metadata": {
        "id": "e6861466"
      },
      "source": [
        "### Bag of Word\n",
        "___"
      ]
    },
    {
      "cell_type": "code",
      "execution_count": null,
      "id": "80626732",
      "metadata": {
        "ExecuteTime": {
          "end_time": "2023-07-25T17:42:46.472927Z",
          "start_time": "2023-07-25T17:42:46.429443Z"
        },
        "id": "80626732"
      },
      "outputs": [],
      "source": [
        "from sklearn.feature_extraction.text import CountVectorizer"
      ]
    },
    {
      "cell_type": "code",
      "source": [
        "def apply_bag_of_word(X_train, X_test):\n",
        "  vectorizer = CountVectorizer(lowercase=False, dtype=np.float32)\n",
        "  X_train_vec = vectorizer.fit_transform(X_train)\n",
        "  X_test_vec = vectorizer.transform(X_test)\n",
        "\n",
        "  return X_train_vec, X_test_vec"
      ],
      "metadata": {
        "id": "vUucY72sIH8v"
      },
      "id": "vUucY72sIH8v",
      "execution_count": null,
      "outputs": []
    },
    {
      "cell_type": "code",
      "source": [
        "cv_score_bow, test_score_bow = pipeline(X_train, y_train, X_test, y_test, apply_bag_of_word)"
      ],
      "metadata": {
        "colab": {
          "base_uri": "https://localhost:8080/"
        },
        "id": "O_c8ocdlMVT2",
        "outputId": "e24a7402-1b92-428b-8a37-5a6b307ddab2"
      },
      "id": "O_c8ocdlMVT2",
      "execution_count": null,
      "outputs": [
        {
          "output_type": "stream",
          "name": "stdout",
          "text": [
            "review_text_clean\n",
            "review_text_clean_stop\n",
            "review_text_clean_stem\n",
            "review_text_clean_stop_stem\n",
            "review_text_clean_lemma\n",
            "review_text_clean_stop_lemma\n"
          ]
        }
      ]
    },
    {
      "cell_type": "code",
      "source": [
        "df_cv_score_bow = pd.DataFrame(cv_score_bow).T\n",
        "df_cv_score_bow['mean'] = df_cv_score_bow.mean(axis=1)\n",
        "df_cv_score_bow"
      ],
      "metadata": {
        "id": "NoeZ34aShsYI",
        "outputId": "c282cb6c-6cb8-47c8-a67c-75a151d9060d",
        "colab": {
          "base_uri": "https://localhost:8080/",
          "height": 237
        }
      },
      "id": "NoeZ34aShsYI",
      "execution_count": null,
      "outputs": [
        {
          "output_type": "execute_result",
          "data": {
            "text/plain": [
              "                                    0        1        2        3        4  \\\n",
              "review_text_clean             0.97689  0.97546  0.97560  0.97598  0.97731   \n",
              "review_text_clean_stop        0.96859  0.96726  0.96753  0.96885  0.96975   \n",
              "review_text_clean_stem        0.97791  0.97608  0.97669  0.97667  0.97777   \n",
              "review_text_clean_stop_stem   0.97023  0.96817  0.96931  0.97071  0.97059   \n",
              "review_text_clean_lemma       0.97686  0.97540  0.97607  0.97643  0.97746   \n",
              "review_text_clean_stop_lemma  0.96857  0.96640  0.96837  0.96992  0.96926   \n",
              "\n",
              "                                  mean  \n",
              "review_text_clean             0.976248  \n",
              "review_text_clean_stop        0.968396  \n",
              "review_text_clean_stem        0.977024  \n",
              "review_text_clean_stop_stem   0.969802  \n",
              "review_text_clean_lemma       0.976444  \n",
              "review_text_clean_stop_lemma  0.968504  "
            ],
            "text/html": [
              "\n",
              "  <div id=\"df-adf6ba78-9fec-40fa-adf3-00fb84236d42\" class=\"colab-df-container\">\n",
              "    <div>\n",
              "<style scoped>\n",
              "    .dataframe tbody tr th:only-of-type {\n",
              "        vertical-align: middle;\n",
              "    }\n",
              "\n",
              "    .dataframe tbody tr th {\n",
              "        vertical-align: top;\n",
              "    }\n",
              "\n",
              "    .dataframe thead th {\n",
              "        text-align: right;\n",
              "    }\n",
              "</style>\n",
              "<table border=\"1\" class=\"dataframe\">\n",
              "  <thead>\n",
              "    <tr style=\"text-align: right;\">\n",
              "      <th></th>\n",
              "      <th>0</th>\n",
              "      <th>1</th>\n",
              "      <th>2</th>\n",
              "      <th>3</th>\n",
              "      <th>4</th>\n",
              "      <th>mean</th>\n",
              "    </tr>\n",
              "  </thead>\n",
              "  <tbody>\n",
              "    <tr>\n",
              "      <th>review_text_clean</th>\n",
              "      <td>0.97689</td>\n",
              "      <td>0.97546</td>\n",
              "      <td>0.97560</td>\n",
              "      <td>0.97598</td>\n",
              "      <td>0.97731</td>\n",
              "      <td>0.976248</td>\n",
              "    </tr>\n",
              "    <tr>\n",
              "      <th>review_text_clean_stop</th>\n",
              "      <td>0.96859</td>\n",
              "      <td>0.96726</td>\n",
              "      <td>0.96753</td>\n",
              "      <td>0.96885</td>\n",
              "      <td>0.96975</td>\n",
              "      <td>0.968396</td>\n",
              "    </tr>\n",
              "    <tr>\n",
              "      <th>review_text_clean_stem</th>\n",
              "      <td>0.97791</td>\n",
              "      <td>0.97608</td>\n",
              "      <td>0.97669</td>\n",
              "      <td>0.97667</td>\n",
              "      <td>0.97777</td>\n",
              "      <td>0.977024</td>\n",
              "    </tr>\n",
              "    <tr>\n",
              "      <th>review_text_clean_stop_stem</th>\n",
              "      <td>0.97023</td>\n",
              "      <td>0.96817</td>\n",
              "      <td>0.96931</td>\n",
              "      <td>0.97071</td>\n",
              "      <td>0.97059</td>\n",
              "      <td>0.969802</td>\n",
              "    </tr>\n",
              "    <tr>\n",
              "      <th>review_text_clean_lemma</th>\n",
              "      <td>0.97686</td>\n",
              "      <td>0.97540</td>\n",
              "      <td>0.97607</td>\n",
              "      <td>0.97643</td>\n",
              "      <td>0.97746</td>\n",
              "      <td>0.976444</td>\n",
              "    </tr>\n",
              "    <tr>\n",
              "      <th>review_text_clean_stop_lemma</th>\n",
              "      <td>0.96857</td>\n",
              "      <td>0.96640</td>\n",
              "      <td>0.96837</td>\n",
              "      <td>0.96992</td>\n",
              "      <td>0.96926</td>\n",
              "      <td>0.968504</td>\n",
              "    </tr>\n",
              "  </tbody>\n",
              "</table>\n",
              "</div>\n",
              "    <div class=\"colab-df-buttons\">\n",
              "\n",
              "  <div class=\"colab-df-container\">\n",
              "    <button class=\"colab-df-convert\" onclick=\"convertToInteractive('df-adf6ba78-9fec-40fa-adf3-00fb84236d42')\"\n",
              "            title=\"Convert this dataframe to an interactive table.\"\n",
              "            style=\"display:none;\">\n",
              "\n",
              "  <svg xmlns=\"http://www.w3.org/2000/svg\" height=\"24px\" viewBox=\"0 -960 960 960\">\n",
              "    <path d=\"M120-120v-720h720v720H120Zm60-500h600v-160H180v160Zm220 220h160v-160H400v160Zm0 220h160v-160H400v160ZM180-400h160v-160H180v160Zm440 0h160v-160H620v160ZM180-180h160v-160H180v160Zm440 0h160v-160H620v160Z\"/>\n",
              "  </svg>\n",
              "    </button>\n",
              "\n",
              "  <style>\n",
              "    .colab-df-container {\n",
              "      display:flex;\n",
              "      gap: 12px;\n",
              "    }\n",
              "\n",
              "    .colab-df-convert {\n",
              "      background-color: #E8F0FE;\n",
              "      border: none;\n",
              "      border-radius: 50%;\n",
              "      cursor: pointer;\n",
              "      display: none;\n",
              "      fill: #1967D2;\n",
              "      height: 32px;\n",
              "      padding: 0 0 0 0;\n",
              "      width: 32px;\n",
              "    }\n",
              "\n",
              "    .colab-df-convert:hover {\n",
              "      background-color: #E2EBFA;\n",
              "      box-shadow: 0px 1px 2px rgba(60, 64, 67, 0.3), 0px 1px 3px 1px rgba(60, 64, 67, 0.15);\n",
              "      fill: #174EA6;\n",
              "    }\n",
              "\n",
              "    .colab-df-buttons div {\n",
              "      margin-bottom: 4px;\n",
              "    }\n",
              "\n",
              "    [theme=dark] .colab-df-convert {\n",
              "      background-color: #3B4455;\n",
              "      fill: #D2E3FC;\n",
              "    }\n",
              "\n",
              "    [theme=dark] .colab-df-convert:hover {\n",
              "      background-color: #434B5C;\n",
              "      box-shadow: 0px 1px 3px 1px rgba(0, 0, 0, 0.15);\n",
              "      filter: drop-shadow(0px 1px 2px rgba(0, 0, 0, 0.3));\n",
              "      fill: #FFFFFF;\n",
              "    }\n",
              "  </style>\n",
              "\n",
              "    <script>\n",
              "      const buttonEl =\n",
              "        document.querySelector('#df-adf6ba78-9fec-40fa-adf3-00fb84236d42 button.colab-df-convert');\n",
              "      buttonEl.style.display =\n",
              "        google.colab.kernel.accessAllowed ? 'block' : 'none';\n",
              "\n",
              "      async function convertToInteractive(key) {\n",
              "        const element = document.querySelector('#df-adf6ba78-9fec-40fa-adf3-00fb84236d42');\n",
              "        const dataTable =\n",
              "          await google.colab.kernel.invokeFunction('convertToInteractive',\n",
              "                                                    [key], {});\n",
              "        if (!dataTable) return;\n",
              "\n",
              "        const docLinkHtml = 'Like what you see? Visit the ' +\n",
              "          '<a target=\"_blank\" href=https://colab.research.google.com/notebooks/data_table.ipynb>data table notebook</a>'\n",
              "          + ' to learn more about interactive tables.';\n",
              "        element.innerHTML = '';\n",
              "        dataTable['output_type'] = 'display_data';\n",
              "        await google.colab.output.renderOutput(dataTable, element);\n",
              "        const docLink = document.createElement('div');\n",
              "        docLink.innerHTML = docLinkHtml;\n",
              "        element.appendChild(docLink);\n",
              "      }\n",
              "    </script>\n",
              "  </div>\n",
              "\n",
              "\n",
              "<div id=\"df-c303f85e-a259-42fa-b0b3-234c1689e313\">\n",
              "  <button class=\"colab-df-quickchart\" onclick=\"quickchart('df-c303f85e-a259-42fa-b0b3-234c1689e313')\"\n",
              "            title=\"Suggest charts.\"\n",
              "            style=\"display:none;\">\n",
              "\n",
              "<svg xmlns=\"http://www.w3.org/2000/svg\" height=\"24px\"viewBox=\"0 0 24 24\"\n",
              "     width=\"24px\">\n",
              "    <g>\n",
              "        <path d=\"M19 3H5c-1.1 0-2 .9-2 2v14c0 1.1.9 2 2 2h14c1.1 0 2-.9 2-2V5c0-1.1-.9-2-2-2zM9 17H7v-7h2v7zm4 0h-2V7h2v10zm4 0h-2v-4h2v4z\"/>\n",
              "    </g>\n",
              "</svg>\n",
              "  </button>\n",
              "\n",
              "<style>\n",
              "  .colab-df-quickchart {\n",
              "    background-color: #E8F0FE;\n",
              "    border: none;\n",
              "    border-radius: 50%;\n",
              "    cursor: pointer;\n",
              "    display: none;\n",
              "    fill: #1967D2;\n",
              "    height: 32px;\n",
              "    padding: 0 0 0 0;\n",
              "    width: 32px;\n",
              "  }\n",
              "\n",
              "  .colab-df-quickchart:hover {\n",
              "    background-color: #E2EBFA;\n",
              "    box-shadow: 0px 1px 2px rgba(60, 64, 67, 0.3), 0px 1px 3px 1px rgba(60, 64, 67, 0.15);\n",
              "    fill: #174EA6;\n",
              "  }\n",
              "\n",
              "  [theme=dark] .colab-df-quickchart {\n",
              "    background-color: #3B4455;\n",
              "    fill: #D2E3FC;\n",
              "  }\n",
              "\n",
              "  [theme=dark] .colab-df-quickchart:hover {\n",
              "    background-color: #434B5C;\n",
              "    box-shadow: 0px 1px 3px 1px rgba(0, 0, 0, 0.15);\n",
              "    filter: drop-shadow(0px 1px 2px rgba(0, 0, 0, 0.3));\n",
              "    fill: #FFFFFF;\n",
              "  }\n",
              "</style>\n",
              "\n",
              "  <script>\n",
              "    async function quickchart(key) {\n",
              "      const charts = await google.colab.kernel.invokeFunction(\n",
              "          'suggestCharts', [key], {});\n",
              "    }\n",
              "    (() => {\n",
              "      let quickchartButtonEl =\n",
              "        document.querySelector('#df-c303f85e-a259-42fa-b0b3-234c1689e313 button');\n",
              "      quickchartButtonEl.style.display =\n",
              "        google.colab.kernel.accessAllowed ? 'block' : 'none';\n",
              "    })();\n",
              "  </script>\n",
              "</div>\n",
              "    </div>\n",
              "  </div>\n"
            ]
          },
          "metadata": {},
          "execution_count": 128
        }
      ]
    },
    {
      "cell_type": "markdown",
      "id": "a7567b78",
      "metadata": {
        "id": "a7567b78"
      },
      "source": [
        "### TF-IDF\n",
        "---"
      ]
    },
    {
      "cell_type": "code",
      "execution_count": null,
      "id": "69fe16a6",
      "metadata": {
        "ExecuteTime": {
          "end_time": "2023-07-25T17:42:46.842187Z",
          "start_time": "2023-07-25T17:42:46.799777Z"
        },
        "id": "69fe16a6"
      },
      "outputs": [],
      "source": [
        "from sklearn.feature_extraction.text import TfidfVectorizer"
      ]
    },
    {
      "cell_type": "code",
      "source": [
        "def apply_tf_idf(X_train, X_test):\n",
        "  vectorizer = TfidfVectorizer(lowercase=False, dtype=np.float32)\n",
        "  X_train_vec = vectorizer.fit_transform(X_train)\n",
        "  X_test_vec = vectorizer.transform(X_test)\n",
        "\n",
        "  return X_train_vec, X_test_vec"
      ],
      "metadata": {
        "id": "7Kzz9dRaIWm-"
      },
      "id": "7Kzz9dRaIWm-",
      "execution_count": null,
      "outputs": []
    },
    {
      "cell_type": "code",
      "source": [
        "cv_score_tfidf, test_score_tfidf = pipeline(X_train, y_train, X_test, y_test, apply_tf_idf)"
      ],
      "metadata": {
        "colab": {
          "base_uri": "https://localhost:8080/"
        },
        "id": "aia3UBD6I_S9",
        "outputId": "2f11ebef-b63a-493f-8e50-c4ab074ed07b"
      },
      "id": "aia3UBD6I_S9",
      "execution_count": null,
      "outputs": [
        {
          "output_type": "stream",
          "name": "stdout",
          "text": [
            "review_text_clean\n",
            "review_text_clean_stop\n",
            "review_text_clean_stem\n",
            "review_text_clean_stop_stem\n",
            "review_text_clean_lemma\n",
            "review_text_clean_stop_lemma\n"
          ]
        }
      ]
    },
    {
      "cell_type": "code",
      "source": [
        "df_cv_score_tfidf = pd.DataFrame(cv_score_tfidf).T\n",
        "df_cv_score_tfidf['mean'] = df_cv_score_tfidf.mean(axis=1)\n",
        "df_cv_score_tfidf"
      ],
      "metadata": {
        "id": "LTqbTPujgtt5",
        "outputId": "ddcf2f62-71ea-49c1-baff-7da9bcf223e9",
        "colab": {
          "base_uri": "https://localhost:8080/",
          "height": 237
        }
      },
      "id": "LTqbTPujgtt5",
      "execution_count": null,
      "outputs": [
        {
          "output_type": "execute_result",
          "data": {
            "text/plain": [
              "                                    0        1        2        3        4  \\\n",
              "review_text_clean             0.97712  0.97555  0.97601  0.97601  0.97701   \n",
              "review_text_clean_stop        0.96986  0.96756  0.96857  0.96916  0.97004   \n",
              "review_text_clean_stem        0.97829  0.97630  0.97701  0.97649  0.97738   \n",
              "review_text_clean_stop_stem   0.97148  0.96894  0.97034  0.97109  0.97077   \n",
              "review_text_clean_lemma       0.97779  0.97550  0.97651  0.97643  0.97744   \n",
              "review_text_clean_stop_lemma  0.96970  0.96726  0.96915  0.96978  0.96923   \n",
              "\n",
              "                                  mean  \n",
              "review_text_clean             0.976340  \n",
              "review_text_clean_stop        0.969038  \n",
              "review_text_clean_stem        0.977094  \n",
              "review_text_clean_stop_stem   0.970524  \n",
              "review_text_clean_lemma       0.976734  \n",
              "review_text_clean_stop_lemma  0.969024  "
            ],
            "text/html": [
              "\n",
              "  <div id=\"df-6a97c16b-5ec6-44c9-a1de-62b8939cda47\" class=\"colab-df-container\">\n",
              "    <div>\n",
              "<style scoped>\n",
              "    .dataframe tbody tr th:only-of-type {\n",
              "        vertical-align: middle;\n",
              "    }\n",
              "\n",
              "    .dataframe tbody tr th {\n",
              "        vertical-align: top;\n",
              "    }\n",
              "\n",
              "    .dataframe thead th {\n",
              "        text-align: right;\n",
              "    }\n",
              "</style>\n",
              "<table border=\"1\" class=\"dataframe\">\n",
              "  <thead>\n",
              "    <tr style=\"text-align: right;\">\n",
              "      <th></th>\n",
              "      <th>0</th>\n",
              "      <th>1</th>\n",
              "      <th>2</th>\n",
              "      <th>3</th>\n",
              "      <th>4</th>\n",
              "      <th>mean</th>\n",
              "    </tr>\n",
              "  </thead>\n",
              "  <tbody>\n",
              "    <tr>\n",
              "      <th>review_text_clean</th>\n",
              "      <td>0.97712</td>\n",
              "      <td>0.97555</td>\n",
              "      <td>0.97601</td>\n",
              "      <td>0.97601</td>\n",
              "      <td>0.97701</td>\n",
              "      <td>0.976340</td>\n",
              "    </tr>\n",
              "    <tr>\n",
              "      <th>review_text_clean_stop</th>\n",
              "      <td>0.96986</td>\n",
              "      <td>0.96756</td>\n",
              "      <td>0.96857</td>\n",
              "      <td>0.96916</td>\n",
              "      <td>0.97004</td>\n",
              "      <td>0.969038</td>\n",
              "    </tr>\n",
              "    <tr>\n",
              "      <th>review_text_clean_stem</th>\n",
              "      <td>0.97829</td>\n",
              "      <td>0.97630</td>\n",
              "      <td>0.97701</td>\n",
              "      <td>0.97649</td>\n",
              "      <td>0.97738</td>\n",
              "      <td>0.977094</td>\n",
              "    </tr>\n",
              "    <tr>\n",
              "      <th>review_text_clean_stop_stem</th>\n",
              "      <td>0.97148</td>\n",
              "      <td>0.96894</td>\n",
              "      <td>0.97034</td>\n",
              "      <td>0.97109</td>\n",
              "      <td>0.97077</td>\n",
              "      <td>0.970524</td>\n",
              "    </tr>\n",
              "    <tr>\n",
              "      <th>review_text_clean_lemma</th>\n",
              "      <td>0.97779</td>\n",
              "      <td>0.97550</td>\n",
              "      <td>0.97651</td>\n",
              "      <td>0.97643</td>\n",
              "      <td>0.97744</td>\n",
              "      <td>0.976734</td>\n",
              "    </tr>\n",
              "    <tr>\n",
              "      <th>review_text_clean_stop_lemma</th>\n",
              "      <td>0.96970</td>\n",
              "      <td>0.96726</td>\n",
              "      <td>0.96915</td>\n",
              "      <td>0.96978</td>\n",
              "      <td>0.96923</td>\n",
              "      <td>0.969024</td>\n",
              "    </tr>\n",
              "  </tbody>\n",
              "</table>\n",
              "</div>\n",
              "    <div class=\"colab-df-buttons\">\n",
              "\n",
              "  <div class=\"colab-df-container\">\n",
              "    <button class=\"colab-df-convert\" onclick=\"convertToInteractive('df-6a97c16b-5ec6-44c9-a1de-62b8939cda47')\"\n",
              "            title=\"Convert this dataframe to an interactive table.\"\n",
              "            style=\"display:none;\">\n",
              "\n",
              "  <svg xmlns=\"http://www.w3.org/2000/svg\" height=\"24px\" viewBox=\"0 -960 960 960\">\n",
              "    <path d=\"M120-120v-720h720v720H120Zm60-500h600v-160H180v160Zm220 220h160v-160H400v160Zm0 220h160v-160H400v160ZM180-400h160v-160H180v160Zm440 0h160v-160H620v160ZM180-180h160v-160H180v160Zm440 0h160v-160H620v160Z\"/>\n",
              "  </svg>\n",
              "    </button>\n",
              "\n",
              "  <style>\n",
              "    .colab-df-container {\n",
              "      display:flex;\n",
              "      gap: 12px;\n",
              "    }\n",
              "\n",
              "    .colab-df-convert {\n",
              "      background-color: #E8F0FE;\n",
              "      border: none;\n",
              "      border-radius: 50%;\n",
              "      cursor: pointer;\n",
              "      display: none;\n",
              "      fill: #1967D2;\n",
              "      height: 32px;\n",
              "      padding: 0 0 0 0;\n",
              "      width: 32px;\n",
              "    }\n",
              "\n",
              "    .colab-df-convert:hover {\n",
              "      background-color: #E2EBFA;\n",
              "      box-shadow: 0px 1px 2px rgba(60, 64, 67, 0.3), 0px 1px 3px 1px rgba(60, 64, 67, 0.15);\n",
              "      fill: #174EA6;\n",
              "    }\n",
              "\n",
              "    .colab-df-buttons div {\n",
              "      margin-bottom: 4px;\n",
              "    }\n",
              "\n",
              "    [theme=dark] .colab-df-convert {\n",
              "      background-color: #3B4455;\n",
              "      fill: #D2E3FC;\n",
              "    }\n",
              "\n",
              "    [theme=dark] .colab-df-convert:hover {\n",
              "      background-color: #434B5C;\n",
              "      box-shadow: 0px 1px 3px 1px rgba(0, 0, 0, 0.15);\n",
              "      filter: drop-shadow(0px 1px 2px rgba(0, 0, 0, 0.3));\n",
              "      fill: #FFFFFF;\n",
              "    }\n",
              "  </style>\n",
              "\n",
              "    <script>\n",
              "      const buttonEl =\n",
              "        document.querySelector('#df-6a97c16b-5ec6-44c9-a1de-62b8939cda47 button.colab-df-convert');\n",
              "      buttonEl.style.display =\n",
              "        google.colab.kernel.accessAllowed ? 'block' : 'none';\n",
              "\n",
              "      async function convertToInteractive(key) {\n",
              "        const element = document.querySelector('#df-6a97c16b-5ec6-44c9-a1de-62b8939cda47');\n",
              "        const dataTable =\n",
              "          await google.colab.kernel.invokeFunction('convertToInteractive',\n",
              "                                                    [key], {});\n",
              "        if (!dataTable) return;\n",
              "\n",
              "        const docLinkHtml = 'Like what you see? Visit the ' +\n",
              "          '<a target=\"_blank\" href=https://colab.research.google.com/notebooks/data_table.ipynb>data table notebook</a>'\n",
              "          + ' to learn more about interactive tables.';\n",
              "        element.innerHTML = '';\n",
              "        dataTable['output_type'] = 'display_data';\n",
              "        await google.colab.output.renderOutput(dataTable, element);\n",
              "        const docLink = document.createElement('div');\n",
              "        docLink.innerHTML = docLinkHtml;\n",
              "        element.appendChild(docLink);\n",
              "      }\n",
              "    </script>\n",
              "  </div>\n",
              "\n",
              "\n",
              "<div id=\"df-31be2163-06ce-4e20-905b-0966f009d231\">\n",
              "  <button class=\"colab-df-quickchart\" onclick=\"quickchart('df-31be2163-06ce-4e20-905b-0966f009d231')\"\n",
              "            title=\"Suggest charts.\"\n",
              "            style=\"display:none;\">\n",
              "\n",
              "<svg xmlns=\"http://www.w3.org/2000/svg\" height=\"24px\"viewBox=\"0 0 24 24\"\n",
              "     width=\"24px\">\n",
              "    <g>\n",
              "        <path d=\"M19 3H5c-1.1 0-2 .9-2 2v14c0 1.1.9 2 2 2h14c1.1 0 2-.9 2-2V5c0-1.1-.9-2-2-2zM9 17H7v-7h2v7zm4 0h-2V7h2v10zm4 0h-2v-4h2v4z\"/>\n",
              "    </g>\n",
              "</svg>\n",
              "  </button>\n",
              "\n",
              "<style>\n",
              "  .colab-df-quickchart {\n",
              "    background-color: #E8F0FE;\n",
              "    border: none;\n",
              "    border-radius: 50%;\n",
              "    cursor: pointer;\n",
              "    display: none;\n",
              "    fill: #1967D2;\n",
              "    height: 32px;\n",
              "    padding: 0 0 0 0;\n",
              "    width: 32px;\n",
              "  }\n",
              "\n",
              "  .colab-df-quickchart:hover {\n",
              "    background-color: #E2EBFA;\n",
              "    box-shadow: 0px 1px 2px rgba(60, 64, 67, 0.3), 0px 1px 3px 1px rgba(60, 64, 67, 0.15);\n",
              "    fill: #174EA6;\n",
              "  }\n",
              "\n",
              "  [theme=dark] .colab-df-quickchart {\n",
              "    background-color: #3B4455;\n",
              "    fill: #D2E3FC;\n",
              "  }\n",
              "\n",
              "  [theme=dark] .colab-df-quickchart:hover {\n",
              "    background-color: #434B5C;\n",
              "    box-shadow: 0px 1px 3px 1px rgba(0, 0, 0, 0.15);\n",
              "    filter: drop-shadow(0px 1px 2px rgba(0, 0, 0, 0.3));\n",
              "    fill: #FFFFFF;\n",
              "  }\n",
              "</style>\n",
              "\n",
              "  <script>\n",
              "    async function quickchart(key) {\n",
              "      const charts = await google.colab.kernel.invokeFunction(\n",
              "          'suggestCharts', [key], {});\n",
              "    }\n",
              "    (() => {\n",
              "      let quickchartButtonEl =\n",
              "        document.querySelector('#df-31be2163-06ce-4e20-905b-0966f009d231 button');\n",
              "      quickchartButtonEl.style.display =\n",
              "        google.colab.kernel.accessAllowed ? 'block' : 'none';\n",
              "    })();\n",
              "  </script>\n",
              "</div>\n",
              "    </div>\n",
              "  </div>\n"
            ]
          },
          "metadata": {},
          "execution_count": 124
        }
      ]
    },
    {
      "cell_type": "markdown",
      "id": "b27a3e58",
      "metadata": {
        "id": "b27a3e58"
      },
      "source": [
        "## Dense\n",
        "___"
      ]
    },
    {
      "cell_type": "markdown",
      "id": "b6684fad",
      "metadata": {
        "id": "b6684fad"
      },
      "source": [
        "### Word2vec\n",
        "___"
      ]
    },
    {
      "cell_type": "code",
      "execution_count": 156,
      "id": "dfc1b300",
      "metadata": {
        "ExecuteTime": {
          "end_time": "2023-07-25T17:42:47.227462Z",
          "start_time": "2023-07-25T17:42:47.184701Z"
        },
        "id": "dfc1b300"
      },
      "outputs": [],
      "source": [
        "from gensim.models import Word2Vec"
      ]
    },
    {
      "cell_type": "code",
      "source": [
        "def apply_word2vec(X_train, X_test, sg=0):\n",
        "  X_train_tokenized = [text.split() for text in X_train.values.tolist()]\n",
        "  X_test_tokenized = [text.split() for text in X_test.values.tolist()]\n",
        "\n",
        "  vectorizer = Word2Vec(vector_size=300, sg=sg, workers=cores)\n",
        "  vectorizer.build_vocab(X_train_tokenized)\n",
        "  vectorizer.train(X_train_tokenized, total_examples=vectorizer.corpus_count, epochs=1, report_delay=1)\n",
        "\n",
        "  # A random vector for OOV it's better than zeros vector, because model can learn something\n",
        "  vector_shape = vectorizer.wv[list(vectorizer.wv.key_to_index)[0]].shape\n",
        "  np.random.seed(seed_value)\n",
        "  UNK_TOKEN = np.random.rand(*vector_shape)\n",
        "\n",
        "  def get_word_vector(word):\n",
        "    return vectorizer.wv[word] if word in vectorizer.wv else UNK_TOKEN\n",
        "\n",
        "  X_train_vec = [[get_word_vector(word) for word in text] for text in X_train_tokenized]\n",
        "  X_test_vec = [[get_word_vector(word) for word in text] for text in X_test_tokenized]\n",
        "\n",
        "  # Get mean of word vectors for each text\n",
        "  X_train_vec = [np.mean(np.array(vector).T, axis=1) for vector in X_train_vec]\n",
        "  X_test_vec = [np.mean(np.array(vector).T, axis=1) for vector in X_test_vec]\n",
        "\n",
        "  return X_train_vec, X_test_vec"
      ],
      "metadata": {
        "id": "RfOHj5nSqo9b"
      },
      "id": "RfOHj5nSqo9b",
      "execution_count": 216,
      "outputs": []
    },
    {
      "cell_type": "markdown",
      "id": "0764cc79",
      "metadata": {
        "id": "0764cc79"
      },
      "source": [
        "#### CBOW - Continuous Bag of Words\n",
        "___"
      ]
    },
    {
      "cell_type": "code",
      "source": [
        "cv_score_cbow, test_score_cbow = pipeline(X_train, y_train, X_test, y_test, apply_word2vec, sg=0)"
      ],
      "metadata": {
        "id": "x1UkOpq3UShb"
      },
      "id": "x1UkOpq3UShb",
      "execution_count": null,
      "outputs": []
    },
    {
      "cell_type": "code",
      "execution_count": 219,
      "id": "3d370c0b",
      "metadata": {
        "ExecuteTime": {
          "end_time": "2023-07-25T17:42:52.832239Z",
          "start_time": "2023-07-25T17:42:52.809157Z"
        },
        "id": "3d370c0b",
        "colab": {
          "base_uri": "https://localhost:8080/",
          "height": 237
        },
        "outputId": "9dc93e38-3f91-4361-99b1-584e5b652f3c"
      },
      "outputs": [
        {
          "output_type": "execute_result",
          "data": {
            "text/plain": [
              "                                    0        1        2        3        4  \\\n",
              "review_text_clean             0.95935  0.96163  0.96179  0.96214  0.96326   \n",
              "review_text_clean_stop        0.95393  0.95202  0.95238  0.95323  0.95441   \n",
              "review_text_clean_stem        0.96474  0.96563  0.96651  0.96676  0.96808   \n",
              "review_text_clean_stop_stem   0.96103  0.95927  0.95906  0.95979  0.96110   \n",
              "review_text_clean_lemma       0.96569  0.96594  0.96696  0.96704  0.96848   \n",
              "review_text_clean_stop_lemma  0.95762  0.95566  0.95589  0.95711  0.95915   \n",
              "\n",
              "                                  mean  \n",
              "review_text_clean             0.961634  \n",
              "review_text_clean_stop        0.953194  \n",
              "review_text_clean_stem        0.966344  \n",
              "review_text_clean_stop_stem   0.960050  \n",
              "review_text_clean_lemma       0.966822  \n",
              "review_text_clean_stop_lemma  0.957086  "
            ],
            "text/html": [
              "\n",
              "  <div id=\"df-9fda8619-ec3c-4a39-bbaa-35364f1bfab1\" class=\"colab-df-container\">\n",
              "    <div>\n",
              "<style scoped>\n",
              "    .dataframe tbody tr th:only-of-type {\n",
              "        vertical-align: middle;\n",
              "    }\n",
              "\n",
              "    .dataframe tbody tr th {\n",
              "        vertical-align: top;\n",
              "    }\n",
              "\n",
              "    .dataframe thead th {\n",
              "        text-align: right;\n",
              "    }\n",
              "</style>\n",
              "<table border=\"1\" class=\"dataframe\">\n",
              "  <thead>\n",
              "    <tr style=\"text-align: right;\">\n",
              "      <th></th>\n",
              "      <th>0</th>\n",
              "      <th>1</th>\n",
              "      <th>2</th>\n",
              "      <th>3</th>\n",
              "      <th>4</th>\n",
              "      <th>mean</th>\n",
              "    </tr>\n",
              "  </thead>\n",
              "  <tbody>\n",
              "    <tr>\n",
              "      <th>review_text_clean</th>\n",
              "      <td>0.95935</td>\n",
              "      <td>0.96163</td>\n",
              "      <td>0.96179</td>\n",
              "      <td>0.96214</td>\n",
              "      <td>0.96326</td>\n",
              "      <td>0.961634</td>\n",
              "    </tr>\n",
              "    <tr>\n",
              "      <th>review_text_clean_stop</th>\n",
              "      <td>0.95393</td>\n",
              "      <td>0.95202</td>\n",
              "      <td>0.95238</td>\n",
              "      <td>0.95323</td>\n",
              "      <td>0.95441</td>\n",
              "      <td>0.953194</td>\n",
              "    </tr>\n",
              "    <tr>\n",
              "      <th>review_text_clean_stem</th>\n",
              "      <td>0.96474</td>\n",
              "      <td>0.96563</td>\n",
              "      <td>0.96651</td>\n",
              "      <td>0.96676</td>\n",
              "      <td>0.96808</td>\n",
              "      <td>0.966344</td>\n",
              "    </tr>\n",
              "    <tr>\n",
              "      <th>review_text_clean_stop_stem</th>\n",
              "      <td>0.96103</td>\n",
              "      <td>0.95927</td>\n",
              "      <td>0.95906</td>\n",
              "      <td>0.95979</td>\n",
              "      <td>0.96110</td>\n",
              "      <td>0.960050</td>\n",
              "    </tr>\n",
              "    <tr>\n",
              "      <th>review_text_clean_lemma</th>\n",
              "      <td>0.96569</td>\n",
              "      <td>0.96594</td>\n",
              "      <td>0.96696</td>\n",
              "      <td>0.96704</td>\n",
              "      <td>0.96848</td>\n",
              "      <td>0.966822</td>\n",
              "    </tr>\n",
              "    <tr>\n",
              "      <th>review_text_clean_stop_lemma</th>\n",
              "      <td>0.95762</td>\n",
              "      <td>0.95566</td>\n",
              "      <td>0.95589</td>\n",
              "      <td>0.95711</td>\n",
              "      <td>0.95915</td>\n",
              "      <td>0.957086</td>\n",
              "    </tr>\n",
              "  </tbody>\n",
              "</table>\n",
              "</div>\n",
              "    <div class=\"colab-df-buttons\">\n",
              "\n",
              "  <div class=\"colab-df-container\">\n",
              "    <button class=\"colab-df-convert\" onclick=\"convertToInteractive('df-9fda8619-ec3c-4a39-bbaa-35364f1bfab1')\"\n",
              "            title=\"Convert this dataframe to an interactive table.\"\n",
              "            style=\"display:none;\">\n",
              "\n",
              "  <svg xmlns=\"http://www.w3.org/2000/svg\" height=\"24px\" viewBox=\"0 -960 960 960\">\n",
              "    <path d=\"M120-120v-720h720v720H120Zm60-500h600v-160H180v160Zm220 220h160v-160H400v160Zm0 220h160v-160H400v160ZM180-400h160v-160H180v160Zm440 0h160v-160H620v160ZM180-180h160v-160H180v160Zm440 0h160v-160H620v160Z\"/>\n",
              "  </svg>\n",
              "    </button>\n",
              "\n",
              "  <style>\n",
              "    .colab-df-container {\n",
              "      display:flex;\n",
              "      gap: 12px;\n",
              "    }\n",
              "\n",
              "    .colab-df-convert {\n",
              "      background-color: #E8F0FE;\n",
              "      border: none;\n",
              "      border-radius: 50%;\n",
              "      cursor: pointer;\n",
              "      display: none;\n",
              "      fill: #1967D2;\n",
              "      height: 32px;\n",
              "      padding: 0 0 0 0;\n",
              "      width: 32px;\n",
              "    }\n",
              "\n",
              "    .colab-df-convert:hover {\n",
              "      background-color: #E2EBFA;\n",
              "      box-shadow: 0px 1px 2px rgba(60, 64, 67, 0.3), 0px 1px 3px 1px rgba(60, 64, 67, 0.15);\n",
              "      fill: #174EA6;\n",
              "    }\n",
              "\n",
              "    .colab-df-buttons div {\n",
              "      margin-bottom: 4px;\n",
              "    }\n",
              "\n",
              "    [theme=dark] .colab-df-convert {\n",
              "      background-color: #3B4455;\n",
              "      fill: #D2E3FC;\n",
              "    }\n",
              "\n",
              "    [theme=dark] .colab-df-convert:hover {\n",
              "      background-color: #434B5C;\n",
              "      box-shadow: 0px 1px 3px 1px rgba(0, 0, 0, 0.15);\n",
              "      filter: drop-shadow(0px 1px 2px rgba(0, 0, 0, 0.3));\n",
              "      fill: #FFFFFF;\n",
              "    }\n",
              "  </style>\n",
              "\n",
              "    <script>\n",
              "      const buttonEl =\n",
              "        document.querySelector('#df-9fda8619-ec3c-4a39-bbaa-35364f1bfab1 button.colab-df-convert');\n",
              "      buttonEl.style.display =\n",
              "        google.colab.kernel.accessAllowed ? 'block' : 'none';\n",
              "\n",
              "      async function convertToInteractive(key) {\n",
              "        const element = document.querySelector('#df-9fda8619-ec3c-4a39-bbaa-35364f1bfab1');\n",
              "        const dataTable =\n",
              "          await google.colab.kernel.invokeFunction('convertToInteractive',\n",
              "                                                    [key], {});\n",
              "        if (!dataTable) return;\n",
              "\n",
              "        const docLinkHtml = 'Like what you see? Visit the ' +\n",
              "          '<a target=\"_blank\" href=https://colab.research.google.com/notebooks/data_table.ipynb>data table notebook</a>'\n",
              "          + ' to learn more about interactive tables.';\n",
              "        element.innerHTML = '';\n",
              "        dataTable['output_type'] = 'display_data';\n",
              "        await google.colab.output.renderOutput(dataTable, element);\n",
              "        const docLink = document.createElement('div');\n",
              "        docLink.innerHTML = docLinkHtml;\n",
              "        element.appendChild(docLink);\n",
              "      }\n",
              "    </script>\n",
              "  </div>\n",
              "\n",
              "\n",
              "<div id=\"df-f53bb990-c2d8-4d06-87e4-d508347da22e\">\n",
              "  <button class=\"colab-df-quickchart\" onclick=\"quickchart('df-f53bb990-c2d8-4d06-87e4-d508347da22e')\"\n",
              "            title=\"Suggest charts.\"\n",
              "            style=\"display:none;\">\n",
              "\n",
              "<svg xmlns=\"http://www.w3.org/2000/svg\" height=\"24px\"viewBox=\"0 0 24 24\"\n",
              "     width=\"24px\">\n",
              "    <g>\n",
              "        <path d=\"M19 3H5c-1.1 0-2 .9-2 2v14c0 1.1.9 2 2 2h14c1.1 0 2-.9 2-2V5c0-1.1-.9-2-2-2zM9 17H7v-7h2v7zm4 0h-2V7h2v10zm4 0h-2v-4h2v4z\"/>\n",
              "    </g>\n",
              "</svg>\n",
              "  </button>\n",
              "\n",
              "<style>\n",
              "  .colab-df-quickchart {\n",
              "    background-color: #E8F0FE;\n",
              "    border: none;\n",
              "    border-radius: 50%;\n",
              "    cursor: pointer;\n",
              "    display: none;\n",
              "    fill: #1967D2;\n",
              "    height: 32px;\n",
              "    padding: 0 0 0 0;\n",
              "    width: 32px;\n",
              "  }\n",
              "\n",
              "  .colab-df-quickchart:hover {\n",
              "    background-color: #E2EBFA;\n",
              "    box-shadow: 0px 1px 2px rgba(60, 64, 67, 0.3), 0px 1px 3px 1px rgba(60, 64, 67, 0.15);\n",
              "    fill: #174EA6;\n",
              "  }\n",
              "\n",
              "  [theme=dark] .colab-df-quickchart {\n",
              "    background-color: #3B4455;\n",
              "    fill: #D2E3FC;\n",
              "  }\n",
              "\n",
              "  [theme=dark] .colab-df-quickchart:hover {\n",
              "    background-color: #434B5C;\n",
              "    box-shadow: 0px 1px 3px 1px rgba(0, 0, 0, 0.15);\n",
              "    filter: drop-shadow(0px 1px 2px rgba(0, 0, 0, 0.3));\n",
              "    fill: #FFFFFF;\n",
              "  }\n",
              "</style>\n",
              "\n",
              "  <script>\n",
              "    async function quickchart(key) {\n",
              "      const charts = await google.colab.kernel.invokeFunction(\n",
              "          'suggestCharts', [key], {});\n",
              "    }\n",
              "    (() => {\n",
              "      let quickchartButtonEl =\n",
              "        document.querySelector('#df-f53bb990-c2d8-4d06-87e4-d508347da22e button');\n",
              "      quickchartButtonEl.style.display =\n",
              "        google.colab.kernel.accessAllowed ? 'block' : 'none';\n",
              "    })();\n",
              "  </script>\n",
              "</div>\n",
              "    </div>\n",
              "  </div>\n"
            ]
          },
          "metadata": {},
          "execution_count": 219
        }
      ],
      "source": [
        "df_cv_score_cbow = pd.DataFrame(cv_score_cbow).T\n",
        "df_cv_score_cbow['mean'] = df_cv_score_cbow.mean(axis=1)\n",
        "df_cv_score_cbow"
      ]
    },
    {
      "cell_type": "markdown",
      "id": "7ba58812",
      "metadata": {
        "id": "7ba58812"
      },
      "source": [
        "#### SG - Skip-Gram\n",
        "___"
      ]
    },
    {
      "cell_type": "code",
      "source": [
        "cv_score_skgram, test_score_skgram = pipeline(X_train, y_train, X_test, y_test, apply_word2vec, sg=1)"
      ],
      "metadata": {
        "colab": {
          "base_uri": "https://localhost:8080/"
        },
        "id": "J3l4qOaJVYir",
        "outputId": "410511c1-93d3-40bd-8c46-b838463f823a"
      },
      "id": "J3l4qOaJVYir",
      "execution_count": 235,
      "outputs": [
        {
          "output_type": "stream",
          "name": "stdout",
          "text": [
            "review_text_clean\n",
            "review_text_clean_stop\n",
            "review_text_clean_stem\n",
            "review_text_clean_stop_stem\n",
            "review_text_clean_lemma\n",
            "review_text_clean_stop_lemma\n"
          ]
        }
      ]
    },
    {
      "cell_type": "code",
      "source": [
        "df_cv_score_skgram = pd.DataFrame(cv_score_skgram).T\n",
        "df_cv_score_skgram['mean'] = df_cv_score_skgram.mean(axis=1)\n",
        "df_cv_score_skgram"
      ],
      "metadata": {
        "colab": {
          "base_uri": "https://localhost:8080/",
          "height": 237
        },
        "id": "Ia7iz5mmWHMF",
        "outputId": "c265c7ef-ba2c-4c57-f2e2-d0f916913888"
      },
      "id": "Ia7iz5mmWHMF",
      "execution_count": 236,
      "outputs": [
        {
          "output_type": "execute_result",
          "data": {
            "text/plain": [
              "                                    0        1        2        3        4  \\\n",
              "review_text_clean             0.95959  0.96192  0.96134  0.96232  0.96350   \n",
              "review_text_clean_stop        0.95327  0.95179  0.95244  0.95345  0.95423   \n",
              "review_text_clean_stem        0.96488  0.96590  0.96648  0.96728  0.96869   \n",
              "review_text_clean_stop_stem   0.96074  0.95882  0.95897  0.95962  0.96123   \n",
              "review_text_clean_lemma       0.96513  0.96548  0.96665  0.96690  0.96820   \n",
              "review_text_clean_stop_lemma  0.95783  0.95509  0.95526  0.95574  0.95849   \n",
              "\n",
              "                                  mean  \n",
              "review_text_clean             0.961734  \n",
              "review_text_clean_stop        0.953036  \n",
              "review_text_clean_stem        0.966646  \n",
              "review_text_clean_stop_stem   0.959876  \n",
              "review_text_clean_lemma       0.966472  \n",
              "review_text_clean_stop_lemma  0.956482  "
            ],
            "text/html": [
              "\n",
              "  <div id=\"df-016b0de4-a54f-4463-9831-9454821b6bbe\" class=\"colab-df-container\">\n",
              "    <div>\n",
              "<style scoped>\n",
              "    .dataframe tbody tr th:only-of-type {\n",
              "        vertical-align: middle;\n",
              "    }\n",
              "\n",
              "    .dataframe tbody tr th {\n",
              "        vertical-align: top;\n",
              "    }\n",
              "\n",
              "    .dataframe thead th {\n",
              "        text-align: right;\n",
              "    }\n",
              "</style>\n",
              "<table border=\"1\" class=\"dataframe\">\n",
              "  <thead>\n",
              "    <tr style=\"text-align: right;\">\n",
              "      <th></th>\n",
              "      <th>0</th>\n",
              "      <th>1</th>\n",
              "      <th>2</th>\n",
              "      <th>3</th>\n",
              "      <th>4</th>\n",
              "      <th>mean</th>\n",
              "    </tr>\n",
              "  </thead>\n",
              "  <tbody>\n",
              "    <tr>\n",
              "      <th>review_text_clean</th>\n",
              "      <td>0.95959</td>\n",
              "      <td>0.96192</td>\n",
              "      <td>0.96134</td>\n",
              "      <td>0.96232</td>\n",
              "      <td>0.96350</td>\n",
              "      <td>0.961734</td>\n",
              "    </tr>\n",
              "    <tr>\n",
              "      <th>review_text_clean_stop</th>\n",
              "      <td>0.95327</td>\n",
              "      <td>0.95179</td>\n",
              "      <td>0.95244</td>\n",
              "      <td>0.95345</td>\n",
              "      <td>0.95423</td>\n",
              "      <td>0.953036</td>\n",
              "    </tr>\n",
              "    <tr>\n",
              "      <th>review_text_clean_stem</th>\n",
              "      <td>0.96488</td>\n",
              "      <td>0.96590</td>\n",
              "      <td>0.96648</td>\n",
              "      <td>0.96728</td>\n",
              "      <td>0.96869</td>\n",
              "      <td>0.966646</td>\n",
              "    </tr>\n",
              "    <tr>\n",
              "      <th>review_text_clean_stop_stem</th>\n",
              "      <td>0.96074</td>\n",
              "      <td>0.95882</td>\n",
              "      <td>0.95897</td>\n",
              "      <td>0.95962</td>\n",
              "      <td>0.96123</td>\n",
              "      <td>0.959876</td>\n",
              "    </tr>\n",
              "    <tr>\n",
              "      <th>review_text_clean_lemma</th>\n",
              "      <td>0.96513</td>\n",
              "      <td>0.96548</td>\n",
              "      <td>0.96665</td>\n",
              "      <td>0.96690</td>\n",
              "      <td>0.96820</td>\n",
              "      <td>0.966472</td>\n",
              "    </tr>\n",
              "    <tr>\n",
              "      <th>review_text_clean_stop_lemma</th>\n",
              "      <td>0.95783</td>\n",
              "      <td>0.95509</td>\n",
              "      <td>0.95526</td>\n",
              "      <td>0.95574</td>\n",
              "      <td>0.95849</td>\n",
              "      <td>0.956482</td>\n",
              "    </tr>\n",
              "  </tbody>\n",
              "</table>\n",
              "</div>\n",
              "    <div class=\"colab-df-buttons\">\n",
              "\n",
              "  <div class=\"colab-df-container\">\n",
              "    <button class=\"colab-df-convert\" onclick=\"convertToInteractive('df-016b0de4-a54f-4463-9831-9454821b6bbe')\"\n",
              "            title=\"Convert this dataframe to an interactive table.\"\n",
              "            style=\"display:none;\">\n",
              "\n",
              "  <svg xmlns=\"http://www.w3.org/2000/svg\" height=\"24px\" viewBox=\"0 -960 960 960\">\n",
              "    <path d=\"M120-120v-720h720v720H120Zm60-500h600v-160H180v160Zm220 220h160v-160H400v160Zm0 220h160v-160H400v160ZM180-400h160v-160H180v160Zm440 0h160v-160H620v160ZM180-180h160v-160H180v160Zm440 0h160v-160H620v160Z\"/>\n",
              "  </svg>\n",
              "    </button>\n",
              "\n",
              "  <style>\n",
              "    .colab-df-container {\n",
              "      display:flex;\n",
              "      gap: 12px;\n",
              "    }\n",
              "\n",
              "    .colab-df-convert {\n",
              "      background-color: #E8F0FE;\n",
              "      border: none;\n",
              "      border-radius: 50%;\n",
              "      cursor: pointer;\n",
              "      display: none;\n",
              "      fill: #1967D2;\n",
              "      height: 32px;\n",
              "      padding: 0 0 0 0;\n",
              "      width: 32px;\n",
              "    }\n",
              "\n",
              "    .colab-df-convert:hover {\n",
              "      background-color: #E2EBFA;\n",
              "      box-shadow: 0px 1px 2px rgba(60, 64, 67, 0.3), 0px 1px 3px 1px rgba(60, 64, 67, 0.15);\n",
              "      fill: #174EA6;\n",
              "    }\n",
              "\n",
              "    .colab-df-buttons div {\n",
              "      margin-bottom: 4px;\n",
              "    }\n",
              "\n",
              "    [theme=dark] .colab-df-convert {\n",
              "      background-color: #3B4455;\n",
              "      fill: #D2E3FC;\n",
              "    }\n",
              "\n",
              "    [theme=dark] .colab-df-convert:hover {\n",
              "      background-color: #434B5C;\n",
              "      box-shadow: 0px 1px 3px 1px rgba(0, 0, 0, 0.15);\n",
              "      filter: drop-shadow(0px 1px 2px rgba(0, 0, 0, 0.3));\n",
              "      fill: #FFFFFF;\n",
              "    }\n",
              "  </style>\n",
              "\n",
              "    <script>\n",
              "      const buttonEl =\n",
              "        document.querySelector('#df-016b0de4-a54f-4463-9831-9454821b6bbe button.colab-df-convert');\n",
              "      buttonEl.style.display =\n",
              "        google.colab.kernel.accessAllowed ? 'block' : 'none';\n",
              "\n",
              "      async function convertToInteractive(key) {\n",
              "        const element = document.querySelector('#df-016b0de4-a54f-4463-9831-9454821b6bbe');\n",
              "        const dataTable =\n",
              "          await google.colab.kernel.invokeFunction('convertToInteractive',\n",
              "                                                    [key], {});\n",
              "        if (!dataTable) return;\n",
              "\n",
              "        const docLinkHtml = 'Like what you see? Visit the ' +\n",
              "          '<a target=\"_blank\" href=https://colab.research.google.com/notebooks/data_table.ipynb>data table notebook</a>'\n",
              "          + ' to learn more about interactive tables.';\n",
              "        element.innerHTML = '';\n",
              "        dataTable['output_type'] = 'display_data';\n",
              "        await google.colab.output.renderOutput(dataTable, element);\n",
              "        const docLink = document.createElement('div');\n",
              "        docLink.innerHTML = docLinkHtml;\n",
              "        element.appendChild(docLink);\n",
              "      }\n",
              "    </script>\n",
              "  </div>\n",
              "\n",
              "\n",
              "<div id=\"df-ebb472f5-ea86-4ce7-b15a-20d21ba803b4\">\n",
              "  <button class=\"colab-df-quickchart\" onclick=\"quickchart('df-ebb472f5-ea86-4ce7-b15a-20d21ba803b4')\"\n",
              "            title=\"Suggest charts.\"\n",
              "            style=\"display:none;\">\n",
              "\n",
              "<svg xmlns=\"http://www.w3.org/2000/svg\" height=\"24px\"viewBox=\"0 0 24 24\"\n",
              "     width=\"24px\">\n",
              "    <g>\n",
              "        <path d=\"M19 3H5c-1.1 0-2 .9-2 2v14c0 1.1.9 2 2 2h14c1.1 0 2-.9 2-2V5c0-1.1-.9-2-2-2zM9 17H7v-7h2v7zm4 0h-2V7h2v10zm4 0h-2v-4h2v4z\"/>\n",
              "    </g>\n",
              "</svg>\n",
              "  </button>\n",
              "\n",
              "<style>\n",
              "  .colab-df-quickchart {\n",
              "    background-color: #E8F0FE;\n",
              "    border: none;\n",
              "    border-radius: 50%;\n",
              "    cursor: pointer;\n",
              "    display: none;\n",
              "    fill: #1967D2;\n",
              "    height: 32px;\n",
              "    padding: 0 0 0 0;\n",
              "    width: 32px;\n",
              "  }\n",
              "\n",
              "  .colab-df-quickchart:hover {\n",
              "    background-color: #E2EBFA;\n",
              "    box-shadow: 0px 1px 2px rgba(60, 64, 67, 0.3), 0px 1px 3px 1px rgba(60, 64, 67, 0.15);\n",
              "    fill: #174EA6;\n",
              "  }\n",
              "\n",
              "  [theme=dark] .colab-df-quickchart {\n",
              "    background-color: #3B4455;\n",
              "    fill: #D2E3FC;\n",
              "  }\n",
              "\n",
              "  [theme=dark] .colab-df-quickchart:hover {\n",
              "    background-color: #434B5C;\n",
              "    box-shadow: 0px 1px 3px 1px rgba(0, 0, 0, 0.15);\n",
              "    filter: drop-shadow(0px 1px 2px rgba(0, 0, 0, 0.3));\n",
              "    fill: #FFFFFF;\n",
              "  }\n",
              "</style>\n",
              "\n",
              "  <script>\n",
              "    async function quickchart(key) {\n",
              "      const charts = await google.colab.kernel.invokeFunction(\n",
              "          'suggestCharts', [key], {});\n",
              "    }\n",
              "    (() => {\n",
              "      let quickchartButtonEl =\n",
              "        document.querySelector('#df-ebb472f5-ea86-4ce7-b15a-20d21ba803b4 button');\n",
              "      quickchartButtonEl.style.display =\n",
              "        google.colab.kernel.accessAllowed ? 'block' : 'none';\n",
              "    })();\n",
              "  </script>\n",
              "</div>\n",
              "    </div>\n",
              "  </div>\n"
            ]
          },
          "metadata": {},
          "execution_count": 236
        }
      ]
    },
    {
      "cell_type": "markdown",
      "id": "ccf5b5fa",
      "metadata": {
        "id": "ccf5b5fa"
      },
      "source": [
        "### FastText\n",
        "___"
      ]
    },
    {
      "cell_type": "code",
      "execution_count": 237,
      "id": "d06acc07",
      "metadata": {
        "ExecuteTime": {
          "end_time": "2023-07-25T17:42:55.467814Z",
          "start_time": "2023-07-25T17:42:55.223958Z"
        },
        "id": "d06acc07"
      },
      "outputs": [],
      "source": [
        "from gensim.models import FastText"
      ]
    },
    {
      "cell_type": "code",
      "source": [
        "def apply_FastText(X_train, X_test):\n",
        "  X_train_tokenized = [text.split() for text in X_train.values.tolist()]\n",
        "  X_test_tokenized = [text.split() for text in X_test.values.tolist()]\n",
        "\n",
        "  vectorizer = FastText(vector_size=300, workers=cores)\n",
        "  vectorizer.build_vocab(X_train_tokenized)\n",
        "  vectorizer.train(X_train_tokenized, total_examples=vectorizer.corpus_count, epochs=1, report_delay=1)\n",
        "\n",
        "  # A random vector for OOV it's better than zeros vector, because model can learn something\n",
        "  vector_shape = vectorizer.wv[list(vectorizer.wv.key_to_index)[0]].shape\n",
        "  np.random.seed(seed_value)\n",
        "  UNK_TOKEN = np.random.rand(*vector_shape)\n",
        "\n",
        "  def get_word_vector(word):\n",
        "    return vectorizer.wv[word] if word in vectorizer.wv else UNK_TOKEN\n",
        "\n",
        "  X_train_vec = [[get_word_vector(word) for word in text] for text in X_train_tokenized]\n",
        "  X_test_vec = [[get_word_vector(word) for word in text] for text in X_test_tokenized]\n",
        "\n",
        "  # Get mean of word vectors for each text\n",
        "  X_train_vec = [np.mean(np.array(vector).T, axis=1) for vector in X_train_vec]\n",
        "  X_test_vec = [np.mean(np.array(vector).T, axis=1) for vector in X_test_vec]\n",
        "\n",
        "  return X_train_vec, X_test_vec"
      ],
      "metadata": {
        "id": "CyfW7dlamBTJ"
      },
      "id": "CyfW7dlamBTJ",
      "execution_count": 267,
      "outputs": []
    },
    {
      "cell_type": "code",
      "source": [
        "cv_score_FastTest, test_score_FastTest = pipeline(X_train, y_train, X_test, y_test, apply_FastText)"
      ],
      "metadata": {
        "id": "3Wn6eExUwAK3",
        "outputId": "68eed155-26c1-4516-f68d-7c6139626acc",
        "colab": {
          "base_uri": "https://localhost:8080/"
        }
      },
      "id": "3Wn6eExUwAK3",
      "execution_count": 268,
      "outputs": [
        {
          "output_type": "stream",
          "name": "stdout",
          "text": [
            "review_text_clean\n",
            "review_text_clean_stop\n",
            "review_text_clean_stem\n",
            "review_text_clean_stop_stem\n",
            "review_text_clean_lemma\n",
            "review_text_clean_stop_lemma\n"
          ]
        }
      ]
    },
    {
      "cell_type": "code",
      "source": [
        "cv_score_FastTest = pd.DataFrame(cv_score_FastTest).T\n",
        "cv_score_FastTest['mean'] = cv_score_FastTest.mean(axis=1)\n",
        "cv_score_FastTest"
      ],
      "metadata": {
        "id": "sA0H30cX0dZ5",
        "outputId": "8dd23767-1189-4213-c6b4-5d7fa3cc400d",
        "colab": {
          "base_uri": "https://localhost:8080/",
          "height": 237
        }
      },
      "id": "sA0H30cX0dZ5",
      "execution_count": 269,
      "outputs": [
        {
          "output_type": "execute_result",
          "data": {
            "text/plain": [
              "                                    0        1        2        3        4  \\\n",
              "review_text_clean             0.95435  0.95478  0.95569  0.95581  0.95713   \n",
              "review_text_clean_stop        0.95083  0.94812  0.94987  0.94853  0.95110   \n",
              "review_text_clean_stem        0.95727  0.95712  0.95849  0.95875  0.95927   \n",
              "review_text_clean_stop_stem   0.95525  0.95170  0.95397  0.95302  0.95517   \n",
              "review_text_clean_lemma       0.95779  0.95730  0.95887  0.95953  0.96155   \n",
              "review_text_clean_stop_lemma  0.95106  0.94732  0.94908  0.94871  0.95138   \n",
              "\n",
              "                                  mean  \n",
              "review_text_clean             0.955552  \n",
              "review_text_clean_stop        0.949690  \n",
              "review_text_clean_stem        0.958180  \n",
              "review_text_clean_stop_stem   0.953822  \n",
              "review_text_clean_lemma       0.959008  \n",
              "review_text_clean_stop_lemma  0.949510  "
            ],
            "text/html": [
              "\n",
              "  <div id=\"df-827118dd-a7a5-4b7f-8a9b-233e3bc09baf\" class=\"colab-df-container\">\n",
              "    <div>\n",
              "<style scoped>\n",
              "    .dataframe tbody tr th:only-of-type {\n",
              "        vertical-align: middle;\n",
              "    }\n",
              "\n",
              "    .dataframe tbody tr th {\n",
              "        vertical-align: top;\n",
              "    }\n",
              "\n",
              "    .dataframe thead th {\n",
              "        text-align: right;\n",
              "    }\n",
              "</style>\n",
              "<table border=\"1\" class=\"dataframe\">\n",
              "  <thead>\n",
              "    <tr style=\"text-align: right;\">\n",
              "      <th></th>\n",
              "      <th>0</th>\n",
              "      <th>1</th>\n",
              "      <th>2</th>\n",
              "      <th>3</th>\n",
              "      <th>4</th>\n",
              "      <th>mean</th>\n",
              "    </tr>\n",
              "  </thead>\n",
              "  <tbody>\n",
              "    <tr>\n",
              "      <th>review_text_clean</th>\n",
              "      <td>0.95435</td>\n",
              "      <td>0.95478</td>\n",
              "      <td>0.95569</td>\n",
              "      <td>0.95581</td>\n",
              "      <td>0.95713</td>\n",
              "      <td>0.955552</td>\n",
              "    </tr>\n",
              "    <tr>\n",
              "      <th>review_text_clean_stop</th>\n",
              "      <td>0.95083</td>\n",
              "      <td>0.94812</td>\n",
              "      <td>0.94987</td>\n",
              "      <td>0.94853</td>\n",
              "      <td>0.95110</td>\n",
              "      <td>0.949690</td>\n",
              "    </tr>\n",
              "    <tr>\n",
              "      <th>review_text_clean_stem</th>\n",
              "      <td>0.95727</td>\n",
              "      <td>0.95712</td>\n",
              "      <td>0.95849</td>\n",
              "      <td>0.95875</td>\n",
              "      <td>0.95927</td>\n",
              "      <td>0.958180</td>\n",
              "    </tr>\n",
              "    <tr>\n",
              "      <th>review_text_clean_stop_stem</th>\n",
              "      <td>0.95525</td>\n",
              "      <td>0.95170</td>\n",
              "      <td>0.95397</td>\n",
              "      <td>0.95302</td>\n",
              "      <td>0.95517</td>\n",
              "      <td>0.953822</td>\n",
              "    </tr>\n",
              "    <tr>\n",
              "      <th>review_text_clean_lemma</th>\n",
              "      <td>0.95779</td>\n",
              "      <td>0.95730</td>\n",
              "      <td>0.95887</td>\n",
              "      <td>0.95953</td>\n",
              "      <td>0.96155</td>\n",
              "      <td>0.959008</td>\n",
              "    </tr>\n",
              "    <tr>\n",
              "      <th>review_text_clean_stop_lemma</th>\n",
              "      <td>0.95106</td>\n",
              "      <td>0.94732</td>\n",
              "      <td>0.94908</td>\n",
              "      <td>0.94871</td>\n",
              "      <td>0.95138</td>\n",
              "      <td>0.949510</td>\n",
              "    </tr>\n",
              "  </tbody>\n",
              "</table>\n",
              "</div>\n",
              "    <div class=\"colab-df-buttons\">\n",
              "\n",
              "  <div class=\"colab-df-container\">\n",
              "    <button class=\"colab-df-convert\" onclick=\"convertToInteractive('df-827118dd-a7a5-4b7f-8a9b-233e3bc09baf')\"\n",
              "            title=\"Convert this dataframe to an interactive table.\"\n",
              "            style=\"display:none;\">\n",
              "\n",
              "  <svg xmlns=\"http://www.w3.org/2000/svg\" height=\"24px\" viewBox=\"0 -960 960 960\">\n",
              "    <path d=\"M120-120v-720h720v720H120Zm60-500h600v-160H180v160Zm220 220h160v-160H400v160Zm0 220h160v-160H400v160ZM180-400h160v-160H180v160Zm440 0h160v-160H620v160ZM180-180h160v-160H180v160Zm440 0h160v-160H620v160Z\"/>\n",
              "  </svg>\n",
              "    </button>\n",
              "\n",
              "  <style>\n",
              "    .colab-df-container {\n",
              "      display:flex;\n",
              "      gap: 12px;\n",
              "    }\n",
              "\n",
              "    .colab-df-convert {\n",
              "      background-color: #E8F0FE;\n",
              "      border: none;\n",
              "      border-radius: 50%;\n",
              "      cursor: pointer;\n",
              "      display: none;\n",
              "      fill: #1967D2;\n",
              "      height: 32px;\n",
              "      padding: 0 0 0 0;\n",
              "      width: 32px;\n",
              "    }\n",
              "\n",
              "    .colab-df-convert:hover {\n",
              "      background-color: #E2EBFA;\n",
              "      box-shadow: 0px 1px 2px rgba(60, 64, 67, 0.3), 0px 1px 3px 1px rgba(60, 64, 67, 0.15);\n",
              "      fill: #174EA6;\n",
              "    }\n",
              "\n",
              "    .colab-df-buttons div {\n",
              "      margin-bottom: 4px;\n",
              "    }\n",
              "\n",
              "    [theme=dark] .colab-df-convert {\n",
              "      background-color: #3B4455;\n",
              "      fill: #D2E3FC;\n",
              "    }\n",
              "\n",
              "    [theme=dark] .colab-df-convert:hover {\n",
              "      background-color: #434B5C;\n",
              "      box-shadow: 0px 1px 3px 1px rgba(0, 0, 0, 0.15);\n",
              "      filter: drop-shadow(0px 1px 2px rgba(0, 0, 0, 0.3));\n",
              "      fill: #FFFFFF;\n",
              "    }\n",
              "  </style>\n",
              "\n",
              "    <script>\n",
              "      const buttonEl =\n",
              "        document.querySelector('#df-827118dd-a7a5-4b7f-8a9b-233e3bc09baf button.colab-df-convert');\n",
              "      buttonEl.style.display =\n",
              "        google.colab.kernel.accessAllowed ? 'block' : 'none';\n",
              "\n",
              "      async function convertToInteractive(key) {\n",
              "        const element = document.querySelector('#df-827118dd-a7a5-4b7f-8a9b-233e3bc09baf');\n",
              "        const dataTable =\n",
              "          await google.colab.kernel.invokeFunction('convertToInteractive',\n",
              "                                                    [key], {});\n",
              "        if (!dataTable) return;\n",
              "\n",
              "        const docLinkHtml = 'Like what you see? Visit the ' +\n",
              "          '<a target=\"_blank\" href=https://colab.research.google.com/notebooks/data_table.ipynb>data table notebook</a>'\n",
              "          + ' to learn more about interactive tables.';\n",
              "        element.innerHTML = '';\n",
              "        dataTable['output_type'] = 'display_data';\n",
              "        await google.colab.output.renderOutput(dataTable, element);\n",
              "        const docLink = document.createElement('div');\n",
              "        docLink.innerHTML = docLinkHtml;\n",
              "        element.appendChild(docLink);\n",
              "      }\n",
              "    </script>\n",
              "  </div>\n",
              "\n",
              "\n",
              "<div id=\"df-643cd176-2ab8-44f3-8b9d-dd275ba5e6fb\">\n",
              "  <button class=\"colab-df-quickchart\" onclick=\"quickchart('df-643cd176-2ab8-44f3-8b9d-dd275ba5e6fb')\"\n",
              "            title=\"Suggest charts.\"\n",
              "            style=\"display:none;\">\n",
              "\n",
              "<svg xmlns=\"http://www.w3.org/2000/svg\" height=\"24px\"viewBox=\"0 0 24 24\"\n",
              "     width=\"24px\">\n",
              "    <g>\n",
              "        <path d=\"M19 3H5c-1.1 0-2 .9-2 2v14c0 1.1.9 2 2 2h14c1.1 0 2-.9 2-2V5c0-1.1-.9-2-2-2zM9 17H7v-7h2v7zm4 0h-2V7h2v10zm4 0h-2v-4h2v4z\"/>\n",
              "    </g>\n",
              "</svg>\n",
              "  </button>\n",
              "\n",
              "<style>\n",
              "  .colab-df-quickchart {\n",
              "    background-color: #E8F0FE;\n",
              "    border: none;\n",
              "    border-radius: 50%;\n",
              "    cursor: pointer;\n",
              "    display: none;\n",
              "    fill: #1967D2;\n",
              "    height: 32px;\n",
              "    padding: 0 0 0 0;\n",
              "    width: 32px;\n",
              "  }\n",
              "\n",
              "  .colab-df-quickchart:hover {\n",
              "    background-color: #E2EBFA;\n",
              "    box-shadow: 0px 1px 2px rgba(60, 64, 67, 0.3), 0px 1px 3px 1px rgba(60, 64, 67, 0.15);\n",
              "    fill: #174EA6;\n",
              "  }\n",
              "\n",
              "  [theme=dark] .colab-df-quickchart {\n",
              "    background-color: #3B4455;\n",
              "    fill: #D2E3FC;\n",
              "  }\n",
              "\n",
              "  [theme=dark] .colab-df-quickchart:hover {\n",
              "    background-color: #434B5C;\n",
              "    box-shadow: 0px 1px 3px 1px rgba(0, 0, 0, 0.15);\n",
              "    filter: drop-shadow(0px 1px 2px rgba(0, 0, 0, 0.3));\n",
              "    fill: #FFFFFF;\n",
              "  }\n",
              "</style>\n",
              "\n",
              "  <script>\n",
              "    async function quickchart(key) {\n",
              "      const charts = await google.colab.kernel.invokeFunction(\n",
              "          'suggestCharts', [key], {});\n",
              "    }\n",
              "    (() => {\n",
              "      let quickchartButtonEl =\n",
              "        document.querySelector('#df-643cd176-2ab8-44f3-8b9d-dd275ba5e6fb button');\n",
              "      quickchartButtonEl.style.display =\n",
              "        google.colab.kernel.accessAllowed ? 'block' : 'none';\n",
              "    })();\n",
              "  </script>\n",
              "</div>\n",
              "    </div>\n",
              "  </div>\n"
            ]
          },
          "metadata": {},
          "execution_count": 269
        }
      ]
    },
    {
      "cell_type": "markdown",
      "id": "02444b2c",
      "metadata": {
        "id": "02444b2c"
      },
      "source": [
        "### Doc2Vec\n",
        "___"
      ]
    },
    {
      "cell_type": "markdown",
      "id": "8edbc256",
      "metadata": {
        "id": "8edbc256"
      },
      "source": [
        "* https://medium.com/wisio/a-gentle-introduction-to-doc2vec-db3e8c0cce5e\n",
        "* https://aitechtrend.com/doc2vec-made-easy-a-step-by-step-guide-to-gensim-implementation/"
      ]
    },
    {
      "cell_type": "code",
      "execution_count": null,
      "id": "f4c71a6b",
      "metadata": {
        "ExecuteTime": {
          "end_time": "2023-07-24T20:05:35.982840Z",
          "start_time": "2023-07-24T20:05:35.910763Z"
        },
        "id": "f4c71a6b"
      },
      "outputs": [],
      "source": [
        "from gensim.models.doc2vec import TaggedDocument\n",
        "from gensim.models import Doc2Vec\n",
        "from nltk.tokenize import word_tokenize"
      ]
    },
    {
      "cell_type": "code",
      "execution_count": null,
      "id": "34ffa98d",
      "metadata": {
        "ExecuteTime": {
          "end_time": "2023-07-24T20:05:38.167691Z",
          "start_time": "2023-07-24T20:05:35.987447Z"
        },
        "id": "34ffa98d"
      },
      "outputs": [],
      "source": [
        "X = corpus.values.tolist()\n",
        "X = list(chain.from_iterable(X))\n",
        "\n",
        "tagged_docs = [TaggedDocument(words=word_tokenize(doc), tags=[str(i)]) for i, doc in enumerate(X)]\n",
        "tagged_docs[:4]"
      ]
    },
    {
      "cell_type": "markdown",
      "id": "18672e00",
      "metadata": {
        "id": "18672e00"
      },
      "source": [
        "#### DBOW - Distributed Bag of Words\n",
        "___"
      ]
    },
    {
      "cell_type": "code",
      "execution_count": null,
      "id": "0c41bc72",
      "metadata": {
        "ExecuteTime": {
          "end_time": "2023-07-24T20:05:38.198743Z",
          "start_time": "2023-07-24T20:05:38.176185Z"
        },
        "id": "0c41bc72"
      },
      "outputs": [],
      "source": [
        "d2v_dbow = Doc2Vec(dm=0,\n",
        "                   vector_size=300,\n",
        "                   negative=5,\n",
        "                   hs=0,\n",
        "                   min_count=2,\n",
        "                   sample=0,\n",
        "                   workers=cores)"
      ]
    },
    {
      "cell_type": "code",
      "execution_count": null,
      "id": "22cd3096",
      "metadata": {
        "ExecuteTime": {
          "end_time": "2023-07-24T20:05:38.527732Z",
          "start_time": "2023-07-24T20:05:38.201620Z"
        },
        "id": "22cd3096"
      },
      "outputs": [],
      "source": [
        "d2v_dbow.build_vocab(tagged_docs)"
      ]
    },
    {
      "cell_type": "code",
      "execution_count": null,
      "id": "8a3c8ebc",
      "metadata": {
        "ExecuteTime": {
          "end_time": "2023-07-24T20:06:00.524589Z",
          "start_time": "2023-07-24T20:05:38.531211Z"
        },
        "id": "8a3c8ebc"
      },
      "outputs": [],
      "source": [
        "d2v_dbow.train(tagged_docs, total_examples=d2v_dbow.corpus_count, epochs=50)"
      ]
    },
    {
      "cell_type": "code",
      "execution_count": null,
      "id": "50d0fd8c",
      "metadata": {
        "ExecuteTime": {
          "end_time": "2023-07-24T20:06:00.540348Z",
          "start_time": "2023-07-24T20:06:00.525624Z"
        },
        "id": "50d0fd8c"
      },
      "outputs": [],
      "source": [
        "similarity = 1 - cosine(d2v_dbow.infer_vector(word_tokenize(X[1])),\n",
        "                        d2v_dbow.infer_vector(word_tokenize(X[3])))\n",
        "similarity"
      ]
    },
    {
      "cell_type": "markdown",
      "id": "13d6ea4e",
      "metadata": {
        "id": "13d6ea4e"
      },
      "source": [
        "#### DM - Distributed Memory\n",
        "___"
      ]
    },
    {
      "cell_type": "code",
      "execution_count": null,
      "id": "ce08a57c",
      "metadata": {
        "ExecuteTime": {
          "end_time": "2023-07-24T20:06:00.601301Z",
          "start_time": "2023-07-24T20:06:00.545255Z"
        },
        "id": "ce08a57c"
      },
      "outputs": [],
      "source": [
        "# 0.025\n",
        "d2v_dm = Doc2Vec(dm=1,\n",
        "                 vector_size=300,\n",
        "                 negative=5,\n",
        "                 hs=0,\n",
        "                 min_count=2,\n",
        "                 sample=0,\n",
        "                 workers=cores)"
      ]
    },
    {
      "cell_type": "code",
      "execution_count": null,
      "id": "799a094a",
      "metadata": {
        "ExecuteTime": {
          "end_time": "2023-07-24T20:06:00.867876Z",
          "start_time": "2023-07-24T20:06:00.604996Z"
        },
        "id": "799a094a"
      },
      "outputs": [],
      "source": [
        "d2v_dm.build_vocab(tagged_docs)"
      ]
    },
    {
      "cell_type": "code",
      "execution_count": null,
      "id": "d0ae5193",
      "metadata": {
        "ExecuteTime": {
          "end_time": "2023-07-24T20:06:44.950155Z",
          "start_time": "2023-07-24T20:06:00.870893Z"
        },
        "id": "d0ae5193"
      },
      "outputs": [],
      "source": [
        "d2v_dm.train(tagged_docs, total_examples=d2v_dm.corpus_count, epochs=50)"
      ]
    },
    {
      "cell_type": "code",
      "execution_count": null,
      "id": "85147b22",
      "metadata": {
        "ExecuteTime": {
          "end_time": "2023-07-24T20:06:44.981587Z",
          "start_time": "2023-07-24T20:06:44.954189Z"
        },
        "id": "85147b22"
      },
      "outputs": [],
      "source": [
        "similarity = 1 - cosine(d2v_dm.infer_vector(word_tokenize(X[1])),\n",
        "                        d2v_dm.infer_vector(word_tokenize(X[3])))\n",
        "similarity"
      ]
    },
    {
      "cell_type": "markdown",
      "id": "aba11c3d",
      "metadata": {
        "id": "aba11c3d"
      },
      "source": [
        "#### Concatenated\n",
        "___"
      ]
    },
    {
      "cell_type": "code",
      "execution_count": null,
      "id": "7adb367b",
      "metadata": {
        "ExecuteTime": {
          "end_time": "2023-07-24T20:06:45.512634Z",
          "start_time": "2023-07-24T20:06:44.986067Z"
        },
        "id": "7adb367b"
      },
      "outputs": [],
      "source": [
        "from gensim.test.test_doc2vec import ConcatenatedDoc2Vec"
      ]
    },
    {
      "cell_type": "code",
      "execution_count": null,
      "id": "e52aceba",
      "metadata": {
        "ExecuteTime": {
          "end_time": "2023-07-24T20:06:45.528546Z",
          "start_time": "2023-07-24T20:06:45.516703Z"
        },
        "id": "e52aceba"
      },
      "outputs": [],
      "source": [
        "d2v_combined = ConcatenatedDoc2Vec([d2v_dbow, d2v_dm])"
      ]
    },
    {
      "cell_type": "code",
      "execution_count": null,
      "id": "943b9306",
      "metadata": {
        "ExecuteTime": {
          "end_time": "2023-07-24T20:06:45.590715Z",
          "start_time": "2023-07-24T20:06:45.534527Z"
        },
        "id": "943b9306"
      },
      "outputs": [],
      "source": [
        "similarity = 1 - cosine(d2v_combined.infer_vector(word_tokenize(X[1])),\n",
        "                        d2v_combined.infer_vector(word_tokenize(X[3])))\n",
        "similarity"
      ]
    },
    {
      "cell_type": "markdown",
      "id": "aa5b01a0",
      "metadata": {
        "id": "aa5b01a0"
      },
      "source": [
        "### Transformers\n",
        "___"
      ]
    },
    {
      "cell_type": "markdown",
      "id": "54f9d586",
      "metadata": {
        "id": "54f9d586"
      },
      "source": [
        "* https://huggingface.co/models?pipeline_tag=sentence-similarity&language=pt&sort=trending\n",
        "* https://huggingface.co/blog/how-to-train-sentence-transformers"
      ]
    },
    {
      "cell_type": "code",
      "execution_count": null,
      "id": "33883135",
      "metadata": {
        "ExecuteTime": {
          "end_time": "2023-07-24T20:06:49.567212Z",
          "start_time": "2023-07-24T20:06:45.593705Z"
        },
        "id": "33883135"
      },
      "outputs": [],
      "source": [
        "from sentence_transformers import SentenceTransformer\n",
        "import torch"
      ]
    },
    {
      "cell_type": "code",
      "execution_count": null,
      "id": "8fc982be",
      "metadata": {
        "ExecuteTime": {
          "end_time": "2023-07-24T20:06:49.582171Z",
          "start_time": "2023-07-24T20:06:49.571288Z"
        },
        "id": "8fc982be"
      },
      "outputs": [],
      "source": [
        "# https://www.sbert.net/"
      ]
    },
    {
      "cell_type": "code",
      "execution_count": null,
      "id": "8c2dcd6c",
      "metadata": {
        "ExecuteTime": {
          "end_time": "2023-07-24T20:06:49.643168Z",
          "start_time": "2023-07-24T20:06:49.587288Z"
        },
        "id": "8c2dcd6c"
      },
      "outputs": [],
      "source": [
        "X = corpus.values.tolist()\n",
        "X = list(chain.from_iterable(X))\n",
        "X[0:2]"
      ]
    },
    {
      "cell_type": "code",
      "execution_count": null,
      "id": "f3fcc71b",
      "metadata": {
        "ExecuteTime": {
          "end_time": "2023-07-24T20:06:51.588652Z",
          "start_time": "2023-07-24T20:06:49.648168Z"
        },
        "id": "f3fcc71b"
      },
      "outputs": [],
      "source": [
        "from sentence_transformers import SentenceTransformer\n",
        "model = SentenceTransformer('all-MiniLM-L6-v2')\n",
        "#model = SentenceTransformer('Legal-BERTimbau-sts-large-ma-v3')"
      ]
    },
    {
      "cell_type": "code",
      "execution_count": null,
      "id": "fef00e4a",
      "metadata": {
        "ExecuteTime": {
          "end_time": "2023-07-24T20:08:08.482343Z",
          "start_time": "2023-07-24T20:06:51.592639Z"
        },
        "id": "fef00e4a"
      },
      "outputs": [],
      "source": [
        "#Sentences are encoded by calling model.encode()\n",
        "embeddings = model.encode(X)"
      ]
    },
    {
      "cell_type": "code",
      "execution_count": null,
      "id": "70c00909",
      "metadata": {
        "ExecuteTime": {
          "end_time": "2023-07-24T20:08:08.498393Z",
          "start_time": "2023-07-24T20:08:08.487115Z"
        },
        "id": "70c00909"
      },
      "outputs": [],
      "source": [
        "embeddings[0].shape"
      ]
    },
    {
      "cell_type": "code",
      "execution_count": null,
      "id": "1f4d70e6",
      "metadata": {
        "ExecuteTime": {
          "end_time": "2023-07-24T20:08:08.545146Z",
          "start_time": "2023-07-24T20:08:08.501383Z"
        },
        "id": "1f4d70e6"
      },
      "outputs": [],
      "source": [
        "similarity = 1 - cosine(embeddings[1],\n",
        "                        embeddings[3])\n",
        "similarity"
      ]
    },
    {
      "cell_type": "markdown",
      "id": "63f0741a",
      "metadata": {
        "id": "63f0741a"
      },
      "source": [
        "## References"
      ]
    },
    {
      "cell_type": "markdown",
      "id": "6097900e",
      "metadata": {
        "id": "6097900e"
      },
      "source": [
        "* http://hunterheidenreich.com/blog/intro-to-word-embeddings/"
      ]
    },
    {
      "cell_type": "code",
      "execution_count": null,
      "id": "c9ae3067",
      "metadata": {
        "id": "c9ae3067"
      },
      "outputs": [],
      "source": []
    }
  ],
  "metadata": {
    "kernelspec": {
      "display_name": "Python 3 (ipykernel)",
      "language": "python",
      "name": "python3"
    },
    "language_info": {
      "codemirror_mode": {
        "name": "ipython",
        "version": 3
      },
      "file_extension": ".py",
      "mimetype": "text/x-python",
      "name": "python",
      "nbconvert_exporter": "python",
      "pygments_lexer": "ipython3",
      "version": "3.10.9"
    },
    "toc": {
      "base_numbering": 1,
      "nav_menu": {},
      "number_sections": false,
      "sideBar": true,
      "skip_h1_title": false,
      "title_cell": "Table of Contents",
      "title_sidebar": "Contents",
      "toc_cell": false,
      "toc_position": {
        "height": "calc(100% - 180px)",
        "left": "10px",
        "top": "150px",
        "width": "280.775px"
      },
      "toc_section_display": true,
      "toc_window_display": true
    },
    "varInspector": {
      "cols": {
        "lenName": 16,
        "lenType": 16,
        "lenVar": 40
      },
      "kernels_config": {
        "python": {
          "delete_cmd_postfix": "",
          "delete_cmd_prefix": "del ",
          "library": "var_list.py",
          "varRefreshCmd": "print(var_dic_list())"
        },
        "r": {
          "delete_cmd_postfix": ") ",
          "delete_cmd_prefix": "rm(",
          "library": "var_list.r",
          "varRefreshCmd": "cat(var_dic_list()) "
        }
      },
      "types_to_exclude": [
        "module",
        "function",
        "builtin_function_or_method",
        "instance",
        "_Feature"
      ],
      "window_display": false
    },
    "colab": {
      "provenance": [],
      "toc_visible": true,
      "include_colab_link": true
    }
  },
  "nbformat": 4,
  "nbformat_minor": 5
}