{
  "cells": [
    {
      "cell_type": "markdown",
      "metadata": {
        "id": "view-in-github",
        "colab_type": "text"
      },
      "source": [
        "<a href=\"https://colab.research.google.com/github/rdemarqui/sentiment_analysis/blob/main/02%20Vectorization.ipynb\" target=\"_parent\"><img src=\"https://colab.research.google.com/assets/colab-badge.svg\" alt=\"Open In Colab\"/></a>"
      ]
    },
    {
      "cell_type": "markdown",
      "source": [
        "# Sentiment Analysis\n",
        "## Vectorization"
      ],
      "metadata": {
        "id": "dZpm8cGCojAP"
      },
      "id": "dZpm8cGCojAP"
    },
    {
      "cell_type": "code",
      "source": [
        "seed_value = 42"
      ],
      "metadata": {
        "id": "iQnrTNjxLfl8"
      },
      "id": "iQnrTNjxLfl8",
      "execution_count": 1,
      "outputs": []
    },
    {
      "cell_type": "code",
      "execution_count": 2,
      "id": "39805500",
      "metadata": {
        "ExecuteTime": {
          "end_time": "2023-08-16T19:50:38.338557Z",
          "start_time": "2023-08-16T19:50:37.039133Z"
        },
        "id": "39805500"
      },
      "outputs": [],
      "source": [
        "import multiprocessing, os, time\n",
        "from sklearn.model_selection import GridSearchCV, KFold, cross_val_score\n",
        "from sklearn import metrics\n",
        "from lightgbm import LGBMClassifier\n",
        "import numpy as np\n",
        "import matplotlib.pyplot as plt\n",
        "import seaborn as sns\n",
        "sns.set(style=\"whitegrid\")\n",
        "np.random.seed(seed_value)"
      ]
    },
    {
      "cell_type": "code",
      "source": [
        "path = os.getcwd()\n",
        "path"
      ],
      "metadata": {
        "colab": {
          "base_uri": "https://localhost:8080/",
          "height": 35
        },
        "id": "yVJJ69iue9jW",
        "outputId": "6653668a-bd6d-43ef-8376-c89567cd4d9b"
      },
      "id": "yVJJ69iue9jW",
      "execution_count": 3,
      "outputs": [
        {
          "output_type": "execute_result",
          "data": {
            "text/plain": [
              "'/content'"
            ],
            "application/vnd.google.colaboratory.intrinsic+json": {
              "type": "string"
            }
          },
          "metadata": {},
          "execution_count": 3
        }
      ]
    },
    {
      "cell_type": "code",
      "execution_count": 4,
      "id": "20c692eb",
      "metadata": {
        "ExecuteTime": {
          "end_time": "2023-08-16T19:50:38.358234Z",
          "start_time": "2023-08-16T19:50:38.341560Z"
        },
        "colab": {
          "base_uri": "https://localhost:8080/"
        },
        "id": "20c692eb",
        "outputId": "e8eeab5e-babb-48a3-b5ab-14e19dc8afa2"
      },
      "outputs": [
        {
          "output_type": "execute_result",
          "data": {
            "text/plain": [
              "2"
            ]
          },
          "metadata": {},
          "execution_count": 4
        }
      ],
      "source": [
        "cores = multiprocessing.cpu_count()\n",
        "cores"
      ]
    },
    {
      "cell_type": "code",
      "source": [
        "def vector_method_score(X_train, y_train, X_test, y_test, n_splits=5, shuffle=True, scoring='roc_auc'):\n",
        "  # Check cross-validation score\n",
        "  kfold = KFold(n_splits=n_splits, shuffle=shuffle, random_state=seed_value)\n",
        "  model = LGBMClassifier(n_jobs=-1, verbose=-1, random_state=seed_value)\n",
        "  scores = cross_val_score(model, X_train, y_train, cv=kfold, scoring=scoring)\n",
        "  cv_score = np.round(scores, 5)\n",
        "\n",
        "  # Check test score\n",
        "  model.fit(X_train, y_train);\n",
        "  y_pred = model.predict_proba(X_test)[:,1]\n",
        "  test_score = np.round(metrics.roc_auc_score(y_test, y_pred), 5)\n",
        "\n",
        "  return cv_score, test_score"
      ],
      "metadata": {
        "id": "7MpOWiPwIQA1"
      },
      "id": "7MpOWiPwIQA1",
      "execution_count": 5,
      "outputs": []
    },
    {
      "cell_type": "code",
      "source": [
        "def pipeline(X_train, y_train, X_test, y_test, vect_function, **kwargs):\n",
        "  start_time = time.time()\n",
        "  dict_csv_score = {}\n",
        "  dict_test_score = {}\n",
        "\n",
        "  for preproc_method in X_train.columns:\n",
        "    print(f\"Running: {preproc_method}\")\n",
        "    X_train_vec, X_test_vec = vect_function(X_train[preproc_method], X_test[preproc_method])\n",
        "    cv_score, test_score = vector_method_score(X_train_vec, y_train, X_test_vec, y_test)\n",
        "\n",
        "    dict_csv_score[preproc_method] = cv_score\n",
        "    dict_test_score[preproc_method] = [test_score]\n",
        "\n",
        "  end_time = time.time()\n",
        "  execution_time = end_time - start_time\n",
        "  hours, remainder = divmod(int(execution_time), 3600)\n",
        "  minutes, seconds = divmod(remainder, 60)\n",
        "  print(f\"\\nExecution time: {hours:02d}:{minutes:02d}:{seconds:02d}\")\n",
        "\n",
        "  return dict_csv_score, dict_test_score"
      ],
      "metadata": {
        "id": "5LQT8Ke3JUx-"
      },
      "id": "5LQT8Ke3JUx-",
      "execution_count": 6,
      "outputs": []
    },
    {
      "cell_type": "code",
      "source": [
        "def create_score_table(cv_score, test_score):\n",
        "  df_score = pd.DataFrame(cv_score).T\n",
        "  df_score['train_mean'] = df_score.mean(axis=1)\n",
        "  df_score['test'] = pd.DataFrame(test_score).T\n",
        "\n",
        "  return df_score"
      ],
      "metadata": {
        "id": "qCuCuvGAFFdf"
      },
      "id": "qCuCuvGAFFdf",
      "execution_count": 7,
      "outputs": []
    },
    {
      "cell_type": "markdown",
      "id": "17220a72",
      "metadata": {
        "id": "17220a72"
      },
      "source": [
        "## Dataset\n",
        "---"
      ]
    },
    {
      "cell_type": "code",
      "source": [
        "import pandas as pd\n",
        "from sklearn.model_selection import train_test_split\n",
        "from itertools import chain"
      ],
      "metadata": {
        "id": "83M1FiUCF4LQ"
      },
      "id": "83M1FiUCF4LQ",
      "execution_count": 8,
      "outputs": []
    },
    {
      "cell_type": "code",
      "source": [
        "try:\n",
        "  df = pd.read_csv(os.path.join(path, 'data\\preprocessed_corpus.zip'),\n",
        "                   sep=',', compression='zip')\n",
        "except:\n",
        "  !wget https://github.com/rdemarqui/sentiment_analysis/raw/main/data/preprocessed_corpus.zip -q\n",
        "  df = pd.read_csv(os.path.join(path, 'preprocessed_corpus.zip'),\n",
        "                   sep=',', compression='zip')"
      ],
      "metadata": {
        "id": "VSOorgW0Zh-4"
      },
      "id": "VSOorgW0Zh-4",
      "execution_count": 9,
      "outputs": []
    },
    {
      "cell_type": "code",
      "execution_count": 10,
      "id": "f773490d",
      "metadata": {
        "ExecuteTime": {
          "end_time": "2023-08-16T19:50:38.876610Z",
          "start_time": "2023-08-16T19:50:38.861358Z"
        },
        "colab": {
          "base_uri": "https://localhost:8080/"
        },
        "id": "f773490d",
        "outputId": "f9214f33-06c8-48b1-ed92-83c4738ad0b3"
      },
      "outputs": [
        {
          "output_type": "stream",
          "name": "stdout",
          "text": [
            "(113005, 7)\n"
          ]
        }
      ],
      "source": [
        "columns = ['review_text_clean', 'review_text_clean_stop', 'review_text_clean_stem',\n",
        "           'review_text_clean_stop_stem', 'review_text_clean_lemma', 'review_text_clean_stop_lemma',\n",
        "           'overall_rating']\n",
        "corpus = df[columns].copy()\n",
        "corpus['overall_rating'] = corpus['overall_rating'].apply(lambda x: 1 if x >= 4 else 0)\n",
        "corpus = corpus.dropna()\n",
        "print(corpus.shape)"
      ]
    },
    {
      "cell_type": "code",
      "source": [
        "X_train, X_test, y_train, y_test = train_test_split(corpus.iloc[:, :-1], corpus.iloc[:, -1:],\n",
        "                                                    test_size=0.2, random_state=seed_value)"
      ],
      "metadata": {
        "id": "s8cXg8GG6B6W"
      },
      "id": "s8cXg8GG6B6W",
      "execution_count": 11,
      "outputs": []
    },
    {
      "cell_type": "code",
      "source": [
        "X_train.head()"
      ],
      "metadata": {
        "colab": {
          "base_uri": "https://localhost:8080/",
          "height": 417
        },
        "id": "qz0kkZvg9ka-",
        "outputId": "79c79279-7ad6-48db-83c3-6ce55b95fb0e"
      },
      "id": "qz0kkZvg9ka-",
      "execution_count": 12,
      "outputs": [
        {
          "output_type": "execute_result",
          "data": {
            "text/plain": [
              "                                        review_text_clean  \\\n",
              "77662   adorei produto muito pratico serviu ao propros...   \n",
              "78184   meu produto veio danificado porem nao sera mot...   \n",
              "105690  otimo produto travesseiro maravilhoso quantida...   \n",
              "96751   otima aquisicao agua geladinha fresca designer...   \n",
              "49691   produto atende corresponde as especificacoes s...   \n",
              "\n",
              "                                   review_text_clean_stop  \\\n",
              "77662   adorei produto pratico serviu proprosito prome...   \n",
              "78184   produto veio danificado porem motivo devolucao...   \n",
              "105690  otimo produto travesseiro maravilhoso quantida...   \n",
              "96751   otima aquisicao agua geladinha fresca designer...   \n",
              "49691   produto atende corresponde especificacoes cont...   \n",
              "\n",
              "                                   review_text_clean_stem  \\\n",
              "77662       ador produt muit pra serv ao proprosit promet   \n",
              "78184   meu produt vei danific por nao ser motiv par d...   \n",
              "105690  otim produt travess maravilh quant muit boa de...   \n",
              "96751   otim aquisica agu gel fresc design bonit ador ...   \n",
              "49691   produt atend correspond as especificaco sem co...   \n",
              "\n",
              "                              review_text_clean_stop_stem  \\\n",
              "77662               ador produt pra serv proprosit promet   \n",
              "78184         produt vei danific por motiv devoluca obrig   \n",
              "105690  otim produt travess maravilh quant boa pen gan...   \n",
              "96751   otim aquisica agu gel fresc design bonit ador ...   \n",
              "49691   produt atend correspond especificaco cont pen ...   \n",
              "\n",
              "                                  review_text_clean_lemma  \\\n",
              "77662   adorar produto muito pratico servir a o propro...   \n",
              "78184   meu produto vir danificar porem nao sera motiv...   \n",
              "105690  otimo produto travesseiro maravilhoso quantida...   \n",
              "96751   otimo aquisicao aguo geladinho fresco designer...   \n",
              "49691   produto atender corresponder o especificacoe s...   \n",
              "\n",
              "                             review_text_clean_stop_lemma  \n",
              "77662   adorar produto pratico servir proprosito prometer  \n",
              "78184   produto vir danificar porem motivo devolucao o...  \n",
              "105690  otimo produto travesseiro maravilhoso quantida...  \n",
              "96751   otimo aquisicao aguo geladinho fresco designer...  \n",
              "49691   produto atender corresponder especificacoes co...  "
            ],
            "text/html": [
              "\n",
              "  <div id=\"df-db26233d-c791-47f6-b93e-7336b8880dfa\" class=\"colab-df-container\">\n",
              "    <div>\n",
              "<style scoped>\n",
              "    .dataframe tbody tr th:only-of-type {\n",
              "        vertical-align: middle;\n",
              "    }\n",
              "\n",
              "    .dataframe tbody tr th {\n",
              "        vertical-align: top;\n",
              "    }\n",
              "\n",
              "    .dataframe thead th {\n",
              "        text-align: right;\n",
              "    }\n",
              "</style>\n",
              "<table border=\"1\" class=\"dataframe\">\n",
              "  <thead>\n",
              "    <tr style=\"text-align: right;\">\n",
              "      <th></th>\n",
              "      <th>review_text_clean</th>\n",
              "      <th>review_text_clean_stop</th>\n",
              "      <th>review_text_clean_stem</th>\n",
              "      <th>review_text_clean_stop_stem</th>\n",
              "      <th>review_text_clean_lemma</th>\n",
              "      <th>review_text_clean_stop_lemma</th>\n",
              "    </tr>\n",
              "  </thead>\n",
              "  <tbody>\n",
              "    <tr>\n",
              "      <th>77662</th>\n",
              "      <td>adorei produto muito pratico serviu ao propros...</td>\n",
              "      <td>adorei produto pratico serviu proprosito prome...</td>\n",
              "      <td>ador produt muit pra serv ao proprosit promet</td>\n",
              "      <td>ador produt pra serv proprosit promet</td>\n",
              "      <td>adorar produto muito pratico servir a o propro...</td>\n",
              "      <td>adorar produto pratico servir proprosito prometer</td>\n",
              "    </tr>\n",
              "    <tr>\n",
              "      <th>78184</th>\n",
              "      <td>meu produto veio danificado porem nao sera mot...</td>\n",
              "      <td>produto veio danificado porem motivo devolucao...</td>\n",
              "      <td>meu produt vei danific por nao ser motiv par d...</td>\n",
              "      <td>produt vei danific por motiv devoluca obrig</td>\n",
              "      <td>meu produto vir danificar porem nao sera motiv...</td>\n",
              "      <td>produto vir danificar porem motivo devolucao o...</td>\n",
              "    </tr>\n",
              "    <tr>\n",
              "      <th>105690</th>\n",
              "      <td>otimo produto travesseiro maravilhoso quantida...</td>\n",
              "      <td>otimo produto travesseiro maravilhoso quantida...</td>\n",
              "      <td>otim produt travess maravilh quant muit boa de...</td>\n",
              "      <td>otim produt travess maravilh quant boa pen gan...</td>\n",
              "      <td>otimo produto travesseiro maravilhoso quantida...</td>\n",
              "      <td>otimo produto travesseiro maravilhoso quantida...</td>\n",
              "    </tr>\n",
              "    <tr>\n",
              "      <th>96751</th>\n",
              "      <td>otima aquisicao agua geladinha fresca designer...</td>\n",
              "      <td>otima aquisicao agua geladinha fresca designer...</td>\n",
              "      <td>otim aquisica agu gel fresc design bonit ador ...</td>\n",
              "      <td>otim aquisica agu gel fresc design bonit ador ...</td>\n",
              "      <td>otimo aquisicao aguo geladinho fresco designer...</td>\n",
              "      <td>otimo aquisicao aguo geladinho fresco designer...</td>\n",
              "    </tr>\n",
              "    <tr>\n",
              "      <th>49691</th>\n",
              "      <td>produto atende corresponde as especificacoes s...</td>\n",
              "      <td>produto atende corresponde especificacoes cont...</td>\n",
              "      <td>produt atend correspond as especificaco sem co...</td>\n",
              "      <td>produt atend correspond especificaco cont pen ...</td>\n",
              "      <td>produto atender corresponder o especificacoe s...</td>\n",
              "      <td>produto atender corresponder especificacoes co...</td>\n",
              "    </tr>\n",
              "  </tbody>\n",
              "</table>\n",
              "</div>\n",
              "    <div class=\"colab-df-buttons\">\n",
              "\n",
              "  <div class=\"colab-df-container\">\n",
              "    <button class=\"colab-df-convert\" onclick=\"convertToInteractive('df-db26233d-c791-47f6-b93e-7336b8880dfa')\"\n",
              "            title=\"Convert this dataframe to an interactive table.\"\n",
              "            style=\"display:none;\">\n",
              "\n",
              "  <svg xmlns=\"http://www.w3.org/2000/svg\" height=\"24px\" viewBox=\"0 -960 960 960\">\n",
              "    <path d=\"M120-120v-720h720v720H120Zm60-500h600v-160H180v160Zm220 220h160v-160H400v160Zm0 220h160v-160H400v160ZM180-400h160v-160H180v160Zm440 0h160v-160H620v160ZM180-180h160v-160H180v160Zm440 0h160v-160H620v160Z\"/>\n",
              "  </svg>\n",
              "    </button>\n",
              "\n",
              "  <style>\n",
              "    .colab-df-container {\n",
              "      display:flex;\n",
              "      gap: 12px;\n",
              "    }\n",
              "\n",
              "    .colab-df-convert {\n",
              "      background-color: #E8F0FE;\n",
              "      border: none;\n",
              "      border-radius: 50%;\n",
              "      cursor: pointer;\n",
              "      display: none;\n",
              "      fill: #1967D2;\n",
              "      height: 32px;\n",
              "      padding: 0 0 0 0;\n",
              "      width: 32px;\n",
              "    }\n",
              "\n",
              "    .colab-df-convert:hover {\n",
              "      background-color: #E2EBFA;\n",
              "      box-shadow: 0px 1px 2px rgba(60, 64, 67, 0.3), 0px 1px 3px 1px rgba(60, 64, 67, 0.15);\n",
              "      fill: #174EA6;\n",
              "    }\n",
              "\n",
              "    .colab-df-buttons div {\n",
              "      margin-bottom: 4px;\n",
              "    }\n",
              "\n",
              "    [theme=dark] .colab-df-convert {\n",
              "      background-color: #3B4455;\n",
              "      fill: #D2E3FC;\n",
              "    }\n",
              "\n",
              "    [theme=dark] .colab-df-convert:hover {\n",
              "      background-color: #434B5C;\n",
              "      box-shadow: 0px 1px 3px 1px rgba(0, 0, 0, 0.15);\n",
              "      filter: drop-shadow(0px 1px 2px rgba(0, 0, 0, 0.3));\n",
              "      fill: #FFFFFF;\n",
              "    }\n",
              "  </style>\n",
              "\n",
              "    <script>\n",
              "      const buttonEl =\n",
              "        document.querySelector('#df-db26233d-c791-47f6-b93e-7336b8880dfa button.colab-df-convert');\n",
              "      buttonEl.style.display =\n",
              "        google.colab.kernel.accessAllowed ? 'block' : 'none';\n",
              "\n",
              "      async function convertToInteractive(key) {\n",
              "        const element = document.querySelector('#df-db26233d-c791-47f6-b93e-7336b8880dfa');\n",
              "        const dataTable =\n",
              "          await google.colab.kernel.invokeFunction('convertToInteractive',\n",
              "                                                    [key], {});\n",
              "        if (!dataTable) return;\n",
              "\n",
              "        const docLinkHtml = 'Like what you see? Visit the ' +\n",
              "          '<a target=\"_blank\" href=https://colab.research.google.com/notebooks/data_table.ipynb>data table notebook</a>'\n",
              "          + ' to learn more about interactive tables.';\n",
              "        element.innerHTML = '';\n",
              "        dataTable['output_type'] = 'display_data';\n",
              "        await google.colab.output.renderOutput(dataTable, element);\n",
              "        const docLink = document.createElement('div');\n",
              "        docLink.innerHTML = docLinkHtml;\n",
              "        element.appendChild(docLink);\n",
              "      }\n",
              "    </script>\n",
              "  </div>\n",
              "\n",
              "\n",
              "<div id=\"df-36632213-939c-4545-afca-fc5dc41f99bd\">\n",
              "  <button class=\"colab-df-quickchart\" onclick=\"quickchart('df-36632213-939c-4545-afca-fc5dc41f99bd')\"\n",
              "            title=\"Suggest charts.\"\n",
              "            style=\"display:none;\">\n",
              "\n",
              "<svg xmlns=\"http://www.w3.org/2000/svg\" height=\"24px\"viewBox=\"0 0 24 24\"\n",
              "     width=\"24px\">\n",
              "    <g>\n",
              "        <path d=\"M19 3H5c-1.1 0-2 .9-2 2v14c0 1.1.9 2 2 2h14c1.1 0 2-.9 2-2V5c0-1.1-.9-2-2-2zM9 17H7v-7h2v7zm4 0h-2V7h2v10zm4 0h-2v-4h2v4z\"/>\n",
              "    </g>\n",
              "</svg>\n",
              "  </button>\n",
              "\n",
              "<style>\n",
              "  .colab-df-quickchart {\n",
              "    background-color: #E8F0FE;\n",
              "    border: none;\n",
              "    border-radius: 50%;\n",
              "    cursor: pointer;\n",
              "    display: none;\n",
              "    fill: #1967D2;\n",
              "    height: 32px;\n",
              "    padding: 0 0 0 0;\n",
              "    width: 32px;\n",
              "  }\n",
              "\n",
              "  .colab-df-quickchart:hover {\n",
              "    background-color: #E2EBFA;\n",
              "    box-shadow: 0px 1px 2px rgba(60, 64, 67, 0.3), 0px 1px 3px 1px rgba(60, 64, 67, 0.15);\n",
              "    fill: #174EA6;\n",
              "  }\n",
              "\n",
              "  [theme=dark] .colab-df-quickchart {\n",
              "    background-color: #3B4455;\n",
              "    fill: #D2E3FC;\n",
              "  }\n",
              "\n",
              "  [theme=dark] .colab-df-quickchart:hover {\n",
              "    background-color: #434B5C;\n",
              "    box-shadow: 0px 1px 3px 1px rgba(0, 0, 0, 0.15);\n",
              "    filter: drop-shadow(0px 1px 2px rgba(0, 0, 0, 0.3));\n",
              "    fill: #FFFFFF;\n",
              "  }\n",
              "</style>\n",
              "\n",
              "  <script>\n",
              "    async function quickchart(key) {\n",
              "      const charts = await google.colab.kernel.invokeFunction(\n",
              "          'suggestCharts', [key], {});\n",
              "    }\n",
              "    (() => {\n",
              "      let quickchartButtonEl =\n",
              "        document.querySelector('#df-36632213-939c-4545-afca-fc5dc41f99bd button');\n",
              "      quickchartButtonEl.style.display =\n",
              "        google.colab.kernel.accessAllowed ? 'block' : 'none';\n",
              "    })();\n",
              "  </script>\n",
              "</div>\n",
              "    </div>\n",
              "  </div>\n"
            ]
          },
          "metadata": {},
          "execution_count": 12
        }
      ]
    },
    {
      "cell_type": "code",
      "source": [
        "# Checking y proportion\n",
        "print(f'Train proportion\\n{y_train.value_counts()/y_train.shape[0]}')"
      ],
      "metadata": {
        "colab": {
          "base_uri": "https://localhost:8080/"
        },
        "id": "S579M1OV6r_r",
        "outputId": "cb705632-ad06-49a3-8b6f-4394d211918d"
      },
      "id": "S579M1OV6r_r",
      "execution_count": 13,
      "outputs": [
        {
          "output_type": "stream",
          "name": "stdout",
          "text": [
            "Train proportion\n",
            "overall_rating\n",
            "1                 0.700323\n",
            "0                 0.299677\n",
            "dtype: float64\n"
          ]
        }
      ]
    },
    {
      "cell_type": "code",
      "source": [
        "X_train = X_train.astype(str)\n",
        "y_train = y_train.values.ravel()\n",
        "X_test = X_test.astype(str)\n",
        "y_test = y_test.values.ravel()"
      ],
      "metadata": {
        "id": "GuYn5oZEqW0t"
      },
      "id": "GuYn5oZEqW0t",
      "execution_count": 14,
      "outputs": []
    },
    {
      "cell_type": "code",
      "source": [
        "# Check Vocabulary size\n",
        "plt.figure(figsize=(4, 4))\n",
        "voc_size = {}\n",
        "for column in X_train.columns:\n",
        "  full_text = ' '.join(X_train[column].tolist())\n",
        "  words = full_text.split()\n",
        "  vocabulary = set(words)\n",
        "  voc_size[column] = len(vocabulary)\n",
        "\n",
        "df_vocabulary_size = pd.DataFrame(list(voc_size.items()), columns=['Corpus', 'Voc_size'])\n",
        "\n",
        "ax = sns.barplot(x='Voc_size', y='Corpus',\n",
        "                 data=df_vocabulary_size,\n",
        "                 orient='h', color='steelblue')\n",
        "plt.title('Vocabulary size')\n",
        "plt.plot();"
      ],
      "metadata": {
        "colab": {
          "base_uri": "https://localhost:8080/",
          "height": 419
        },
        "id": "mp-HFOnJ9KhV",
        "outputId": "086d3e76-a4f0-467e-a4cf-4a52089bea75"
      },
      "id": "mp-HFOnJ9KhV",
      "execution_count": 15,
      "outputs": [
        {
          "output_type": "display_data",
          "data": {
            "text/plain": [
              "<Figure size 400x400 with 1 Axes>"
            ],
            "image/png": "[encoded data removed]"
          },
          "metadata": {}
        }
      ]
    },
    {
      "cell_type": "markdown",
      "id": "bdbe9969",
      "metadata": {
        "id": "bdbe9969"
      },
      "source": [
        "## Sparse\n",
        "---"
      ]
    },
    {
      "cell_type": "markdown",
      "id": "e6861466",
      "metadata": {
        "id": "e6861466"
      },
      "source": [
        "### Bag of Word\n",
        "___"
      ]
    },
    {
      "cell_type": "code",
      "execution_count": null,
      "id": "80626732",
      "metadata": {
        "ExecuteTime": {
          "end_time": "2023-07-25T17:42:46.472927Z",
          "start_time": "2023-07-25T17:42:46.429443Z"
        },
        "id": "80626732"
      },
      "outputs": [],
      "source": [
        "from sklearn.feature_extraction.text import CountVectorizer"
      ]
    },
    {
      "cell_type": "code",
      "source": [
        "def apply_bag_of_word(X_train, X_test):\n",
        "  vectorizer = CountVectorizer(lowercase=False, dtype=np.float32)\n",
        "  X_train_vec = vectorizer.fit_transform(X_train)\n",
        "  X_test_vec = vectorizer.transform(X_test)\n",
        "\n",
        "  return X_train_vec, X_test_vec"
      ],
      "metadata": {
        "id": "vUucY72sIH8v"
      },
      "id": "vUucY72sIH8v",
      "execution_count": null,
      "outputs": []
    },
    {
      "cell_type": "code",
      "source": [
        "cv_score_bow, test_score_bow = pipeline(X_train, y_train,\n",
        "                                        X_test, y_test,\n",
        "                                        apply_bag_of_word)"
      ],
      "metadata": {
        "colab": {
          "base_uri": "https://localhost:8080/"
        },
        "id": "O_c8ocdlMVT2",
        "outputId": "1827dc45-3174-4751-9bdb-38a49e2357a7"
      },
      "id": "O_c8ocdlMVT2",
      "execution_count": null,
      "outputs": [
        {
          "output_type": "stream",
          "name": "stdout",
          "text": [
            "Running: review_text_clean\n",
            "Running: review_text_clean_stop\n",
            "Running: review_text_clean_stem\n",
            "Running: review_text_clean_stop_stem\n",
            "Running: review_text_clean_lemma\n",
            "Running: review_text_clean_stop_lemma\n",
            "\n",
            "Execution time: 00:05:01\n"
          ]
        }
      ]
    },
    {
      "cell_type": "code",
      "source": [
        "df_score_bow = create_score_table(cv_score_bow, test_score_bow)\n",
        "df_score_bow"
      ],
      "metadata": {
        "colab": {
          "base_uri": "https://localhost:8080/",
          "height": 237
        },
        "id": "9oGIlj7lHCpq",
        "outputId": "8d5090f1-a6be-4e29-f43c-9718103943a4"
      },
      "id": "9oGIlj7lHCpq",
      "execution_count": null,
      "outputs": [
        {
          "output_type": "execute_result",
          "data": {
            "text/plain": [
              "                                    0        1        2        3        4  \\\n",
              "review_text_clean             0.97844  0.97962  0.97932  0.97953  0.98056   \n",
              "review_text_clean_stop        0.97225  0.97122  0.97212  0.97027  0.97296   \n",
              "review_text_clean_stem        0.97942  0.98028  0.97947  0.98015  0.98120   \n",
              "review_text_clean_stop_stem   0.97264  0.97255  0.97281  0.97183  0.97446   \n",
              "review_text_clean_lemma       0.97825  0.97962  0.97927  0.97966  0.98104   \n",
              "review_text_clean_stop_lemma  0.97202  0.97071  0.97222  0.97110  0.97353   \n",
              "\n",
              "                              train_mean     test  \n",
              "review_text_clean               0.979494  0.97790  \n",
              "review_text_clean_stop          0.971764  0.97048  \n",
              "review_text_clean_stem          0.980104  0.97894  \n",
              "review_text_clean_stop_stem     0.972858  0.97228  \n",
              "review_text_clean_lemma         0.979568  0.97847  \n",
              "review_text_clean_stop_lemma    0.971916  0.97080  "
            ],
            "text/html": [
              "\n",
              "  <div id=\"df-a56d74b5-b39b-4998-9eb8-983ab4c1b0bd\" class=\"colab-df-container\">\n",
              "    <div>\n",
              "<style scoped>\n",
              "    .dataframe tbody tr th:only-of-type {\n",
              "        vertical-align: middle;\n",
              "    }\n",
              "\n",
              "    .dataframe tbody tr th {\n",
              "        vertical-align: top;\n",
              "    }\n",
              "\n",
              "    .dataframe thead th {\n",
              "        text-align: right;\n",
              "    }\n",
              "</style>\n",
              "<table border=\"1\" class=\"dataframe\">\n",
              "  <thead>\n",
              "    <tr style=\"text-align: right;\">\n",
              "      <th></th>\n",
              "      <th>0</th>\n",
              "      <th>1</th>\n",
              "      <th>2</th>\n",
              "      <th>3</th>\n",
              "      <th>4</th>\n",
              "      <th>train_mean</th>\n",
              "      <th>test</th>\n",
              "    </tr>\n",
              "  </thead>\n",
              "  <tbody>\n",
              "    <tr>\n",
              "      <th>review_text_clean</th>\n",
              "      <td>0.97844</td>\n",
              "      <td>0.97962</td>\n",
              "      <td>0.97932</td>\n",
              "      <td>0.97953</td>\n",
              "      <td>0.98056</td>\n",
              "      <td>0.979494</td>\n",
              "      <td>0.97790</td>\n",
              "    </tr>\n",
              "    <tr>\n",
              "      <th>review_text_clean_stop</th>\n",
              "      <td>0.97225</td>\n",
              "      <td>0.97122</td>\n",
              "      <td>0.97212</td>\n",
              "      <td>0.97027</td>\n",
              "      <td>0.97296</td>\n",
              "      <td>0.971764</td>\n",
              "      <td>0.97048</td>\n",
              "    </tr>\n",
              "    <tr>\n",
              "      <th>review_text_clean_stem</th>\n",
              "      <td>0.97942</td>\n",
              "      <td>0.98028</td>\n",
              "      <td>0.97947</td>\n",
              "      <td>0.98015</td>\n",
              "      <td>0.98120</td>\n",
              "      <td>0.980104</td>\n",
              "      <td>0.97894</td>\n",
              "    </tr>\n",
              "    <tr>\n",
              "      <th>review_text_clean_stop_stem</th>\n",
              "      <td>0.97264</td>\n",
              "      <td>0.97255</td>\n",
              "      <td>0.97281</td>\n",
              "      <td>0.97183</td>\n",
              "      <td>0.97446</td>\n",
              "      <td>0.972858</td>\n",
              "      <td>0.97228</td>\n",
              "    </tr>\n",
              "    <tr>\n",
              "      <th>review_text_clean_lemma</th>\n",
              "      <td>0.97825</td>\n",
              "      <td>0.97962</td>\n",
              "      <td>0.97927</td>\n",
              "      <td>0.97966</td>\n",
              "      <td>0.98104</td>\n",
              "      <td>0.979568</td>\n",
              "      <td>0.97847</td>\n",
              "    </tr>\n",
              "    <tr>\n",
              "      <th>review_text_clean_stop_lemma</th>\n",
              "      <td>0.97202</td>\n",
              "      <td>0.97071</td>\n",
              "      <td>0.97222</td>\n",
              "      <td>0.97110</td>\n",
              "      <td>0.97353</td>\n",
              "      <td>0.971916</td>\n",
              "      <td>0.97080</td>\n",
              "    </tr>\n",
              "  </tbody>\n",
              "</table>\n",
              "</div>\n",
              "    <div class=\"colab-df-buttons\">\n",
              "\n",
              "  <div class=\"colab-df-container\">\n",
              "    <button class=\"colab-df-convert\" onclick=\"convertToInteractive('df-a56d74b5-b39b-4998-9eb8-983ab4c1b0bd')\"\n",
              "            title=\"Convert this dataframe to an interactive table.\"\n",
              "            style=\"display:none;\">\n",
              "\n",
              "  <svg xmlns=\"http://www.w3.org/2000/svg\" height=\"24px\" viewBox=\"0 -960 960 960\">\n",
              "    <path d=\"M120-120v-720h720v720H120Zm60-500h600v-160H180v160Zm220 220h160v-160H400v160Zm0 220h160v-160H400v160ZM180-400h160v-160H180v160Zm440 0h160v-160H620v160ZM180-180h160v-160H180v160Zm440 0h160v-160H620v160Z\"/>\n",
              "  </svg>\n",
              "    </button>\n",
              "\n",
              "  <style>\n",
              "    .colab-df-container {\n",
              "      display:flex;\n",
              "      gap: 12px;\n",
              "    }\n",
              "\n",
              "    .colab-df-convert {\n",
              "      background-color: #E8F0FE;\n",
              "      border: none;\n",
              "      border-radius: 50%;\n",
              "      cursor: pointer;\n",
              "      display: none;\n",
              "      fill: #1967D2;\n",
              "      height: 32px;\n",
              "      padding: 0 0 0 0;\n",
              "      width: 32px;\n",
              "    }\n",
              "\n",
              "    .colab-df-convert:hover {\n",
              "      background-color: #E2EBFA;\n",
              "      box-shadow: 0px 1px 2px rgba(60, 64, 67, 0.3), 0px 1px 3px 1px rgba(60, 64, 67, 0.15);\n",
              "      fill: #174EA6;\n",
              "    }\n",
              "\n",
              "    .colab-df-buttons div {\n",
              "      margin-bottom: 4px;\n",
              "    }\n",
              "\n",
              "    [theme=dark] .colab-df-convert {\n",
              "      background-color: #3B4455;\n",
              "      fill: #D2E3FC;\n",
              "    }\n",
              "\n",
              "    [theme=dark] .colab-df-convert:hover {\n",
              "      background-color: #434B5C;\n",
              "      box-shadow: 0px 1px 3px 1px rgba(0, 0, 0, 0.15);\n",
              "      filter: drop-shadow(0px 1px 2px rgba(0, 0, 0, 0.3));\n",
              "      fill: #FFFFFF;\n",
              "    }\n",
              "  </style>\n",
              "\n",
              "    <script>\n",
              "      const buttonEl =\n",
              "        document.querySelector('#df-a56d74b5-b39b-4998-9eb8-983ab4c1b0bd button.colab-df-convert');\n",
              "      buttonEl.style.display =\n",
              "        google.colab.kernel.accessAllowed ? 'block' : 'none';\n",
              "\n",
              "      async function convertToInteractive(key) {\n",
              "        const element = document.querySelector('#df-a56d74b5-b39b-4998-9eb8-983ab4c1b0bd');\n",
              "        const dataTable =\n",
              "          await google.colab.kernel.invokeFunction('convertToInteractive',\n",
              "                                                    [key], {});\n",
              "        if (!dataTable) return;\n",
              "\n",
              "        const docLinkHtml = 'Like what you see? Visit the ' +\n",
              "          '<a target=\"_blank\" href=https://colab.research.google.com/notebooks/data_table.ipynb>data table notebook</a>'\n",
              "          + ' to learn more about interactive tables.';\n",
              "        element.innerHTML = '';\n",
              "        dataTable['output_type'] = 'display_data';\n",
              "        await google.colab.output.renderOutput(dataTable, element);\n",
              "        const docLink = document.createElement('div');\n",
              "        docLink.innerHTML = docLinkHtml;\n",
              "        element.appendChild(docLink);\n",
              "      }\n",
              "    </script>\n",
              "  </div>\n",
              "\n",
              "\n",
              "<div id=\"df-05d9634c-faf8-4c18-be2f-b150a37df4ef\">\n",
              "  <button class=\"colab-df-quickchart\" onclick=\"quickchart('df-05d9634c-faf8-4c18-be2f-b150a37df4ef')\"\n",
              "            title=\"Suggest charts.\"\n",
              "            style=\"display:none;\">\n",
              "\n",
              "<svg xmlns=\"http://www.w3.org/2000/svg\" height=\"24px\"viewBox=\"0 0 24 24\"\n",
              "     width=\"24px\">\n",
              "    <g>\n",
              "        <path d=\"M19 3H5c-1.1 0-2 .9-2 2v14c0 1.1.9 2 2 2h14c1.1 0 2-.9 2-2V5c0-1.1-.9-2-2-2zM9 17H7v-7h2v7zm4 0h-2V7h2v10zm4 0h-2v-4h2v4z\"/>\n",
              "    </g>\n",
              "</svg>\n",
              "  </button>\n",
              "\n",
              "<style>\n",
              "  .colab-df-quickchart {\n",
              "    background-color: #E8F0FE;\n",
              "    border: none;\n",
              "    border-radius: 50%;\n",
              "    cursor: pointer;\n",
              "    display: none;\n",
              "    fill: #1967D2;\n",
              "    height: 32px;\n",
              "    padding: 0 0 0 0;\n",
              "    width: 32px;\n",
              "  }\n",
              "\n",
              "  .colab-df-quickchart:hover {\n",
              "    background-color: #E2EBFA;\n",
              "    box-shadow: 0px 1px 2px rgba(60, 64, 67, 0.3), 0px 1px 3px 1px rgba(60, 64, 67, 0.15);\n",
              "    fill: #174EA6;\n",
              "  }\n",
              "\n",
              "  [theme=dark] .colab-df-quickchart {\n",
              "    background-color: #3B4455;\n",
              "    fill: #D2E3FC;\n",
              "  }\n",
              "\n",
              "  [theme=dark] .colab-df-quickchart:hover {\n",
              "    background-color: #434B5C;\n",
              "    box-shadow: 0px 1px 3px 1px rgba(0, 0, 0, 0.15);\n",
              "    filter: drop-shadow(0px 1px 2px rgba(0, 0, 0, 0.3));\n",
              "    fill: #FFFFFF;\n",
              "  }\n",
              "</style>\n",
              "\n",
              "  <script>\n",
              "    async function quickchart(key) {\n",
              "      const charts = await google.colab.kernel.invokeFunction(\n",
              "          'suggestCharts', [key], {});\n",
              "    }\n",
              "    (() => {\n",
              "      let quickchartButtonEl =\n",
              "        document.querySelector('#df-05d9634c-faf8-4c18-be2f-b150a37df4ef button');\n",
              "      quickchartButtonEl.style.display =\n",
              "        google.colab.kernel.accessAllowed ? 'block' : 'none';\n",
              "    })();\n",
              "  </script>\n",
              "</div>\n",
              "    </div>\n",
              "  </div>\n"
            ]
          },
          "metadata": {},
          "execution_count": 19
        }
      ]
    },
    {
      "cell_type": "markdown",
      "id": "a7567b78",
      "metadata": {
        "id": "a7567b78"
      },
      "source": [
        "### TF-IDF\n",
        "---"
      ]
    },
    {
      "cell_type": "code",
      "execution_count": null,
      "id": "69fe16a6",
      "metadata": {
        "ExecuteTime": {
          "end_time": "2023-07-25T17:42:46.842187Z",
          "start_time": "2023-07-25T17:42:46.799777Z"
        },
        "id": "69fe16a6"
      },
      "outputs": [],
      "source": [
        "from sklearn.feature_extraction.text import TfidfVectorizer"
      ]
    },
    {
      "cell_type": "code",
      "source": [
        "def apply_tf_idf(X_train, X_test):\n",
        "  vectorizer = TfidfVectorizer(lowercase=False, dtype=np.float32)\n",
        "  X_train_vec = vectorizer.fit_transform(X_train)\n",
        "  X_test_vec = vectorizer.transform(X_test)\n",
        "\n",
        "  return X_train_vec, X_test_vec"
      ],
      "metadata": {
        "id": "7Kzz9dRaIWm-"
      },
      "id": "7Kzz9dRaIWm-",
      "execution_count": null,
      "outputs": []
    },
    {
      "cell_type": "code",
      "source": [
        "cv_score_tfidf, test_score_tfidf = pipeline(X_train, y_train,\n",
        "                                            X_test, y_test,\n",
        "                                            apply_tf_idf)"
      ],
      "metadata": {
        "colab": {
          "base_uri": "https://localhost:8080/"
        },
        "id": "aia3UBD6I_S9",
        "outputId": "e93a39c0-35c3-4909-a853-37ef1bb73271"
      },
      "id": "aia3UBD6I_S9",
      "execution_count": null,
      "outputs": [
        {
          "output_type": "stream",
          "name": "stdout",
          "text": [
            "Running: review_text_clean\n",
            "Running: review_text_clean_stop\n",
            "Running: review_text_clean_stem\n",
            "Running: review_text_clean_stop_stem\n",
            "Running: review_text_clean_lemma\n",
            "Running: review_text_clean_stop_lemma\n",
            "\n",
            "Execution time: 00:09:34\n"
          ]
        }
      ]
    },
    {
      "cell_type": "code",
      "source": [
        "df_score_tfidf = create_score_table(cv_score_tfidf, test_score_tfidf)\n",
        "df_score_tfidf"
      ],
      "metadata": {
        "colab": {
          "base_uri": "https://localhost:8080/",
          "height": 237
        },
        "id": "qTHlPOF0G5yG",
        "outputId": "6bf6deae-a43a-4b1b-e389-e729f2a67bf6"
      },
      "id": "qTHlPOF0G5yG",
      "execution_count": null,
      "outputs": [
        {
          "output_type": "execute_result",
          "data": {
            "text/plain": [
              "                                    0        1        2        3        4  \\\n",
              "review_text_clean             0.97865  0.97960  0.97946  0.97966  0.98097   \n",
              "review_text_clean_stop        0.97287  0.97207  0.97290  0.97109  0.97396   \n",
              "review_text_clean_stem        0.97990  0.98048  0.97988  0.98017  0.98159   \n",
              "review_text_clean_stop_stem   0.97401  0.97337  0.97333  0.97262  0.97531   \n",
              "review_text_clean_lemma       0.97880  0.97958  0.97954  0.97997  0.98132   \n",
              "review_text_clean_stop_lemma  0.97272  0.97125  0.97255  0.97151  0.97390   \n",
              "\n",
              "                              train_mean     test  \n",
              "review_text_clean               0.979668  0.97811  \n",
              "review_text_clean_stop          0.972578  0.97143  \n",
              "review_text_clean_stem          0.980404  0.97907  \n",
              "review_text_clean_stop_stem     0.973728  0.97280  \n",
              "review_text_clean_lemma         0.979842  0.97882  \n",
              "review_text_clean_stop_lemma    0.972386  0.97166  "
            ],
            "text/html": [
              "\n",
              "  <div id=\"df-3b5a315a-ddbe-4439-8d08-cf1298f8a636\" class=\"colab-df-container\">\n",
              "    <div>\n",
              "<style scoped>\n",
              "    .dataframe tbody tr th:only-of-type {\n",
              "        vertical-align: middle;\n",
              "    }\n",
              "\n",
              "    .dataframe tbody tr th {\n",
              "        vertical-align: top;\n",
              "    }\n",
              "\n",
              "    .dataframe thead th {\n",
              "        text-align: right;\n",
              "    }\n",
              "</style>\n",
              "<table border=\"1\" class=\"dataframe\">\n",
              "  <thead>\n",
              "    <tr style=\"text-align: right;\">\n",
              "      <th></th>\n",
              "      <th>0</th>\n",
              "      <th>1</th>\n",
              "      <th>2</th>\n",
              "      <th>3</th>\n",
              "      <th>4</th>\n",
              "      <th>train_mean</th>\n",
              "      <th>test</th>\n",
              "    </tr>\n",
              "  </thead>\n",
              "  <tbody>\n",
              "    <tr>\n",
              "      <th>review_text_clean</th>\n",
              "      <td>0.97865</td>\n",
              "      <td>0.97960</td>\n",
              "      <td>0.97946</td>\n",
              "      <td>0.97966</td>\n",
              "      <td>0.98097</td>\n",
              "      <td>0.979668</td>\n",
              "      <td>0.97811</td>\n",
              "    </tr>\n",
              "    <tr>\n",
              "      <th>review_text_clean_stop</th>\n",
              "      <td>0.97287</td>\n",
              "      <td>0.97207</td>\n",
              "      <td>0.97290</td>\n",
              "      <td>0.97109</td>\n",
              "      <td>0.97396</td>\n",
              "      <td>0.972578</td>\n",
              "      <td>0.97143</td>\n",
              "    </tr>\n",
              "    <tr>\n",
              "      <th>review_text_clean_stem</th>\n",
              "      <td>0.97990</td>\n",
              "      <td>0.98048</td>\n",
              "      <td>0.97988</td>\n",
              "      <td>0.98017</td>\n",
              "      <td>0.98159</td>\n",
              "      <td>0.980404</td>\n",
              "      <td>0.97907</td>\n",
              "    </tr>\n",
              "    <tr>\n",
              "      <th>review_text_clean_stop_stem</th>\n",
              "      <td>0.97401</td>\n",
              "      <td>0.97337</td>\n",
              "      <td>0.97333</td>\n",
              "      <td>0.97262</td>\n",
              "      <td>0.97531</td>\n",
              "      <td>0.973728</td>\n",
              "      <td>0.97280</td>\n",
              "    </tr>\n",
              "    <tr>\n",
              "      <th>review_text_clean_lemma</th>\n",
              "      <td>0.97880</td>\n",
              "      <td>0.97958</td>\n",
              "      <td>0.97954</td>\n",
              "      <td>0.97997</td>\n",
              "      <td>0.98132</td>\n",
              "      <td>0.979842</td>\n",
              "      <td>0.97882</td>\n",
              "    </tr>\n",
              "    <tr>\n",
              "      <th>review_text_clean_stop_lemma</th>\n",
              "      <td>0.97272</td>\n",
              "      <td>0.97125</td>\n",
              "      <td>0.97255</td>\n",
              "      <td>0.97151</td>\n",
              "      <td>0.97390</td>\n",
              "      <td>0.972386</td>\n",
              "      <td>0.97166</td>\n",
              "    </tr>\n",
              "  </tbody>\n",
              "</table>\n",
              "</div>\n",
              "    <div class=\"colab-df-buttons\">\n",
              "\n",
              "  <div class=\"colab-df-container\">\n",
              "    <button class=\"colab-df-convert\" onclick=\"convertToInteractive('df-3b5a315a-ddbe-4439-8d08-cf1298f8a636')\"\n",
              "            title=\"Convert this dataframe to an interactive table.\"\n",
              "            style=\"display:none;\">\n",
              "\n",
              "  <svg xmlns=\"http://www.w3.org/2000/svg\" height=\"24px\" viewBox=\"0 -960 960 960\">\n",
              "    <path d=\"M120-120v-720h720v720H120Zm60-500h600v-160H180v160Zm220 220h160v-160H400v160Zm0 220h160v-160H400v160ZM180-400h160v-160H180v160Zm440 0h160v-160H620v160ZM180-180h160v-160H180v160Zm440 0h160v-160H620v160Z\"/>\n",
              "  </svg>\n",
              "    </button>\n",
              "\n",
              "  <style>\n",
              "    .colab-df-container {\n",
              "      display:flex;\n",
              "      gap: 12px;\n",
              "    }\n",
              "\n",
              "    .colab-df-convert {\n",
              "      background-color: #E8F0FE;\n",
              "      border: none;\n",
              "      border-radius: 50%;\n",
              "      cursor: pointer;\n",
              "      display: none;\n",
              "      fill: #1967D2;\n",
              "      height: 32px;\n",
              "      padding: 0 0 0 0;\n",
              "      width: 32px;\n",
              "    }\n",
              "\n",
              "    .colab-df-convert:hover {\n",
              "      background-color: #E2EBFA;\n",
              "      box-shadow: 0px 1px 2px rgba(60, 64, 67, 0.3), 0px 1px 3px 1px rgba(60, 64, 67, 0.15);\n",
              "      fill: #174EA6;\n",
              "    }\n",
              "\n",
              "    .colab-df-buttons div {\n",
              "      margin-bottom: 4px;\n",
              "    }\n",
              "\n",
              "    [theme=dark] .colab-df-convert {\n",
              "      background-color: #3B4455;\n",
              "      fill: #D2E3FC;\n",
              "    }\n",
              "\n",
              "    [theme=dark] .colab-df-convert:hover {\n",
              "      background-color: #434B5C;\n",
              "      box-shadow: 0px 1px 3px 1px rgba(0, 0, 0, 0.15);\n",
              "      filter: drop-shadow(0px 1px 2px rgba(0, 0, 0, 0.3));\n",
              "      fill: #FFFFFF;\n",
              "    }\n",
              "  </style>\n",
              "\n",
              "    <script>\n",
              "      const buttonEl =\n",
              "        document.querySelector('#df-3b5a315a-ddbe-4439-8d08-cf1298f8a636 button.colab-df-convert');\n",
              "      buttonEl.style.display =\n",
              "        google.colab.kernel.accessAllowed ? 'block' : 'none';\n",
              "\n",
              "      async function convertToInteractive(key) {\n",
              "        const element = document.querySelector('#df-3b5a315a-ddbe-4439-8d08-cf1298f8a636');\n",
              "        const dataTable =\n",
              "          await google.colab.kernel.invokeFunction('convertToInteractive',\n",
              "                                                    [key], {});\n",
              "        if (!dataTable) return;\n",
              "\n",
              "        const docLinkHtml = 'Like what you see? Visit the ' +\n",
              "          '<a target=\"_blank\" href=https://colab.research.google.com/notebooks/data_table.ipynb>data table notebook</a>'\n",
              "          + ' to learn more about interactive tables.';\n",
              "        element.innerHTML = '';\n",
              "        dataTable['output_type'] = 'display_data';\n",
              "        await google.colab.output.renderOutput(dataTable, element);\n",
              "        const docLink = document.createElement('div');\n",
              "        docLink.innerHTML = docLinkHtml;\n",
              "        element.appendChild(docLink);\n",
              "      }\n",
              "    </script>\n",
              "  </div>\n",
              "\n",
              "\n",
              "<div id=\"df-d7f8880c-5d3d-488e-a1e1-d5ecbd7c2873\">\n",
              "  <button class=\"colab-df-quickchart\" onclick=\"quickchart('df-d7f8880c-5d3d-488e-a1e1-d5ecbd7c2873')\"\n",
              "            title=\"Suggest charts.\"\n",
              "            style=\"display:none;\">\n",
              "\n",
              "<svg xmlns=\"http://www.w3.org/2000/svg\" height=\"24px\"viewBox=\"0 0 24 24\"\n",
              "     width=\"24px\">\n",
              "    <g>\n",
              "        <path d=\"M19 3H5c-1.1 0-2 .9-2 2v14c0 1.1.9 2 2 2h14c1.1 0 2-.9 2-2V5c0-1.1-.9-2-2-2zM9 17H7v-7h2v7zm4 0h-2V7h2v10zm4 0h-2v-4h2v4z\"/>\n",
              "    </g>\n",
              "</svg>\n",
              "  </button>\n",
              "\n",
              "<style>\n",
              "  .colab-df-quickchart {\n",
              "    background-color: #E8F0FE;\n",
              "    border: none;\n",
              "    border-radius: 50%;\n",
              "    cursor: pointer;\n",
              "    display: none;\n",
              "    fill: #1967D2;\n",
              "    height: 32px;\n",
              "    padding: 0 0 0 0;\n",
              "    width: 32px;\n",
              "  }\n",
              "\n",
              "  .colab-df-quickchart:hover {\n",
              "    background-color: #E2EBFA;\n",
              "    box-shadow: 0px 1px 2px rgba(60, 64, 67, 0.3), 0px 1px 3px 1px rgba(60, 64, 67, 0.15);\n",
              "    fill: #174EA6;\n",
              "  }\n",
              "\n",
              "  [theme=dark] .colab-df-quickchart {\n",
              "    background-color: #3B4455;\n",
              "    fill: #D2E3FC;\n",
              "  }\n",
              "\n",
              "  [theme=dark] .colab-df-quickchart:hover {\n",
              "    background-color: #434B5C;\n",
              "    box-shadow: 0px 1px 3px 1px rgba(0, 0, 0, 0.15);\n",
              "    filter: drop-shadow(0px 1px 2px rgba(0, 0, 0, 0.3));\n",
              "    fill: #FFFFFF;\n",
              "  }\n",
              "</style>\n",
              "\n",
              "  <script>\n",
              "    async function quickchart(key) {\n",
              "      const charts = await google.colab.kernel.invokeFunction(\n",
              "          'suggestCharts', [key], {});\n",
              "    }\n",
              "    (() => {\n",
              "      let quickchartButtonEl =\n",
              "        document.querySelector('#df-d7f8880c-5d3d-488e-a1e1-d5ecbd7c2873 button');\n",
              "      quickchartButtonEl.style.display =\n",
              "        google.colab.kernel.accessAllowed ? 'block' : 'none';\n",
              "    })();\n",
              "  </script>\n",
              "</div>\n",
              "    </div>\n",
              "  </div>\n"
            ]
          },
          "metadata": {},
          "execution_count": 23
        }
      ]
    },
    {
      "cell_type": "markdown",
      "id": "b27a3e58",
      "metadata": {
        "id": "b27a3e58"
      },
      "source": [
        "## Dense\n",
        "___"
      ]
    },
    {
      "cell_type": "markdown",
      "id": "b6684fad",
      "metadata": {
        "id": "b6684fad"
      },
      "source": [
        "### Word2vec\n",
        "___"
      ]
    },
    {
      "cell_type": "code",
      "execution_count": null,
      "id": "dfc1b300",
      "metadata": {
        "ExecuteTime": {
          "end_time": "2023-07-25T17:42:47.227462Z",
          "start_time": "2023-07-25T17:42:47.184701Z"
        },
        "id": "dfc1b300"
      },
      "outputs": [],
      "source": [
        "from gensim.models import Word2Vec"
      ]
    },
    {
      "cell_type": "code",
      "source": [
        "def apply_word2vec(X_train, X_test, sg=0):\n",
        "  X_train_tokenized = [text.split() for text in X_train.values.tolist()]\n",
        "  X_test_tokenized = [text.split() for text in X_test.values.tolist()]\n",
        "\n",
        "  vectorizer = Word2Vec(vector_size=300, sg=sg, workers=cores)\n",
        "  vectorizer.build_vocab(X_train_tokenized)\n",
        "  vectorizer.train(X_train_tokenized, total_examples=vectorizer.corpus_count, epochs=vectorizer.epochs)\n",
        "\n",
        "  # A random vector for OOV it's better than zeros vector, because model can learn something\n",
        "  vector_shape = vectorizer.wv[list(vectorizer.wv.key_to_index)[0]].shape\n",
        "  np.random.seed(seed_value)\n",
        "  UNK_TOKEN = np.random.rand(*vector_shape)\n",
        "\n",
        "  def get_word_vector(word):\n",
        "    return vectorizer.wv[word] if word in vectorizer.wv else UNK_TOKEN\n",
        "\n",
        "  X_train_vec = [[get_word_vector(word) for word in text] for text in X_train_tokenized]\n",
        "  X_test_vec = [[get_word_vector(word) for word in text] for text in X_test_tokenized]\n",
        "\n",
        "  # Get mean of word vectors for each text\n",
        "  X_train_vec = [np.mean(np.array(vector).T, axis=1) for vector in X_train_vec]\n",
        "  X_test_vec = [np.mean(np.array(vector).T, axis=1) for vector in X_test_vec]\n",
        "\n",
        "  return X_train_vec, X_test_vec"
      ],
      "metadata": {
        "id": "RfOHj5nSqo9b"
      },
      "id": "RfOHj5nSqo9b",
      "execution_count": null,
      "outputs": []
    },
    {
      "cell_type": "markdown",
      "id": "0764cc79",
      "metadata": {
        "id": "0764cc79"
      },
      "source": [
        "#### CBOW - Continuous Bag of Words\n",
        "___"
      ]
    },
    {
      "cell_type": "code",
      "source": [
        "cv_score_cbow, test_score_cbow = pipeline(X_train, y_train,\n",
        "                                          X_test, y_test,\n",
        "                                          apply_word2vec, sg=0)"
      ],
      "metadata": {
        "id": "x1UkOpq3UShb",
        "colab": {
          "base_uri": "https://localhost:8080/"
        },
        "outputId": "5f642e4d-9e4f-4631-afb9-3c54b72c60a2"
      },
      "id": "x1UkOpq3UShb",
      "execution_count": null,
      "outputs": [
        {
          "output_type": "stream",
          "name": "stdout",
          "text": [
            "Running: review_text_clean\n",
            "Running: review_text_clean_stop\n",
            "Running: review_text_clean_stem\n",
            "Running: review_text_clean_stop_stem\n",
            "Running: review_text_clean_lemma\n",
            "Running: review_text_clean_stop_lemma\n",
            "\n",
            "Execution time: 00:14:09\n"
          ]
        }
      ]
    },
    {
      "cell_type": "code",
      "source": [
        "df_score_cbow = create_score_table(cv_score_cbow, test_score_cbow)\n",
        "df_score_cbow"
      ],
      "metadata": {
        "colab": {
          "base_uri": "https://localhost:8080/",
          "height": 237
        },
        "id": "DtmeM9MiGoVo",
        "outputId": "fb5aa5ff-af7f-4a40-86bf-5b2a68791d9c"
      },
      "id": "DtmeM9MiGoVo",
      "execution_count": null,
      "outputs": [
        {
          "output_type": "execute_result",
          "data": {
            "text/plain": [
              "                                    0        1        2        3        4  \\\n",
              "review_text_clean             0.97553  0.97632  0.97626  0.97684  0.97786   \n",
              "review_text_clean_stop        0.97294  0.97320  0.97330  0.97262  0.97399   \n",
              "review_text_clean_stem        0.97617  0.97740  0.97640  0.97767  0.97899   \n",
              "review_text_clean_stop_stem   0.97352  0.97343  0.97304  0.97304  0.97542   \n",
              "review_text_clean_lemma       0.97678  0.97772  0.97756  0.97812  0.97929   \n",
              "review_text_clean_stop_lemma  0.97265  0.97282  0.97252  0.97236  0.97430   \n",
              "\n",
              "                              train_mean     test  \n",
              "review_text_clean               0.976562  0.97563  \n",
              "review_text_clean_stop          0.973210  0.97264  \n",
              "review_text_clean_stem          0.977326  0.97660  \n",
              "review_text_clean_stop_stem     0.973690  0.97252  \n",
              "review_text_clean_lemma         0.977894  0.97714  \n",
              "review_text_clean_stop_lemma    0.972930  0.97262  "
            ],
            "text/html": [
              "\n",
              "  <div id=\"df-354f3d09-e046-4fef-992f-cf6a8b0b1da0\" class=\"colab-df-container\">\n",
              "    <div>\n",
              "<style scoped>\n",
              "    .dataframe tbody tr th:only-of-type {\n",
              "        vertical-align: middle;\n",
              "    }\n",
              "\n",
              "    .dataframe tbody tr th {\n",
              "        vertical-align: top;\n",
              "    }\n",
              "\n",
              "    .dataframe thead th {\n",
              "        text-align: right;\n",
              "    }\n",
              "</style>\n",
              "<table border=\"1\" class=\"dataframe\">\n",
              "  <thead>\n",
              "    <tr style=\"text-align: right;\">\n",
              "      <th></th>\n",
              "      <th>0</th>\n",
              "      <th>1</th>\n",
              "      <th>2</th>\n",
              "      <th>3</th>\n",
              "      <th>4</th>\n",
              "      <th>train_mean</th>\n",
              "      <th>test</th>\n",
              "    </tr>\n",
              "  </thead>\n",
              "  <tbody>\n",
              "    <tr>\n",
              "      <th>review_text_clean</th>\n",
              "      <td>0.97553</td>\n",
              "      <td>0.97632</td>\n",
              "      <td>0.97626</td>\n",
              "      <td>0.97684</td>\n",
              "      <td>0.97786</td>\n",
              "      <td>0.976562</td>\n",
              "      <td>0.97563</td>\n",
              "    </tr>\n",
              "    <tr>\n",
              "      <th>review_text_clean_stop</th>\n",
              "      <td>0.97294</td>\n",
              "      <td>0.97320</td>\n",
              "      <td>0.97330</td>\n",
              "      <td>0.97262</td>\n",
              "      <td>0.97399</td>\n",
              "      <td>0.973210</td>\n",
              "      <td>0.97264</td>\n",
              "    </tr>\n",
              "    <tr>\n",
              "      <th>review_text_clean_stem</th>\n",
              "      <td>0.97617</td>\n",
              "      <td>0.97740</td>\n",
              "      <td>0.97640</td>\n",
              "      <td>0.97767</td>\n",
              "      <td>0.97899</td>\n",
              "      <td>0.977326</td>\n",
              "      <td>0.97660</td>\n",
              "    </tr>\n",
              "    <tr>\n",
              "      <th>review_text_clean_stop_stem</th>\n",
              "      <td>0.97352</td>\n",
              "      <td>0.97343</td>\n",
              "      <td>0.97304</td>\n",
              "      <td>0.97304</td>\n",
              "      <td>0.97542</td>\n",
              "      <td>0.973690</td>\n",
              "      <td>0.97252</td>\n",
              "    </tr>\n",
              "    <tr>\n",
              "      <th>review_text_clean_lemma</th>\n",
              "      <td>0.97678</td>\n",
              "      <td>0.97772</td>\n",
              "      <td>0.97756</td>\n",
              "      <td>0.97812</td>\n",
              "      <td>0.97929</td>\n",
              "      <td>0.977894</td>\n",
              "      <td>0.97714</td>\n",
              "    </tr>\n",
              "    <tr>\n",
              "      <th>review_text_clean_stop_lemma</th>\n",
              "      <td>0.97265</td>\n",
              "      <td>0.97282</td>\n",
              "      <td>0.97252</td>\n",
              "      <td>0.97236</td>\n",
              "      <td>0.97430</td>\n",
              "      <td>0.972930</td>\n",
              "      <td>0.97262</td>\n",
              "    </tr>\n",
              "  </tbody>\n",
              "</table>\n",
              "</div>\n",
              "    <div class=\"colab-df-buttons\">\n",
              "\n",
              "  <div class=\"colab-df-container\">\n",
              "    <button class=\"colab-df-convert\" onclick=\"convertToInteractive('df-354f3d09-e046-4fef-992f-cf6a8b0b1da0')\"\n",
              "            title=\"Convert this dataframe to an interactive table.\"\n",
              "            style=\"display:none;\">\n",
              "\n",
              "  <svg xmlns=\"http://www.w3.org/2000/svg\" height=\"24px\" viewBox=\"0 -960 960 960\">\n",
              "    <path d=\"M120-120v-720h720v720H120Zm60-500h600v-160H180v160Zm220 220h160v-160H400v160Zm0 220h160v-160H400v160ZM180-400h160v-160H180v160Zm440 0h160v-160H620v160ZM180-180h160v-160H180v160Zm440 0h160v-160H620v160Z\"/>\n",
              "  </svg>\n",
              "    </button>\n",
              "\n",
              "  <style>\n",
              "    .colab-df-container {\n",
              "      display:flex;\n",
              "      gap: 12px;\n",
              "    }\n",
              "\n",
              "    .colab-df-convert {\n",
              "      background-color: #E8F0FE;\n",
              "      border: none;\n",
              "      border-radius: 50%;\n",
              "      cursor: pointer;\n",
              "      display: none;\n",
              "      fill: #1967D2;\n",
              "      height: 32px;\n",
              "      padding: 0 0 0 0;\n",
              "      width: 32px;\n",
              "    }\n",
              "\n",
              "    .colab-df-convert:hover {\n",
              "      background-color: #E2EBFA;\n",
              "      box-shadow: 0px 1px 2px rgba(60, 64, 67, 0.3), 0px 1px 3px 1px rgba(60, 64, 67, 0.15);\n",
              "      fill: #174EA6;\n",
              "    }\n",
              "\n",
              "    .colab-df-buttons div {\n",
              "      margin-bottom: 4px;\n",
              "    }\n",
              "\n",
              "    [theme=dark] .colab-df-convert {\n",
              "      background-color: #3B4455;\n",
              "      fill: #D2E3FC;\n",
              "    }\n",
              "\n",
              "    [theme=dark] .colab-df-convert:hover {\n",
              "      background-color: #434B5C;\n",
              "      box-shadow: 0px 1px 3px 1px rgba(0, 0, 0, 0.15);\n",
              "      filter: drop-shadow(0px 1px 2px rgba(0, 0, 0, 0.3));\n",
              "      fill: #FFFFFF;\n",
              "    }\n",
              "  </style>\n",
              "\n",
              "    <script>\n",
              "      const buttonEl =\n",
              "        document.querySelector('#df-354f3d09-e046-4fef-992f-cf6a8b0b1da0 button.colab-df-convert');\n",
              "      buttonEl.style.display =\n",
              "        google.colab.kernel.accessAllowed ? 'block' : 'none';\n",
              "\n",
              "      async function convertToInteractive(key) {\n",
              "        const element = document.querySelector('#df-354f3d09-e046-4fef-992f-cf6a8b0b1da0');\n",
              "        const dataTable =\n",
              "          await google.colab.kernel.invokeFunction('convertToInteractive',\n",
              "                                                    [key], {});\n",
              "        if (!dataTable) return;\n",
              "\n",
              "        const docLinkHtml = 'Like what you see? Visit the ' +\n",
              "          '<a target=\"_blank\" href=https://colab.research.google.com/notebooks/data_table.ipynb>data table notebook</a>'\n",
              "          + ' to learn more about interactive tables.';\n",
              "        element.innerHTML = '';\n",
              "        dataTable['output_type'] = 'display_data';\n",
              "        await google.colab.output.renderOutput(dataTable, element);\n",
              "        const docLink = document.createElement('div');\n",
              "        docLink.innerHTML = docLinkHtml;\n",
              "        element.appendChild(docLink);\n",
              "      }\n",
              "    </script>\n",
              "  </div>\n",
              "\n",
              "\n",
              "<div id=\"df-3655768a-1860-4b6d-88e2-82256b9c7bce\">\n",
              "  <button class=\"colab-df-quickchart\" onclick=\"quickchart('df-3655768a-1860-4b6d-88e2-82256b9c7bce')\"\n",
              "            title=\"Suggest charts.\"\n",
              "            style=\"display:none;\">\n",
              "\n",
              "<svg xmlns=\"http://www.w3.org/2000/svg\" height=\"24px\"viewBox=\"0 0 24 24\"\n",
              "     width=\"24px\">\n",
              "    <g>\n",
              "        <path d=\"M19 3H5c-1.1 0-2 .9-2 2v14c0 1.1.9 2 2 2h14c1.1 0 2-.9 2-2V5c0-1.1-.9-2-2-2zM9 17H7v-7h2v7zm4 0h-2V7h2v10zm4 0h-2v-4h2v4z\"/>\n",
              "    </g>\n",
              "</svg>\n",
              "  </button>\n",
              "\n",
              "<style>\n",
              "  .colab-df-quickchart {\n",
              "    background-color: #E8F0FE;\n",
              "    border: none;\n",
              "    border-radius: 50%;\n",
              "    cursor: pointer;\n",
              "    display: none;\n",
              "    fill: #1967D2;\n",
              "    height: 32px;\n",
              "    padding: 0 0 0 0;\n",
              "    width: 32px;\n",
              "  }\n",
              "\n",
              "  .colab-df-quickchart:hover {\n",
              "    background-color: #E2EBFA;\n",
              "    box-shadow: 0px 1px 2px rgba(60, 64, 67, 0.3), 0px 1px 3px 1px rgba(60, 64, 67, 0.15);\n",
              "    fill: #174EA6;\n",
              "  }\n",
              "\n",
              "  [theme=dark] .colab-df-quickchart {\n",
              "    background-color: #3B4455;\n",
              "    fill: #D2E3FC;\n",
              "  }\n",
              "\n",
              "  [theme=dark] .colab-df-quickchart:hover {\n",
              "    background-color: #434B5C;\n",
              "    box-shadow: 0px 1px 3px 1px rgba(0, 0, 0, 0.15);\n",
              "    filter: drop-shadow(0px 1px 2px rgba(0, 0, 0, 0.3));\n",
              "    fill: #FFFFFF;\n",
              "  }\n",
              "</style>\n",
              "\n",
              "  <script>\n",
              "    async function quickchart(key) {\n",
              "      const charts = await google.colab.kernel.invokeFunction(\n",
              "          'suggestCharts', [key], {});\n",
              "    }\n",
              "    (() => {\n",
              "      let quickchartButtonEl =\n",
              "        document.querySelector('#df-3655768a-1860-4b6d-88e2-82256b9c7bce button');\n",
              "      quickchartButtonEl.style.display =\n",
              "        google.colab.kernel.accessAllowed ? 'block' : 'none';\n",
              "    })();\n",
              "  </script>\n",
              "</div>\n",
              "    </div>\n",
              "  </div>\n"
            ]
          },
          "metadata": {},
          "execution_count": 27
        }
      ]
    },
    {
      "cell_type": "markdown",
      "id": "7ba58812",
      "metadata": {
        "id": "7ba58812"
      },
      "source": [
        "#### SG - Skip-Gram\n",
        "___"
      ]
    },
    {
      "cell_type": "code",
      "source": [
        "cv_score_skgram, test_score_skgram = pipeline(X_train, y_train,\n",
        "                                              X_test, y_test,\n",
        "                                              apply_word2vec, sg=1)"
      ],
      "metadata": {
        "colab": {
          "base_uri": "https://localhost:8080/"
        },
        "id": "J3l4qOaJVYir",
        "outputId": "f5762f06-0240-49be-b4ca-1f4f6397efcc"
      },
      "id": "J3l4qOaJVYir",
      "execution_count": null,
      "outputs": [
        {
          "output_type": "stream",
          "name": "stdout",
          "text": [
            "Running: review_text_clean\n",
            "Running: review_text_clean_stop\n",
            "Running: review_text_clean_stem\n",
            "Running: review_text_clean_stop_stem\n",
            "Running: review_text_clean_lemma\n",
            "Running: review_text_clean_stop_lemma\n",
            "\n",
            "Execution time: 00:14:09\n"
          ]
        }
      ]
    },
    {
      "cell_type": "code",
      "source": [
        "df_score_skgram = create_score_table(cv_score_skgram, test_score_skgram)\n",
        "df_score_skgram"
      ],
      "metadata": {
        "colab": {
          "base_uri": "https://localhost:8080/",
          "height": 237
        },
        "id": "emIMPJhbGbEY",
        "outputId": "c11b5bca-f1bc-4587-cabf-e2c4ab5c93e5"
      },
      "id": "emIMPJhbGbEY",
      "execution_count": null,
      "outputs": [
        {
          "output_type": "execute_result",
          "data": {
            "text/plain": [
              "                                    0        1        2        3        4  \\\n",
              "review_text_clean             0.97581  0.97610  0.97586  0.97705  0.97788   \n",
              "review_text_clean_stop        0.97293  0.97296  0.97394  0.97348  0.97449   \n",
              "review_text_clean_stem        0.97589  0.97667  0.97668  0.97735  0.97830   \n",
              "review_text_clean_stop_stem   0.97327  0.97325  0.97240  0.97213  0.97506   \n",
              "review_text_clean_lemma       0.97678  0.97769  0.97762  0.97818  0.98000   \n",
              "review_text_clean_stop_lemma  0.97267  0.97272  0.97249  0.97251  0.97444   \n",
              "\n",
              "                              train_mean     test  \n",
              "review_text_clean               0.976540  0.97582  \n",
              "review_text_clean_stop          0.973560  0.97303  \n",
              "review_text_clean_stem          0.976978  0.97626  \n",
              "review_text_clean_stop_stem     0.973222  0.97284  \n",
              "review_text_clean_lemma         0.978054  0.97684  \n",
              "review_text_clean_stop_lemma    0.972966  0.97251  "
            ],
            "text/html": [
              "\n",
              "  <div id=\"df-10b8bc66-9abf-46d6-a59c-bd27bf7d5783\" class=\"colab-df-container\">\n",
              "    <div>\n",
              "<style scoped>\n",
              "    .dataframe tbody tr th:only-of-type {\n",
              "        vertical-align: middle;\n",
              "    }\n",
              "\n",
              "    .dataframe tbody tr th {\n",
              "        vertical-align: top;\n",
              "    }\n",
              "\n",
              "    .dataframe thead th {\n",
              "        text-align: right;\n",
              "    }\n",
              "</style>\n",
              "<table border=\"1\" class=\"dataframe\">\n",
              "  <thead>\n",
              "    <tr style=\"text-align: right;\">\n",
              "      <th></th>\n",
              "      <th>0</th>\n",
              "      <th>1</th>\n",
              "      <th>2</th>\n",
              "      <th>3</th>\n",
              "      <th>4</th>\n",
              "      <th>train_mean</th>\n",
              "      <th>test</th>\n",
              "    </tr>\n",
              "  </thead>\n",
              "  <tbody>\n",
              "    <tr>\n",
              "      <th>review_text_clean</th>\n",
              "      <td>0.97581</td>\n",
              "      <td>0.97610</td>\n",
              "      <td>0.97586</td>\n",
              "      <td>0.97705</td>\n",
              "      <td>0.97788</td>\n",
              "      <td>0.976540</td>\n",
              "      <td>0.97582</td>\n",
              "    </tr>\n",
              "    <tr>\n",
              "      <th>review_text_clean_stop</th>\n",
              "      <td>0.97293</td>\n",
              "      <td>0.97296</td>\n",
              "      <td>0.97394</td>\n",
              "      <td>0.97348</td>\n",
              "      <td>0.97449</td>\n",
              "      <td>0.973560</td>\n",
              "      <td>0.97303</td>\n",
              "    </tr>\n",
              "    <tr>\n",
              "      <th>review_text_clean_stem</th>\n",
              "      <td>0.97589</td>\n",
              "      <td>0.97667</td>\n",
              "      <td>0.97668</td>\n",
              "      <td>0.97735</td>\n",
              "      <td>0.97830</td>\n",
              "      <td>0.976978</td>\n",
              "      <td>0.97626</td>\n",
              "    </tr>\n",
              "    <tr>\n",
              "      <th>review_text_clean_stop_stem</th>\n",
              "      <td>0.97327</td>\n",
              "      <td>0.97325</td>\n",
              "      <td>0.97240</td>\n",
              "      <td>0.97213</td>\n",
              "      <td>0.97506</td>\n",
              "      <td>0.973222</td>\n",
              "      <td>0.97284</td>\n",
              "    </tr>\n",
              "    <tr>\n",
              "      <th>review_text_clean_lemma</th>\n",
              "      <td>0.97678</td>\n",
              "      <td>0.97769</td>\n",
              "      <td>0.97762</td>\n",
              "      <td>0.97818</td>\n",
              "      <td>0.98000</td>\n",
              "      <td>0.978054</td>\n",
              "      <td>0.97684</td>\n",
              "    </tr>\n",
              "    <tr>\n",
              "      <th>review_text_clean_stop_lemma</th>\n",
              "      <td>0.97267</td>\n",
              "      <td>0.97272</td>\n",
              "      <td>0.97249</td>\n",
              "      <td>0.97251</td>\n",
              "      <td>0.97444</td>\n",
              "      <td>0.972966</td>\n",
              "      <td>0.97251</td>\n",
              "    </tr>\n",
              "  </tbody>\n",
              "</table>\n",
              "</div>\n",
              "    <div class=\"colab-df-buttons\">\n",
              "\n",
              "  <div class=\"colab-df-container\">\n",
              "    <button class=\"colab-df-convert\" onclick=\"convertToInteractive('df-10b8bc66-9abf-46d6-a59c-bd27bf7d5783')\"\n",
              "            title=\"Convert this dataframe to an interactive table.\"\n",
              "            style=\"display:none;\">\n",
              "\n",
              "  <svg xmlns=\"http://www.w3.org/2000/svg\" height=\"24px\" viewBox=\"0 -960 960 960\">\n",
              "    <path d=\"M120-120v-720h720v720H120Zm60-500h600v-160H180v160Zm220 220h160v-160H400v160Zm0 220h160v-160H400v160ZM180-400h160v-160H180v160Zm440 0h160v-160H620v160ZM180-180h160v-160H180v160Zm440 0h160v-160H620v160Z\"/>\n",
              "  </svg>\n",
              "    </button>\n",
              "\n",
              "  <style>\n",
              "    .colab-df-container {\n",
              "      display:flex;\n",
              "      gap: 12px;\n",
              "    }\n",
              "\n",
              "    .colab-df-convert {\n",
              "      background-color: #E8F0FE;\n",
              "      border: none;\n",
              "      border-radius: 50%;\n",
              "      cursor: pointer;\n",
              "      display: none;\n",
              "      fill: #1967D2;\n",
              "      height: 32px;\n",
              "      padding: 0 0 0 0;\n",
              "      width: 32px;\n",
              "    }\n",
              "\n",
              "    .colab-df-convert:hover {\n",
              "      background-color: #E2EBFA;\n",
              "      box-shadow: 0px 1px 2px rgba(60, 64, 67, 0.3), 0px 1px 3px 1px rgba(60, 64, 67, 0.15);\n",
              "      fill: #174EA6;\n",
              "    }\n",
              "\n",
              "    .colab-df-buttons div {\n",
              "      margin-bottom: 4px;\n",
              "    }\n",
              "\n",
              "    [theme=dark] .colab-df-convert {\n",
              "      background-color: #3B4455;\n",
              "      fill: #D2E3FC;\n",
              "    }\n",
              "\n",
              "    [theme=dark] .colab-df-convert:hover {\n",
              "      background-color: #434B5C;\n",
              "      box-shadow: 0px 1px 3px 1px rgba(0, 0, 0, 0.15);\n",
              "      filter: drop-shadow(0px 1px 2px rgba(0, 0, 0, 0.3));\n",
              "      fill: #FFFFFF;\n",
              "    }\n",
              "  </style>\n",
              "\n",
              "    <script>\n",
              "      const buttonEl =\n",
              "        document.querySelector('#df-10b8bc66-9abf-46d6-a59c-bd27bf7d5783 button.colab-df-convert');\n",
              "      buttonEl.style.display =\n",
              "        google.colab.kernel.accessAllowed ? 'block' : 'none';\n",
              "\n",
              "      async function convertToInteractive(key) {\n",
              "        const element = document.querySelector('#df-10b8bc66-9abf-46d6-a59c-bd27bf7d5783');\n",
              "        const dataTable =\n",
              "          await google.colab.kernel.invokeFunction('convertToInteractive',\n",
              "                                                    [key], {});\n",
              "        if (!dataTable) return;\n",
              "\n",
              "        const docLinkHtml = 'Like what you see? Visit the ' +\n",
              "          '<a target=\"_blank\" href=https://colab.research.google.com/notebooks/data_table.ipynb>data table notebook</a>'\n",
              "          + ' to learn more about interactive tables.';\n",
              "        element.innerHTML = '';\n",
              "        dataTable['output_type'] = 'display_data';\n",
              "        await google.colab.output.renderOutput(dataTable, element);\n",
              "        const docLink = document.createElement('div');\n",
              "        docLink.innerHTML = docLinkHtml;\n",
              "        element.appendChild(docLink);\n",
              "      }\n",
              "    </script>\n",
              "  </div>\n",
              "\n",
              "\n",
              "<div id=\"df-b344b8aa-0d4b-40ac-b1bf-b1c6fa0f96c1\">\n",
              "  <button class=\"colab-df-quickchart\" onclick=\"quickchart('df-b344b8aa-0d4b-40ac-b1bf-b1c6fa0f96c1')\"\n",
              "            title=\"Suggest charts.\"\n",
              "            style=\"display:none;\">\n",
              "\n",
              "<svg xmlns=\"http://www.w3.org/2000/svg\" height=\"24px\"viewBox=\"0 0 24 24\"\n",
              "     width=\"24px\">\n",
              "    <g>\n",
              "        <path d=\"M19 3H5c-1.1 0-2 .9-2 2v14c0 1.1.9 2 2 2h14c1.1 0 2-.9 2-2V5c0-1.1-.9-2-2-2zM9 17H7v-7h2v7zm4 0h-2V7h2v10zm4 0h-2v-4h2v4z\"/>\n",
              "    </g>\n",
              "</svg>\n",
              "  </button>\n",
              "\n",
              "<style>\n",
              "  .colab-df-quickchart {\n",
              "    background-color: #E8F0FE;\n",
              "    border: none;\n",
              "    border-radius: 50%;\n",
              "    cursor: pointer;\n",
              "    display: none;\n",
              "    fill: #1967D2;\n",
              "    height: 32px;\n",
              "    padding: 0 0 0 0;\n",
              "    width: 32px;\n",
              "  }\n",
              "\n",
              "  .colab-df-quickchart:hover {\n",
              "    background-color: #E2EBFA;\n",
              "    box-shadow: 0px 1px 2px rgba(60, 64, 67, 0.3), 0px 1px 3px 1px rgba(60, 64, 67, 0.15);\n",
              "    fill: #174EA6;\n",
              "  }\n",
              "\n",
              "  [theme=dark] .colab-df-quickchart {\n",
              "    background-color: #3B4455;\n",
              "    fill: #D2E3FC;\n",
              "  }\n",
              "\n",
              "  [theme=dark] .colab-df-quickchart:hover {\n",
              "    background-color: #434B5C;\n",
              "    box-shadow: 0px 1px 3px 1px rgba(0, 0, 0, 0.15);\n",
              "    filter: drop-shadow(0px 1px 2px rgba(0, 0, 0, 0.3));\n",
              "    fill: #FFFFFF;\n",
              "  }\n",
              "</style>\n",
              "\n",
              "  <script>\n",
              "    async function quickchart(key) {\n",
              "      const charts = await google.colab.kernel.invokeFunction(\n",
              "          'suggestCharts', [key], {});\n",
              "    }\n",
              "    (() => {\n",
              "      let quickchartButtonEl =\n",
              "        document.querySelector('#df-b344b8aa-0d4b-40ac-b1bf-b1c6fa0f96c1 button');\n",
              "      quickchartButtonEl.style.display =\n",
              "        google.colab.kernel.accessAllowed ? 'block' : 'none';\n",
              "    })();\n",
              "  </script>\n",
              "</div>\n",
              "    </div>\n",
              "  </div>\n"
            ]
          },
          "metadata": {},
          "execution_count": 29
        }
      ]
    },
    {
      "cell_type": "markdown",
      "id": "ccf5b5fa",
      "metadata": {
        "id": "ccf5b5fa"
      },
      "source": [
        "### FastText\n",
        "___"
      ]
    },
    {
      "cell_type": "code",
      "execution_count": null,
      "id": "d06acc07",
      "metadata": {
        "ExecuteTime": {
          "end_time": "2023-07-25T17:42:55.467814Z",
          "start_time": "2023-07-25T17:42:55.223958Z"
        },
        "id": "d06acc07"
      },
      "outputs": [],
      "source": [
        "from gensim.models import FastText"
      ]
    },
    {
      "cell_type": "code",
      "source": [
        "def apply_FastText(X_train, X_test):\n",
        "  X_train_tokenized = [text.split() for text in X_train.values.tolist()]\n",
        "  X_test_tokenized = [text.split() for text in X_test.values.tolist()]\n",
        "\n",
        "  vectorizer = FastText(vector_size=300, workers=cores)\n",
        "  vectorizer.build_vocab(X_train_tokenized)\n",
        "  vectorizer.train(X_train_tokenized, total_examples=vectorizer.corpus_count,epochs=vectorizer.epochs)\n",
        "\n",
        "  # A random vector for OOV it's better than zeros vector, because model can learn something\n",
        "  vector_shape = vectorizer.wv[list(vectorizer.wv.key_to_index)[0]].shape\n",
        "  np.random.seed(seed_value)\n",
        "  UNK_TOKEN = np.random.rand(*vector_shape)\n",
        "\n",
        "  def get_word_vector(word):\n",
        "    return vectorizer.wv[word] if word in vectorizer.wv else UNK_TOKEN\n",
        "\n",
        "  X_train_vec = [[get_word_vector(word) for word in text] for text in X_train_tokenized]\n",
        "  X_test_vec = [[get_word_vector(word) for word in text] for text in X_test_tokenized]\n",
        "\n",
        "  # Get mean of word vectors for each text\n",
        "  X_train_vec = [np.mean(np.array(vector).T, axis=1) for vector in X_train_vec]\n",
        "  X_test_vec = [np.mean(np.array(vector).T, axis=1) for vector in X_test_vec]\n",
        "\n",
        "  return X_train_vec, X_test_vec"
      ],
      "metadata": {
        "id": "CyfW7dlamBTJ"
      },
      "id": "CyfW7dlamBTJ",
      "execution_count": null,
      "outputs": []
    },
    {
      "cell_type": "code",
      "source": [
        "cv_score_FastTest, test_score_FastTest = pipeline(X_train, y_train,\n",
        "                                                  X_test, y_test,\n",
        "                                                  apply_FastText)"
      ],
      "metadata": {
        "colab": {
          "base_uri": "https://localhost:8080/"
        },
        "id": "3Wn6eExUwAK3",
        "outputId": "efd86738-0a5e-4ef4-f2d9-8d19d9dd3de4"
      },
      "id": "3Wn6eExUwAK3",
      "execution_count": null,
      "outputs": [
        {
          "output_type": "stream",
          "name": "stdout",
          "text": [
            "Running: review_text_clean\n",
            "Running: review_text_clean_stop\n",
            "Running: review_text_clean_stem\n",
            "Running: review_text_clean_stop_stem\n",
            "Running: review_text_clean_lemma\n",
            "Running: review_text_clean_stop_lemma\n",
            "\n",
            "Execution time: 00:19:22\n"
          ]
        }
      ]
    },
    {
      "cell_type": "code",
      "source": [
        "df_score_FastTest = create_score_table(cv_score_FastTest, test_score_FastTest)\n",
        "df_score_FastTest"
      ],
      "metadata": {
        "colab": {
          "base_uri": "https://localhost:8080/",
          "height": 237
        },
        "id": "5NmICQ-AGPPu",
        "outputId": "05f32e8f-8cf7-449f-cb3a-a2f6318a3af6"
      },
      "id": "5NmICQ-AGPPu",
      "execution_count": null,
      "outputs": [
        {
          "output_type": "execute_result",
          "data": {
            "text/plain": [
              "                                    0        1        2        3        4  \\\n",
              "review_text_clean             0.96909  0.96999  0.97085  0.97160  0.97216   \n",
              "review_text_clean_stop        0.96951  0.97003  0.97132  0.96977  0.97138   \n",
              "review_text_clean_stem        0.97152  0.97214  0.97235  0.97276  0.97398   \n",
              "review_text_clean_stop_stem   0.96947  0.97005  0.97058  0.96987  0.97249   \n",
              "review_text_clean_lemma       0.97140  0.97171  0.97260  0.97227  0.97447   \n",
              "review_text_clean_stop_lemma  0.96896  0.96847  0.96922  0.96850  0.97080   \n",
              "\n",
              "                              train_mean     test  \n",
              "review_text_clean               0.970738  0.96993  \n",
              "review_text_clean_stop          0.970402  0.96966  \n",
              "review_text_clean_stem          0.972550  0.97130  \n",
              "review_text_clean_stop_stem     0.970492  0.97055  \n",
              "review_text_clean_lemma         0.972490  0.97219  \n",
              "review_text_clean_stop_lemma    0.969190  0.96903  "
            ],
            "text/html": [
              "\n",
              "  <div id=\"df-c7067a7c-22f7-4830-923f-bb0d3c70ed05\" class=\"colab-df-container\">\n",
              "    <div>\n",
              "<style scoped>\n",
              "    .dataframe tbody tr th:only-of-type {\n",
              "        vertical-align: middle;\n",
              "    }\n",
              "\n",
              "    .dataframe tbody tr th {\n",
              "        vertical-align: top;\n",
              "    }\n",
              "\n",
              "    .dataframe thead th {\n",
              "        text-align: right;\n",
              "    }\n",
              "</style>\n",
              "<table border=\"1\" class=\"dataframe\">\n",
              "  <thead>\n",
              "    <tr style=\"text-align: right;\">\n",
              "      <th></th>\n",
              "      <th>0</th>\n",
              "      <th>1</th>\n",
              "      <th>2</th>\n",
              "      <th>3</th>\n",
              "      <th>4</th>\n",
              "      <th>train_mean</th>\n",
              "      <th>test</th>\n",
              "    </tr>\n",
              "  </thead>\n",
              "  <tbody>\n",
              "    <tr>\n",
              "      <th>review_text_clean</th>\n",
              "      <td>0.96909</td>\n",
              "      <td>0.96999</td>\n",
              "      <td>0.97085</td>\n",
              "      <td>0.97160</td>\n",
              "      <td>0.97216</td>\n",
              "      <td>0.970738</td>\n",
              "      <td>0.96993</td>\n",
              "    </tr>\n",
              "    <tr>\n",
              "      <th>review_text_clean_stop</th>\n",
              "      <td>0.96951</td>\n",
              "      <td>0.97003</td>\n",
              "      <td>0.97132</td>\n",
              "      <td>0.96977</td>\n",
              "      <td>0.97138</td>\n",
              "      <td>0.970402</td>\n",
              "      <td>0.96966</td>\n",
              "    </tr>\n",
              "    <tr>\n",
              "      <th>review_text_clean_stem</th>\n",
              "      <td>0.97152</td>\n",
              "      <td>0.97214</td>\n",
              "      <td>0.97235</td>\n",
              "      <td>0.97276</td>\n",
              "      <td>0.97398</td>\n",
              "      <td>0.972550</td>\n",
              "      <td>0.97130</td>\n",
              "    </tr>\n",
              "    <tr>\n",
              "      <th>review_text_clean_stop_stem</th>\n",
              "      <td>0.96947</td>\n",
              "      <td>0.97005</td>\n",
              "      <td>0.97058</td>\n",
              "      <td>0.96987</td>\n",
              "      <td>0.97249</td>\n",
              "      <td>0.970492</td>\n",
              "      <td>0.97055</td>\n",
              "    </tr>\n",
              "    <tr>\n",
              "      <th>review_text_clean_lemma</th>\n",
              "      <td>0.97140</td>\n",
              "      <td>0.97171</td>\n",
              "      <td>0.97260</td>\n",
              "      <td>0.97227</td>\n",
              "      <td>0.97447</td>\n",
              "      <td>0.972490</td>\n",
              "      <td>0.97219</td>\n",
              "    </tr>\n",
              "    <tr>\n",
              "      <th>review_text_clean_stop_lemma</th>\n",
              "      <td>0.96896</td>\n",
              "      <td>0.96847</td>\n",
              "      <td>0.96922</td>\n",
              "      <td>0.96850</td>\n",
              "      <td>0.97080</td>\n",
              "      <td>0.969190</td>\n",
              "      <td>0.96903</td>\n",
              "    </tr>\n",
              "  </tbody>\n",
              "</table>\n",
              "</div>\n",
              "    <div class=\"colab-df-buttons\">\n",
              "\n",
              "  <div class=\"colab-df-container\">\n",
              "    <button class=\"colab-df-convert\" onclick=\"convertToInteractive('df-c7067a7c-22f7-4830-923f-bb0d3c70ed05')\"\n",
              "            title=\"Convert this dataframe to an interactive table.\"\n",
              "            style=\"display:none;\">\n",
              "\n",
              "  <svg xmlns=\"http://www.w3.org/2000/svg\" height=\"24px\" viewBox=\"0 -960 960 960\">\n",
              "    <path d=\"M120-120v-720h720v720H120Zm60-500h600v-160H180v160Zm220 220h160v-160H400v160Zm0 220h160v-160H400v160ZM180-400h160v-160H180v160Zm440 0h160v-160H620v160ZM180-180h160v-160H180v160Zm440 0h160v-160H620v160Z\"/>\n",
              "  </svg>\n",
              "    </button>\n",
              "\n",
              "  <style>\n",
              "    .colab-df-container {\n",
              "      display:flex;\n",
              "      gap: 12px;\n",
              "    }\n",
              "\n",
              "    .colab-df-convert {\n",
              "      background-color: #E8F0FE;\n",
              "      border: none;\n",
              "      border-radius: 50%;\n",
              "      cursor: pointer;\n",
              "      display: none;\n",
              "      fill: #1967D2;\n",
              "      height: 32px;\n",
              "      padding: 0 0 0 0;\n",
              "      width: 32px;\n",
              "    }\n",
              "\n",
              "    .colab-df-convert:hover {\n",
              "      background-color: #E2EBFA;\n",
              "      box-shadow: 0px 1px 2px rgba(60, 64, 67, 0.3), 0px 1px 3px 1px rgba(60, 64, 67, 0.15);\n",
              "      fill: #174EA6;\n",
              "    }\n",
              "\n",
              "    .colab-df-buttons div {\n",
              "      margin-bottom: 4px;\n",
              "    }\n",
              "\n",
              "    [theme=dark] .colab-df-convert {\n",
              "      background-color: #3B4455;\n",
              "      fill: #D2E3FC;\n",
              "    }\n",
              "\n",
              "    [theme=dark] .colab-df-convert:hover {\n",
              "      background-color: #434B5C;\n",
              "      box-shadow: 0px 1px 3px 1px rgba(0, 0, 0, 0.15);\n",
              "      filter: drop-shadow(0px 1px 2px rgba(0, 0, 0, 0.3));\n",
              "      fill: #FFFFFF;\n",
              "    }\n",
              "  </style>\n",
              "\n",
              "    <script>\n",
              "      const buttonEl =\n",
              "        document.querySelector('#df-c7067a7c-22f7-4830-923f-bb0d3c70ed05 button.colab-df-convert');\n",
              "      buttonEl.style.display =\n",
              "        google.colab.kernel.accessAllowed ? 'block' : 'none';\n",
              "\n",
              "      async function convertToInteractive(key) {\n",
              "        const element = document.querySelector('#df-c7067a7c-22f7-4830-923f-bb0d3c70ed05');\n",
              "        const dataTable =\n",
              "          await google.colab.kernel.invokeFunction('convertToInteractive',\n",
              "                                                    [key], {});\n",
              "        if (!dataTable) return;\n",
              "\n",
              "        const docLinkHtml = 'Like what you see? Visit the ' +\n",
              "          '<a target=\"_blank\" href=https://colab.research.google.com/notebooks/data_table.ipynb>data table notebook</a>'\n",
              "          + ' to learn more about interactive tables.';\n",
              "        element.innerHTML = '';\n",
              "        dataTable['output_type'] = 'display_data';\n",
              "        await google.colab.output.renderOutput(dataTable, element);\n",
              "        const docLink = document.createElement('div');\n",
              "        docLink.innerHTML = docLinkHtml;\n",
              "        element.appendChild(docLink);\n",
              "      }\n",
              "    </script>\n",
              "  </div>\n",
              "\n",
              "\n",
              "<div id=\"df-bd52b57c-43ba-453e-9c5b-4fe33c291ca4\">\n",
              "  <button class=\"colab-df-quickchart\" onclick=\"quickchart('df-bd52b57c-43ba-453e-9c5b-4fe33c291ca4')\"\n",
              "            title=\"Suggest charts.\"\n",
              "            style=\"display:none;\">\n",
              "\n",
              "<svg xmlns=\"http://www.w3.org/2000/svg\" height=\"24px\"viewBox=\"0 0 24 24\"\n",
              "     width=\"24px\">\n",
              "    <g>\n",
              "        <path d=\"M19 3H5c-1.1 0-2 .9-2 2v14c0 1.1.9 2 2 2h14c1.1 0 2-.9 2-2V5c0-1.1-.9-2-2-2zM9 17H7v-7h2v7zm4 0h-2V7h2v10zm4 0h-2v-4h2v4z\"/>\n",
              "    </g>\n",
              "</svg>\n",
              "  </button>\n",
              "\n",
              "<style>\n",
              "  .colab-df-quickchart {\n",
              "    background-color: #E8F0FE;\n",
              "    border: none;\n",
              "    border-radius: 50%;\n",
              "    cursor: pointer;\n",
              "    display: none;\n",
              "    fill: #1967D2;\n",
              "    height: 32px;\n",
              "    padding: 0 0 0 0;\n",
              "    width: 32px;\n",
              "  }\n",
              "\n",
              "  .colab-df-quickchart:hover {\n",
              "    background-color: #E2EBFA;\n",
              "    box-shadow: 0px 1px 2px rgba(60, 64, 67, 0.3), 0px 1px 3px 1px rgba(60, 64, 67, 0.15);\n",
              "    fill: #174EA6;\n",
              "  }\n",
              "\n",
              "  [theme=dark] .colab-df-quickchart {\n",
              "    background-color: #3B4455;\n",
              "    fill: #D2E3FC;\n",
              "  }\n",
              "\n",
              "  [theme=dark] .colab-df-quickchart:hover {\n",
              "    background-color: #434B5C;\n",
              "    box-shadow: 0px 1px 3px 1px rgba(0, 0, 0, 0.15);\n",
              "    filter: drop-shadow(0px 1px 2px rgba(0, 0, 0, 0.3));\n",
              "    fill: #FFFFFF;\n",
              "  }\n",
              "</style>\n",
              "\n",
              "  <script>\n",
              "    async function quickchart(key) {\n",
              "      const charts = await google.colab.kernel.invokeFunction(\n",
              "          'suggestCharts', [key], {});\n",
              "    }\n",
              "    (() => {\n",
              "      let quickchartButtonEl =\n",
              "        document.querySelector('#df-bd52b57c-43ba-453e-9c5b-4fe33c291ca4 button');\n",
              "      quickchartButtonEl.style.display =\n",
              "        google.colab.kernel.accessAllowed ? 'block' : 'none';\n",
              "    })();\n",
              "  </script>\n",
              "</div>\n",
              "    </div>\n",
              "  </div>\n"
            ]
          },
          "metadata": {},
          "execution_count": 33
        }
      ]
    },
    {
      "cell_type": "markdown",
      "id": "02444b2c",
      "metadata": {
        "id": "02444b2c"
      },
      "source": [
        "### Doc2Vec\n",
        "___"
      ]
    },
    {
      "cell_type": "code",
      "execution_count": null,
      "id": "f4c71a6b",
      "metadata": {
        "ExecuteTime": {
          "end_time": "2023-07-24T20:05:35.982840Z",
          "start_time": "2023-07-24T20:05:35.910763Z"
        },
        "id": "f4c71a6b"
      },
      "outputs": [],
      "source": [
        "from gensim.models import Doc2Vec\n",
        "from gensim.models.doc2vec import TaggedDocument"
      ]
    },
    {
      "cell_type": "code",
      "source": [
        "def apply_doc2vec(X_train, X_test, dm=0):\n",
        "  X_train_tagged = [TaggedDocument(words=text.split(), tags=[str(i)]) for i, text in enumerate(X_train.values.tolist())]\n",
        "  X_test_tokenized = [text.split() for text in X_test.values.tolist()]\n",
        "\n",
        "  vectorizer = Doc2Vec(vector_size=300, workers=cores, dm=dm)\n",
        "  vectorizer.build_vocab(X_train_tagged)\n",
        "  vectorizer.train(X_train_tagged, total_examples=vectorizer.corpus_count, epochs=vectorizer.epochs)\n",
        "\n",
        "  X_train_vec = [vectorizer.dv[tag] for tag in vectorizer.dv.index_to_key]\n",
        "  X_test_vec = [vectorizer.infer_vector(text) for text in X_test_tokenized]\n",
        "\n",
        "  return X_train_vec, X_test_vec"
      ],
      "metadata": {
        "id": "HdgBXD3J3o_s"
      },
      "id": "HdgBXD3J3o_s",
      "execution_count": null,
      "outputs": []
    },
    {
      "cell_type": "markdown",
      "id": "18672e00",
      "metadata": {
        "id": "18672e00"
      },
      "source": [
        "#### DBOW - Distributed Bag of Words\n",
        "___"
      ]
    },
    {
      "cell_type": "code",
      "source": [
        "cv_score_dbow, test_score_dbow = pipeline(X_train, y_train,\n",
        "                                          X_test, y_test,\n",
        "                                          apply_doc2vec, dm=0)"
      ],
      "metadata": {
        "colab": {
          "base_uri": "https://localhost:8080/"
        },
        "outputId": "5b6acb64-b60b-435f-c1a2-50b241cfedb2",
        "id": "n3fJh_c4DLjR"
      },
      "execution_count": null,
      "outputs": [
        {
          "output_type": "stream",
          "name": "stdout",
          "text": [
            "Running: review_text_clean\n",
            "Running: review_text_clean_stop\n",
            "Running: review_text_clean_stem\n",
            "Running: review_text_clean_stop_stem\n",
            "Running: review_text_clean_lemma\n",
            "Running: review_text_clean_stop_lemma\n",
            "\n",
            "Execution time: 00:16:49\n"
          ]
        }
      ],
      "id": "n3fJh_c4DLjR"
    },
    {
      "cell_type": "code",
      "source": [
        "df_score_dbow = create_score_table(cv_score_dbow, test_score_dbow)\n",
        "df_score_dbow"
      ],
      "metadata": {
        "colab": {
          "base_uri": "https://localhost:8080/",
          "height": 237
        },
        "id": "PHfS7UPJF7to",
        "outputId": "38801433-bc56-40a1-e826-dbf664dec3d5"
      },
      "id": "PHfS7UPJF7to",
      "execution_count": null,
      "outputs": [
        {
          "output_type": "execute_result",
          "data": {
            "text/plain": [
              "                                    0        1        2        3        4  \\\n",
              "review_text_clean             0.96268  0.96436  0.96404  0.96397  0.96557   \n",
              "review_text_clean_stop        0.95095  0.94836  0.94995  0.94878  0.95212   \n",
              "review_text_clean_stem        0.96479  0.96520  0.96460  0.96497  0.96744   \n",
              "review_text_clean_stop_stem   0.95748  0.95615  0.95558  0.95548  0.95872   \n",
              "review_text_clean_lemma       0.96551  0.96585  0.96537  0.96619  0.96796   \n",
              "review_text_clean_stop_lemma  0.95389  0.95159  0.95335  0.95145  0.95511   \n",
              "\n",
              "                              train_mean     test  \n",
              "review_text_clean               0.964124  0.95240  \n",
              "review_text_clean_stop          0.950032  0.93884  \n",
              "review_text_clean_stem          0.965400  0.95083  \n",
              "review_text_clean_stop_stem     0.956682  0.94252  \n",
              "review_text_clean_lemma         0.966176  0.95467  \n",
              "review_text_clean_stop_lemma    0.953078  0.93709  "
            ],
            "text/html": [
              "\n",
              "  <div id=\"df-1fc8e1bb-f3b9-4d5f-94d0-c876f9b96ea7\" class=\"colab-df-container\">\n",
              "    <div>\n",
              "<style scoped>\n",
              "    .dataframe tbody tr th:only-of-type {\n",
              "        vertical-align: middle;\n",
              "    }\n",
              "\n",
              "    .dataframe tbody tr th {\n",
              "        vertical-align: top;\n",
              "    }\n",
              "\n",
              "    .dataframe thead th {\n",
              "        text-align: right;\n",
              "    }\n",
              "</style>\n",
              "<table border=\"1\" class=\"dataframe\">\n",
              "  <thead>\n",
              "    <tr style=\"text-align: right;\">\n",
              "      <th></th>\n",
              "      <th>0</th>\n",
              "      <th>1</th>\n",
              "      <th>2</th>\n",
              "      <th>3</th>\n",
              "      <th>4</th>\n",
              "      <th>train_mean</th>\n",
              "      <th>test</th>\n",
              "    </tr>\n",
              "  </thead>\n",
              "  <tbody>\n",
              "    <tr>\n",
              "      <th>review_text_clean</th>\n",
              "      <td>0.96268</td>\n",
              "      <td>0.96436</td>\n",
              "      <td>0.96404</td>\n",
              "      <td>0.96397</td>\n",
              "      <td>0.96557</td>\n",
              "      <td>0.964124</td>\n",
              "      <td>0.95240</td>\n",
              "    </tr>\n",
              "    <tr>\n",
              "      <th>review_text_clean_stop</th>\n",
              "      <td>0.95095</td>\n",
              "      <td>0.94836</td>\n",
              "      <td>0.94995</td>\n",
              "      <td>0.94878</td>\n",
              "      <td>0.95212</td>\n",
              "      <td>0.950032</td>\n",
              "      <td>0.93884</td>\n",
              "    </tr>\n",
              "    <tr>\n",
              "      <th>review_text_clean_stem</th>\n",
              "      <td>0.96479</td>\n",
              "      <td>0.96520</td>\n",
              "      <td>0.96460</td>\n",
              "      <td>0.96497</td>\n",
              "      <td>0.96744</td>\n",
              "      <td>0.965400</td>\n",
              "      <td>0.95083</td>\n",
              "    </tr>\n",
              "    <tr>\n",
              "      <th>review_text_clean_stop_stem</th>\n",
              "      <td>0.95748</td>\n",
              "      <td>0.95615</td>\n",
              "      <td>0.95558</td>\n",
              "      <td>0.95548</td>\n",
              "      <td>0.95872</td>\n",
              "      <td>0.956682</td>\n",
              "      <td>0.94252</td>\n",
              "    </tr>\n",
              "    <tr>\n",
              "      <th>review_text_clean_lemma</th>\n",
              "      <td>0.96551</td>\n",
              "      <td>0.96585</td>\n",
              "      <td>0.96537</td>\n",
              "      <td>0.96619</td>\n",
              "      <td>0.96796</td>\n",
              "      <td>0.966176</td>\n",
              "      <td>0.95467</td>\n",
              "    </tr>\n",
              "    <tr>\n",
              "      <th>review_text_clean_stop_lemma</th>\n",
              "      <td>0.95389</td>\n",
              "      <td>0.95159</td>\n",
              "      <td>0.95335</td>\n",
              "      <td>0.95145</td>\n",
              "      <td>0.95511</td>\n",
              "      <td>0.953078</td>\n",
              "      <td>0.93709</td>\n",
              "    </tr>\n",
              "  </tbody>\n",
              "</table>\n",
              "</div>\n",
              "    <div class=\"colab-df-buttons\">\n",
              "\n",
              "  <div class=\"colab-df-container\">\n",
              "    <button class=\"colab-df-convert\" onclick=\"convertToInteractive('df-1fc8e1bb-f3b9-4d5f-94d0-c876f9b96ea7')\"\n",
              "            title=\"Convert this dataframe to an interactive table.\"\n",
              "            style=\"display:none;\">\n",
              "\n",
              "  <svg xmlns=\"http://www.w3.org/2000/svg\" height=\"24px\" viewBox=\"0 -960 960 960\">\n",
              "    <path d=\"M120-120v-720h720v720H120Zm60-500h600v-160H180v160Zm220 220h160v-160H400v160Zm0 220h160v-160H400v160ZM180-400h160v-160H180v160Zm440 0h160v-160H620v160ZM180-180h160v-160H180v160Zm440 0h160v-160H620v160Z\"/>\n",
              "  </svg>\n",
              "    </button>\n",
              "\n",
              "  <style>\n",
              "    .colab-df-container {\n",
              "      display:flex;\n",
              "      gap: 12px;\n",
              "    }\n",
              "\n",
              "    .colab-df-convert {\n",
              "      background-color: #E8F0FE;\n",
              "      border: none;\n",
              "      border-radius: 50%;\n",
              "      cursor: pointer;\n",
              "      display: none;\n",
              "      fill: #1967D2;\n",
              "      height: 32px;\n",
              "      padding: 0 0 0 0;\n",
              "      width: 32px;\n",
              "    }\n",
              "\n",
              "    .colab-df-convert:hover {\n",
              "      background-color: #E2EBFA;\n",
              "      box-shadow: 0px 1px 2px rgba(60, 64, 67, 0.3), 0px 1px 3px 1px rgba(60, 64, 67, 0.15);\n",
              "      fill: #174EA6;\n",
              "    }\n",
              "\n",
              "    .colab-df-buttons div {\n",
              "      margin-bottom: 4px;\n",
              "    }\n",
              "\n",
              "    [theme=dark] .colab-df-convert {\n",
              "      background-color: #3B4455;\n",
              "      fill: #D2E3FC;\n",
              "    }\n",
              "\n",
              "    [theme=dark] .colab-df-convert:hover {\n",
              "      background-color: #434B5C;\n",
              "      box-shadow: 0px 1px 3px 1px rgba(0, 0, 0, 0.15);\n",
              "      filter: drop-shadow(0px 1px 2px rgba(0, 0, 0, 0.3));\n",
              "      fill: #FFFFFF;\n",
              "    }\n",
              "  </style>\n",
              "\n",
              "    <script>\n",
              "      const buttonEl =\n",
              "        document.querySelector('#df-1fc8e1bb-f3b9-4d5f-94d0-c876f9b96ea7 button.colab-df-convert');\n",
              "      buttonEl.style.display =\n",
              "        google.colab.kernel.accessAllowed ? 'block' : 'none';\n",
              "\n",
              "      async function convertToInteractive(key) {\n",
              "        const element = document.querySelector('#df-1fc8e1bb-f3b9-4d5f-94d0-c876f9b96ea7');\n",
              "        const dataTable =\n",
              "          await google.colab.kernel.invokeFunction('convertToInteractive',\n",
              "                                                    [key], {});\n",
              "        if (!dataTable) return;\n",
              "\n",
              "        const docLinkHtml = 'Like what you see? Visit the ' +\n",
              "          '<a target=\"_blank\" href=https://colab.research.google.com/notebooks/data_table.ipynb>data table notebook</a>'\n",
              "          + ' to learn more about interactive tables.';\n",
              "        element.innerHTML = '';\n",
              "        dataTable['output_type'] = 'display_data';\n",
              "        await google.colab.output.renderOutput(dataTable, element);\n",
              "        const docLink = document.createElement('div');\n",
              "        docLink.innerHTML = docLinkHtml;\n",
              "        element.appendChild(docLink);\n",
              "      }\n",
              "    </script>\n",
              "  </div>\n",
              "\n",
              "\n",
              "<div id=\"df-8aea312e-c0a8-47f3-944e-231a964f8719\">\n",
              "  <button class=\"colab-df-quickchart\" onclick=\"quickchart('df-8aea312e-c0a8-47f3-944e-231a964f8719')\"\n",
              "            title=\"Suggest charts.\"\n",
              "            style=\"display:none;\">\n",
              "\n",
              "<svg xmlns=\"http://www.w3.org/2000/svg\" height=\"24px\"viewBox=\"0 0 24 24\"\n",
              "     width=\"24px\">\n",
              "    <g>\n",
              "        <path d=\"M19 3H5c-1.1 0-2 .9-2 2v14c0 1.1.9 2 2 2h14c1.1 0 2-.9 2-2V5c0-1.1-.9-2-2-2zM9 17H7v-7h2v7zm4 0h-2V7h2v10zm4 0h-2v-4h2v4z\"/>\n",
              "    </g>\n",
              "</svg>\n",
              "  </button>\n",
              "\n",
              "<style>\n",
              "  .colab-df-quickchart {\n",
              "    background-color: #E8F0FE;\n",
              "    border: none;\n",
              "    border-radius: 50%;\n",
              "    cursor: pointer;\n",
              "    display: none;\n",
              "    fill: #1967D2;\n",
              "    height: 32px;\n",
              "    padding: 0 0 0 0;\n",
              "    width: 32px;\n",
              "  }\n",
              "\n",
              "  .colab-df-quickchart:hover {\n",
              "    background-color: #E2EBFA;\n",
              "    box-shadow: 0px 1px 2px rgba(60, 64, 67, 0.3), 0px 1px 3px 1px rgba(60, 64, 67, 0.15);\n",
              "    fill: #174EA6;\n",
              "  }\n",
              "\n",
              "  [theme=dark] .colab-df-quickchart {\n",
              "    background-color: #3B4455;\n",
              "    fill: #D2E3FC;\n",
              "  }\n",
              "\n",
              "  [theme=dark] .colab-df-quickchart:hover {\n",
              "    background-color: #434B5C;\n",
              "    box-shadow: 0px 1px 3px 1px rgba(0, 0, 0, 0.15);\n",
              "    filter: drop-shadow(0px 1px 2px rgba(0, 0, 0, 0.3));\n",
              "    fill: #FFFFFF;\n",
              "  }\n",
              "</style>\n",
              "\n",
              "  <script>\n",
              "    async function quickchart(key) {\n",
              "      const charts = await google.colab.kernel.invokeFunction(\n",
              "          'suggestCharts', [key], {});\n",
              "    }\n",
              "    (() => {\n",
              "      let quickchartButtonEl =\n",
              "        document.querySelector('#df-8aea312e-c0a8-47f3-944e-231a964f8719 button');\n",
              "      quickchartButtonEl.style.display =\n",
              "        google.colab.kernel.accessAllowed ? 'block' : 'none';\n",
              "    })();\n",
              "  </script>\n",
              "</div>\n",
              "    </div>\n",
              "  </div>\n"
            ]
          },
          "metadata": {},
          "execution_count": 37
        }
      ]
    },
    {
      "cell_type": "markdown",
      "id": "13d6ea4e",
      "metadata": {
        "id": "13d6ea4e"
      },
      "source": [
        "#### DM - Distributed Memory\n",
        "___"
      ]
    },
    {
      "cell_type": "code",
      "source": [
        "cv_score_dm, test_score_dm = pipeline(X_train, y_train,\n",
        "                                      X_test, y_test,\n",
        "                                      apply_doc2vec, dm=1)"
      ],
      "metadata": {
        "id": "l49CmZ_jEIWF",
        "outputId": "55930e98-b772-49c3-d0f4-62983494fd44",
        "colab": {
          "base_uri": "https://localhost:8080/"
        }
      },
      "id": "l49CmZ_jEIWF",
      "execution_count": null,
      "outputs": [
        {
          "output_type": "stream",
          "name": "stdout",
          "text": [
            "Running: review_text_clean\n",
            "Running: review_text_clean_stop\n",
            "Running: review_text_clean_stem\n",
            "Running: review_text_clean_stop_stem\n",
            "Running: review_text_clean_lemma\n",
            "Running: review_text_clean_stop_lemma\n",
            "\n",
            "Execution time: 00:16:48\n"
          ]
        }
      ]
    },
    {
      "cell_type": "code",
      "source": [
        "df_score_dm = create_score_table(cv_score_dm, test_score_dm)\n",
        "df_score_dm"
      ],
      "metadata": {
        "colab": {
          "base_uri": "https://localhost:8080/",
          "height": 237
        },
        "id": "qgMtuKWCFiOW",
        "outputId": "d1d9766c-e244-47b8-81d5-837e0d2e90ab"
      },
      "id": "qgMtuKWCFiOW",
      "execution_count": null,
      "outputs": [
        {
          "output_type": "execute_result",
          "data": {
            "text/plain": [
              "                                    0        1        2        3        4  \\\n",
              "review_text_clean             0.96278  0.96389  0.96361  0.96352  0.96579   \n",
              "review_text_clean_stop        0.95162  0.94872  0.95014  0.95036  0.95228   \n",
              "review_text_clean_stem        0.96473  0.96593  0.96631  0.96493  0.96740   \n",
              "review_text_clean_stop_stem   0.95827  0.95624  0.95618  0.95560  0.95773   \n",
              "review_text_clean_lemma       0.96563  0.96549  0.96633  0.96570  0.96800   \n",
              "review_text_clean_stop_lemma  0.95435  0.95187  0.95361  0.95122  0.95480   \n",
              "\n",
              "                              train_mean     test  \n",
              "review_text_clean               0.963918  0.95138  \n",
              "review_text_clean_stop          0.950624  0.93546  \n",
              "review_text_clean_stem          0.965860  0.95185  \n",
              "review_text_clean_stop_stem     0.956804  0.93887  \n",
              "review_text_clean_lemma         0.966230  0.95109  \n",
              "review_text_clean_stop_lemma    0.953170  0.93971  "
            ],
            "text/html": [
              "\n",
              "  <div id=\"df-2f2668bc-2979-488e-ab8f-36f898970bbe\" class=\"colab-df-container\">\n",
              "    <div>\n",
              "<style scoped>\n",
              "    .dataframe tbody tr th:only-of-type {\n",
              "        vertical-align: middle;\n",
              "    }\n",
              "\n",
              "    .dataframe tbody tr th {\n",
              "        vertical-align: top;\n",
              "    }\n",
              "\n",
              "    .dataframe thead th {\n",
              "        text-align: right;\n",
              "    }\n",
              "</style>\n",
              "<table border=\"1\" class=\"dataframe\">\n",
              "  <thead>\n",
              "    <tr style=\"text-align: right;\">\n",
              "      <th></th>\n",
              "      <th>0</th>\n",
              "      <th>1</th>\n",
              "      <th>2</th>\n",
              "      <th>3</th>\n",
              "      <th>4</th>\n",
              "      <th>train_mean</th>\n",
              "      <th>test</th>\n",
              "    </tr>\n",
              "  </thead>\n",
              "  <tbody>\n",
              "    <tr>\n",
              "      <th>review_text_clean</th>\n",
              "      <td>0.96278</td>\n",
              "      <td>0.96389</td>\n",
              "      <td>0.96361</td>\n",
              "      <td>0.96352</td>\n",
              "      <td>0.96579</td>\n",
              "      <td>0.963918</td>\n",
              "      <td>0.95138</td>\n",
              "    </tr>\n",
              "    <tr>\n",
              "      <th>review_text_clean_stop</th>\n",
              "      <td>0.95162</td>\n",
              "      <td>0.94872</td>\n",
              "      <td>0.95014</td>\n",
              "      <td>0.95036</td>\n",
              "      <td>0.95228</td>\n",
              "      <td>0.950624</td>\n",
              "      <td>0.93546</td>\n",
              "    </tr>\n",
              "    <tr>\n",
              "      <th>review_text_clean_stem</th>\n",
              "      <td>0.96473</td>\n",
              "      <td>0.96593</td>\n",
              "      <td>0.96631</td>\n",
              "      <td>0.96493</td>\n",
              "      <td>0.96740</td>\n",
              "      <td>0.965860</td>\n",
              "      <td>0.95185</td>\n",
              "    </tr>\n",
              "    <tr>\n",
              "      <th>review_text_clean_stop_stem</th>\n",
              "      <td>0.95827</td>\n",
              "      <td>0.95624</td>\n",
              "      <td>0.95618</td>\n",
              "      <td>0.95560</td>\n",
              "      <td>0.95773</td>\n",
              "      <td>0.956804</td>\n",
              "      <td>0.93887</td>\n",
              "    </tr>\n",
              "    <tr>\n",
              "      <th>review_text_clean_lemma</th>\n",
              "      <td>0.96563</td>\n",
              "      <td>0.96549</td>\n",
              "      <td>0.96633</td>\n",
              "      <td>0.96570</td>\n",
              "      <td>0.96800</td>\n",
              "      <td>0.966230</td>\n",
              "      <td>0.95109</td>\n",
              "    </tr>\n",
              "    <tr>\n",
              "      <th>review_text_clean_stop_lemma</th>\n",
              "      <td>0.95435</td>\n",
              "      <td>0.95187</td>\n",
              "      <td>0.95361</td>\n",
              "      <td>0.95122</td>\n",
              "      <td>0.95480</td>\n",
              "      <td>0.953170</td>\n",
              "      <td>0.93971</td>\n",
              "    </tr>\n",
              "  </tbody>\n",
              "</table>\n",
              "</div>\n",
              "    <div class=\"colab-df-buttons\">\n",
              "\n",
              "  <div class=\"colab-df-container\">\n",
              "    <button class=\"colab-df-convert\" onclick=\"convertToInteractive('df-2f2668bc-2979-488e-ab8f-36f898970bbe')\"\n",
              "            title=\"Convert this dataframe to an interactive table.\"\n",
              "            style=\"display:none;\">\n",
              "\n",
              "  <svg xmlns=\"http://www.w3.org/2000/svg\" height=\"24px\" viewBox=\"0 -960 960 960\">\n",
              "    <path d=\"M120-120v-720h720v720H120Zm60-500h600v-160H180v160Zm220 220h160v-160H400v160Zm0 220h160v-160H400v160ZM180-400h160v-160H180v160Zm440 0h160v-160H620v160ZM180-180h160v-160H180v160Zm440 0h160v-160H620v160Z\"/>\n",
              "  </svg>\n",
              "    </button>\n",
              "\n",
              "  <style>\n",
              "    .colab-df-container {\n",
              "      display:flex;\n",
              "      gap: 12px;\n",
              "    }\n",
              "\n",
              "    .colab-df-convert {\n",
              "      background-color: #E8F0FE;\n",
              "      border: none;\n",
              "      border-radius: 50%;\n",
              "      cursor: pointer;\n",
              "      display: none;\n",
              "      fill: #1967D2;\n",
              "      height: 32px;\n",
              "      padding: 0 0 0 0;\n",
              "      width: 32px;\n",
              "    }\n",
              "\n",
              "    .colab-df-convert:hover {\n",
              "      background-color: #E2EBFA;\n",
              "      box-shadow: 0px 1px 2px rgba(60, 64, 67, 0.3), 0px 1px 3px 1px rgba(60, 64, 67, 0.15);\n",
              "      fill: #174EA6;\n",
              "    }\n",
              "\n",
              "    .colab-df-buttons div {\n",
              "      margin-bottom: 4px;\n",
              "    }\n",
              "\n",
              "    [theme=dark] .colab-df-convert {\n",
              "      background-color: #3B4455;\n",
              "      fill: #D2E3FC;\n",
              "    }\n",
              "\n",
              "    [theme=dark] .colab-df-convert:hover {\n",
              "      background-color: #434B5C;\n",
              "      box-shadow: 0px 1px 3px 1px rgba(0, 0, 0, 0.15);\n",
              "      filter: drop-shadow(0px 1px 2px rgba(0, 0, 0, 0.3));\n",
              "      fill: #FFFFFF;\n",
              "    }\n",
              "  </style>\n",
              "\n",
              "    <script>\n",
              "      const buttonEl =\n",
              "        document.querySelector('#df-2f2668bc-2979-488e-ab8f-36f898970bbe button.colab-df-convert');\n",
              "      buttonEl.style.display =\n",
              "        google.colab.kernel.accessAllowed ? 'block' : 'none';\n",
              "\n",
              "      async function convertToInteractive(key) {\n",
              "        const element = document.querySelector('#df-2f2668bc-2979-488e-ab8f-36f898970bbe');\n",
              "        const dataTable =\n",
              "          await google.colab.kernel.invokeFunction('convertToInteractive',\n",
              "                                                    [key], {});\n",
              "        if (!dataTable) return;\n",
              "\n",
              "        const docLinkHtml = 'Like what you see? Visit the ' +\n",
              "          '<a target=\"_blank\" href=https://colab.research.google.com/notebooks/data_table.ipynb>data table notebook</a>'\n",
              "          + ' to learn more about interactive tables.';\n",
              "        element.innerHTML = '';\n",
              "        dataTable['output_type'] = 'display_data';\n",
              "        await google.colab.output.renderOutput(dataTable, element);\n",
              "        const docLink = document.createElement('div');\n",
              "        docLink.innerHTML = docLinkHtml;\n",
              "        element.appendChild(docLink);\n",
              "      }\n",
              "    </script>\n",
              "  </div>\n",
              "\n",
              "\n",
              "<div id=\"df-043fa1b0-dda2-41d4-ac3b-4dc25b9bb8ff\">\n",
              "  <button class=\"colab-df-quickchart\" onclick=\"quickchart('df-043fa1b0-dda2-41d4-ac3b-4dc25b9bb8ff')\"\n",
              "            title=\"Suggest charts.\"\n",
              "            style=\"display:none;\">\n",
              "\n",
              "<svg xmlns=\"http://www.w3.org/2000/svg\" height=\"24px\"viewBox=\"0 0 24 24\"\n",
              "     width=\"24px\">\n",
              "    <g>\n",
              "        <path d=\"M19 3H5c-1.1 0-2 .9-2 2v14c0 1.1.9 2 2 2h14c1.1 0 2-.9 2-2V5c0-1.1-.9-2-2-2zM9 17H7v-7h2v7zm4 0h-2V7h2v10zm4 0h-2v-4h2v4z\"/>\n",
              "    </g>\n",
              "</svg>\n",
              "  </button>\n",
              "\n",
              "<style>\n",
              "  .colab-df-quickchart {\n",
              "    background-color: #E8F0FE;\n",
              "    border: none;\n",
              "    border-radius: 50%;\n",
              "    cursor: pointer;\n",
              "    display: none;\n",
              "    fill: #1967D2;\n",
              "    height: 32px;\n",
              "    padding: 0 0 0 0;\n",
              "    width: 32px;\n",
              "  }\n",
              "\n",
              "  .colab-df-quickchart:hover {\n",
              "    background-color: #E2EBFA;\n",
              "    box-shadow: 0px 1px 2px rgba(60, 64, 67, 0.3), 0px 1px 3px 1px rgba(60, 64, 67, 0.15);\n",
              "    fill: #174EA6;\n",
              "  }\n",
              "\n",
              "  [theme=dark] .colab-df-quickchart {\n",
              "    background-color: #3B4455;\n",
              "    fill: #D2E3FC;\n",
              "  }\n",
              "\n",
              "  [theme=dark] .colab-df-quickchart:hover {\n",
              "    background-color: #434B5C;\n",
              "    box-shadow: 0px 1px 3px 1px rgba(0, 0, 0, 0.15);\n",
              "    filter: drop-shadow(0px 1px 2px rgba(0, 0, 0, 0.3));\n",
              "    fill: #FFFFFF;\n",
              "  }\n",
              "</style>\n",
              "\n",
              "  <script>\n",
              "    async function quickchart(key) {\n",
              "      const charts = await google.colab.kernel.invokeFunction(\n",
              "          'suggestCharts', [key], {});\n",
              "    }\n",
              "    (() => {\n",
              "      let quickchartButtonEl =\n",
              "        document.querySelector('#df-043fa1b0-dda2-41d4-ac3b-4dc25b9bb8ff button');\n",
              "      quickchartButtonEl.style.display =\n",
              "        google.colab.kernel.accessAllowed ? 'block' : 'none';\n",
              "    })();\n",
              "  </script>\n",
              "</div>\n",
              "    </div>\n",
              "  </div>\n"
            ]
          },
          "metadata": {},
          "execution_count": 39
        }
      ]
    },
    {
      "cell_type": "markdown",
      "id": "aa5b01a0",
      "metadata": {
        "id": "aa5b01a0"
      },
      "source": [
        "### Transformer (Pre-trained model)\n",
        "___"
      ]
    },
    {
      "cell_type": "markdown",
      "source": [
        "#### Bert"
      ],
      "metadata": {
        "id": "OBMmXo70rMgk"
      },
      "id": "OBMmXo70rMgk"
    },
    {
      "cell_type": "markdown",
      "source": [
        "**Note 1:** In this stage, it's important that Colab uses `GPU`instead of `CPU`.\n",
        "\n",
        "**Note 2:** As already said in https://huggingface.co/blog/how-to-train-sentence-transformers, pre-trained transformers are slow to perform the task (even using GPU), so we decided to run in a small portion of data. It's results won't be used in the final conclusions. For transformes it's better to use sentence transfomers, available in Hugging Face (next topic).\n",
        "\n",
        "**Note 3:** As expected Bert performed better with text without remove stop words, stematize and lemmatize."
      ],
      "metadata": {
        "id": "QSpCOu9tDgG3"
      },
      "id": "QSpCOu9tDgG3"
    },
    {
      "cell_type": "code",
      "source": [
        "!pip install transformers -q"
      ],
      "metadata": {
        "id": "6dZ4GkH-ly2I",
        "outputId": "0fdceb38-fb08-4924-e652-813a1c2c0050",
        "colab": {
          "base_uri": "https://localhost:8080/"
        }
      },
      "id": "6dZ4GkH-ly2I",
      "execution_count": 16,
      "outputs": [
        {
          "output_type": "stream",
          "name": "stdout",
          "text": [
            "\u001b[2K     \u001b[90m━━━━━━━━━━━━━━━━━━━━━━━━━━━━━━━━━━━━━━━━\u001b[0m \u001b[32m7.5/7.5 MB\u001b[0m \u001b[31m21.0 MB/s\u001b[0m eta \u001b[36m0:00:00\u001b[0m\n",
            "\u001b[2K     \u001b[90m━━━━━━━━━━━━━━━━━━━━━━━━━━━━━━━━━━━━━━\u001b[0m \u001b[32m268.8/268.8 kB\u001b[0m \u001b[31m26.7 MB/s\u001b[0m eta \u001b[36m0:00:00\u001b[0m\n",
            "\u001b[2K     \u001b[90m━━━━━━━━━━━━━━━━━━━━━━━━━━━━━━━━━━━━━━━━\u001b[0m \u001b[32m7.8/7.8 MB\u001b[0m \u001b[31m60.7 MB/s\u001b[0m eta \u001b[36m0:00:00\u001b[0m\n",
            "\u001b[2K     \u001b[90m━━━━━━━━━━━━━━━━━━━━━━━━━━━━━━━━━━━━━━━━\u001b[0m \u001b[32m1.3/1.3 MB\u001b[0m \u001b[31m60.4 MB/s\u001b[0m eta \u001b[36m0:00:00\u001b[0m\n",
            "\u001b[?25h"
          ]
        }
      ]
    },
    {
      "cell_type": "code",
      "source": [
        "import torch\n",
        "device = \"cuda:0\" if torch.cuda.is_available() else \"cpu\"\n",
        "device"
      ],
      "metadata": {
        "id": "D4DrVyKTdSgO",
        "colab": {
          "base_uri": "https://localhost:8080/",
          "height": 35
        },
        "outputId": "4d6b889b-ff7a-4407-a35f-047b861d157e"
      },
      "id": "D4DrVyKTdSgO",
      "execution_count": 17,
      "outputs": [
        {
          "output_type": "execute_result",
          "data": {
            "text/plain": [
              "'cuda:0'"
            ],
            "application/vnd.google.colaboratory.intrinsic+json": {
              "type": "string"
            }
          },
          "metadata": {},
          "execution_count": 17
        }
      ]
    },
    {
      "cell_type": "code",
      "source": [
        "from transformers import AutoModel\n",
        "from transformers import AutoTokenizer"
      ],
      "metadata": {
        "id": "_rHxE2KsmzLi"
      },
      "id": "_rHxE2KsmzLi",
      "execution_count": 18,
      "outputs": []
    },
    {
      "cell_type": "code",
      "source": [
        "model = AutoModel.from_pretrained('neuralmind/bert-base-portuguese-cased').to(device)\n",
        "tokenizer = AutoTokenizer.from_pretrained('neuralmind/bert-base-portuguese-cased',\n",
        "                                          do_lower_case=True, model_max_length=512)"
      ],
      "metadata": {
        "id": "a9EvPBXVquiO"
      },
      "id": "a9EvPBXVquiO",
      "execution_count": 41,
      "outputs": []
    },
    {
      "cell_type": "code",
      "source": [
        "def apply_tranformer(X_train, X_test, model=model, tokenizer=tokenizer):\n",
        "  model = model\n",
        "  tokenizer = tokenizer\n",
        "\n",
        "  X_train_list = X_train.values.tolist()\n",
        "  X_test_list = X_test.values.tolist()\n",
        "\n",
        "  # Get tokens form text\n",
        "  X_train_toc = [tokenizer.encode(doc, truncation=True,\n",
        "                                  return_tensors='pt').to(device) for doc in X_train_list]\n",
        "  X_test_toc = [tokenizer.encode(doc, truncation=True,\n",
        "                                 return_tensors='pt').to(device) for doc in X_test_list]\n",
        "\n",
        "  # Get mean vectors from converted tokens ([0, 1:-1] Last layer, ignore [CLS] and [SEP] special tokens)\n",
        "  with torch.no_grad():\n",
        "    X_train_vec = [torch.mean(model(tokens)[0][0, 1:-1].T, dim=1).cpu().data.numpy() for tokens in X_train_toc]\n",
        "    X_test_vec = [torch.mean(model(tokens)[0][0, 1:-1].T, dim=1).cpu().data.numpy() for tokens in X_test_toc]\n",
        "\n",
        "  return X_train_vec, X_test_vec"
      ],
      "metadata": {
        "id": "4Nijzzy0uAus"
      },
      "id": "4Nijzzy0uAus",
      "execution_count": 40,
      "outputs": []
    },
    {
      "cell_type": "code",
      "source": [
        "# Testing with reduced data\n",
        "cv_score_bert, test_score_bert = pipeline(X_train, y_train,\n",
        "                                          X_test, y_test,\n",
        "                                          apply_tranformer,\n",
        "                                          model=model,\n",
        "                                          tokenizer=tokenizer)"
      ],
      "metadata": {
        "id": "vXu-LrUiwY_w",
        "outputId": "6ad6b8d0-134e-43ba-f383-3caa1d3e7b54",
        "colab": {
          "base_uri": "https://localhost:8080/"
        }
      },
      "id": "vXu-LrUiwY_w",
      "execution_count": null,
      "outputs": [
        {
          "output_type": "stream",
          "name": "stdout",
          "text": [
            "Running: review_text_clean\n"
          ]
        }
      ]
    },
    {
      "cell_type": "code",
      "source": [
        "df_score_bert = create_score_table(cv_score_bert, test_score_bert, title=\"BERT Score (ROC)\")\n",
        "df_score_bert"
      ],
      "metadata": {
        "id": "WQ_vWkX7FVY2"
      },
      "id": "WQ_vWkX7FVY2",
      "execution_count": null,
      "outputs": []
    },
    {
      "cell_type": "markdown",
      "source": [
        "#### Sentence Transformer"
      ],
      "metadata": {
        "id": "Y3vGM7sLDGCi"
      },
      "id": "Y3vGM7sLDGCi"
    },
    {
      "cell_type": "markdown",
      "source": [
        "**Note:** In this stage, it's important that Colab uses `GPU`instead of `CPU`."
      ],
      "metadata": {
        "id": "JAyNtwkFITlt"
      },
      "id": "JAyNtwkFITlt"
    },
    {
      "cell_type": "code",
      "source": [
        "device = !nvidia-smi -L\n",
        "device = \"cuda\" if device[0][:3] == 'GPU' else \"cpu\"\n",
        "device"
      ],
      "metadata": {
        "id": "3TWm69iMlMl9",
        "outputId": "517cd7d2-95c9-48e7-e42c-5e9bc95296af",
        "colab": {
          "base_uri": "https://localhost:8080/",
          "height": 36
        }
      },
      "id": "3TWm69iMlMl9",
      "execution_count": null,
      "outputs": [
        {
          "output_type": "execute_result",
          "data": {
            "text/plain": [
              "'cuda'"
            ],
            "application/vnd.google.colaboratory.intrinsic+json": {
              "type": "string"
            }
          },
          "metadata": {},
          "execution_count": 47
        }
      ]
    },
    {
      "cell_type": "code",
      "source": [
        "!pip install sentence_transformers -q"
      ],
      "metadata": {
        "id": "5BFus9SGDrox"
      },
      "id": "5BFus9SGDrox",
      "execution_count": null,
      "outputs": []
    },
    {
      "cell_type": "code",
      "execution_count": null,
      "id": "33883135",
      "metadata": {
        "ExecuteTime": {
          "end_time": "2023-07-24T20:06:49.567212Z",
          "start_time": "2023-07-24T20:06:45.593705Z"
        },
        "id": "33883135"
      },
      "outputs": [],
      "source": [
        "from sentence_transformers import SentenceTransformer"
      ]
    },
    {
      "cell_type": "code",
      "source": [
        "model=SentenceTransformer('rufimelo/bert-large-portuguese-cased-sts', device=device)"
      ],
      "metadata": {
        "id": "cihdPcoo8m2B"
      },
      "id": "cihdPcoo8m2B",
      "execution_count": null,
      "outputs": []
    },
    {
      "cell_type": "code",
      "source": [
        "def apply_sentece_transformer(X_train, X_test, model=model):\n",
        "  model = model\n",
        "  X_train_list = X_train.values.tolist()\n",
        "  X_test_list = X_test.values.tolist()\n",
        "\n",
        "  X_train_vec = model.encode(X_train_list)\n",
        "  X_test_vec = model.encode(X_test_list)\n",
        "\n",
        "  return X_train_vec, X_test_vec"
      ],
      "metadata": {
        "id": "bvhCjLBCGS6I"
      },
      "id": "bvhCjLBCGS6I",
      "execution_count": null,
      "outputs": []
    },
    {
      "cell_type": "code",
      "source": [
        "cv_score_st, test_score_st = pipeline(X_train, y_train,\n",
        "                                      X_test, y_test,\n",
        "                                      apply_sentece_transformer,\n",
        "                                      model=model)"
      ],
      "metadata": {
        "id": "nfasjsREjxKD"
      },
      "id": "nfasjsREjxKD",
      "execution_count": null,
      "outputs": []
    },
    {
      "cell_type": "code",
      "source": [
        "df_score_st = create_score_table(cv_score_st, test_score_st, title=\"Sentence Transformer Score (ROC)\")\n",
        "df_score_st"
      ],
      "metadata": {
        "id": "0QtwIkJoDrah"
      },
      "id": "0QtwIkJoDrah",
      "execution_count": null,
      "outputs": []
    },
    {
      "cell_type": "markdown",
      "source": [
        "## Results Analysis"
      ],
      "metadata": {
        "id": "6Q7I6YjC_WPH"
      },
      "id": "6Q7I6YjC_WPH"
    },
    {
      "cell_type": "code",
      "source": [
        "df_scores = {'Bag of Words': df_score_bow, 'TF-IDF':df_score_tfidf, 'W2V CBOW':df_score_cbow,\n",
        "             'W2V Skip-Gram':df_score_skgram, 'FastTest':df_score_FastTest, 'D2V DBOW':df_score_dbow,\n",
        "             'D2V DM':df_score_dm, 'Bert':df_score_bert, 'Sent. Transf.':df_score_st}"
      ],
      "metadata": {
        "id": "-VYV-m9k_jvn"
      },
      "id": "-VYV-m9k_jvn",
      "execution_count": null,
      "outputs": []
    },
    {
      "cell_type": "code",
      "source": [
        "# Grouping all test results\n",
        "df_scores_vect = pd.DataFrame()\n",
        "for key in df_scores.keys():\n",
        "  df_scores_vect[key] = df_scores[key]['test'].values\n",
        "text_type = list(df_score_st.index.values)\n",
        "df_scores_vect = df_scores_vect.rename(index=dict(zip(df_scores_vect.index, text_type)))\n",
        "\n",
        "df_scores_vect"
      ],
      "metadata": {
        "id": "8Suf2i15_jyz"
      },
      "id": "8Suf2i15_jyz",
      "execution_count": null,
      "outputs": []
    },
    {
      "cell_type": "code",
      "source": [
        "columns_name = {'level_0':'Text Type', 'level_1': 'Vect Method', 0: 'Score(ROC)'}\n",
        "df_scores_vect_stack = df_scores_vect.stack().reset_index().rename(columns=columns_name)\n",
        "ax = sns.boxplot(x='Score(ROC)',\n",
        "                 y='Vect Method',\n",
        "                 data=df_scores_vect_stack, orient='h')\n",
        "plt.title('Score by Vectorizing Method')\n",
        "plt.plot()"
      ],
      "metadata": {
        "id": "9S77RUee_j19"
      },
      "id": "9S77RUee_j19",
      "execution_count": null,
      "outputs": []
    },
    {
      "cell_type": "code",
      "source": [
        "columns_name = {'level_0':'Text Type', 'level_1': 'Vect Method', 0: 'Score(ROC)'}\n",
        "df_scores_vect_stack = df_scores_vect.stack().reset_index().rename(columns=columns_name)\n",
        "df_scores_vect_stack['Vect Method & Text'] =  df_scores_vect_stack['Vect Method'] + ' ' + df_scores_vect_stack['Text Type']\n",
        "\n",
        "ax = sns.boxplot(x='Vect Method',\n",
        "                 y='Score(ROC)',\n",
        "                 data=df_scores_vect_stack)\n",
        "ax.set_xticklabels(ax.get_xticklabels(), rotation=90)\n",
        "plt.title('Score by Vectorizing Method')\n",
        "plt.plot()"
      ],
      "metadata": {
        "id": "I2f36BWsqWRn"
      },
      "id": "I2f36BWsqWRn",
      "execution_count": null,
      "outputs": []
    },
    {
      "cell_type": "code",
      "execution_count": null,
      "id": "c9ae3067",
      "metadata": {
        "id": "c9ae3067"
      },
      "outputs": [],
      "source": [
        "plt.figure(figsize=(8, 8))\n",
        "ax = sns.barplot(x='Score(ROC)', y='Vect Method & Text',\n",
        "                 data=df_scores_vect_stack.sort_values(by='Score(ROC)', ascending=False),\n",
        "                 orient='h', color='steelblue')\n",
        "ax.set_yticklabels(ax.get_yticklabels(), fontsize=7)\n",
        "plt.title('Best Aproach')\n",
        "plt.plot()"
      ]
    },
    {
      "cell_type": "code",
      "source": [
        "plt.figure(figsize=(10, 6))\n",
        "ax = sns.barplot(x='Vect Method', y='Score(ROC)',\n",
        "                 hue='Text Type',\n",
        "                 data=df_scores_vect_stack,\n",
        "                 )\n",
        "ax.set_xticklabels(ax.get_xticklabels(), rotation=90)\n",
        "ax.legend(loc='center left', bbox_to_anchor=(1, 0.5))\n",
        "plt.title('Best Aproach')\n",
        "plt.plot()"
      ],
      "metadata": {
        "id": "sp2tP8hRr1kP"
      },
      "id": "sp2tP8hRr1kP",
      "execution_count": null,
      "outputs": []
    },
    {
      "cell_type": "code",
      "source": [],
      "metadata": {
        "id": "SwQU7B2N35lc"
      },
      "id": "SwQU7B2N35lc",
      "execution_count": null,
      "outputs": []
    }
  ],
  "metadata": {
    "kernelspec": {
      "display_name": "Python 3",
      "name": "python3"
    },
    "language_info": {
      "codemirror_mode": {
        "name": "ipython",
        "version": 3
      },
      "file_extension": ".py",
      "mimetype": "text/x-python",
      "name": "python",
      "nbconvert_exporter": "python",
      "pygments_lexer": "ipython3",
      "version": "3.10.9"
    },
    "toc": {
      "base_numbering": 1,
      "nav_menu": {},
      "number_sections": false,
      "sideBar": true,
      "skip_h1_title": false,
      "title_cell": "Table of Contents",
      "title_sidebar": "Contents",
      "toc_cell": false,
      "toc_position": {
        "height": "calc(100% - 180px)",
        "left": "10px",
        "top": "150px",
        "width": "280.775px"
      },
      "toc_section_display": true,
      "toc_window_display": true
    },
    "varInspector": {
      "cols": {
        "lenName": 16,
        "lenType": 16,
        "lenVar": 40
      },
      "kernels_config": {
        "python": {
          "delete_cmd_postfix": "",
          "delete_cmd_prefix": "del ",
          "library": "var_list.py",
          "varRefreshCmd": "print(var_dic_list())"
        },
        "r": {
          "delete_cmd_postfix": ") ",
          "delete_cmd_prefix": "rm(",
          "library": "var_list.r",
          "varRefreshCmd": "cat(var_dic_list()) "
        }
      },
      "types_to_exclude": [
        "module",
        "function",
        "builtin_function_or_method",
        "instance",
        "_Feature"
      ],
      "window_display": false
    },
    "colab": {
      "provenance": [],
      "toc_visible": true,
      "gpuType": "T4",
      "include_colab_link": true
    },
    "accelerator": "GPU"
  },
  "nbformat": 4,
  "nbformat_minor": 5
}