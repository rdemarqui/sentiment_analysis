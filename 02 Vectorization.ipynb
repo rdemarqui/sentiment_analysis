{
  "cells": [
    {
      "cell_type": "markdown",
      "metadata": {
        "id": "view-in-github",
        "colab_type": "text"
      },
      "source": [
        "<a href=\"https://colab.research.google.com/github/rdemarqui/sentiment_analysis/blob/main/02%20Vectorization.ipynb\" target=\"_parent\"><img src=\"https://colab.research.google.com/assets/colab-badge.svg\" alt=\"Open In Colab\"/></a>"
      ]
    },
    {
      "cell_type": "markdown",
      "source": [
        "# Sentiment Analysis\n",
        "## Vectorization"
      ],
      "metadata": {
        "id": "dZpm8cGCojAP"
      },
      "id": "dZpm8cGCojAP"
    },
    {
      "cell_type": "code",
      "source": [
        "seed_value = 42"
      ],
      "metadata": {
        "id": "iQnrTNjxLfl8"
      },
      "id": "iQnrTNjxLfl8",
      "execution_count": 99,
      "outputs": []
    },
    {
      "cell_type": "code",
      "execution_count": 100,
      "id": "39805500",
      "metadata": {
        "ExecuteTime": {
          "end_time": "2023-08-16T19:50:38.338557Z",
          "start_time": "2023-08-16T19:50:37.039133Z"
        },
        "id": "39805500"
      },
      "outputs": [],
      "source": [
        "import multiprocessing, os, time\n",
        "from sklearn.model_selection import GridSearchCV, KFold, cross_val_score\n",
        "from sklearn import metrics\n",
        "from lightgbm import LGBMClassifier\n",
        "import numpy as np\n",
        "np.random.seed(seed_value)"
      ]
    },
    {
      "cell_type": "code",
      "source": [
        "path = os.getcwd()\n",
        "path"
      ],
      "metadata": {
        "colab": {
          "base_uri": "https://localhost:8080/",
          "height": 36
        },
        "id": "yVJJ69iue9jW",
        "outputId": "7a0fb97d-d8b7-4cb7-a7aa-9c9c068f2eb0"
      },
      "id": "yVJJ69iue9jW",
      "execution_count": 101,
      "outputs": [
        {
          "output_type": "execute_result",
          "data": {
            "text/plain": [
              "'/content'"
            ],
            "application/vnd.google.colaboratory.intrinsic+json": {
              "type": "string"
            }
          },
          "metadata": {},
          "execution_count": 101
        }
      ]
    },
    {
      "cell_type": "code",
      "execution_count": 102,
      "id": "20c692eb",
      "metadata": {
        "ExecuteTime": {
          "end_time": "2023-08-16T19:50:38.358234Z",
          "start_time": "2023-08-16T19:50:38.341560Z"
        },
        "colab": {
          "base_uri": "https://localhost:8080/"
        },
        "id": "20c692eb",
        "outputId": "f6941546-f10d-4b73-8629-8d8fe336a102"
      },
      "outputs": [
        {
          "output_type": "execute_result",
          "data": {
            "text/plain": [
              "2"
            ]
          },
          "metadata": {},
          "execution_count": 102
        }
      ],
      "source": [
        "cores = multiprocessing.cpu_count()\n",
        "cores"
      ]
    },
    {
      "cell_type": "code",
      "source": [
        "def vector_method_score(X_train, y_train, X_test, y_test, n_splits=5, shuffle=True, scoring='roc_auc'):\n",
        "  # Check cross-validation score\n",
        "  kfold = KFold(n_splits=n_splits, shuffle=shuffle, random_state=seed_value)\n",
        "  model = LGBMClassifier(n_jobs=-1, verbose=-1, random_state=seed_value)\n",
        "  scores = cross_val_score(model, X_train, y_train, cv=kfold, scoring=scoring)\n",
        "  cv_score = np.round(scores, 5)\n",
        "\n",
        "  # Check test score\n",
        "  model.fit(X_train, y_train);\n",
        "  y_pred = model.predict_proba(X_test)[:,1]\n",
        "  test_score = np.round(metrics.roc_auc_score(y_test, y_pred), 5)\n",
        "\n",
        "  return cv_score, test_score"
      ],
      "metadata": {
        "id": "7MpOWiPwIQA1"
      },
      "id": "7MpOWiPwIQA1",
      "execution_count": 103,
      "outputs": []
    },
    {
      "cell_type": "code",
      "source": [
        "def pipeline(X_train, y_train, X_test, y_test, vect_function, **kwargs):\n",
        "  start_time = time.time()\n",
        "  dict_csv_score = {}\n",
        "  dict_test_score = {}\n",
        "\n",
        "  for preproc_method in X_train.columns:\n",
        "    print(f\"Running: {preproc_method}\")\n",
        "    X_train_vec, X_test_vec = vect_function(X_train[preproc_method], X_test[preproc_method])\n",
        "    cv_score, test_score = vector_method_score(X_train_vec, y_train, X_test_vec, y_test)\n",
        "\n",
        "    dict_csv_score[preproc_method] = cv_score\n",
        "    dict_test_score[preproc_method] = [test_score]\n",
        "\n",
        "  end_time = time.time()\n",
        "  execution_time = end_time - start_time\n",
        "  hours, remainder = divmod(int(execution_time), 3600)\n",
        "  minutes, seconds = divmod(remainder, 60)\n",
        "  print(f\"\\nExecution time: {hours:02d}:{minutes:02d}:{seconds:02d}\")\n",
        "\n",
        "  return dict_csv_score, dict_test_score"
      ],
      "metadata": {
        "id": "5LQT8Ke3JUx-"
      },
      "id": "5LQT8Ke3JUx-",
      "execution_count": 104,
      "outputs": []
    },
    {
      "cell_type": "code",
      "source": [
        "def create_score_table(cv_score, test_score, title):\n",
        "  df_score = pd.DataFrame(cv_score).T\n",
        "  df_score['train_mean'] = df_score.mean(axis=1)\n",
        "  df_score['test'] = pd.DataFrame(test_score).T\n",
        "  df_score = df_score.style.set_caption(title)\n",
        "\n",
        "  return df_score"
      ],
      "metadata": {
        "id": "qCuCuvGAFFdf"
      },
      "id": "qCuCuvGAFFdf",
      "execution_count": 105,
      "outputs": []
    },
    {
      "cell_type": "markdown",
      "id": "17220a72",
      "metadata": {
        "id": "17220a72"
      },
      "source": [
        "## Dataset\n",
        "---"
      ]
    },
    {
      "cell_type": "code",
      "source": [
        "import pandas as pd\n",
        "from sklearn.model_selection import train_test_split\n",
        "from itertools import chain"
      ],
      "metadata": {
        "id": "83M1FiUCF4LQ"
      },
      "id": "83M1FiUCF4LQ",
      "execution_count": 106,
      "outputs": []
    },
    {
      "cell_type": "code",
      "source": [
        "try:\n",
        "  df = pd.read_csv(os.path.join(path, 'data\\preprocessed_corpus.zip'),\n",
        "                   sep=',', compression='zip')\n",
        "except:\n",
        "  !wget https://github.com/rdemarqui/sentiment_analysis/raw/main/data/preprocessed_corpus.zip -q\n",
        "  df = pd.read_csv(os.path.join(path, 'preprocessed_corpus.zip'),\n",
        "                   sep=',', compression='zip')"
      ],
      "metadata": {
        "id": "VSOorgW0Zh-4"
      },
      "id": "VSOorgW0Zh-4",
      "execution_count": 107,
      "outputs": []
    },
    {
      "cell_type": "code",
      "execution_count": 108,
      "id": "f773490d",
      "metadata": {
        "ExecuteTime": {
          "end_time": "2023-08-16T19:50:38.876610Z",
          "start_time": "2023-08-16T19:50:38.861358Z"
        },
        "colab": {
          "base_uri": "https://localhost:8080/"
        },
        "id": "f773490d",
        "outputId": "7ce45778-d21f-46d2-bf7b-113506982e9f"
      },
      "outputs": [
        {
          "output_type": "stream",
          "name": "stdout",
          "text": [
            "(113005, 7)\n"
          ]
        }
      ],
      "source": [
        "columns = ['review_text_clean', 'review_text_clean_stop', 'review_text_clean_stem',\n",
        "           'review_text_clean_stop_stem', 'review_text_clean_lemma', 'review_text_clean_stop_lemma',\n",
        "           'overall_rating']\n",
        "corpus = df[columns].copy()\n",
        "corpus['overall_rating'] = corpus['overall_rating'].apply(lambda x: 1 if x >= 4 else 0)\n",
        "corpus = corpus.dropna()\n",
        "print(corpus.shape)"
      ]
    },
    {
      "cell_type": "code",
      "source": [
        "# delete this line\n",
        "corpus = corpus.iloc[:200, ]"
      ],
      "metadata": {
        "id": "M68FKFwFObKW"
      },
      "id": "M68FKFwFObKW",
      "execution_count": 109,
      "outputs": []
    },
    {
      "cell_type": "code",
      "source": [
        "X_train, X_test, y_train, y_test = train_test_split(corpus.iloc[:, :-1], corpus.iloc[:, -1:],\n",
        "                                                    test_size=0.2, random_state=seed_value)"
      ],
      "metadata": {
        "id": "s8cXg8GG6B6W"
      },
      "id": "s8cXg8GG6B6W",
      "execution_count": 110,
      "outputs": []
    },
    {
      "cell_type": "code",
      "source": [
        "X_train.head()"
      ],
      "metadata": {
        "colab": {
          "base_uri": "https://localhost:8080/",
          "height": 379
        },
        "id": "qz0kkZvg9ka-",
        "outputId": "c7882b9b-52e4-4019-bffd-06c35cb3f455"
      },
      "id": "qz0kkZvg9ka-",
      "execution_count": 111,
      "outputs": [
        {
          "output_type": "execute_result",
          "data": {
            "text/plain": [
              "                                     review_text_clean  \\\n",
              "82   otimo produto original recomendo todos podem c...   \n",
              "201  pratico funcional facil instalacao boa ilumina...   \n",
              "40   fiquei satisfeito com seguranca garantia de to...   \n",
              "24   otimo produto comprei para uma pessoa albina e...   \n",
              "126  otima imagem som tamanho dela possibilita inst...   \n",
              "\n",
              "                                review_text_clean_stop  \\\n",
              "82   otimo produto original recomendo todos podem c...   \n",
              "201  pratico funcional facil instalacao boa iluminacao   \n",
              "40   fiquei satisfeito seguranca garantia toda tran...   \n",
              "24   otimo produto comprei pessoa albina adorou sup...   \n",
              "126  otima imagem som tamanho possibilita instalar ...   \n",
              "\n",
              "                                review_text_clean_stem  \\\n",
              "82   otim produt orig recom tod pod compr praz de e...   \n",
              "201             pra func facil instalaca boa iluminaca   \n",
              "40   fiq satisfeit com seguranc garant de tod trans...   \n",
              "24   otim produt compr par uma pesso albin ele ador...   \n",
              "126  otim imag som tamanh del possibilit instal em ...   \n",
              "\n",
              "                           review_text_clean_stop_stem  \\\n",
              "82   otim produt orig recom tod pod compr praz entr...   \n",
              "201             pra func facil instalaca boa iluminaca   \n",
              "40   fiq satisfeit seguranc garant tod transaca ent...   \n",
              "24      otim produt compr pesso albin ador sup lev tec   \n",
              "126   otim imag som tamanh possibilit instal vari ambi   \n",
              "\n",
              "                               review_text_clean_lemma  \\\n",
              "82   otimo produto original recomer todo poder comp...   \n",
              "201  praticar funcional facil instalacao boa ilumin...   \n",
              "40   fiquei satisfeito com seguranca garantia de to...   \n",
              "24   otimo produto comprar para um pessoa albino el...   \n",
              "126  otimo imagem som tamanho de ele possibilitar i...   \n",
              "\n",
              "                          review_text_clean_stop_lemma  \n",
              "82   otimo produto original recomer todo poder comp...  \n",
              "201  praticar funcional facil instalacao boa ilumin...  \n",
              "40   fiquei satisfeito seguranca garantiar todo tra...  \n",
              "24   otimo produto comprar pessoa albino adorar sup...  \n",
              "126  otimo imagem som tamanho possibilitar instalar...  "
            ],
            "text/html": [
              "\n",
              "  <div id=\"df-a80b4cd5-155f-441b-ba6f-94bc8ac158d1\" class=\"colab-df-container\">\n",
              "    <div>\n",
              "<style scoped>\n",
              "    .dataframe tbody tr th:only-of-type {\n",
              "        vertical-align: middle;\n",
              "    }\n",
              "\n",
              "    .dataframe tbody tr th {\n",
              "        vertical-align: top;\n",
              "    }\n",
              "\n",
              "    .dataframe thead th {\n",
              "        text-align: right;\n",
              "    }\n",
              "</style>\n",
              "<table border=\"1\" class=\"dataframe\">\n",
              "  <thead>\n",
              "    <tr style=\"text-align: right;\">\n",
              "      <th></th>\n",
              "      <th>review_text_clean</th>\n",
              "      <th>review_text_clean_stop</th>\n",
              "      <th>review_text_clean_stem</th>\n",
              "      <th>review_text_clean_stop_stem</th>\n",
              "      <th>review_text_clean_lemma</th>\n",
              "      <th>review_text_clean_stop_lemma</th>\n",
              "    </tr>\n",
              "  </thead>\n",
              "  <tbody>\n",
              "    <tr>\n",
              "      <th>82</th>\n",
              "      <td>otimo produto original recomendo todos podem c...</td>\n",
              "      <td>otimo produto original recomendo todos podem c...</td>\n",
              "      <td>otim produt orig recom tod pod compr praz de e...</td>\n",
              "      <td>otim produt orig recom tod pod compr praz entr...</td>\n",
              "      <td>otimo produto original recomer todo poder comp...</td>\n",
              "      <td>otimo produto original recomer todo poder comp...</td>\n",
              "    </tr>\n",
              "    <tr>\n",
              "      <th>201</th>\n",
              "      <td>pratico funcional facil instalacao boa ilumina...</td>\n",
              "      <td>pratico funcional facil instalacao boa iluminacao</td>\n",
              "      <td>pra func facil instalaca boa iluminaca</td>\n",
              "      <td>pra func facil instalaca boa iluminaca</td>\n",
              "      <td>praticar funcional facil instalacao boa ilumin...</td>\n",
              "      <td>praticar funcional facil instalacao boa ilumin...</td>\n",
              "    </tr>\n",
              "    <tr>\n",
              "      <th>40</th>\n",
              "      <td>fiquei satisfeito com seguranca garantia de to...</td>\n",
              "      <td>fiquei satisfeito seguranca garantia toda tran...</td>\n",
              "      <td>fiq satisfeit com seguranc garant de tod trans...</td>\n",
              "      <td>fiq satisfeit seguranc garant tod transaca ent...</td>\n",
              "      <td>fiquei satisfeito com seguranca garantia de to...</td>\n",
              "      <td>fiquei satisfeito seguranca garantiar todo tra...</td>\n",
              "    </tr>\n",
              "    <tr>\n",
              "      <th>24</th>\n",
              "      <td>otimo produto comprei para uma pessoa albina e...</td>\n",
              "      <td>otimo produto comprei pessoa albina adorou sup...</td>\n",
              "      <td>otim produt compr par uma pesso albin ele ador...</td>\n",
              "      <td>otim produt compr pesso albin ador sup lev tec</td>\n",
              "      <td>otimo produto comprar para um pessoa albino el...</td>\n",
              "      <td>otimo produto comprar pessoa albino adorar sup...</td>\n",
              "    </tr>\n",
              "    <tr>\n",
              "      <th>126</th>\n",
              "      <td>otima imagem som tamanho dela possibilita inst...</td>\n",
              "      <td>otima imagem som tamanho possibilita instalar ...</td>\n",
              "      <td>otim imag som tamanh del possibilit instal em ...</td>\n",
              "      <td>otim imag som tamanh possibilit instal vari ambi</td>\n",
              "      <td>otimo imagem som tamanho de ele possibilitar i...</td>\n",
              "      <td>otimo imagem som tamanho possibilitar instalar...</td>\n",
              "    </tr>\n",
              "  </tbody>\n",
              "</table>\n",
              "</div>\n",
              "    <div class=\"colab-df-buttons\">\n",
              "\n",
              "  <div class=\"colab-df-container\">\n",
              "    <button class=\"colab-df-convert\" onclick=\"convertToInteractive('df-a80b4cd5-155f-441b-ba6f-94bc8ac158d1')\"\n",
              "            title=\"Convert this dataframe to an interactive table.\"\n",
              "            style=\"display:none;\">\n",
              "\n",
              "  <svg xmlns=\"http://www.w3.org/2000/svg\" height=\"24px\" viewBox=\"0 -960 960 960\">\n",
              "    <path d=\"M120-120v-720h720v720H120Zm60-500h600v-160H180v160Zm220 220h160v-160H400v160Zm0 220h160v-160H400v160ZM180-400h160v-160H180v160Zm440 0h160v-160H620v160ZM180-180h160v-160H180v160Zm440 0h160v-160H620v160Z\"/>\n",
              "  </svg>\n",
              "    </button>\n",
              "\n",
              "  <style>\n",
              "    .colab-df-container {\n",
              "      display:flex;\n",
              "      gap: 12px;\n",
              "    }\n",
              "\n",
              "    .colab-df-convert {\n",
              "      background-color: #E8F0FE;\n",
              "      border: none;\n",
              "      border-radius: 50%;\n",
              "      cursor: pointer;\n",
              "      display: none;\n",
              "      fill: #1967D2;\n",
              "      height: 32px;\n",
              "      padding: 0 0 0 0;\n",
              "      width: 32px;\n",
              "    }\n",
              "\n",
              "    .colab-df-convert:hover {\n",
              "      background-color: #E2EBFA;\n",
              "      box-shadow: 0px 1px 2px rgba(60, 64, 67, 0.3), 0px 1px 3px 1px rgba(60, 64, 67, 0.15);\n",
              "      fill: #174EA6;\n",
              "    }\n",
              "\n",
              "    .colab-df-buttons div {\n",
              "      margin-bottom: 4px;\n",
              "    }\n",
              "\n",
              "    [theme=dark] .colab-df-convert {\n",
              "      background-color: #3B4455;\n",
              "      fill: #D2E3FC;\n",
              "    }\n",
              "\n",
              "    [theme=dark] .colab-df-convert:hover {\n",
              "      background-color: #434B5C;\n",
              "      box-shadow: 0px 1px 3px 1px rgba(0, 0, 0, 0.15);\n",
              "      filter: drop-shadow(0px 1px 2px rgba(0, 0, 0, 0.3));\n",
              "      fill: #FFFFFF;\n",
              "    }\n",
              "  </style>\n",
              "\n",
              "    <script>\n",
              "      const buttonEl =\n",
              "        document.querySelector('#df-a80b4cd5-155f-441b-ba6f-94bc8ac158d1 button.colab-df-convert');\n",
              "      buttonEl.style.display =\n",
              "        google.colab.kernel.accessAllowed ? 'block' : 'none';\n",
              "\n",
              "      async function convertToInteractive(key) {\n",
              "        const element = document.querySelector('#df-a80b4cd5-155f-441b-ba6f-94bc8ac158d1');\n",
              "        const dataTable =\n",
              "          await google.colab.kernel.invokeFunction('convertToInteractive',\n",
              "                                                    [key], {});\n",
              "        if (!dataTable) return;\n",
              "\n",
              "        const docLinkHtml = 'Like what you see? Visit the ' +\n",
              "          '<a target=\"_blank\" href=https://colab.research.google.com/notebooks/data_table.ipynb>data table notebook</a>'\n",
              "          + ' to learn more about interactive tables.';\n",
              "        element.innerHTML = '';\n",
              "        dataTable['output_type'] = 'display_data';\n",
              "        await google.colab.output.renderOutput(dataTable, element);\n",
              "        const docLink = document.createElement('div');\n",
              "        docLink.innerHTML = docLinkHtml;\n",
              "        element.appendChild(docLink);\n",
              "      }\n",
              "    </script>\n",
              "  </div>\n",
              "\n",
              "\n",
              "<div id=\"df-86f12d0a-36fa-4867-80d1-ac21cea41212\">\n",
              "  <button class=\"colab-df-quickchart\" onclick=\"quickchart('df-86f12d0a-36fa-4867-80d1-ac21cea41212')\"\n",
              "            title=\"Suggest charts.\"\n",
              "            style=\"display:none;\">\n",
              "\n",
              "<svg xmlns=\"http://www.w3.org/2000/svg\" height=\"24px\"viewBox=\"0 0 24 24\"\n",
              "     width=\"24px\">\n",
              "    <g>\n",
              "        <path d=\"M19 3H5c-1.1 0-2 .9-2 2v14c0 1.1.9 2 2 2h14c1.1 0 2-.9 2-2V5c0-1.1-.9-2-2-2zM9 17H7v-7h2v7zm4 0h-2V7h2v10zm4 0h-2v-4h2v4z\"/>\n",
              "    </g>\n",
              "</svg>\n",
              "  </button>\n",
              "\n",
              "<style>\n",
              "  .colab-df-quickchart {\n",
              "    background-color: #E8F0FE;\n",
              "    border: none;\n",
              "    border-radius: 50%;\n",
              "    cursor: pointer;\n",
              "    display: none;\n",
              "    fill: #1967D2;\n",
              "    height: 32px;\n",
              "    padding: 0 0 0 0;\n",
              "    width: 32px;\n",
              "  }\n",
              "\n",
              "  .colab-df-quickchart:hover {\n",
              "    background-color: #E2EBFA;\n",
              "    box-shadow: 0px 1px 2px rgba(60, 64, 67, 0.3), 0px 1px 3px 1px rgba(60, 64, 67, 0.15);\n",
              "    fill: #174EA6;\n",
              "  }\n",
              "\n",
              "  [theme=dark] .colab-df-quickchart {\n",
              "    background-color: #3B4455;\n",
              "    fill: #D2E3FC;\n",
              "  }\n",
              "\n",
              "  [theme=dark] .colab-df-quickchart:hover {\n",
              "    background-color: #434B5C;\n",
              "    box-shadow: 0px 1px 3px 1px rgba(0, 0, 0, 0.15);\n",
              "    filter: drop-shadow(0px 1px 2px rgba(0, 0, 0, 0.3));\n",
              "    fill: #FFFFFF;\n",
              "  }\n",
              "</style>\n",
              "\n",
              "  <script>\n",
              "    async function quickchart(key) {\n",
              "      const charts = await google.colab.kernel.invokeFunction(\n",
              "          'suggestCharts', [key], {});\n",
              "    }\n",
              "    (() => {\n",
              "      let quickchartButtonEl =\n",
              "        document.querySelector('#df-86f12d0a-36fa-4867-80d1-ac21cea41212 button');\n",
              "      quickchartButtonEl.style.display =\n",
              "        google.colab.kernel.accessAllowed ? 'block' : 'none';\n",
              "    })();\n",
              "  </script>\n",
              "</div>\n",
              "    </div>\n",
              "  </div>\n"
            ]
          },
          "metadata": {},
          "execution_count": 111
        }
      ]
    },
    {
      "cell_type": "code",
      "source": [
        "# Checking y proportion\n",
        "print(f'Train proportion\\n{y_train.value_counts()/y_train.shape[0]}')"
      ],
      "metadata": {
        "colab": {
          "base_uri": "https://localhost:8080/"
        },
        "id": "S579M1OV6r_r",
        "outputId": "f9a6b9ad-88fa-427a-adac-c6c8d1ebb261"
      },
      "id": "S579M1OV6r_r",
      "execution_count": 112,
      "outputs": [
        {
          "output_type": "stream",
          "name": "stdout",
          "text": [
            "Train proportion\n",
            "overall_rating\n",
            "1                 0.775\n",
            "0                 0.225\n",
            "dtype: float64\n"
          ]
        }
      ]
    },
    {
      "cell_type": "code",
      "source": [
        "X_train = X_train.astype(str)\n",
        "y_train = y_train.values.ravel()\n",
        "X_test = X_test.astype(str)\n",
        "y_test = y_test.values.ravel()"
      ],
      "metadata": {
        "id": "GuYn5oZEqW0t"
      },
      "id": "GuYn5oZEqW0t",
      "execution_count": 113,
      "outputs": []
    },
    {
      "cell_type": "code",
      "source": [
        "# Check Vocabulary size\n",
        "voc_size = {}\n",
        "for column in X_train.columns:\n",
        "  full_text = ' '.join(X_train[column].tolist())\n",
        "  words = full_text.split()\n",
        "  vocabulary = set(words)\n",
        "  voc_size[column] = len(vocabulary)\n",
        "\n",
        "df_vocabulary_size = pd.DataFrame(list(voc_size.items()), columns=['Corpus', 'Voc_size'])\n",
        "ax = df_vocabulary_size.plot.barh()\n",
        "ax.set_yticklabels(df_vocabulary_size.Corpus)\n",
        "ax.invert_yaxis();"
      ],
      "metadata": {
        "colab": {
          "base_uri": "https://localhost:8080/",
          "height": 430
        },
        "id": "mp-HFOnJ9KhV",
        "outputId": "f51b9a65-5a9e-47f4-a36f-512361983c4c"
      },
      "id": "mp-HFOnJ9KhV",
      "execution_count": 114,
      "outputs": [
        {
          "output_type": "display_data",
          "data": {
            "text/plain": [
              "<Figure size 640x480 with 1 Axes>"
            ],
            "image/png": "[encoded data removed]"
          },
          "metadata": {}
        }
      ]
    },
    {
      "cell_type": "markdown",
      "id": "bdbe9969",
      "metadata": {
        "id": "bdbe9969"
      },
      "source": [
        "## Sparse\n",
        "---"
      ]
    },
    {
      "cell_type": "markdown",
      "id": "e6861466",
      "metadata": {
        "id": "e6861466"
      },
      "source": [
        "### Bag of Word\n",
        "___"
      ]
    },
    {
      "cell_type": "code",
      "execution_count": 115,
      "id": "80626732",
      "metadata": {
        "ExecuteTime": {
          "end_time": "2023-07-25T17:42:46.472927Z",
          "start_time": "2023-07-25T17:42:46.429443Z"
        },
        "id": "80626732"
      },
      "outputs": [],
      "source": [
        "from sklearn.feature_extraction.text import CountVectorizer"
      ]
    },
    {
      "cell_type": "code",
      "source": [
        "def apply_bag_of_word(X_train, X_test):\n",
        "  vectorizer = CountVectorizer(lowercase=False, dtype=np.float32)\n",
        "  X_train_vec = vectorizer.fit_transform(X_train)\n",
        "  X_test_vec = vectorizer.transform(X_test)\n",
        "\n",
        "  return X_train_vec, X_test_vec"
      ],
      "metadata": {
        "id": "vUucY72sIH8v"
      },
      "id": "vUucY72sIH8v",
      "execution_count": 116,
      "outputs": []
    },
    {
      "cell_type": "code",
      "source": [
        "cv_score_bow, test_score_bow = pipeline(X_train, y_train, X_test, y_test,\n",
        "                                        apply_bag_of_word)"
      ],
      "metadata": {
        "colab": {
          "base_uri": "https://localhost:8080/"
        },
        "id": "O_c8ocdlMVT2",
        "outputId": "a213d477-774c-479c-dba0-5fe8cb8348fb"
      },
      "id": "O_c8ocdlMVT2",
      "execution_count": 117,
      "outputs": [
        {
          "output_type": "stream",
          "name": "stdout",
          "text": [
            "Running: review_text_clean\n",
            "Running: review_text_clean_stop\n",
            "Running: review_text_clean_stem\n",
            "Running: review_text_clean_stop_stem\n",
            "Running: review_text_clean_lemma\n",
            "Running: review_text_clean_stop_lemma\n",
            "\n",
            "Execution time: 00:00:01\n"
          ]
        }
      ]
    },
    {
      "cell_type": "code",
      "source": [
        "df_score_bow = create_score_table(cv_score_bow, test_score_bow, title=\"Bag of Word Score (ROC)\")\n",
        "df_score_bow"
      ],
      "metadata": {
        "colab": {
          "base_uri": "https://localhost:8080/",
          "height": 255
        },
        "id": "9oGIlj7lHCpq",
        "outputId": "f1a506ec-ebb4-4f6e-e96e-273192a84ae0"
      },
      "id": "9oGIlj7lHCpq",
      "execution_count": 118,
      "outputs": [
        {
          "output_type": "execute_result",
          "data": {
            "text/plain": [
              "<pandas.io.formats.style.Styler at 0x79e40cf949d0>"
            ],
            "text/html": [
              "<style type=\"text/css\">\n",
              "</style>\n",
              "<table id=\"T_3c5f4\" class=\"dataframe\">\n",
              "  <caption>Bag of Word Score (ROC)</caption>\n",
              "  <thead>\n",
              "    <tr>\n",
              "      <th class=\"blank level0\" >&nbsp;</th>\n",
              "      <th id=\"T_3c5f4_level0_col0\" class=\"col_heading level0 col0\" >0</th>\n",
              "      <th id=\"T_3c5f4_level0_col1\" class=\"col_heading level0 col1\" >1</th>\n",
              "      <th id=\"T_3c5f4_level0_col2\" class=\"col_heading level0 col2\" >2</th>\n",
              "      <th id=\"T_3c5f4_level0_col3\" class=\"col_heading level0 col3\" >3</th>\n",
              "      <th id=\"T_3c5f4_level0_col4\" class=\"col_heading level0 col4\" >4</th>\n",
              "      <th id=\"T_3c5f4_level0_col5\" class=\"col_heading level0 col5\" >train_mean</th>\n",
              "      <th id=\"T_3c5f4_level0_col6\" class=\"col_heading level0 col6\" >test</th>\n",
              "    </tr>\n",
              "  </thead>\n",
              "  <tbody>\n",
              "    <tr>\n",
              "      <th id=\"T_3c5f4_level0_row0\" class=\"row_heading level0 row0\" >review_text_clean</th>\n",
              "      <td id=\"T_3c5f4_row0_col0\" class=\"data row0 col0\" >0.948720</td>\n",
              "      <td id=\"T_3c5f4_row0_col1\" class=\"data row0 col1\" >0.858330</td>\n",
              "      <td id=\"T_3c5f4_row0_col2\" class=\"data row0 col2\" >0.884620</td>\n",
              "      <td id=\"T_3c5f4_row0_col3\" class=\"data row0 col3\" >0.921880</td>\n",
              "      <td id=\"T_3c5f4_row0_col4\" class=\"data row0 col4\" >0.919640</td>\n",
              "      <td id=\"T_3c5f4_row0_col5\" class=\"data row0 col5\" >0.906638</td>\n",
              "      <td id=\"T_3c5f4_row0_col6\" class=\"data row0 col6\" >0.937300</td>\n",
              "    </tr>\n",
              "    <tr>\n",
              "      <th id=\"T_3c5f4_level0_row1\" class=\"row_heading level0 row1\" >review_text_clean_stop</th>\n",
              "      <td id=\"T_3c5f4_row1_col0\" class=\"data row1 col0\" >0.458330</td>\n",
              "      <td id=\"T_3c5f4_row1_col1\" class=\"data row1 col1\" >0.664580</td>\n",
              "      <td id=\"T_3c5f4_row1_col2\" class=\"data row1 col2\" >0.516030</td>\n",
              "      <td id=\"T_3c5f4_row1_col3\" class=\"data row1 col3\" >0.684900</td>\n",
              "      <td id=\"T_3c5f4_row1_col4\" class=\"data row1 col4\" >0.687500</td>\n",
              "      <td id=\"T_3c5f4_row1_col5\" class=\"data row1 col5\" >0.602268</td>\n",
              "      <td id=\"T_3c5f4_row1_col6\" class=\"data row1 col6\" >0.623820</td>\n",
              "    </tr>\n",
              "    <tr>\n",
              "      <th id=\"T_3c5f4_level0_row2\" class=\"row_heading level0 row2\" >review_text_clean_stem</th>\n",
              "      <td id=\"T_3c5f4_row2_col0\" class=\"data row2 col0\" >0.942310</td>\n",
              "      <td id=\"T_3c5f4_row2_col1\" class=\"data row2 col1\" >0.866670</td>\n",
              "      <td id=\"T_3c5f4_row2_col2\" class=\"data row2 col2\" >0.935900</td>\n",
              "      <td id=\"T_3c5f4_row2_col3\" class=\"data row2 col3\" >0.835940</td>\n",
              "      <td id=\"T_3c5f4_row2_col4\" class=\"data row2 col4\" >0.834820</td>\n",
              "      <td id=\"T_3c5f4_row2_col5\" class=\"data row2 col5\" >0.883128</td>\n",
              "      <td id=\"T_3c5f4_row2_col6\" class=\"data row2 col6\" >0.909090</td>\n",
              "    </tr>\n",
              "    <tr>\n",
              "      <th id=\"T_3c5f4_level0_row3\" class=\"row_heading level0 row3\" >review_text_clean_stop_stem</th>\n",
              "      <td id=\"T_3c5f4_row3_col0\" class=\"data row3 col0\" >0.653850</td>\n",
              "      <td id=\"T_3c5f4_row3_col1\" class=\"data row3 col1\" >0.708330</td>\n",
              "      <td id=\"T_3c5f4_row3_col2\" class=\"data row3 col2\" >0.564100</td>\n",
              "      <td id=\"T_3c5f4_row3_col3\" class=\"data row3 col3\" >0.752600</td>\n",
              "      <td id=\"T_3c5f4_row3_col4\" class=\"data row3 col4\" >0.745540</td>\n",
              "      <td id=\"T_3c5f4_row3_col5\" class=\"data row3 col5\" >0.684884</td>\n",
              "      <td id=\"T_3c5f4_row3_col6\" class=\"data row3 col6\" >0.710030</td>\n",
              "    </tr>\n",
              "    <tr>\n",
              "      <th id=\"T_3c5f4_level0_row4\" class=\"row_heading level0 row4\" >review_text_clean_lemma</th>\n",
              "      <td id=\"T_3c5f4_row4_col0\" class=\"data row4 col0\" >0.916670</td>\n",
              "      <td id=\"T_3c5f4_row4_col1\" class=\"data row4 col1\" >0.787500</td>\n",
              "      <td id=\"T_3c5f4_row4_col2\" class=\"data row4 col2\" >0.923080</td>\n",
              "      <td id=\"T_3c5f4_row4_col3\" class=\"data row4 col3\" >0.885420</td>\n",
              "      <td id=\"T_3c5f4_row4_col4\" class=\"data row4 col4\" >0.919640</td>\n",
              "      <td id=\"T_3c5f4_row4_col5\" class=\"data row4 col5\" >0.886462</td>\n",
              "      <td id=\"T_3c5f4_row4_col6\" class=\"data row4 col6\" >0.959250</td>\n",
              "    </tr>\n",
              "    <tr>\n",
              "      <th id=\"T_3c5f4_level0_row5\" class=\"row_heading level0 row5\" >review_text_clean_stop_lemma</th>\n",
              "      <td id=\"T_3c5f4_row5_col0\" class=\"data row5 col0\" >0.669870</td>\n",
              "      <td id=\"T_3c5f4_row5_col1\" class=\"data row5 col1\" >0.706250</td>\n",
              "      <td id=\"T_3c5f4_row5_col2\" class=\"data row5 col2\" >0.701920</td>\n",
              "      <td id=\"T_3c5f4_row5_col3\" class=\"data row5 col3\" >0.713540</td>\n",
              "      <td id=\"T_3c5f4_row5_col4\" class=\"data row5 col4\" >0.803570</td>\n",
              "      <td id=\"T_3c5f4_row5_col5\" class=\"data row5 col5\" >0.719030</td>\n",
              "      <td id=\"T_3c5f4_row5_col6\" class=\"data row5 col6\" >0.711600</td>\n",
              "    </tr>\n",
              "  </tbody>\n",
              "</table>\n"
            ]
          },
          "metadata": {},
          "execution_count": 118
        }
      ]
    },
    {
      "cell_type": "markdown",
      "id": "a7567b78",
      "metadata": {
        "id": "a7567b78"
      },
      "source": [
        "### TF-IDF\n",
        "---"
      ]
    },
    {
      "cell_type": "code",
      "execution_count": 119,
      "id": "69fe16a6",
      "metadata": {
        "ExecuteTime": {
          "end_time": "2023-07-25T17:42:46.842187Z",
          "start_time": "2023-07-25T17:42:46.799777Z"
        },
        "id": "69fe16a6"
      },
      "outputs": [],
      "source": [
        "from sklearn.feature_extraction.text import TfidfVectorizer"
      ]
    },
    {
      "cell_type": "code",
      "source": [
        "def apply_tf_idf(X_train, X_test):\n",
        "  vectorizer = TfidfVectorizer(lowercase=False, dtype=np.float32)\n",
        "  X_train_vec = vectorizer.fit_transform(X_train)\n",
        "  X_test_vec = vectorizer.transform(X_test)\n",
        "\n",
        "  return X_train_vec, X_test_vec"
      ],
      "metadata": {
        "id": "7Kzz9dRaIWm-"
      },
      "id": "7Kzz9dRaIWm-",
      "execution_count": 120,
      "outputs": []
    },
    {
      "cell_type": "code",
      "source": [
        "cv_score_tfidf, test_score_tfidf = pipeline(X_train, y_train, X_test, y_test,\n",
        "                                            apply_tf_idf)"
      ],
      "metadata": {
        "colab": {
          "base_uri": "https://localhost:8080/"
        },
        "id": "aia3UBD6I_S9",
        "outputId": "724d0c40-a470-4ae7-8355-a1228569bc65"
      },
      "id": "aia3UBD6I_S9",
      "execution_count": 121,
      "outputs": [
        {
          "output_type": "stream",
          "name": "stdout",
          "text": [
            "Running: review_text_clean\n",
            "Running: review_text_clean_stop\n",
            "Running: review_text_clean_stem\n",
            "Running: review_text_clean_stop_stem\n",
            "Running: review_text_clean_lemma\n",
            "Running: review_text_clean_stop_lemma\n",
            "\n",
            "Execution time: 00:00:00\n"
          ]
        }
      ]
    },
    {
      "cell_type": "code",
      "source": [
        "df_score_tfidf = create_score_table(cv_score_tfidf, test_score_tfidf, title=\"TF-IDF Score (ROC)\")\n",
        "df_score_tfidf"
      ],
      "metadata": {
        "colab": {
          "base_uri": "https://localhost:8080/",
          "height": 255
        },
        "id": "qTHlPOF0G5yG",
        "outputId": "daf37205-8c16-4453-fef3-9705261d64ce"
      },
      "id": "qTHlPOF0G5yG",
      "execution_count": 122,
      "outputs": [
        {
          "output_type": "execute_result",
          "data": {
            "text/plain": [
              "<pandas.io.formats.style.Styler at 0x79e412d5b3a0>"
            ],
            "text/html": [
              "<style type=\"text/css\">\n",
              "</style>\n",
              "<table id=\"T_9cd27\" class=\"dataframe\">\n",
              "  <caption>TF-IDF Score (ROC)</caption>\n",
              "  <thead>\n",
              "    <tr>\n",
              "      <th class=\"blank level0\" >&nbsp;</th>\n",
              "      <th id=\"T_9cd27_level0_col0\" class=\"col_heading level0 col0\" >0</th>\n",
              "      <th id=\"T_9cd27_level0_col1\" class=\"col_heading level0 col1\" >1</th>\n",
              "      <th id=\"T_9cd27_level0_col2\" class=\"col_heading level0 col2\" >2</th>\n",
              "      <th id=\"T_9cd27_level0_col3\" class=\"col_heading level0 col3\" >3</th>\n",
              "      <th id=\"T_9cd27_level0_col4\" class=\"col_heading level0 col4\" >4</th>\n",
              "      <th id=\"T_9cd27_level0_col5\" class=\"col_heading level0 col5\" >train_mean</th>\n",
              "      <th id=\"T_9cd27_level0_col6\" class=\"col_heading level0 col6\" >test</th>\n",
              "    </tr>\n",
              "  </thead>\n",
              "  <tbody>\n",
              "    <tr>\n",
              "      <th id=\"T_9cd27_level0_row0\" class=\"row_heading level0 row0\" >review_text_clean</th>\n",
              "      <td id=\"T_9cd27_row0_col0\" class=\"data row0 col0\" >0.923080</td>\n",
              "      <td id=\"T_9cd27_row0_col1\" class=\"data row0 col1\" >0.845830</td>\n",
              "      <td id=\"T_9cd27_row0_col2\" class=\"data row0 col2\" >0.910260</td>\n",
              "      <td id=\"T_9cd27_row0_col3\" class=\"data row0 col3\" >0.901040</td>\n",
              "      <td id=\"T_9cd27_row0_col4\" class=\"data row0 col4\" >0.875000</td>\n",
              "      <td id=\"T_9cd27_row0_col5\" class=\"data row0 col5\" >0.891042</td>\n",
              "      <td id=\"T_9cd27_row0_col6\" class=\"data row0 col6\" >0.952980</td>\n",
              "    </tr>\n",
              "    <tr>\n",
              "      <th id=\"T_9cd27_level0_row1\" class=\"row_heading level0 row1\" >review_text_clean_stop</th>\n",
              "      <td id=\"T_9cd27_row1_col0\" class=\"data row1 col0\" >0.717950</td>\n",
              "      <td id=\"T_9cd27_row1_col1\" class=\"data row1 col1\" >0.568750</td>\n",
              "      <td id=\"T_9cd27_row1_col2\" class=\"data row1 col2\" >0.618590</td>\n",
              "      <td id=\"T_9cd27_row1_col3\" class=\"data row1 col3\" >0.744790</td>\n",
              "      <td id=\"T_9cd27_row1_col4\" class=\"data row1 col4\" >0.727680</td>\n",
              "      <td id=\"T_9cd27_row1_col5\" class=\"data row1 col5\" >0.675552</td>\n",
              "      <td id=\"T_9cd27_row1_col6\" class=\"data row1 col6\" >0.573670</td>\n",
              "    </tr>\n",
              "    <tr>\n",
              "      <th id=\"T_9cd27_level0_row2\" class=\"row_heading level0 row2\" >review_text_clean_stem</th>\n",
              "      <td id=\"T_9cd27_row2_col0\" class=\"data row2 col0\" >0.942310</td>\n",
              "      <td id=\"T_9cd27_row2_col1\" class=\"data row2 col1\" >0.883330</td>\n",
              "      <td id=\"T_9cd27_row2_col2\" class=\"data row2 col2\" >0.858970</td>\n",
              "      <td id=\"T_9cd27_row2_col3\" class=\"data row2 col3\" >0.885420</td>\n",
              "      <td id=\"T_9cd27_row2_col4\" class=\"data row2 col4\" >0.901790</td>\n",
              "      <td id=\"T_9cd27_row2_col5\" class=\"data row2 col5\" >0.894364</td>\n",
              "      <td id=\"T_9cd27_row2_col6\" class=\"data row2 col6\" >0.956110</td>\n",
              "    </tr>\n",
              "    <tr>\n",
              "      <th id=\"T_9cd27_level0_row3\" class=\"row_heading level0 row3\" >review_text_clean_stop_stem</th>\n",
              "      <td id=\"T_9cd27_row3_col0\" class=\"data row3 col0\" >0.746790</td>\n",
              "      <td id=\"T_9cd27_row3_col1\" class=\"data row3 col1\" >0.647920</td>\n",
              "      <td id=\"T_9cd27_row3_col2\" class=\"data row3 col2\" >0.647440</td>\n",
              "      <td id=\"T_9cd27_row3_col3\" class=\"data row3 col3\" >0.804690</td>\n",
              "      <td id=\"T_9cd27_row3_col4\" class=\"data row3 col4\" >0.825890</td>\n",
              "      <td id=\"T_9cd27_row3_col5\" class=\"data row3 col5\" >0.734546</td>\n",
              "      <td id=\"T_9cd27_row3_col6\" class=\"data row3 col6\" >0.711600</td>\n",
              "    </tr>\n",
              "    <tr>\n",
              "      <th id=\"T_9cd27_level0_row4\" class=\"row_heading level0 row4\" >review_text_clean_lemma</th>\n",
              "      <td id=\"T_9cd27_row4_col0\" class=\"data row4 col0\" >0.929490</td>\n",
              "      <td id=\"T_9cd27_row4_col1\" class=\"data row4 col1\" >0.820830</td>\n",
              "      <td id=\"T_9cd27_row4_col2\" class=\"data row4 col2\" >0.858970</td>\n",
              "      <td id=\"T_9cd27_row4_col3\" class=\"data row4 col3\" >0.895830</td>\n",
              "      <td id=\"T_9cd27_row4_col4\" class=\"data row4 col4\" >0.919640</td>\n",
              "      <td id=\"T_9cd27_row4_col5\" class=\"data row4 col5\" >0.884952</td>\n",
              "      <td id=\"T_9cd27_row4_col6\" class=\"data row4 col6\" >0.952980</td>\n",
              "    </tr>\n",
              "    <tr>\n",
              "      <th id=\"T_9cd27_level0_row5\" class=\"row_heading level0 row5\" >review_text_clean_stop_lemma</th>\n",
              "      <td id=\"T_9cd27_row5_col0\" class=\"data row5 col0\" >0.714740</td>\n",
              "      <td id=\"T_9cd27_row5_col1\" class=\"data row5 col1\" >0.575000</td>\n",
              "      <td id=\"T_9cd27_row5_col2\" class=\"data row5 col2\" >0.778850</td>\n",
              "      <td id=\"T_9cd27_row5_col3\" class=\"data row5 col3\" >0.731770</td>\n",
              "      <td id=\"T_9cd27_row5_col4\" class=\"data row5 col4\" >0.772320</td>\n",
              "      <td id=\"T_9cd27_row5_col5\" class=\"data row5 col5\" >0.714536</td>\n",
              "      <td id=\"T_9cd27_row5_col6\" class=\"data row5 col6\" >0.744510</td>\n",
              "    </tr>\n",
              "  </tbody>\n",
              "</table>\n"
            ]
          },
          "metadata": {},
          "execution_count": 122
        }
      ]
    },
    {
      "cell_type": "markdown",
      "id": "b27a3e58",
      "metadata": {
        "id": "b27a3e58"
      },
      "source": [
        "## Dense\n",
        "___"
      ]
    },
    {
      "cell_type": "markdown",
      "id": "b6684fad",
      "metadata": {
        "id": "b6684fad"
      },
      "source": [
        "### Word2vec\n",
        "___"
      ]
    },
    {
      "cell_type": "code",
      "execution_count": 123,
      "id": "dfc1b300",
      "metadata": {
        "ExecuteTime": {
          "end_time": "2023-07-25T17:42:47.227462Z",
          "start_time": "2023-07-25T17:42:47.184701Z"
        },
        "id": "dfc1b300"
      },
      "outputs": [],
      "source": [
        "from gensim.models import Word2Vec"
      ]
    },
    {
      "cell_type": "code",
      "source": [
        "def apply_word2vec(X_train, X_test, sg=0):\n",
        "  X_train_tokenized = [text.split() for text in X_train.values.tolist()]\n",
        "  X_test_tokenized = [text.split() for text in X_test.values.tolist()]\n",
        "\n",
        "  vectorizer = Word2Vec(vector_size=300, sg=sg, workers=cores)\n",
        "  vectorizer.build_vocab(X_train_tokenized)\n",
        "  vectorizer.train(X_train_tokenized, total_examples=vectorizer.corpus_count, epochs=vectorizer.epochs)\n",
        "\n",
        "  # A random vector for OOV it's better than zeros vector, because model can learn something\n",
        "  vector_shape = vectorizer.wv[list(vectorizer.wv.key_to_index)[0]].shape\n",
        "  np.random.seed(seed_value)\n",
        "  UNK_TOKEN = np.random.rand(*vector_shape)\n",
        "\n",
        "  def get_word_vector(word):\n",
        "    return vectorizer.wv[word] if word in vectorizer.wv else UNK_TOKEN\n",
        "\n",
        "  X_train_vec = [[get_word_vector(word) for word in text] for text in X_train_tokenized]\n",
        "  X_test_vec = [[get_word_vector(word) for word in text] for text in X_test_tokenized]\n",
        "\n",
        "  # Get mean of word vectors for each text\n",
        "  X_train_vec = [np.mean(np.array(vector).T, axis=1) for vector in X_train_vec]\n",
        "  X_test_vec = [np.mean(np.array(vector).T, axis=1) for vector in X_test_vec]\n",
        "\n",
        "  return X_train_vec, X_test_vec"
      ],
      "metadata": {
        "id": "RfOHj5nSqo9b"
      },
      "id": "RfOHj5nSqo9b",
      "execution_count": 124,
      "outputs": []
    },
    {
      "cell_type": "markdown",
      "id": "0764cc79",
      "metadata": {
        "id": "0764cc79"
      },
      "source": [
        "#### CBOW - Continuous Bag of Words\n",
        "___"
      ]
    },
    {
      "cell_type": "code",
      "source": [
        "cv_score_cbow, test_score_cbow = pipeline(X_train, y_train, X_test, y_test,\n",
        "                                          apply_word2vec, sg=0)"
      ],
      "metadata": {
        "id": "x1UkOpq3UShb",
        "colab": {
          "base_uri": "https://localhost:8080/"
        },
        "outputId": "684a2651-0de6-43a8-8a75-57718fc9807f"
      },
      "id": "x1UkOpq3UShb",
      "execution_count": 125,
      "outputs": [
        {
          "output_type": "stream",
          "name": "stdout",
          "text": [
            "Running: review_text_clean\n",
            "Running: review_text_clean_stop\n",
            "Running: review_text_clean_stem\n",
            "Running: review_text_clean_stop_stem\n",
            "Running: review_text_clean_lemma\n",
            "Running: review_text_clean_stop_lemma\n",
            "\n",
            "Execution time: 00:00:07\n"
          ]
        }
      ]
    },
    {
      "cell_type": "code",
      "source": [
        "df_score_cbow = create_score_table(cv_score_cbow, test_score_cbow, title=\"Word2Vec CBOW Score (ROC)\")\n",
        "df_score_cbow"
      ],
      "metadata": {
        "colab": {
          "base_uri": "https://localhost:8080/",
          "height": 255
        },
        "id": "DtmeM9MiGoVo",
        "outputId": "8a3fece6-97d1-420f-e5ec-5e285129efcb"
      },
      "id": "DtmeM9MiGoVo",
      "execution_count": 126,
      "outputs": [
        {
          "output_type": "execute_result",
          "data": {
            "text/plain": [
              "<pandas.io.formats.style.Styler at 0x79e4182a9f90>"
            ],
            "text/html": [
              "<style type=\"text/css\">\n",
              "</style>\n",
              "<table id=\"T_eebd3\" class=\"dataframe\">\n",
              "  <caption>Word2Vec CBOW Score (ROC)</caption>\n",
              "  <thead>\n",
              "    <tr>\n",
              "      <th class=\"blank level0\" >&nbsp;</th>\n",
              "      <th id=\"T_eebd3_level0_col0\" class=\"col_heading level0 col0\" >0</th>\n",
              "      <th id=\"T_eebd3_level0_col1\" class=\"col_heading level0 col1\" >1</th>\n",
              "      <th id=\"T_eebd3_level0_col2\" class=\"col_heading level0 col2\" >2</th>\n",
              "      <th id=\"T_eebd3_level0_col3\" class=\"col_heading level0 col3\" >3</th>\n",
              "      <th id=\"T_eebd3_level0_col4\" class=\"col_heading level0 col4\" >4</th>\n",
              "      <th id=\"T_eebd3_level0_col5\" class=\"col_heading level0 col5\" >train_mean</th>\n",
              "      <th id=\"T_eebd3_level0_col6\" class=\"col_heading level0 col6\" >test</th>\n",
              "    </tr>\n",
              "  </thead>\n",
              "  <tbody>\n",
              "    <tr>\n",
              "      <th id=\"T_eebd3_level0_row0\" class=\"row_heading level0 row0\" >review_text_clean</th>\n",
              "      <td id=\"T_eebd3_row0_col0\" class=\"data row0 col0\" >0.833330</td>\n",
              "      <td id=\"T_eebd3_row0_col1\" class=\"data row0 col1\" >0.708330</td>\n",
              "      <td id=\"T_eebd3_row0_col2\" class=\"data row0 col2\" >0.557690</td>\n",
              "      <td id=\"T_eebd3_row0_col3\" class=\"data row0 col3\" >0.510420</td>\n",
              "      <td id=\"T_eebd3_row0_col4\" class=\"data row0 col4\" >0.803570</td>\n",
              "      <td id=\"T_eebd3_row0_col5\" class=\"data row0 col5\" >0.682668</td>\n",
              "      <td id=\"T_eebd3_row0_col6\" class=\"data row0 col6\" >0.619120</td>\n",
              "    </tr>\n",
              "    <tr>\n",
              "      <th id=\"T_eebd3_level0_row1\" class=\"row_heading level0 row1\" >review_text_clean_stop</th>\n",
              "      <td id=\"T_eebd3_row1_col0\" class=\"data row1 col0\" >0.679490</td>\n",
              "      <td id=\"T_eebd3_row1_col1\" class=\"data row1 col1\" >0.862500</td>\n",
              "      <td id=\"T_eebd3_row1_col2\" class=\"data row1 col2\" >0.608970</td>\n",
              "      <td id=\"T_eebd3_row1_col3\" class=\"data row1 col3\" >0.731770</td>\n",
              "      <td id=\"T_eebd3_row1_col4\" class=\"data row1 col4\" >0.705360</td>\n",
              "      <td id=\"T_eebd3_row1_col5\" class=\"data row1 col5\" >0.717618</td>\n",
              "      <td id=\"T_eebd3_row1_col6\" class=\"data row1 col6\" >0.691220</td>\n",
              "    </tr>\n",
              "    <tr>\n",
              "      <th id=\"T_eebd3_level0_row2\" class=\"row_heading level0 row2\" >review_text_clean_stem</th>\n",
              "      <td id=\"T_eebd3_row2_col0\" class=\"data row2 col0\" >0.685900</td>\n",
              "      <td id=\"T_eebd3_row2_col1\" class=\"data row2 col1\" >0.595830</td>\n",
              "      <td id=\"T_eebd3_row2_col2\" class=\"data row2 col2\" >0.926280</td>\n",
              "      <td id=\"T_eebd3_row2_col3\" class=\"data row2 col3\" >0.666670</td>\n",
              "      <td id=\"T_eebd3_row2_col4\" class=\"data row2 col4\" >0.785710</td>\n",
              "      <td id=\"T_eebd3_row2_col5\" class=\"data row2 col5\" >0.732078</td>\n",
              "      <td id=\"T_eebd3_row2_col6\" class=\"data row2 col6\" >0.631660</td>\n",
              "    </tr>\n",
              "    <tr>\n",
              "      <th id=\"T_eebd3_level0_row3\" class=\"row_heading level0 row3\" >review_text_clean_stop_stem</th>\n",
              "      <td id=\"T_eebd3_row3_col0\" class=\"data row3 col0\" >0.948720</td>\n",
              "      <td id=\"T_eebd3_row3_col1\" class=\"data row3 col1\" >0.485420</td>\n",
              "      <td id=\"T_eebd3_row3_col2\" class=\"data row3 col2\" >0.589740</td>\n",
              "      <td id=\"T_eebd3_row3_col3\" class=\"data row3 col3\" >0.536460</td>\n",
              "      <td id=\"T_eebd3_row3_col4\" class=\"data row3 col4\" >0.794640</td>\n",
              "      <td id=\"T_eebd3_row3_col5\" class=\"data row3 col5\" >0.670996</td>\n",
              "      <td id=\"T_eebd3_row3_col6\" class=\"data row3 col6\" >0.670850</td>\n",
              "    </tr>\n",
              "    <tr>\n",
              "      <th id=\"T_eebd3_level0_row4\" class=\"row_heading level0 row4\" >review_text_clean_lemma</th>\n",
              "      <td id=\"T_eebd3_row4_col0\" class=\"data row4 col0\" >0.487180</td>\n",
              "      <td id=\"T_eebd3_row4_col1\" class=\"data row4 col1\" >0.756250</td>\n",
              "      <td id=\"T_eebd3_row4_col2\" class=\"data row4 col2\" >0.644230</td>\n",
              "      <td id=\"T_eebd3_row4_col3\" class=\"data row4 col3\" >0.671880</td>\n",
              "      <td id=\"T_eebd3_row4_col4\" class=\"data row4 col4\" >0.866070</td>\n",
              "      <td id=\"T_eebd3_row4_col5\" class=\"data row4 col5\" >0.685122</td>\n",
              "      <td id=\"T_eebd3_row4_col6\" class=\"data row4 col6\" >0.620690</td>\n",
              "    </tr>\n",
              "    <tr>\n",
              "      <th id=\"T_eebd3_level0_row5\" class=\"row_heading level0 row5\" >review_text_clean_stop_lemma</th>\n",
              "      <td id=\"T_eebd3_row5_col0\" class=\"data row5 col0\" >0.663460</td>\n",
              "      <td id=\"T_eebd3_row5_col1\" class=\"data row5 col1\" >0.479170</td>\n",
              "      <td id=\"T_eebd3_row5_col2\" class=\"data row5 col2\" >0.500000</td>\n",
              "      <td id=\"T_eebd3_row5_col3\" class=\"data row5 col3\" >0.440100</td>\n",
              "      <td id=\"T_eebd3_row5_col4\" class=\"data row5 col4\" >0.718750</td>\n",
              "      <td id=\"T_eebd3_row5_col5\" class=\"data row5 col5\" >0.560296</td>\n",
              "      <td id=\"T_eebd3_row5_col6\" class=\"data row5 col6\" >0.564260</td>\n",
              "    </tr>\n",
              "  </tbody>\n",
              "</table>\n"
            ]
          },
          "metadata": {},
          "execution_count": 126
        }
      ]
    },
    {
      "cell_type": "markdown",
      "id": "7ba58812",
      "metadata": {
        "id": "7ba58812"
      },
      "source": [
        "#### SG - Skip-Gram\n",
        "___"
      ]
    },
    {
      "cell_type": "code",
      "source": [
        "cv_score_skgram, test_score_skgram = pipeline(X_train, y_train, X_test, y_test,\n",
        "                                              apply_word2vec, sg=1)"
      ],
      "metadata": {
        "colab": {
          "base_uri": "https://localhost:8080/"
        },
        "id": "J3l4qOaJVYir",
        "outputId": "6c562051-01b3-4d9c-a2c0-985f347e2e5c"
      },
      "id": "J3l4qOaJVYir",
      "execution_count": 127,
      "outputs": [
        {
          "output_type": "stream",
          "name": "stdout",
          "text": [
            "Running: review_text_clean\n",
            "Running: review_text_clean_stop\n",
            "Running: review_text_clean_stem\n",
            "Running: review_text_clean_stop_stem\n",
            "Running: review_text_clean_lemma\n",
            "Running: review_text_clean_stop_lemma\n",
            "\n",
            "Execution time: 00:00:04\n"
          ]
        }
      ]
    },
    {
      "cell_type": "code",
      "source": [
        "df_score_skgram = create_score_table(cv_score_skgram, test_score_skgram, title=\"Word2Vec Skip-gram Score (ROC)\")\n",
        "df_score_skgram"
      ],
      "metadata": {
        "colab": {
          "base_uri": "https://localhost:8080/",
          "height": 255
        },
        "id": "emIMPJhbGbEY",
        "outputId": "82c44f6d-daf7-4016-9788-67f2b0fec036"
      },
      "id": "emIMPJhbGbEY",
      "execution_count": 128,
      "outputs": [
        {
          "output_type": "execute_result",
          "data": {
            "text/plain": [
              "<pandas.io.formats.style.Styler at 0x79e4182aa980>"
            ],
            "text/html": [
              "<style type=\"text/css\">\n",
              "</style>\n",
              "<table id=\"T_e0089\" class=\"dataframe\">\n",
              "  <caption>Word2Vec Skip-gram Score (ROC)</caption>\n",
              "  <thead>\n",
              "    <tr>\n",
              "      <th class=\"blank level0\" >&nbsp;</th>\n",
              "      <th id=\"T_e0089_level0_col0\" class=\"col_heading level0 col0\" >0</th>\n",
              "      <th id=\"T_e0089_level0_col1\" class=\"col_heading level0 col1\" >1</th>\n",
              "      <th id=\"T_e0089_level0_col2\" class=\"col_heading level0 col2\" >2</th>\n",
              "      <th id=\"T_e0089_level0_col3\" class=\"col_heading level0 col3\" >3</th>\n",
              "      <th id=\"T_e0089_level0_col4\" class=\"col_heading level0 col4\" >4</th>\n",
              "      <th id=\"T_e0089_level0_col5\" class=\"col_heading level0 col5\" >train_mean</th>\n",
              "      <th id=\"T_e0089_level0_col6\" class=\"col_heading level0 col6\" >test</th>\n",
              "    </tr>\n",
              "  </thead>\n",
              "  <tbody>\n",
              "    <tr>\n",
              "      <th id=\"T_e0089_level0_row0\" class=\"row_heading level0 row0\" >review_text_clean</th>\n",
              "      <td id=\"T_e0089_row0_col0\" class=\"data row0 col0\" >0.833330</td>\n",
              "      <td id=\"T_e0089_row0_col1\" class=\"data row0 col1\" >0.708330</td>\n",
              "      <td id=\"T_e0089_row0_col2\" class=\"data row0 col2\" >0.557690</td>\n",
              "      <td id=\"T_e0089_row0_col3\" class=\"data row0 col3\" >0.510420</td>\n",
              "      <td id=\"T_e0089_row0_col4\" class=\"data row0 col4\" >0.803570</td>\n",
              "      <td id=\"T_e0089_row0_col5\" class=\"data row0 col5\" >0.682668</td>\n",
              "      <td id=\"T_e0089_row0_col6\" class=\"data row0 col6\" >0.619120</td>\n",
              "    </tr>\n",
              "    <tr>\n",
              "      <th id=\"T_e0089_level0_row1\" class=\"row_heading level0 row1\" >review_text_clean_stop</th>\n",
              "      <td id=\"T_e0089_row1_col0\" class=\"data row1 col0\" >0.679490</td>\n",
              "      <td id=\"T_e0089_row1_col1\" class=\"data row1 col1\" >0.862500</td>\n",
              "      <td id=\"T_e0089_row1_col2\" class=\"data row1 col2\" >0.608970</td>\n",
              "      <td id=\"T_e0089_row1_col3\" class=\"data row1 col3\" >0.731770</td>\n",
              "      <td id=\"T_e0089_row1_col4\" class=\"data row1 col4\" >0.705360</td>\n",
              "      <td id=\"T_e0089_row1_col5\" class=\"data row1 col5\" >0.717618</td>\n",
              "      <td id=\"T_e0089_row1_col6\" class=\"data row1 col6\" >0.691220</td>\n",
              "    </tr>\n",
              "    <tr>\n",
              "      <th id=\"T_e0089_level0_row2\" class=\"row_heading level0 row2\" >review_text_clean_stem</th>\n",
              "      <td id=\"T_e0089_row2_col0\" class=\"data row2 col0\" >0.685900</td>\n",
              "      <td id=\"T_e0089_row2_col1\" class=\"data row2 col1\" >0.595830</td>\n",
              "      <td id=\"T_e0089_row2_col2\" class=\"data row2 col2\" >0.926280</td>\n",
              "      <td id=\"T_e0089_row2_col3\" class=\"data row2 col3\" >0.666670</td>\n",
              "      <td id=\"T_e0089_row2_col4\" class=\"data row2 col4\" >0.785710</td>\n",
              "      <td id=\"T_e0089_row2_col5\" class=\"data row2 col5\" >0.732078</td>\n",
              "      <td id=\"T_e0089_row2_col6\" class=\"data row2 col6\" >0.631660</td>\n",
              "    </tr>\n",
              "    <tr>\n",
              "      <th id=\"T_e0089_level0_row3\" class=\"row_heading level0 row3\" >review_text_clean_stop_stem</th>\n",
              "      <td id=\"T_e0089_row3_col0\" class=\"data row3 col0\" >0.948720</td>\n",
              "      <td id=\"T_e0089_row3_col1\" class=\"data row3 col1\" >0.485420</td>\n",
              "      <td id=\"T_e0089_row3_col2\" class=\"data row3 col2\" >0.589740</td>\n",
              "      <td id=\"T_e0089_row3_col3\" class=\"data row3 col3\" >0.536460</td>\n",
              "      <td id=\"T_e0089_row3_col4\" class=\"data row3 col4\" >0.794640</td>\n",
              "      <td id=\"T_e0089_row3_col5\" class=\"data row3 col5\" >0.670996</td>\n",
              "      <td id=\"T_e0089_row3_col6\" class=\"data row3 col6\" >0.670850</td>\n",
              "    </tr>\n",
              "    <tr>\n",
              "      <th id=\"T_e0089_level0_row4\" class=\"row_heading level0 row4\" >review_text_clean_lemma</th>\n",
              "      <td id=\"T_e0089_row4_col0\" class=\"data row4 col0\" >0.487180</td>\n",
              "      <td id=\"T_e0089_row4_col1\" class=\"data row4 col1\" >0.756250</td>\n",
              "      <td id=\"T_e0089_row4_col2\" class=\"data row4 col2\" >0.644230</td>\n",
              "      <td id=\"T_e0089_row4_col3\" class=\"data row4 col3\" >0.671880</td>\n",
              "      <td id=\"T_e0089_row4_col4\" class=\"data row4 col4\" >0.866070</td>\n",
              "      <td id=\"T_e0089_row4_col5\" class=\"data row4 col5\" >0.685122</td>\n",
              "      <td id=\"T_e0089_row4_col6\" class=\"data row4 col6\" >0.620690</td>\n",
              "    </tr>\n",
              "    <tr>\n",
              "      <th id=\"T_e0089_level0_row5\" class=\"row_heading level0 row5\" >review_text_clean_stop_lemma</th>\n",
              "      <td id=\"T_e0089_row5_col0\" class=\"data row5 col0\" >0.663460</td>\n",
              "      <td id=\"T_e0089_row5_col1\" class=\"data row5 col1\" >0.479170</td>\n",
              "      <td id=\"T_e0089_row5_col2\" class=\"data row5 col2\" >0.500000</td>\n",
              "      <td id=\"T_e0089_row5_col3\" class=\"data row5 col3\" >0.440100</td>\n",
              "      <td id=\"T_e0089_row5_col4\" class=\"data row5 col4\" >0.718750</td>\n",
              "      <td id=\"T_e0089_row5_col5\" class=\"data row5 col5\" >0.560296</td>\n",
              "      <td id=\"T_e0089_row5_col6\" class=\"data row5 col6\" >0.564260</td>\n",
              "    </tr>\n",
              "  </tbody>\n",
              "</table>\n"
            ]
          },
          "metadata": {},
          "execution_count": 128
        }
      ]
    },
    {
      "cell_type": "markdown",
      "id": "ccf5b5fa",
      "metadata": {
        "id": "ccf5b5fa"
      },
      "source": [
        "### FastText\n",
        "___"
      ]
    },
    {
      "cell_type": "code",
      "execution_count": 129,
      "id": "d06acc07",
      "metadata": {
        "ExecuteTime": {
          "end_time": "2023-07-25T17:42:55.467814Z",
          "start_time": "2023-07-25T17:42:55.223958Z"
        },
        "id": "d06acc07"
      },
      "outputs": [],
      "source": [
        "from gensim.models import FastText"
      ]
    },
    {
      "cell_type": "code",
      "source": [
        "def apply_FastText(X_train, X_test):\n",
        "  X_train_tokenized = [text.split() for text in X_train.values.tolist()]\n",
        "  X_test_tokenized = [text.split() for text in X_test.values.tolist()]\n",
        "\n",
        "  vectorizer = FastText(vector_size=300, workers=cores)\n",
        "  vectorizer.build_vocab(X_train_tokenized)\n",
        "  vectorizer.train(X_train_tokenized, total_examples=vectorizer.corpus_count,epochs=vectorizer.epochs)\n",
        "\n",
        "  # A random vector for OOV it's better than zeros vector, because model can learn something\n",
        "  vector_shape = vectorizer.wv[list(vectorizer.wv.key_to_index)[0]].shape\n",
        "  np.random.seed(seed_value)\n",
        "  UNK_TOKEN = np.random.rand(*vector_shape)\n",
        "\n",
        "  def get_word_vector(word):\n",
        "    return vectorizer.wv[word] if word in vectorizer.wv else UNK_TOKEN\n",
        "\n",
        "  X_train_vec = [[get_word_vector(word) for word in text] for text in X_train_tokenized]\n",
        "  X_test_vec = [[get_word_vector(word) for word in text] for text in X_test_tokenized]\n",
        "\n",
        "  # Get mean of word vectors for each text\n",
        "  X_train_vec = [np.mean(np.array(vector).T, axis=1) for vector in X_train_vec]\n",
        "  X_test_vec = [np.mean(np.array(vector).T, axis=1) for vector in X_test_vec]\n",
        "\n",
        "  return X_train_vec, X_test_vec"
      ],
      "metadata": {
        "id": "CyfW7dlamBTJ"
      },
      "id": "CyfW7dlamBTJ",
      "execution_count": 130,
      "outputs": []
    },
    {
      "cell_type": "code",
      "source": [
        "cv_score_FastTest, test_score_FastTest = pipeline(X_train, y_train, X_test, y_test,\n",
        "                                                  apply_FastText)"
      ],
      "metadata": {
        "colab": {
          "base_uri": "https://localhost:8080/"
        },
        "id": "3Wn6eExUwAK3",
        "outputId": "9f95b845-3f27-49f0-fe5c-6fa801f74c94"
      },
      "id": "3Wn6eExUwAK3",
      "execution_count": 131,
      "outputs": [
        {
          "output_type": "stream",
          "name": "stdout",
          "text": [
            "Running: review_text_clean\n",
            "Running: review_text_clean_stop\n",
            "Running: review_text_clean_stem\n",
            "Running: review_text_clean_stop_stem\n",
            "Running: review_text_clean_lemma\n",
            "Running: review_text_clean_stop_lemma\n",
            "\n",
            "Execution time: 00:00:30\n"
          ]
        }
      ]
    },
    {
      "cell_type": "code",
      "source": [
        "df_score_FastTest = create_score_table(cv_score_FastTest, test_score_FastTest, title=\"FastTest Score (ROC)\")\n",
        "df_score_FastTest"
      ],
      "metadata": {
        "colab": {
          "base_uri": "https://localhost:8080/",
          "height": 255
        },
        "id": "5NmICQ-AGPPu",
        "outputId": "78782301-861a-42df-ecad-726c107bc913"
      },
      "id": "5NmICQ-AGPPu",
      "execution_count": 132,
      "outputs": [
        {
          "output_type": "execute_result",
          "data": {
            "text/plain": [
              "<pandas.io.formats.style.Styler at 0x79e40e2099c0>"
            ],
            "text/html": [
              "<style type=\"text/css\">\n",
              "</style>\n",
              "<table id=\"T_b2c49\" class=\"dataframe\">\n",
              "  <caption>FastTest Score (ROC)</caption>\n",
              "  <thead>\n",
              "    <tr>\n",
              "      <th class=\"blank level0\" >&nbsp;</th>\n",
              "      <th id=\"T_b2c49_level0_col0\" class=\"col_heading level0 col0\" >0</th>\n",
              "      <th id=\"T_b2c49_level0_col1\" class=\"col_heading level0 col1\" >1</th>\n",
              "      <th id=\"T_b2c49_level0_col2\" class=\"col_heading level0 col2\" >2</th>\n",
              "      <th id=\"T_b2c49_level0_col3\" class=\"col_heading level0 col3\" >3</th>\n",
              "      <th id=\"T_b2c49_level0_col4\" class=\"col_heading level0 col4\" >4</th>\n",
              "      <th id=\"T_b2c49_level0_col5\" class=\"col_heading level0 col5\" >train_mean</th>\n",
              "      <th id=\"T_b2c49_level0_col6\" class=\"col_heading level0 col6\" >test</th>\n",
              "    </tr>\n",
              "  </thead>\n",
              "  <tbody>\n",
              "    <tr>\n",
              "      <th id=\"T_b2c49_level0_row0\" class=\"row_heading level0 row0\" >review_text_clean</th>\n",
              "      <td id=\"T_b2c49_row0_col0\" class=\"data row0 col0\" >0.788460</td>\n",
              "      <td id=\"T_b2c49_row0_col1\" class=\"data row0 col1\" >0.779170</td>\n",
              "      <td id=\"T_b2c49_row0_col2\" class=\"data row0 col2\" >0.833330</td>\n",
              "      <td id=\"T_b2c49_row0_col3\" class=\"data row0 col3\" >0.755210</td>\n",
              "      <td id=\"T_b2c49_row0_col4\" class=\"data row0 col4\" >0.946430</td>\n",
              "      <td id=\"T_b2c49_row0_col5\" class=\"data row0 col5\" >0.820520</td>\n",
              "      <td id=\"T_b2c49_row0_col6\" class=\"data row0 col6\" >0.987460</td>\n",
              "    </tr>\n",
              "    <tr>\n",
              "      <th id=\"T_b2c49_level0_row1\" class=\"row_heading level0 row1\" >review_text_clean_stop</th>\n",
              "      <td id=\"T_b2c49_row1_col0\" class=\"data row1 col0\" >0.807690</td>\n",
              "      <td id=\"T_b2c49_row1_col1\" class=\"data row1 col1\" >0.866670</td>\n",
              "      <td id=\"T_b2c49_row1_col2\" class=\"data row1 col2\" >0.724360</td>\n",
              "      <td id=\"T_b2c49_row1_col3\" class=\"data row1 col3\" >0.880210</td>\n",
              "      <td id=\"T_b2c49_row1_col4\" class=\"data row1 col4\" >0.892860</td>\n",
              "      <td id=\"T_b2c49_row1_col5\" class=\"data row1 col5\" >0.834358</td>\n",
              "      <td id=\"T_b2c49_row1_col6\" class=\"data row1 col6\" >0.786830</td>\n",
              "    </tr>\n",
              "    <tr>\n",
              "      <th id=\"T_b2c49_level0_row2\" class=\"row_heading level0 row2\" >review_text_clean_stem</th>\n",
              "      <td id=\"T_b2c49_row2_col0\" class=\"data row2 col0\" >0.878210</td>\n",
              "      <td id=\"T_b2c49_row2_col1\" class=\"data row2 col1\" >0.700000</td>\n",
              "      <td id=\"T_b2c49_row2_col2\" class=\"data row2 col2\" >0.762820</td>\n",
              "      <td id=\"T_b2c49_row2_col3\" class=\"data row2 col3\" >0.833330</td>\n",
              "      <td id=\"T_b2c49_row2_col4\" class=\"data row2 col4\" >0.723210</td>\n",
              "      <td id=\"T_b2c49_row2_col5\" class=\"data row2 col5\" >0.779514</td>\n",
              "      <td id=\"T_b2c49_row2_col6\" class=\"data row2 col6\" >0.905960</td>\n",
              "    </tr>\n",
              "    <tr>\n",
              "      <th id=\"T_b2c49_level0_row3\" class=\"row_heading level0 row3\" >review_text_clean_stop_stem</th>\n",
              "      <td id=\"T_b2c49_row3_col0\" class=\"data row3 col0\" >0.891030</td>\n",
              "      <td id=\"T_b2c49_row3_col1\" class=\"data row3 col1\" >0.812500</td>\n",
              "      <td id=\"T_b2c49_row3_col2\" class=\"data row3 col2\" >0.775640</td>\n",
              "      <td id=\"T_b2c49_row3_col3\" class=\"data row3 col3\" >0.875000</td>\n",
              "      <td id=\"T_b2c49_row3_col4\" class=\"data row3 col4\" >0.892860</td>\n",
              "      <td id=\"T_b2c49_row3_col5\" class=\"data row3 col5\" >0.849406</td>\n",
              "      <td id=\"T_b2c49_row3_col6\" class=\"data row3 col6\" >0.852660</td>\n",
              "    </tr>\n",
              "    <tr>\n",
              "      <th id=\"T_b2c49_level0_row4\" class=\"row_heading level0 row4\" >review_text_clean_lemma</th>\n",
              "      <td id=\"T_b2c49_row4_col0\" class=\"data row4 col0\" >0.878210</td>\n",
              "      <td id=\"T_b2c49_row4_col1\" class=\"data row4 col1\" >0.879170</td>\n",
              "      <td id=\"T_b2c49_row4_col2\" class=\"data row4 col2\" >0.967950</td>\n",
              "      <td id=\"T_b2c49_row4_col3\" class=\"data row4 col3\" >0.791670</td>\n",
              "      <td id=\"T_b2c49_row4_col4\" class=\"data row4 col4\" >0.937500</td>\n",
              "      <td id=\"T_b2c49_row4_col5\" class=\"data row4 col5\" >0.890900</td>\n",
              "      <td id=\"T_b2c49_row4_col6\" class=\"data row4 col6\" >0.821320</td>\n",
              "    </tr>\n",
              "    <tr>\n",
              "      <th id=\"T_b2c49_level0_row5\" class=\"row_heading level0 row5\" >review_text_clean_stop_lemma</th>\n",
              "      <td id=\"T_b2c49_row5_col0\" class=\"data row5 col0\" >0.839740</td>\n",
              "      <td id=\"T_b2c49_row5_col1\" class=\"data row5 col1\" >0.770830</td>\n",
              "      <td id=\"T_b2c49_row5_col2\" class=\"data row5 col2\" >0.852560</td>\n",
              "      <td id=\"T_b2c49_row5_col3\" class=\"data row5 col3\" >0.796880</td>\n",
              "      <td id=\"T_b2c49_row5_col4\" class=\"data row5 col4\" >0.892860</td>\n",
              "      <td id=\"T_b2c49_row5_col5\" class=\"data row5 col5\" >0.830574</td>\n",
              "      <td id=\"T_b2c49_row5_col6\" class=\"data row5 col6\" >0.733540</td>\n",
              "    </tr>\n",
              "  </tbody>\n",
              "</table>\n"
            ]
          },
          "metadata": {},
          "execution_count": 132
        }
      ]
    },
    {
      "cell_type": "markdown",
      "id": "02444b2c",
      "metadata": {
        "id": "02444b2c"
      },
      "source": [
        "### Doc2Vec\n",
        "___"
      ]
    },
    {
      "cell_type": "code",
      "execution_count": 133,
      "id": "f4c71a6b",
      "metadata": {
        "ExecuteTime": {
          "end_time": "2023-07-24T20:05:35.982840Z",
          "start_time": "2023-07-24T20:05:35.910763Z"
        },
        "id": "f4c71a6b"
      },
      "outputs": [],
      "source": [
        "from gensim.models import Doc2Vec\n",
        "from gensim.models.doc2vec import TaggedDocument"
      ]
    },
    {
      "cell_type": "code",
      "source": [
        "def apply_doc2vec(X_train, X_test, dm=0):\n",
        "  X_train_tagged = [TaggedDocument(words=text.split(), tags=[str(i)]) for i, text in enumerate(X_train.values.tolist())]\n",
        "  X_test_tokenized = [text.split() for text in X_test.values.tolist()]\n",
        "\n",
        "  vectorizer = Doc2Vec(vector_size=300, workers=cores, dm=dm)\n",
        "  vectorizer.build_vocab(X_train_tagged)\n",
        "  vectorizer.train(X_train_tagged, total_examples=vectorizer.corpus_count, epochs=vectorizer.epochs)\n",
        "\n",
        "  X_train_vec = [vectorizer.dv[tag] for tag in vectorizer.dv.index_to_key]\n",
        "  X_test_vec = [vectorizer.infer_vector(text) for text in X_test_tokenized]\n",
        "\n",
        "  return X_train_vec, X_test_vec"
      ],
      "metadata": {
        "id": "HdgBXD3J3o_s"
      },
      "id": "HdgBXD3J3o_s",
      "execution_count": 134,
      "outputs": []
    },
    {
      "cell_type": "markdown",
      "id": "18672e00",
      "metadata": {
        "id": "18672e00"
      },
      "source": [
        "#### DBOW - Distributed Bag of Words\n",
        "___"
      ]
    },
    {
      "cell_type": "code",
      "source": [
        "cv_score_dbow, test_score_dbow = pipeline(X_train, y_train, X_test, y_test,\n",
        "                                          apply_doc2vec, dm=0)"
      ],
      "metadata": {
        "colab": {
          "base_uri": "https://localhost:8080/"
        },
        "outputId": "bfae0cd0-b65c-4870-861d-359b61c29665",
        "id": "n3fJh_c4DLjR"
      },
      "execution_count": 135,
      "outputs": [
        {
          "output_type": "stream",
          "name": "stdout",
          "text": [
            "Running: review_text_clean\n",
            "Running: review_text_clean_stop\n",
            "Running: review_text_clean_stem\n",
            "Running: review_text_clean_stop_stem\n",
            "Running: review_text_clean_lemma\n",
            "Running: review_text_clean_stop_lemma\n",
            "\n",
            "Execution time: 00:00:07\n"
          ]
        }
      ],
      "id": "n3fJh_c4DLjR"
    },
    {
      "cell_type": "code",
      "source": [
        "df_score_dbow = create_score_table(cv_score_dbow, test_score_dbow, title=\"Doc2Vec DBOW Score (ROC)\")\n",
        "df_score_dbow"
      ],
      "metadata": {
        "colab": {
          "base_uri": "https://localhost:8080/",
          "height": 255
        },
        "id": "PHfS7UPJF7to",
        "outputId": "56e41303-02cf-41e6-ccec-118604d8dd7f"
      },
      "id": "PHfS7UPJF7to",
      "execution_count": 136,
      "outputs": [
        {
          "output_type": "execute_result",
          "data": {
            "text/plain": [
              "<pandas.io.formats.style.Styler at 0x79e4182ab460>"
            ],
            "text/html": [
              "<style type=\"text/css\">\n",
              "</style>\n",
              "<table id=\"T_ac61c\" class=\"dataframe\">\n",
              "  <caption>Doc2Vec DBOW Score (ROC)</caption>\n",
              "  <thead>\n",
              "    <tr>\n",
              "      <th class=\"blank level0\" >&nbsp;</th>\n",
              "      <th id=\"T_ac61c_level0_col0\" class=\"col_heading level0 col0\" >0</th>\n",
              "      <th id=\"T_ac61c_level0_col1\" class=\"col_heading level0 col1\" >1</th>\n",
              "      <th id=\"T_ac61c_level0_col2\" class=\"col_heading level0 col2\" >2</th>\n",
              "      <th id=\"T_ac61c_level0_col3\" class=\"col_heading level0 col3\" >3</th>\n",
              "      <th id=\"T_ac61c_level0_col4\" class=\"col_heading level0 col4\" >4</th>\n",
              "      <th id=\"T_ac61c_level0_col5\" class=\"col_heading level0 col5\" >train_mean</th>\n",
              "      <th id=\"T_ac61c_level0_col6\" class=\"col_heading level0 col6\" >test</th>\n",
              "    </tr>\n",
              "  </thead>\n",
              "  <tbody>\n",
              "    <tr>\n",
              "      <th id=\"T_ac61c_level0_row0\" class=\"row_heading level0 row0\" >review_text_clean</th>\n",
              "      <td id=\"T_ac61c_row0_col0\" class=\"data row0 col0\" >0.570510</td>\n",
              "      <td id=\"T_ac61c_row0_col1\" class=\"data row0 col1\" >0.558330</td>\n",
              "      <td id=\"T_ac61c_row0_col2\" class=\"data row0 col2\" >0.679490</td>\n",
              "      <td id=\"T_ac61c_row0_col3\" class=\"data row0 col3\" >0.552080</td>\n",
              "      <td id=\"T_ac61c_row0_col4\" class=\"data row0 col4\" >0.580360</td>\n",
              "      <td id=\"T_ac61c_row0_col5\" class=\"data row0 col5\" >0.588154</td>\n",
              "      <td id=\"T_ac61c_row0_col6\" class=\"data row0 col6\" >0.645770</td>\n",
              "    </tr>\n",
              "    <tr>\n",
              "      <th id=\"T_ac61c_level0_row1\" class=\"row_heading level0 row1\" >review_text_clean_stop</th>\n",
              "      <td id=\"T_ac61c_row1_col0\" class=\"data row1 col0\" >0.397440</td>\n",
              "      <td id=\"T_ac61c_row1_col1\" class=\"data row1 col1\" >0.466670</td>\n",
              "      <td id=\"T_ac61c_row1_col2\" class=\"data row1 col2\" >0.461540</td>\n",
              "      <td id=\"T_ac61c_row1_col3\" class=\"data row1 col3\" >0.609380</td>\n",
              "      <td id=\"T_ac61c_row1_col4\" class=\"data row1 col4\" >0.473210</td>\n",
              "      <td id=\"T_ac61c_row1_col5\" class=\"data row1 col5\" >0.481648</td>\n",
              "      <td id=\"T_ac61c_row1_col6\" class=\"data row1 col6\" >0.689660</td>\n",
              "    </tr>\n",
              "    <tr>\n",
              "      <th id=\"T_ac61c_level0_row2\" class=\"row_heading level0 row2\" >review_text_clean_stem</th>\n",
              "      <td id=\"T_ac61c_row2_col0\" class=\"data row2 col0\" >0.589740</td>\n",
              "      <td id=\"T_ac61c_row2_col1\" class=\"data row2 col1\" >0.620830</td>\n",
              "      <td id=\"T_ac61c_row2_col2\" class=\"data row2 col2\" >0.756410</td>\n",
              "      <td id=\"T_ac61c_row2_col3\" class=\"data row2 col3\" >0.661460</td>\n",
              "      <td id=\"T_ac61c_row2_col4\" class=\"data row2 col4\" >0.535710</td>\n",
              "      <td id=\"T_ac61c_row2_col5\" class=\"data row2 col5\" >0.632830</td>\n",
              "      <td id=\"T_ac61c_row2_col6\" class=\"data row2 col6\" >0.658310</td>\n",
              "    </tr>\n",
              "    <tr>\n",
              "      <th id=\"T_ac61c_level0_row3\" class=\"row_heading level0 row3\" >review_text_clean_stop_stem</th>\n",
              "      <td id=\"T_ac61c_row3_col0\" class=\"data row3 col0\" >0.403850</td>\n",
              "      <td id=\"T_ac61c_row3_col1\" class=\"data row3 col1\" >0.441670</td>\n",
              "      <td id=\"T_ac61c_row3_col2\" class=\"data row3 col2\" >0.500000</td>\n",
              "      <td id=\"T_ac61c_row3_col3\" class=\"data row3 col3\" >0.432290</td>\n",
              "      <td id=\"T_ac61c_row3_col4\" class=\"data row3 col4\" >0.428570</td>\n",
              "      <td id=\"T_ac61c_row3_col5\" class=\"data row3 col5\" >0.441276</td>\n",
              "      <td id=\"T_ac61c_row3_col6\" class=\"data row3 col6\" >0.470220</td>\n",
              "    </tr>\n",
              "    <tr>\n",
              "      <th id=\"T_ac61c_level0_row4\" class=\"row_heading level0 row4\" >review_text_clean_lemma</th>\n",
              "      <td id=\"T_ac61c_row4_col0\" class=\"data row4 col0\" >0.647440</td>\n",
              "      <td id=\"T_ac61c_row4_col1\" class=\"data row4 col1\" >0.691670</td>\n",
              "      <td id=\"T_ac61c_row4_col2\" class=\"data row4 col2\" >0.647440</td>\n",
              "      <td id=\"T_ac61c_row4_col3\" class=\"data row4 col3\" >0.703120</td>\n",
              "      <td id=\"T_ac61c_row4_col4\" class=\"data row4 col4\" >0.482140</td>\n",
              "      <td id=\"T_ac61c_row4_col5\" class=\"data row4 col5\" >0.634362</td>\n",
              "      <td id=\"T_ac61c_row4_col6\" class=\"data row4 col6\" >0.586210</td>\n",
              "    </tr>\n",
              "    <tr>\n",
              "      <th id=\"T_ac61c_level0_row5\" class=\"row_heading level0 row5\" >review_text_clean_stop_lemma</th>\n",
              "      <td id=\"T_ac61c_row5_col0\" class=\"data row5 col0\" >0.371790</td>\n",
              "      <td id=\"T_ac61c_row5_col1\" class=\"data row5 col1\" >0.483330</td>\n",
              "      <td id=\"T_ac61c_row5_col2\" class=\"data row5 col2\" >0.519230</td>\n",
              "      <td id=\"T_ac61c_row5_col3\" class=\"data row5 col3\" >0.552080</td>\n",
              "      <td id=\"T_ac61c_row5_col4\" class=\"data row5 col4\" >0.410710</td>\n",
              "      <td id=\"T_ac61c_row5_col5\" class=\"data row5 col5\" >0.467428</td>\n",
              "      <td id=\"T_ac61c_row5_col6\" class=\"data row5 col6\" >0.460820</td>\n",
              "    </tr>\n",
              "  </tbody>\n",
              "</table>\n"
            ]
          },
          "metadata": {},
          "execution_count": 136
        }
      ]
    },
    {
      "cell_type": "markdown",
      "id": "13d6ea4e",
      "metadata": {
        "id": "13d6ea4e"
      },
      "source": [
        "#### DM - Distributed Memory\n",
        "___"
      ]
    },
    {
      "cell_type": "code",
      "source": [
        "cv_score_dm, test_score_dm = pipeline(X_train, y_train, X_test, y_test,\n",
        "                                      apply_doc2vec, dm=1)"
      ],
      "metadata": {
        "id": "l49CmZ_jEIWF",
        "outputId": "6aad67b4-65bf-42a8-e253-c3b66645eb41",
        "colab": {
          "base_uri": "https://localhost:8080/"
        }
      },
      "id": "l49CmZ_jEIWF",
      "execution_count": 137,
      "outputs": [
        {
          "output_type": "stream",
          "name": "stdout",
          "text": [
            "Running: review_text_clean\n",
            "Running: review_text_clean_stop\n",
            "Running: review_text_clean_stem\n",
            "Running: review_text_clean_stop_stem\n",
            "Running: review_text_clean_lemma\n",
            "Running: review_text_clean_stop_lemma\n",
            "\n",
            "Execution time: 00:00:04\n"
          ]
        }
      ]
    },
    {
      "cell_type": "code",
      "source": [
        "df_score_dm = create_score_table(cv_score_dm, test_score_dm, title=\"Doc2Vec DM Score (ROC)\")\n",
        "df_score_dm"
      ],
      "metadata": {
        "colab": {
          "base_uri": "https://localhost:8080/",
          "height": 255
        },
        "id": "qgMtuKWCFiOW",
        "outputId": "6e565e98-cffa-463f-c998-509e7069cba7"
      },
      "id": "qgMtuKWCFiOW",
      "execution_count": 138,
      "outputs": [
        {
          "output_type": "execute_result",
          "data": {
            "text/plain": [
              "<pandas.io.formats.style.Styler at 0x79e4182aa620>"
            ],
            "text/html": [
              "<style type=\"text/css\">\n",
              "</style>\n",
              "<table id=\"T_f0ba4\" class=\"dataframe\">\n",
              "  <caption>Doc2Vec DM Score (ROC)</caption>\n",
              "  <thead>\n",
              "    <tr>\n",
              "      <th class=\"blank level0\" >&nbsp;</th>\n",
              "      <th id=\"T_f0ba4_level0_col0\" class=\"col_heading level0 col0\" >0</th>\n",
              "      <th id=\"T_f0ba4_level0_col1\" class=\"col_heading level0 col1\" >1</th>\n",
              "      <th id=\"T_f0ba4_level0_col2\" class=\"col_heading level0 col2\" >2</th>\n",
              "      <th id=\"T_f0ba4_level0_col3\" class=\"col_heading level0 col3\" >3</th>\n",
              "      <th id=\"T_f0ba4_level0_col4\" class=\"col_heading level0 col4\" >4</th>\n",
              "      <th id=\"T_f0ba4_level0_col5\" class=\"col_heading level0 col5\" >train_mean</th>\n",
              "      <th id=\"T_f0ba4_level0_col6\" class=\"col_heading level0 col6\" >test</th>\n",
              "    </tr>\n",
              "  </thead>\n",
              "  <tbody>\n",
              "    <tr>\n",
              "      <th id=\"T_f0ba4_level0_row0\" class=\"row_heading level0 row0\" >review_text_clean</th>\n",
              "      <td id=\"T_f0ba4_row0_col0\" class=\"data row0 col0\" >0.570510</td>\n",
              "      <td id=\"T_f0ba4_row0_col1\" class=\"data row0 col1\" >0.558330</td>\n",
              "      <td id=\"T_f0ba4_row0_col2\" class=\"data row0 col2\" >0.679490</td>\n",
              "      <td id=\"T_f0ba4_row0_col3\" class=\"data row0 col3\" >0.552080</td>\n",
              "      <td id=\"T_f0ba4_row0_col4\" class=\"data row0 col4\" >0.580360</td>\n",
              "      <td id=\"T_f0ba4_row0_col5\" class=\"data row0 col5\" >0.588154</td>\n",
              "      <td id=\"T_f0ba4_row0_col6\" class=\"data row0 col6\" >0.645770</td>\n",
              "    </tr>\n",
              "    <tr>\n",
              "      <th id=\"T_f0ba4_level0_row1\" class=\"row_heading level0 row1\" >review_text_clean_stop</th>\n",
              "      <td id=\"T_f0ba4_row1_col0\" class=\"data row1 col0\" >0.397440</td>\n",
              "      <td id=\"T_f0ba4_row1_col1\" class=\"data row1 col1\" >0.466670</td>\n",
              "      <td id=\"T_f0ba4_row1_col2\" class=\"data row1 col2\" >0.461540</td>\n",
              "      <td id=\"T_f0ba4_row1_col3\" class=\"data row1 col3\" >0.609380</td>\n",
              "      <td id=\"T_f0ba4_row1_col4\" class=\"data row1 col4\" >0.473210</td>\n",
              "      <td id=\"T_f0ba4_row1_col5\" class=\"data row1 col5\" >0.481648</td>\n",
              "      <td id=\"T_f0ba4_row1_col6\" class=\"data row1 col6\" >0.689660</td>\n",
              "    </tr>\n",
              "    <tr>\n",
              "      <th id=\"T_f0ba4_level0_row2\" class=\"row_heading level0 row2\" >review_text_clean_stem</th>\n",
              "      <td id=\"T_f0ba4_row2_col0\" class=\"data row2 col0\" >0.589740</td>\n",
              "      <td id=\"T_f0ba4_row2_col1\" class=\"data row2 col1\" >0.620830</td>\n",
              "      <td id=\"T_f0ba4_row2_col2\" class=\"data row2 col2\" >0.756410</td>\n",
              "      <td id=\"T_f0ba4_row2_col3\" class=\"data row2 col3\" >0.661460</td>\n",
              "      <td id=\"T_f0ba4_row2_col4\" class=\"data row2 col4\" >0.535710</td>\n",
              "      <td id=\"T_f0ba4_row2_col5\" class=\"data row2 col5\" >0.632830</td>\n",
              "      <td id=\"T_f0ba4_row2_col6\" class=\"data row2 col6\" >0.658310</td>\n",
              "    </tr>\n",
              "    <tr>\n",
              "      <th id=\"T_f0ba4_level0_row3\" class=\"row_heading level0 row3\" >review_text_clean_stop_stem</th>\n",
              "      <td id=\"T_f0ba4_row3_col0\" class=\"data row3 col0\" >0.403850</td>\n",
              "      <td id=\"T_f0ba4_row3_col1\" class=\"data row3 col1\" >0.441670</td>\n",
              "      <td id=\"T_f0ba4_row3_col2\" class=\"data row3 col2\" >0.500000</td>\n",
              "      <td id=\"T_f0ba4_row3_col3\" class=\"data row3 col3\" >0.432290</td>\n",
              "      <td id=\"T_f0ba4_row3_col4\" class=\"data row3 col4\" >0.428570</td>\n",
              "      <td id=\"T_f0ba4_row3_col5\" class=\"data row3 col5\" >0.441276</td>\n",
              "      <td id=\"T_f0ba4_row3_col6\" class=\"data row3 col6\" >0.470220</td>\n",
              "    </tr>\n",
              "    <tr>\n",
              "      <th id=\"T_f0ba4_level0_row4\" class=\"row_heading level0 row4\" >review_text_clean_lemma</th>\n",
              "      <td id=\"T_f0ba4_row4_col0\" class=\"data row4 col0\" >0.647440</td>\n",
              "      <td id=\"T_f0ba4_row4_col1\" class=\"data row4 col1\" >0.691670</td>\n",
              "      <td id=\"T_f0ba4_row4_col2\" class=\"data row4 col2\" >0.647440</td>\n",
              "      <td id=\"T_f0ba4_row4_col3\" class=\"data row4 col3\" >0.703120</td>\n",
              "      <td id=\"T_f0ba4_row4_col4\" class=\"data row4 col4\" >0.482140</td>\n",
              "      <td id=\"T_f0ba4_row4_col5\" class=\"data row4 col5\" >0.634362</td>\n",
              "      <td id=\"T_f0ba4_row4_col6\" class=\"data row4 col6\" >0.586210</td>\n",
              "    </tr>\n",
              "    <tr>\n",
              "      <th id=\"T_f0ba4_level0_row5\" class=\"row_heading level0 row5\" >review_text_clean_stop_lemma</th>\n",
              "      <td id=\"T_f0ba4_row5_col0\" class=\"data row5 col0\" >0.371790</td>\n",
              "      <td id=\"T_f0ba4_row5_col1\" class=\"data row5 col1\" >0.483330</td>\n",
              "      <td id=\"T_f0ba4_row5_col2\" class=\"data row5 col2\" >0.519230</td>\n",
              "      <td id=\"T_f0ba4_row5_col3\" class=\"data row5 col3\" >0.552080</td>\n",
              "      <td id=\"T_f0ba4_row5_col4\" class=\"data row5 col4\" >0.410710</td>\n",
              "      <td id=\"T_f0ba4_row5_col5\" class=\"data row5 col5\" >0.467428</td>\n",
              "      <td id=\"T_f0ba4_row5_col6\" class=\"data row5 col6\" >0.460820</td>\n",
              "    </tr>\n",
              "  </tbody>\n",
              "</table>\n"
            ]
          },
          "metadata": {},
          "execution_count": 138
        }
      ]
    },
    {
      "cell_type": "markdown",
      "id": "aa5b01a0",
      "metadata": {
        "id": "aa5b01a0"
      },
      "source": [
        "### Transformer (Pre-trained model)\n",
        "___"
      ]
    },
    {
      "cell_type": "markdown",
      "source": [
        "#### Bert"
      ],
      "metadata": {
        "id": "OBMmXo70rMgk"
      },
      "id": "OBMmXo70rMgk"
    },
    {
      "cell_type": "markdown",
      "source": [
        "**Note 1:** In this stage, it's important that Colab uses `GPU`instead of `CPU`.\n",
        "\n",
        "**Note 2:** As already said in https://huggingface.co/blog/how-to-train-sentence-transformers, pre-trained transformers are slow to perform the task (even using GPU), so we decided to run in a small portion of data. It's results won't be used in the final conclusions. For transformes it's better to use sentence transfomers, available in Hugging Face (next topic).\n",
        "\n",
        "**Note 3:** As expected Bert performed better with text without remove stop words, stematize and lemmatize."
      ],
      "metadata": {
        "id": "QSpCOu9tDgG3"
      },
      "id": "QSpCOu9tDgG3"
    },
    {
      "cell_type": "code",
      "source": [
        "!pip install transformers -q"
      ],
      "metadata": {
        "id": "6dZ4GkH-ly2I"
      },
      "id": "6dZ4GkH-ly2I",
      "execution_count": 139,
      "outputs": []
    },
    {
      "cell_type": "code",
      "source": [
        "import torch\n",
        "device = \"cuda:0\" if torch.cuda.is_available() else \"cpu\"\n",
        "device"
      ],
      "metadata": {
        "id": "D4DrVyKTdSgO",
        "colab": {
          "base_uri": "https://localhost:8080/",
          "height": 36
        },
        "outputId": "6094f7d9-a93d-4a06-c870-55fd877f8155"
      },
      "id": "D4DrVyKTdSgO",
      "execution_count": 140,
      "outputs": [
        {
          "output_type": "execute_result",
          "data": {
            "text/plain": [
              "'cuda:0'"
            ],
            "application/vnd.google.colaboratory.intrinsic+json": {
              "type": "string"
            }
          },
          "metadata": {},
          "execution_count": 140
        }
      ]
    },
    {
      "cell_type": "code",
      "source": [
        "from transformers import AutoModel\n",
        "from transformers import AutoTokenizer"
      ],
      "metadata": {
        "id": "_rHxE2KsmzLi"
      },
      "id": "_rHxE2KsmzLi",
      "execution_count": 141,
      "outputs": []
    },
    {
      "cell_type": "code",
      "source": [
        "model = AutoModel.from_pretrained('neuralmind/bert-base-portuguese-cased').to(device)\n",
        "tokenizer = AutoTokenizer.from_pretrained('neuralmind/bert-base-portuguese-cased', do_lower_case=True)"
      ],
      "metadata": {
        "id": "a9EvPBXVquiO",
        "colab": {
          "base_uri": "https://localhost:8080/",
          "height": 209,
          "referenced_widgets": [
            "d1b894c9d26049828bd1263fe4887a97",
            "da1b1c8e94df4502a3319d49b17ebfd4",
            "ce9506353f2a4ca59f1608460c187130",
            "84edf33d058441a48020f0a8af65359c",
            "7a7cd300283346f3a148a8026c5a84e7",
            "c958cc7ca4594933a8d5d555b0994dea",
            "50286d0b9f544722a770e8e1b012e6cd",
            "e154e62d0da242f388119e72e3db7f79",
            "dca0a4d7b5964a07b7666d5d4731c4f6",
            "bc0de56c81cb42d4b02911e68752a7d4",
            "256085898f014c25ac3e4fb20114f67b",
            "927eb0544b6d4e48919a0f3daf66078b",
            "768af4376001465892ec58f717b3f9f9",
            "a152a24d71a24fb494998f9a209b6e22",
            "2e08258480aa4447a64f875f8f5ac6fd",
            "e2f5f9e7f2954c92afe946675a621b92",
            "42d10453a8de41ceae28234c8e6dfb4c",
            "d358a6c3c4784a688d4a67343bf3f69c",
            "b38186f3644b4f7496eb3dca8880e9e2",
            "198f80de872442a18f8dc1098401f578",
            "c996feb2ffc047d3855225f935663821",
            "463f4405932e4236a1b0d2695bd58558",
            "5b23ccf4fbec40869c8cfc028ffd1440",
            "e93b8e58b3234586b8d10b235abc5f94",
            "30d2b921ae704de9b6b6548c2a186457",
            "e8f6e361dd0b4dc3995a8179545ce244",
            "27fe552b523a436d8025dde107d0af72",
            "479307970469458596f3a8adbfdfdf73",
            "a788bdd1cea64caa965fb17958bf76ac",
            "3c8c154817374002bf2abccdfa572db8",
            "7a5672af1dff43f3b1f6c0fe90fc0eda",
            "8be324601d4d4e178a573c005f26f84e",
            "e7cc5e10750a4f5abb06642156c9b2f0",
            "e7209c2bff8040f0a9850e8428d45118",
            "d3e269aa3ef74352b1a2076118bcf541",
            "5924f8a5c67243c9aa0800257b01fc10",
            "f45b28e618d54211a50d62536e578f32",
            "3937e6eb1c7a4550a89b6b922e86e3b8",
            "3923c8f2e6ca45d3a8b40e0a4ab9dce2",
            "8c726d20fa0c4ec6bdfe5a1545ae41f4",
            "6c898d887550427fb7f1ff13085f2927",
            "a119364f1b2a4efbb338ec665ce16e1a",
            "aa9e032ab44f4d08b8a40199fb37f7b5",
            "b523a6eeec374ac4b729bc0bcb95a89e",
            "90e6f4b9a44244abb5527ff9910a5c1a",
            "b832894ec88046048c40cd8c9ec49570",
            "48dcf536a8134eb08883c8df67c7505e",
            "dfdc4a6e1f984469961dd19e350b07a3",
            "5e58fffb5cb34720a49322b303e66e9d",
            "5c5a8cd52b32403bb67ce055cd44b39b",
            "3ef546acc62843c1bea8c9bea53f7279",
            "ed73fcad13a144399aadd4dfa1274a68",
            "0f0fe92d7c54497ea0c5b9154694f53a",
            "e61cce5474a44fc9b88d3eddcbd3b877",
            "d04b1b8f813c4c77b2660dae12591912",
            "c8bf999125854685a05553ce363e7704",
            "c17909df37ce4225885bb7ebc8021603",
            "bf618f4808174a03b03aa8415d47178f",
            "ee797ebed5b540ee8467915241cf4bb5",
            "b4e7446a99f747df9c4b369f52d60062",
            "6b1e464717c64ca6b36b50006c3c4fa8",
            "4f161def9c7f451fa6c44c106ea35bef",
            "c2f1aca278fa4907bf14f7645b4c9427",
            "1a7bd57c1db040cf8d7a8222b2e381cb",
            "3cdba6f342854b538606f58f99e4ee2e",
            "c2b2e981b5a34cd6a28f60a21a5361b9"
          ]
        },
        "outputId": "b1b3ac9f-5d4e-49aa-cf9c-4e2a2f6d058a"
      },
      "id": "a9EvPBXVquiO",
      "execution_count": 142,
      "outputs": [
        {
          "output_type": "display_data",
          "data": {
            "text/plain": [
              "Downloading (…)lve/main/config.json:   0%|          | 0.00/647 [00:00<?, ?B/s]"
            ],
            "application/vnd.jupyter.widget-view+json": {
              "version_major": 2,
              "version_minor": 0,
              "model_id": "d1b894c9d26049828bd1263fe4887a97"
            }
          },
          "metadata": {}
        },
        {
          "output_type": "display_data",
          "data": {
            "text/plain": [
              "Downloading pytorch_model.bin:   0%|          | 0.00/438M [00:00<?, ?B/s]"
            ],
            "application/vnd.jupyter.widget-view+json": {
              "version_major": 2,
              "version_minor": 0,
              "model_id": "927eb0544b6d4e48919a0f3daf66078b"
            }
          },
          "metadata": {}
        },
        {
          "output_type": "display_data",
          "data": {
            "text/plain": [
              "Downloading (…)okenizer_config.json:   0%|          | 0.00/43.0 [00:00<?, ?B/s]"
            ],
            "application/vnd.jupyter.widget-view+json": {
              "version_major": 2,
              "version_minor": 0,
              "model_id": "5b23ccf4fbec40869c8cfc028ffd1440"
            }
          },
          "metadata": {}
        },
        {
          "output_type": "display_data",
          "data": {
            "text/plain": [
              "Downloading (…)solve/main/vocab.txt:   0%|          | 0.00/210k [00:00<?, ?B/s]"
            ],
            "application/vnd.jupyter.widget-view+json": {
              "version_major": 2,
              "version_minor": 0,
              "model_id": "e7209c2bff8040f0a9850e8428d45118"
            }
          },
          "metadata": {}
        },
        {
          "output_type": "display_data",
          "data": {
            "text/plain": [
              "Downloading (…)in/added_tokens.json:   0%|          | 0.00/2.00 [00:00<?, ?B/s]"
            ],
            "application/vnd.jupyter.widget-view+json": {
              "version_major": 2,
              "version_minor": 0,
              "model_id": "90e6f4b9a44244abb5527ff9910a5c1a"
            }
          },
          "metadata": {}
        },
        {
          "output_type": "display_data",
          "data": {
            "text/plain": [
              "Downloading (…)cial_tokens_map.json:   0%|          | 0.00/112 [00:00<?, ?B/s]"
            ],
            "application/vnd.jupyter.widget-view+json": {
              "version_major": 2,
              "version_minor": 0,
              "model_id": "c8bf999125854685a05553ce363e7704"
            }
          },
          "metadata": {}
        }
      ]
    },
    {
      "cell_type": "code",
      "source": [
        "def apply_tranformer(X_train, X_test, model=model, tokenizer=tokenizer):\n",
        "  model = model\n",
        "  tokenizer = tokenizer\n",
        "\n",
        "  X_train_list = X_train.values.tolist()\n",
        "  X_test_list = X_test.values.tolist()\n",
        "\n",
        "  # Get tokens form text\n",
        "  X_train_toc = [tokenizer.encode(doc, return_tensors='pt').to(device) for doc in X_train_list]\n",
        "  X_test_toc = [tokenizer.encode(doc, return_tensors='pt').to(device) for doc in X_test_list]\n",
        "\n",
        "  # Get mean vectors from converted tokens ([0, 1:-1] Last layer, ignore [CLS] and [SEP] special tokens)\n",
        "  with torch.no_grad():\n",
        "    X_train_vec = [torch.mean(model(tokens)[0][0, 1:-1].T, dim=1).cpu().data.numpy() for tokens in X_train_toc]\n",
        "    X_test_vec = [torch.mean(model(tokens)[0][0, 1:-1].T, dim=1).cpu().data.numpy() for tokens in X_test_toc]\n",
        "\n",
        "  return X_train_vec, X_test_vec"
      ],
      "metadata": {
        "id": "4Nijzzy0uAus"
      },
      "id": "4Nijzzy0uAus",
      "execution_count": 143,
      "outputs": []
    },
    {
      "cell_type": "code",
      "source": [
        "# Testing with reduced data\n",
        "cv_score_bert, test_score_bert = pipeline(X_train.iloc[:100, :], y_train[:100],\n",
        "                                          X_test.iloc[:100, :], y_test[:100],\n",
        "                                          apply_tranformer,\n",
        "                                          model=model,\n",
        "                                          tokenizer=tokenizer)"
      ],
      "metadata": {
        "id": "vXu-LrUiwY_w",
        "colab": {
          "base_uri": "https://localhost:8080/"
        },
        "outputId": "8bc76d1e-4569-4384-fe30-4a06ecabcf2e"
      },
      "id": "vXu-LrUiwY_w",
      "execution_count": 144,
      "outputs": [
        {
          "output_type": "stream",
          "name": "stdout",
          "text": [
            "Running: review_text_clean\n",
            "Running: review_text_clean_stop\n",
            "Running: review_text_clean_stem\n",
            "Running: review_text_clean_stop_stem\n",
            "Running: review_text_clean_lemma\n",
            "Running: review_text_clean_stop_lemma\n",
            "\n",
            "Execution time: 00:00:55\n"
          ]
        }
      ]
    },
    {
      "cell_type": "code",
      "source": [
        "df_score_bert = create_score_table(cv_score_bert, test_score_bert, title=\"BERT Score (ROC)\")\n",
        "df_score_bert"
      ],
      "metadata": {
        "colab": {
          "base_uri": "https://localhost:8080/",
          "height": 255
        },
        "id": "WQ_vWkX7FVY2",
        "outputId": "161c03aa-1ab3-4a1d-aee7-c83083b2036e"
      },
      "id": "WQ_vWkX7FVY2",
      "execution_count": 145,
      "outputs": [
        {
          "output_type": "execute_result",
          "data": {
            "text/plain": [
              "<pandas.io.formats.style.Styler at 0x79e412d5b310>"
            ],
            "text/html": [
              "<style type=\"text/css\">\n",
              "</style>\n",
              "<table id=\"T_dfb3e\" class=\"dataframe\">\n",
              "  <caption>BERT Score (ROC)</caption>\n",
              "  <thead>\n",
              "    <tr>\n",
              "      <th class=\"blank level0\" >&nbsp;</th>\n",
              "      <th id=\"T_dfb3e_level0_col0\" class=\"col_heading level0 col0\" >0</th>\n",
              "      <th id=\"T_dfb3e_level0_col1\" class=\"col_heading level0 col1\" >1</th>\n",
              "      <th id=\"T_dfb3e_level0_col2\" class=\"col_heading level0 col2\" >2</th>\n",
              "      <th id=\"T_dfb3e_level0_col3\" class=\"col_heading level0 col3\" >3</th>\n",
              "      <th id=\"T_dfb3e_level0_col4\" class=\"col_heading level0 col4\" >4</th>\n",
              "      <th id=\"T_dfb3e_level0_col5\" class=\"col_heading level0 col5\" >train_mean</th>\n",
              "      <th id=\"T_dfb3e_level0_col6\" class=\"col_heading level0 col6\" >test</th>\n",
              "    </tr>\n",
              "  </thead>\n",
              "  <tbody>\n",
              "    <tr>\n",
              "      <th id=\"T_dfb3e_level0_row0\" class=\"row_heading level0 row0\" >review_text_clean</th>\n",
              "      <td id=\"T_dfb3e_row0_col0\" class=\"data row0 col0\" >0.964290</td>\n",
              "      <td id=\"T_dfb3e_row0_col1\" class=\"data row0 col1\" >0.953120</td>\n",
              "      <td id=\"T_dfb3e_row0_col2\" class=\"data row0 col2\" >0.901100</td>\n",
              "      <td id=\"T_dfb3e_row0_col3\" class=\"data row0 col3\" >0.843140</td>\n",
              "      <td id=\"T_dfb3e_row0_col4\" class=\"data row0 col4\" >0.736840</td>\n",
              "      <td id=\"T_dfb3e_row0_col5\" class=\"data row0 col5\" >0.879698</td>\n",
              "      <td id=\"T_dfb3e_row0_col6\" class=\"data row0 col6\" >0.865200</td>\n",
              "    </tr>\n",
              "    <tr>\n",
              "      <th id=\"T_dfb3e_level0_row1\" class=\"row_heading level0 row1\" >review_text_clean_stop</th>\n",
              "      <td id=\"T_dfb3e_row1_col0\" class=\"data row1 col0\" >0.797620</td>\n",
              "      <td id=\"T_dfb3e_row1_col1\" class=\"data row1 col1\" >0.859380</td>\n",
              "      <td id=\"T_dfb3e_row1_col2\" class=\"data row1 col2\" >0.923080</td>\n",
              "      <td id=\"T_dfb3e_row1_col3\" class=\"data row1 col3\" >0.882350</td>\n",
              "      <td id=\"T_dfb3e_row1_col4\" class=\"data row1 col4\" >0.526320</td>\n",
              "      <td id=\"T_dfb3e_row1_col5\" class=\"data row1 col5\" >0.797750</td>\n",
              "      <td id=\"T_dfb3e_row1_col6\" class=\"data row1 col6\" >0.862070</td>\n",
              "    </tr>\n",
              "    <tr>\n",
              "      <th id=\"T_dfb3e_level0_row2\" class=\"row_heading level0 row2\" >review_text_clean_stem</th>\n",
              "      <td id=\"T_dfb3e_row2_col0\" class=\"data row2 col0\" >0.928570</td>\n",
              "      <td id=\"T_dfb3e_row2_col1\" class=\"data row2 col1\" >0.718750</td>\n",
              "      <td id=\"T_dfb3e_row2_col2\" class=\"data row2 col2\" >0.868130</td>\n",
              "      <td id=\"T_dfb3e_row2_col3\" class=\"data row2 col3\" >0.627450</td>\n",
              "      <td id=\"T_dfb3e_row2_col4\" class=\"data row2 col4\" >0.789470</td>\n",
              "      <td id=\"T_dfb3e_row2_col5\" class=\"data row2 col5\" >0.786474</td>\n",
              "      <td id=\"T_dfb3e_row2_col6\" class=\"data row2 col6\" >0.843260</td>\n",
              "    </tr>\n",
              "    <tr>\n",
              "      <th id=\"T_dfb3e_level0_row3\" class=\"row_heading level0 row3\" >review_text_clean_stop_stem</th>\n",
              "      <td id=\"T_dfb3e_row3_col0\" class=\"data row3 col0\" >0.833330</td>\n",
              "      <td id=\"T_dfb3e_row3_col1\" class=\"data row3 col1\" >0.968750</td>\n",
              "      <td id=\"T_dfb3e_row3_col2\" class=\"data row3 col2\" >1.000000</td>\n",
              "      <td id=\"T_dfb3e_row3_col3\" class=\"data row3 col3\" >0.666670</td>\n",
              "      <td id=\"T_dfb3e_row3_col4\" class=\"data row3 col4\" >1.000000</td>\n",
              "      <td id=\"T_dfb3e_row3_col5\" class=\"data row3 col5\" >0.893750</td>\n",
              "      <td id=\"T_dfb3e_row3_col6\" class=\"data row3 col6\" >0.799370</td>\n",
              "    </tr>\n",
              "    <tr>\n",
              "      <th id=\"T_dfb3e_level0_row4\" class=\"row_heading level0 row4\" >review_text_clean_lemma</th>\n",
              "      <td id=\"T_dfb3e_row4_col0\" class=\"data row4 col0\" >0.976190</td>\n",
              "      <td id=\"T_dfb3e_row4_col1\" class=\"data row4 col1\" >0.968750</td>\n",
              "      <td id=\"T_dfb3e_row4_col2\" class=\"data row4 col2\" >0.868130</td>\n",
              "      <td id=\"T_dfb3e_row4_col3\" class=\"data row4 col3\" >0.921570</td>\n",
              "      <td id=\"T_dfb3e_row4_col4\" class=\"data row4 col4\" >0.789470</td>\n",
              "      <td id=\"T_dfb3e_row4_col5\" class=\"data row4 col5\" >0.904822</td>\n",
              "      <td id=\"T_dfb3e_row4_col6\" class=\"data row4 col6\" >0.893420</td>\n",
              "    </tr>\n",
              "    <tr>\n",
              "      <th id=\"T_dfb3e_level0_row5\" class=\"row_heading level0 row5\" >review_text_clean_stop_lemma</th>\n",
              "      <td id=\"T_dfb3e_row5_col0\" class=\"data row5 col0\" >0.773810</td>\n",
              "      <td id=\"T_dfb3e_row5_col1\" class=\"data row5 col1\" >0.921880</td>\n",
              "      <td id=\"T_dfb3e_row5_col2\" class=\"data row5 col2\" >0.923080</td>\n",
              "      <td id=\"T_dfb3e_row5_col3\" class=\"data row5 col3\" >0.823530</td>\n",
              "      <td id=\"T_dfb3e_row5_col4\" class=\"data row5 col4\" >0.684210</td>\n",
              "      <td id=\"T_dfb3e_row5_col5\" class=\"data row5 col5\" >0.825302</td>\n",
              "      <td id=\"T_dfb3e_row5_col6\" class=\"data row5 col6\" >0.877740</td>\n",
              "    </tr>\n",
              "  </tbody>\n",
              "</table>\n"
            ]
          },
          "metadata": {},
          "execution_count": 145
        }
      ]
    },
    {
      "cell_type": "markdown",
      "source": [
        "#### Sentence Transformer"
      ],
      "metadata": {
        "id": "Y3vGM7sLDGCi"
      },
      "id": "Y3vGM7sLDGCi"
    },
    {
      "cell_type": "markdown",
      "source": [
        "**Note:** In this stage, it's important that Colab uses `GPU`instead of `CPU`."
      ],
      "metadata": {
        "id": "JAyNtwkFITlt"
      },
      "id": "JAyNtwkFITlt"
    },
    {
      "cell_type": "code",
      "source": [
        "device = !nvidia-smi -L\n",
        "device = \"cuda\" if device[0][:3] == 'GPU' else \"cpu\"\n",
        "device"
      ],
      "metadata": {
        "id": "3TWm69iMlMl9",
        "outputId": "4eb510a3-6f06-48b6-a646-c174198a59c8",
        "colab": {
          "base_uri": "https://localhost:8080/",
          "height": 36
        }
      },
      "id": "3TWm69iMlMl9",
      "execution_count": 146,
      "outputs": [
        {
          "output_type": "execute_result",
          "data": {
            "text/plain": [
              "'cuda'"
            ],
            "application/vnd.google.colaboratory.intrinsic+json": {
              "type": "string"
            }
          },
          "metadata": {},
          "execution_count": 146
        }
      ]
    },
    {
      "cell_type": "code",
      "source": [
        "!pip install sentence_transformers -q"
      ],
      "metadata": {
        "id": "5BFus9SGDrox"
      },
      "id": "5BFus9SGDrox",
      "execution_count": 147,
      "outputs": []
    },
    {
      "cell_type": "code",
      "execution_count": 148,
      "id": "33883135",
      "metadata": {
        "ExecuteTime": {
          "end_time": "2023-07-24T20:06:49.567212Z",
          "start_time": "2023-07-24T20:06:45.593705Z"
        },
        "id": "33883135"
      },
      "outputs": [],
      "source": [
        "from sentence_transformers import SentenceTransformer"
      ]
    },
    {
      "cell_type": "code",
      "source": [
        "model=SentenceTransformer('rufimelo/bert-large-portuguese-cased-sts', device=device)"
      ],
      "metadata": {
        "id": "cihdPcoo8m2B"
      },
      "id": "cihdPcoo8m2B",
      "execution_count": 149,
      "outputs": []
    },
    {
      "cell_type": "code",
      "source": [
        "def apply_sentece_transformer(X_train, X_test, model=model):\n",
        "  model = model\n",
        "  X_train_list = X_train.values.tolist()\n",
        "  X_test_list = X_test.values.tolist()\n",
        "\n",
        "  X_train_vec = model.encode(X_train_list)\n",
        "  X_test_vec = model.encode(X_test_list)\n",
        "\n",
        "  return X_train_vec, X_test_vec"
      ],
      "metadata": {
        "id": "bvhCjLBCGS6I"
      },
      "id": "bvhCjLBCGS6I",
      "execution_count": 150,
      "outputs": []
    },
    {
      "cell_type": "code",
      "source": [
        "cv_score_st, test_score_st = pipeline(X_train.iloc[:100, :], y_train[:100],\n",
        "                                      X_test.iloc[:100, :], y_test[:100],\n",
        "                                      apply_sentece_transformer,\n",
        "                                      model=model)"
      ],
      "metadata": {
        "id": "xUaxM9-5GTMc",
        "colab": {
          "base_uri": "https://localhost:8080/"
        },
        "outputId": "4b5fc8be-89b7-4b3e-f7f0-f879f5f74812"
      },
      "id": "xUaxM9-5GTMc",
      "execution_count": 151,
      "outputs": [
        {
          "output_type": "stream",
          "name": "stdout",
          "text": [
            "Running: review_text_clean\n",
            "Running: review_text_clean_stop\n",
            "Running: review_text_clean_stem\n",
            "Running: review_text_clean_stop_stem\n",
            "Running: review_text_clean_lemma\n",
            "Running: review_text_clean_stop_lemma\n",
            "\n",
            "Execution time: 00:00:58\n"
          ]
        }
      ]
    },
    {
      "cell_type": "code",
      "source": [
        "df_score_st = create_score_table(cv_score_st, test_score_st, title=\"Sentence Transformer Score (ROC)\")\n",
        "df_score_st"
      ],
      "metadata": {
        "colab": {
          "base_uri": "https://localhost:8080/",
          "height": 255
        },
        "id": "0QtwIkJoDrah",
        "outputId": "51fa1012-e114-4bec-c689-2c815c1adbbc"
      },
      "id": "0QtwIkJoDrah",
      "execution_count": 152,
      "outputs": [
        {
          "output_type": "execute_result",
          "data": {
            "text/plain": [
              "<pandas.io.formats.style.Styler at 0x79e3ef5b7850>"
            ],
            "text/html": [
              "<style type=\"text/css\">\n",
              "</style>\n",
              "<table id=\"T_fc16a\" class=\"dataframe\">\n",
              "  <caption>Sentence Transformer Score (ROC)</caption>\n",
              "  <thead>\n",
              "    <tr>\n",
              "      <th class=\"blank level0\" >&nbsp;</th>\n",
              "      <th id=\"T_fc16a_level0_col0\" class=\"col_heading level0 col0\" >0</th>\n",
              "      <th id=\"T_fc16a_level0_col1\" class=\"col_heading level0 col1\" >1</th>\n",
              "      <th id=\"T_fc16a_level0_col2\" class=\"col_heading level0 col2\" >2</th>\n",
              "      <th id=\"T_fc16a_level0_col3\" class=\"col_heading level0 col3\" >3</th>\n",
              "      <th id=\"T_fc16a_level0_col4\" class=\"col_heading level0 col4\" >4</th>\n",
              "      <th id=\"T_fc16a_level0_col5\" class=\"col_heading level0 col5\" >train_mean</th>\n",
              "      <th id=\"T_fc16a_level0_col6\" class=\"col_heading level0 col6\" >test</th>\n",
              "    </tr>\n",
              "  </thead>\n",
              "  <tbody>\n",
              "    <tr>\n",
              "      <th id=\"T_fc16a_level0_row0\" class=\"row_heading level0 row0\" >review_text_clean</th>\n",
              "      <td id=\"T_fc16a_row0_col0\" class=\"data row0 col0\" >1.000000</td>\n",
              "      <td id=\"T_fc16a_row0_col1\" class=\"data row0 col1\" >0.968750</td>\n",
              "      <td id=\"T_fc16a_row0_col2\" class=\"data row0 col2\" >0.978020</td>\n",
              "      <td id=\"T_fc16a_row0_col3\" class=\"data row0 col3\" >0.921570</td>\n",
              "      <td id=\"T_fc16a_row0_col4\" class=\"data row0 col4\" >0.842110</td>\n",
              "      <td id=\"T_fc16a_row0_col5\" class=\"data row0 col5\" >0.942090</td>\n",
              "      <td id=\"T_fc16a_row0_col6\" class=\"data row0 col6\" >0.968650</td>\n",
              "    </tr>\n",
              "    <tr>\n",
              "      <th id=\"T_fc16a_level0_row1\" class=\"row_heading level0 row1\" >review_text_clean_stop</th>\n",
              "      <td id=\"T_fc16a_row1_col0\" class=\"data row1 col0\" >0.952380</td>\n",
              "      <td id=\"T_fc16a_row1_col1\" class=\"data row1 col1\" >0.937500</td>\n",
              "      <td id=\"T_fc16a_row1_col2\" class=\"data row1 col2\" >0.879120</td>\n",
              "      <td id=\"T_fc16a_row1_col3\" class=\"data row1 col3\" >0.843140</td>\n",
              "      <td id=\"T_fc16a_row1_col4\" class=\"data row1 col4\" >0.526320</td>\n",
              "      <td id=\"T_fc16a_row1_col5\" class=\"data row1 col5\" >0.827692</td>\n",
              "      <td id=\"T_fc16a_row1_col6\" class=\"data row1 col6\" >0.843260</td>\n",
              "    </tr>\n",
              "    <tr>\n",
              "      <th id=\"T_fc16a_level0_row2\" class=\"row_heading level0 row2\" >review_text_clean_stem</th>\n",
              "      <td id=\"T_fc16a_row2_col0\" class=\"data row2 col0\" >1.000000</td>\n",
              "      <td id=\"T_fc16a_row2_col1\" class=\"data row2 col1\" >0.781250</td>\n",
              "      <td id=\"T_fc16a_row2_col2\" class=\"data row2 col2\" >0.923080</td>\n",
              "      <td id=\"T_fc16a_row2_col3\" class=\"data row2 col3\" >0.745100</td>\n",
              "      <td id=\"T_fc16a_row2_col4\" class=\"data row2 col4\" >0.736840</td>\n",
              "      <td id=\"T_fc16a_row2_col5\" class=\"data row2 col5\" >0.837254</td>\n",
              "      <td id=\"T_fc16a_row2_col6\" class=\"data row2 col6\" >0.959250</td>\n",
              "    </tr>\n",
              "    <tr>\n",
              "      <th id=\"T_fc16a_level0_row3\" class=\"row_heading level0 row3\" >review_text_clean_stop_stem</th>\n",
              "      <td id=\"T_fc16a_row3_col0\" class=\"data row3 col0\" >0.869050</td>\n",
              "      <td id=\"T_fc16a_row3_col1\" class=\"data row3 col1\" >0.953120</td>\n",
              "      <td id=\"T_fc16a_row3_col2\" class=\"data row3 col2\" >1.000000</td>\n",
              "      <td id=\"T_fc16a_row3_col3\" class=\"data row3 col3\" >0.666670</td>\n",
              "      <td id=\"T_fc16a_row3_col4\" class=\"data row3 col4\" >0.421050</td>\n",
              "      <td id=\"T_fc16a_row3_col5\" class=\"data row3 col5\" >0.781978</td>\n",
              "      <td id=\"T_fc16a_row3_col6\" class=\"data row3 col6\" >0.868340</td>\n",
              "    </tr>\n",
              "    <tr>\n",
              "      <th id=\"T_fc16a_level0_row4\" class=\"row_heading level0 row4\" >review_text_clean_lemma</th>\n",
              "      <td id=\"T_fc16a_row4_col0\" class=\"data row4 col0\" >0.964290</td>\n",
              "      <td id=\"T_fc16a_row4_col1\" class=\"data row4 col1\" >1.000000</td>\n",
              "      <td id=\"T_fc16a_row4_col2\" class=\"data row4 col2\" >0.967030</td>\n",
              "      <td id=\"T_fc16a_row4_col3\" class=\"data row4 col3\" >0.823530</td>\n",
              "      <td id=\"T_fc16a_row4_col4\" class=\"data row4 col4\" >0.894740</td>\n",
              "      <td id=\"T_fc16a_row4_col5\" class=\"data row4 col5\" >0.929918</td>\n",
              "      <td id=\"T_fc16a_row4_col6\" class=\"data row4 col6\" >0.852660</td>\n",
              "    </tr>\n",
              "    <tr>\n",
              "      <th id=\"T_fc16a_level0_row5\" class=\"row_heading level0 row5\" >review_text_clean_stop_lemma</th>\n",
              "      <td id=\"T_fc16a_row5_col0\" class=\"data row5 col0\" >0.821430</td>\n",
              "      <td id=\"T_fc16a_row5_col1\" class=\"data row5 col1\" >0.921880</td>\n",
              "      <td id=\"T_fc16a_row5_col2\" class=\"data row5 col2\" >0.956040</td>\n",
              "      <td id=\"T_fc16a_row5_col3\" class=\"data row5 col3\" >0.882350</td>\n",
              "      <td id=\"T_fc16a_row5_col4\" class=\"data row5 col4\" >0.421050</td>\n",
              "      <td id=\"T_fc16a_row5_col5\" class=\"data row5 col5\" >0.800550</td>\n",
              "      <td id=\"T_fc16a_row5_col6\" class=\"data row5 col6\" >0.956110</td>\n",
              "    </tr>\n",
              "  </tbody>\n",
              "</table>\n"
            ]
          },
          "metadata": {},
          "execution_count": 152
        }
      ]
    },
    {
      "cell_type": "markdown",
      "source": [
        "## Results Analysis"
      ],
      "metadata": {
        "id": "6Q7I6YjC_WPH"
      },
      "id": "6Q7I6YjC_WPH"
    },
    {
      "cell_type": "code",
      "source": [],
      "metadata": {
        "id": "-VYV-m9k_jvn"
      },
      "id": "-VYV-m9k_jvn",
      "execution_count": 152,
      "outputs": []
    },
    {
      "cell_type": "code",
      "source": [],
      "metadata": {
        "id": "8Suf2i15_jyz"
      },
      "id": "8Suf2i15_jyz",
      "execution_count": 152,
      "outputs": []
    },
    {
      "cell_type": "code",
      "source": [],
      "metadata": {
        "id": "9S77RUee_j19"
      },
      "id": "9S77RUee_j19",
      "execution_count": 152,
      "outputs": []
    },
    {
      "cell_type": "code",
      "execution_count": 152,
      "id": "c9ae3067",
      "metadata": {
        "id": "c9ae3067"
      },
      "outputs": [],
      "source": []
    }
  ],
  "metadata": {
    "kernelspec": {
      "display_name": "Python 3",
      "name": "python3"
    },
    "language_info": {
      "codemirror_mode": {
        "name": "ipython",
        "version": 3
      },
      "file_extension": ".py",
      "mimetype": "text/x-python",
      "name": "python",
      "nbconvert_exporter": "python",
      "pygments_lexer": "ipython3",
      "version": "3.10.9"
    },
    "toc": {
      "base_numbering": 1,
      "nav_menu": {},
      "number_sections": false,
      "sideBar": true,
      "skip_h1_title": false,
      "title_cell": "Table of Contents",
      "title_sidebar": "Contents",
      "toc_cell": false,
      "toc_position": {
        "height": "calc(100% - 180px)",
        "left": "10px",
        "top": "150px",
        "width": "280.775px"
      },
      "toc_section_display": true,
      "toc_window_display": true
    },
    "varInspector": {
      "cols": {
        "lenName": 16,
        "lenType": 16,
        "lenVar": 40
      },
      "kernels_config": {
        "python": {
          "delete_cmd_postfix": "",
          "delete_cmd_prefix": "del ",
          "library": "var_list.py",
          "varRefreshCmd": "print(var_dic_list())"
        },
        "r": {
          "delete_cmd_postfix": ") ",
          "delete_cmd_prefix": "rm(",
          "library": "var_list.r",
          "varRefreshCmd": "cat(var_dic_list()) "
        }
      },
      "types_to_exclude": [
        "module",
        "function",
        "builtin_function_or_method",
        "instance",
        "_Feature"
      ],
      "window_display": false
    },
    "colab": {
      "provenance": [],
      "toc_visible": true,
      "gpuType": "T4",
      "include_colab_link": true
    },
    "accelerator": "GPU",
    "widgets": {
      "application/vnd.jupyter.widget-state+json": {
        "d1b894c9d26049828bd1263fe4887a97": {
          "model_module": "@jupyter-widgets/controls",
          "model_name": "HBoxModel",
          "model_module_version": "1.5.0",
          "state": {
            "_dom_classes": [],
            "_model_module": "@jupyter-widgets/controls",
            "_model_module_version": "1.5.0",
            "_model_name": "HBoxModel",
            "_view_count": null,
            "_view_module": "@jupyter-widgets/controls",
            "_view_module_version": "1.5.0",
            "_view_name": "HBoxView",
            "box_style": "",
            "children": [
              "IPY_MODEL_da1b1c8e94df4502a3319d49b17ebfd4",
              "IPY_MODEL_ce9506353f2a4ca59f1608460c187130",
              "IPY_MODEL_84edf33d058441a48020f0a8af65359c"
            ],
            "layout": "IPY_MODEL_7a7cd300283346f3a148a8026c5a84e7"
          }
        },
        "da1b1c8e94df4502a3319d49b17ebfd4": {
          "model_module": "@jupyter-widgets/controls",
          "model_name": "HTMLModel",
          "model_module_version": "1.5.0",
          "state": {
            "_dom_classes": [],
            "_model_module": "@jupyter-widgets/controls",
            "_model_module_version": "1.5.0",
            "_model_name": "HTMLModel",
            "_view_count": null,
            "_view_module": "@jupyter-widgets/controls",
            "_view_module_version": "1.5.0",
            "_view_name": "HTMLView",
            "description": "",
            "description_tooltip": null,
            "layout": "IPY_MODEL_c958cc7ca4594933a8d5d555b0994dea",
            "placeholder": "​",
            "style": "IPY_MODEL_50286d0b9f544722a770e8e1b012e6cd",
            "value": "Downloading (…)lve/main/config.json: 100%"
          }
        },
        "ce9506353f2a4ca59f1608460c187130": {
          "model_module": "@jupyter-widgets/controls",
          "model_name": "FloatProgressModel",
          "model_module_version": "1.5.0",
          "state": {
            "_dom_classes": [],
            "_model_module": "@jupyter-widgets/controls",
            "_model_module_version": "1.5.0",
            "_model_name": "FloatProgressModel",
            "_view_count": null,
            "_view_module": "@jupyter-widgets/controls",
            "_view_module_version": "1.5.0",
            "_view_name": "ProgressView",
            "bar_style": "success",
            "description": "",
            "description_tooltip": null,
            "layout": "IPY_MODEL_e154e62d0da242f388119e72e3db7f79",
            "max": 647,
            "min": 0,
            "orientation": "horizontal",
            "style": "IPY_MODEL_dca0a4d7b5964a07b7666d5d4731c4f6",
            "value": 647
          }
        },
        "84edf33d058441a48020f0a8af65359c": {
          "model_module": "@jupyter-widgets/controls",
          "model_name": "HTMLModel",
          "model_module_version": "1.5.0",
          "state": {
            "_dom_classes": [],
            "_model_module": "@jupyter-widgets/controls",
            "_model_module_version": "1.5.0",
            "_model_name": "HTMLModel",
            "_view_count": null,
            "_view_module": "@jupyter-widgets/controls",
            "_view_module_version": "1.5.0",
            "_view_name": "HTMLView",
            "description": "",
            "description_tooltip": null,
            "layout": "IPY_MODEL_bc0de56c81cb42d4b02911e68752a7d4",
            "placeholder": "​",
            "style": "IPY_MODEL_256085898f014c25ac3e4fb20114f67b",
            "value": " 647/647 [00:00&lt;00:00, 36.2kB/s]"
          }
        },
        "7a7cd300283346f3a148a8026c5a84e7": {
          "model_module": "@jupyter-widgets/base",
          "model_name": "LayoutModel",
          "model_module_version": "1.2.0",
          "state": {
            "_model_module": "@jupyter-widgets/base",
            "_model_module_version": "1.2.0",
            "_model_name": "LayoutModel",
            "_view_count": null,
            "_view_module": "@jupyter-widgets/base",
            "_view_module_version": "1.2.0",
            "_view_name": "LayoutView",
            "align_content": null,
            "align_items": null,
            "align_self": null,
            "border": null,
            "bottom": null,
            "display": null,
            "flex": null,
            "flex_flow": null,
            "grid_area": null,
            "grid_auto_columns": null,
            "grid_auto_flow": null,
            "grid_auto_rows": null,
            "grid_column": null,
            "grid_gap": null,
            "grid_row": null,
            "grid_template_areas": null,
            "grid_template_columns": null,
            "grid_template_rows": null,
            "height": null,
            "justify_content": null,
            "justify_items": null,
            "left": null,
            "margin": null,
            "max_height": null,
            "max_width": null,
            "min_height": null,
            "min_width": null,
            "object_fit": null,
            "object_position": null,
            "order": null,
            "overflow": null,
            "overflow_x": null,
            "overflow_y": null,
            "padding": null,
            "right": null,
            "top": null,
            "visibility": null,
            "width": null
          }
        },
        "c958cc7ca4594933a8d5d555b0994dea": {
          "model_module": "@jupyter-widgets/base",
          "model_name": "LayoutModel",
          "model_module_version": "1.2.0",
          "state": {
            "_model_module": "@jupyter-widgets/base",
            "_model_module_version": "1.2.0",
            "_model_name": "LayoutModel",
            "_view_count": null,
            "_view_module": "@jupyter-widgets/base",
            "_view_module_version": "1.2.0",
            "_view_name": "LayoutView",
            "align_content": null,
            "align_items": null,
            "align_self": null,
            "border": null,
            "bottom": null,
            "display": null,
            "flex": null,
            "flex_flow": null,
            "grid_area": null,
            "grid_auto_columns": null,
            "grid_auto_flow": null,
            "grid_auto_rows": null,
            "grid_column": null,
            "grid_gap": null,
            "grid_row": null,
            "grid_template_areas": null,
            "grid_template_columns": null,
            "grid_template_rows": null,
            "height": null,
            "justify_content": null,
            "justify_items": null,
            "left": null,
            "margin": null,
            "max_height": null,
            "max_width": null,
            "min_height": null,
            "min_width": null,
            "object_fit": null,
            "object_position": null,
            "order": null,
            "overflow": null,
            "overflow_x": null,
            "overflow_y": null,
            "padding": null,
            "right": null,
            "top": null,
            "visibility": null,
            "width": null
          }
        },
        "50286d0b9f544722a770e8e1b012e6cd": {
          "model_module": "@jupyter-widgets/controls",
          "model_name": "DescriptionStyleModel",
          "model_module_version": "1.5.0",
          "state": {
            "_model_module": "@jupyter-widgets/controls",
            "_model_module_version": "1.5.0",
            "_model_name": "DescriptionStyleModel",
            "_view_count": null,
            "_view_module": "@jupyter-widgets/base",
            "_view_module_version": "1.2.0",
            "_view_name": "StyleView",
            "description_width": ""
          }
        },
        "e154e62d0da242f388119e72e3db7f79": {
          "model_module": "@jupyter-widgets/base",
          "model_name": "LayoutModel",
          "model_module_version": "1.2.0",
          "state": {
            "_model_module": "@jupyter-widgets/base",
            "_model_module_version": "1.2.0",
            "_model_name": "LayoutModel",
            "_view_count": null,
            "_view_module": "@jupyter-widgets/base",
            "_view_module_version": "1.2.0",
            "_view_name": "LayoutView",
            "align_content": null,
            "align_items": null,
            "align_self": null,
            "border": null,
            "bottom": null,
            "display": null,
            "flex": null,
            "flex_flow": null,
            "grid_area": null,
            "grid_auto_columns": null,
            "grid_auto_flow": null,
            "grid_auto_rows": null,
            "grid_column": null,
            "grid_gap": null,
            "grid_row": null,
            "grid_template_areas": null,
            "grid_template_columns": null,
            "grid_template_rows": null,
            "height": null,
            "justify_content": null,
            "justify_items": null,
            "left": null,
            "margin": null,
            "max_height": null,
            "max_width": null,
            "min_height": null,
            "min_width": null,
            "object_fit": null,
            "object_position": null,
            "order": null,
            "overflow": null,
            "overflow_x": null,
            "overflow_y": null,
            "padding": null,
            "right": null,
            "top": null,
            "visibility": null,
            "width": null
          }
        },
        "dca0a4d7b5964a07b7666d5d4731c4f6": {
          "model_module": "@jupyter-widgets/controls",
          "model_name": "ProgressStyleModel",
          "model_module_version": "1.5.0",
          "state": {
            "_model_module": "@jupyter-widgets/controls",
            "_model_module_version": "1.5.0",
            "_model_name": "ProgressStyleModel",
            "_view_count": null,
            "_view_module": "@jupyter-widgets/base",
            "_view_module_version": "1.2.0",
            "_view_name": "StyleView",
            "bar_color": null,
            "description_width": ""
          }
        },
        "bc0de56c81cb42d4b02911e68752a7d4": {
          "model_module": "@jupyter-widgets/base",
          "model_name": "LayoutModel",
          "model_module_version": "1.2.0",
          "state": {
            "_model_module": "@jupyter-widgets/base",
            "_model_module_version": "1.2.0",
            "_model_name": "LayoutModel",
            "_view_count": null,
            "_view_module": "@jupyter-widgets/base",
            "_view_module_version": "1.2.0",
            "_view_name": "LayoutView",
            "align_content": null,
            "align_items": null,
            "align_self": null,
            "border": null,
            "bottom": null,
            "display": null,
            "flex": null,
            "flex_flow": null,
            "grid_area": null,
            "grid_auto_columns": null,
            "grid_auto_flow": null,
            "grid_auto_rows": null,
            "grid_column": null,
            "grid_gap": null,
            "grid_row": null,
            "grid_template_areas": null,
            "grid_template_columns": null,
            "grid_template_rows": null,
            "height": null,
            "justify_content": null,
            "justify_items": null,
            "left": null,
            "margin": null,
            "max_height": null,
            "max_width": null,
            "min_height": null,
            "min_width": null,
            "object_fit": null,
            "object_position": null,
            "order": null,
            "overflow": null,
            "overflow_x": null,
            "overflow_y": null,
            "padding": null,
            "right": null,
            "top": null,
            "visibility": null,
            "width": null
          }
        },
        "256085898f014c25ac3e4fb20114f67b": {
          "model_module": "@jupyter-widgets/controls",
          "model_name": "DescriptionStyleModel",
          "model_module_version": "1.5.0",
          "state": {
            "_model_module": "@jupyter-widgets/controls",
            "_model_module_version": "1.5.0",
            "_model_name": "DescriptionStyleModel",
            "_view_count": null,
            "_view_module": "@jupyter-widgets/base",
            "_view_module_version": "1.2.0",
            "_view_name": "StyleView",
            "description_width": ""
          }
        },
        "927eb0544b6d4e48919a0f3daf66078b": {
          "model_module": "@jupyter-widgets/controls",
          "model_name": "HBoxModel",
          "model_module_version": "1.5.0",
          "state": {
            "_dom_classes": [],
            "_model_module": "@jupyter-widgets/controls",
            "_model_module_version": "1.5.0",
            "_model_name": "HBoxModel",
            "_view_count": null,
            "_view_module": "@jupyter-widgets/controls",
            "_view_module_version": "1.5.0",
            "_view_name": "HBoxView",
            "box_style": "",
            "children": [
              "IPY_MODEL_768af4376001465892ec58f717b3f9f9",
              "IPY_MODEL_a152a24d71a24fb494998f9a209b6e22",
              "IPY_MODEL_2e08258480aa4447a64f875f8f5ac6fd"
            ],
            "layout": "IPY_MODEL_e2f5f9e7f2954c92afe946675a621b92"
          }
        },
        "768af4376001465892ec58f717b3f9f9": {
          "model_module": "@jupyter-widgets/controls",
          "model_name": "HTMLModel",
          "model_module_version": "1.5.0",
          "state": {
            "_dom_classes": [],
            "_model_module": "@jupyter-widgets/controls",
            "_model_module_version": "1.5.0",
            "_model_name": "HTMLModel",
            "_view_count": null,
            "_view_module": "@jupyter-widgets/controls",
            "_view_module_version": "1.5.0",
            "_view_name": "HTMLView",
            "description": "",
            "description_tooltip": null,
            "layout": "IPY_MODEL_42d10453a8de41ceae28234c8e6dfb4c",
            "placeholder": "​",
            "style": "IPY_MODEL_d358a6c3c4784a688d4a67343bf3f69c",
            "value": "Downloading pytorch_model.bin: 100%"
          }
        },
        "a152a24d71a24fb494998f9a209b6e22": {
          "model_module": "@jupyter-widgets/controls",
          "model_name": "FloatProgressModel",
          "model_module_version": "1.5.0",
          "state": {
            "_dom_classes": [],
            "_model_module": "@jupyter-widgets/controls",
            "_model_module_version": "1.5.0",
            "_model_name": "FloatProgressModel",
            "_view_count": null,
            "_view_module": "@jupyter-widgets/controls",
            "_view_module_version": "1.5.0",
            "_view_name": "ProgressView",
            "bar_style": "success",
            "description": "",
            "description_tooltip": null,
            "layout": "IPY_MODEL_b38186f3644b4f7496eb3dca8880e9e2",
            "max": 438235074,
            "min": 0,
            "orientation": "horizontal",
            "style": "IPY_MODEL_198f80de872442a18f8dc1098401f578",
            "value": 438235074
          }
        },
        "2e08258480aa4447a64f875f8f5ac6fd": {
          "model_module": "@jupyter-widgets/controls",
          "model_name": "HTMLModel",
          "model_module_version": "1.5.0",
          "state": {
            "_dom_classes": [],
            "_model_module": "@jupyter-widgets/controls",
            "_model_module_version": "1.5.0",
            "_model_name": "HTMLModel",
            "_view_count": null,
            "_view_module": "@jupyter-widgets/controls",
            "_view_module_version": "1.5.0",
            "_view_name": "HTMLView",
            "description": "",
            "description_tooltip": null,
            "layout": "IPY_MODEL_c996feb2ffc047d3855225f935663821",
            "placeholder": "​",
            "style": "IPY_MODEL_463f4405932e4236a1b0d2695bd58558",
            "value": " 438M/438M [00:03&lt;00:00, 62.7MB/s]"
          }
        },
        "e2f5f9e7f2954c92afe946675a621b92": {
          "model_module": "@jupyter-widgets/base",
          "model_name": "LayoutModel",
          "model_module_version": "1.2.0",
          "state": {
            "_model_module": "@jupyter-widgets/base",
            "_model_module_version": "1.2.0",
            "_model_name": "LayoutModel",
            "_view_count": null,
            "_view_module": "@jupyter-widgets/base",
            "_view_module_version": "1.2.0",
            "_view_name": "LayoutView",
            "align_content": null,
            "align_items": null,
            "align_self": null,
            "border": null,
            "bottom": null,
            "display": null,
            "flex": null,
            "flex_flow": null,
            "grid_area": null,
            "grid_auto_columns": null,
            "grid_auto_flow": null,
            "grid_auto_rows": null,
            "grid_column": null,
            "grid_gap": null,
            "grid_row": null,
            "grid_template_areas": null,
            "grid_template_columns": null,
            "grid_template_rows": null,
            "height": null,
            "justify_content": null,
            "justify_items": null,
            "left": null,
            "margin": null,
            "max_height": null,
            "max_width": null,
            "min_height": null,
            "min_width": null,
            "object_fit": null,
            "object_position": null,
            "order": null,
            "overflow": null,
            "overflow_x": null,
            "overflow_y": null,
            "padding": null,
            "right": null,
            "top": null,
            "visibility": null,
            "width": null
          }
        },
        "42d10453a8de41ceae28234c8e6dfb4c": {
          "model_module": "@jupyter-widgets/base",
          "model_name": "LayoutModel",
          "model_module_version": "1.2.0",
          "state": {
            "_model_module": "@jupyter-widgets/base",
            "_model_module_version": "1.2.0",
            "_model_name": "LayoutModel",
            "_view_count": null,
            "_view_module": "@jupyter-widgets/base",
            "_view_module_version": "1.2.0",
            "_view_name": "LayoutView",
            "align_content": null,
            "align_items": null,
            "align_self": null,
            "border": null,
            "bottom": null,
            "display": null,
            "flex": null,
            "flex_flow": null,
            "grid_area": null,
            "grid_auto_columns": null,
            "grid_auto_flow": null,
            "grid_auto_rows": null,
            "grid_column": null,
            "grid_gap": null,
            "grid_row": null,
            "grid_template_areas": null,
            "grid_template_columns": null,
            "grid_template_rows": null,
            "height": null,
            "justify_content": null,
            "justify_items": null,
            "left": null,
            "margin": null,
            "max_height": null,
            "max_width": null,
            "min_height": null,
            "min_width": null,
            "object_fit": null,
            "object_position": null,
            "order": null,
            "overflow": null,
            "overflow_x": null,
            "overflow_y": null,
            "padding": null,
            "right": null,
            "top": null,
            "visibility": null,
            "width": null
          }
        },
        "d358a6c3c4784a688d4a67343bf3f69c": {
          "model_module": "@jupyter-widgets/controls",
          "model_name": "DescriptionStyleModel",
          "model_module_version": "1.5.0",
          "state": {
            "_model_module": "@jupyter-widgets/controls",
            "_model_module_version": "1.5.0",
            "_model_name": "DescriptionStyleModel",
            "_view_count": null,
            "_view_module": "@jupyter-widgets/base",
            "_view_module_version": "1.2.0",
            "_view_name": "StyleView",
            "description_width": ""
          }
        },
        "b38186f3644b4f7496eb3dca8880e9e2": {
          "model_module": "@jupyter-widgets/base",
          "model_name": "LayoutModel",
          "model_module_version": "1.2.0",
          "state": {
            "_model_module": "@jupyter-widgets/base",
            "_model_module_version": "1.2.0",
            "_model_name": "LayoutModel",
            "_view_count": null,
            "_view_module": "@jupyter-widgets/base",
            "_view_module_version": "1.2.0",
            "_view_name": "LayoutView",
            "align_content": null,
            "align_items": null,
            "align_self": null,
            "border": null,
            "bottom": null,
            "display": null,
            "flex": null,
            "flex_flow": null,
            "grid_area": null,
            "grid_auto_columns": null,
            "grid_auto_flow": null,
            "grid_auto_rows": null,
            "grid_column": null,
            "grid_gap": null,
            "grid_row": null,
            "grid_template_areas": null,
            "grid_template_columns": null,
            "grid_template_rows": null,
            "height": null,
            "justify_content": null,
            "justify_items": null,
            "left": null,
            "margin": null,
            "max_height": null,
            "max_width": null,
            "min_height": null,
            "min_width": null,
            "object_fit": null,
            "object_position": null,
            "order": null,
            "overflow": null,
            "overflow_x": null,
            "overflow_y": null,
            "padding": null,
            "right": null,
            "top": null,
            "visibility": null,
            "width": null
          }
        },
        "198f80de872442a18f8dc1098401f578": {
          "model_module": "@jupyter-widgets/controls",
          "model_name": "ProgressStyleModel",
          "model_module_version": "1.5.0",
          "state": {
            "_model_module": "@jupyter-widgets/controls",
            "_model_module_version": "1.5.0",
            "_model_name": "ProgressStyleModel",
            "_view_count": null,
            "_view_module": "@jupyter-widgets/base",
            "_view_module_version": "1.2.0",
            "_view_name": "StyleView",
            "bar_color": null,
            "description_width": ""
          }
        },
        "c996feb2ffc047d3855225f935663821": {
          "model_module": "@jupyter-widgets/base",
          "model_name": "LayoutModel",
          "model_module_version": "1.2.0",
          "state": {
            "_model_module": "@jupyter-widgets/base",
            "_model_module_version": "1.2.0",
            "_model_name": "LayoutModel",
            "_view_count": null,
            "_view_module": "@jupyter-widgets/base",
            "_view_module_version": "1.2.0",
            "_view_name": "LayoutView",
            "align_content": null,
            "align_items": null,
            "align_self": null,
            "border": null,
            "bottom": null,
            "display": null,
            "flex": null,
            "flex_flow": null,
            "grid_area": null,
            "grid_auto_columns": null,
            "grid_auto_flow": null,
            "grid_auto_rows": null,
            "grid_column": null,
            "grid_gap": null,
            "grid_row": null,
            "grid_template_areas": null,
            "grid_template_columns": null,
            "grid_template_rows": null,
            "height": null,
            "justify_content": null,
            "justify_items": null,
            "left": null,
            "margin": null,
            "max_height": null,
            "max_width": null,
            "min_height": null,
            "min_width": null,
            "object_fit": null,
            "object_position": null,
            "order": null,
            "overflow": null,
            "overflow_x": null,
            "overflow_y": null,
            "padding": null,
            "right": null,
            "top": null,
            "visibility": null,
            "width": null
          }
        },
        "463f4405932e4236a1b0d2695bd58558": {
          "model_module": "@jupyter-widgets/controls",
          "model_name": "DescriptionStyleModel",
          "model_module_version": "1.5.0",
          "state": {
            "_model_module": "@jupyter-widgets/controls",
            "_model_module_version": "1.5.0",
            "_model_name": "DescriptionStyleModel",
            "_view_count": null,
            "_view_module": "@jupyter-widgets/base",
            "_view_module_version": "1.2.0",
            "_view_name": "StyleView",
            "description_width": ""
          }
        },
        "5b23ccf4fbec40869c8cfc028ffd1440": {
          "model_module": "@jupyter-widgets/controls",
          "model_name": "HBoxModel",
          "model_module_version": "1.5.0",
          "state": {
            "_dom_classes": [],
            "_model_module": "@jupyter-widgets/controls",
            "_model_module_version": "1.5.0",
            "_model_name": "HBoxModel",
            "_view_count": null,
            "_view_module": "@jupyter-widgets/controls",
            "_view_module_version": "1.5.0",
            "_view_name": "HBoxView",
            "box_style": "",
            "children": [
              "IPY_MODEL_e93b8e58b3234586b8d10b235abc5f94",
              "IPY_MODEL_30d2b921ae704de9b6b6548c2a186457",
              "IPY_MODEL_e8f6e361dd0b4dc3995a8179545ce244"
            ],
            "layout": "IPY_MODEL_27fe552b523a436d8025dde107d0af72"
          }
        },
        "e93b8e58b3234586b8d10b235abc5f94": {
          "model_module": "@jupyter-widgets/controls",
          "model_name": "HTMLModel",
          "model_module_version": "1.5.0",
          "state": {
            "_dom_classes": [],
            "_model_module": "@jupyter-widgets/controls",
            "_model_module_version": "1.5.0",
            "_model_name": "HTMLModel",
            "_view_count": null,
            "_view_module": "@jupyter-widgets/controls",
            "_view_module_version": "1.5.0",
            "_view_name": "HTMLView",
            "description": "",
            "description_tooltip": null,
            "layout": "IPY_MODEL_479307970469458596f3a8adbfdfdf73",
            "placeholder": "​",
            "style": "IPY_MODEL_a788bdd1cea64caa965fb17958bf76ac",
            "value": "Downloading (…)okenizer_config.json: 100%"
          }
        },
        "30d2b921ae704de9b6b6548c2a186457": {
          "model_module": "@jupyter-widgets/controls",
          "model_name": "FloatProgressModel",
          "model_module_version": "1.5.0",
          "state": {
            "_dom_classes": [],
            "_model_module": "@jupyter-widgets/controls",
            "_model_module_version": "1.5.0",
            "_model_name": "FloatProgressModel",
            "_view_count": null,
            "_view_module": "@jupyter-widgets/controls",
            "_view_module_version": "1.5.0",
            "_view_name": "ProgressView",
            "bar_style": "success",
            "description": "",
            "description_tooltip": null,
            "layout": "IPY_MODEL_3c8c154817374002bf2abccdfa572db8",
            "max": 43,
            "min": 0,
            "orientation": "horizontal",
            "style": "IPY_MODEL_7a5672af1dff43f3b1f6c0fe90fc0eda",
            "value": 43
          }
        },
        "e8f6e361dd0b4dc3995a8179545ce244": {
          "model_module": "@jupyter-widgets/controls",
          "model_name": "HTMLModel",
          "model_module_version": "1.5.0",
          "state": {
            "_dom_classes": [],
            "_model_module": "@jupyter-widgets/controls",
            "_model_module_version": "1.5.0",
            "_model_name": "HTMLModel",
            "_view_count": null,
            "_view_module": "@jupyter-widgets/controls",
            "_view_module_version": "1.5.0",
            "_view_name": "HTMLView",
            "description": "",
            "description_tooltip": null,
            "layout": "IPY_MODEL_8be324601d4d4e178a573c005f26f84e",
            "placeholder": "​",
            "style": "IPY_MODEL_e7cc5e10750a4f5abb06642156c9b2f0",
            "value": " 43.0/43.0 [00:00&lt;00:00, 507B/s]"
          }
        },
        "27fe552b523a436d8025dde107d0af72": {
          "model_module": "@jupyter-widgets/base",
          "model_name": "LayoutModel",
          "model_module_version": "1.2.0",
          "state": {
            "_model_module": "@jupyter-widgets/base",
            "_model_module_version": "1.2.0",
            "_model_name": "LayoutModel",
            "_view_count": null,
            "_view_module": "@jupyter-widgets/base",
            "_view_module_version": "1.2.0",
            "_view_name": "LayoutView",
            "align_content": null,
            "align_items": null,
            "align_self": null,
            "border": null,
            "bottom": null,
            "display": null,
            "flex": null,
            "flex_flow": null,
            "grid_area": null,
            "grid_auto_columns": null,
            "grid_auto_flow": null,
            "grid_auto_rows": null,
            "grid_column": null,
            "grid_gap": null,
            "grid_row": null,
            "grid_template_areas": null,
            "grid_template_columns": null,
            "grid_template_rows": null,
            "height": null,
            "justify_content": null,
            "justify_items": null,
            "left": null,
            "margin": null,
            "max_height": null,
            "max_width": null,
            "min_height": null,
            "min_width": null,
            "object_fit": null,
            "object_position": null,
            "order": null,
            "overflow": null,
            "overflow_x": null,
            "overflow_y": null,
            "padding": null,
            "right": null,
            "top": null,
            "visibility": null,
            "width": null
          }
        },
        "479307970469458596f3a8adbfdfdf73": {
          "model_module": "@jupyter-widgets/base",
          "model_name": "LayoutModel",
          "model_module_version": "1.2.0",
          "state": {
            "_model_module": "@jupyter-widgets/base",
            "_model_module_version": "1.2.0",
            "_model_name": "LayoutModel",
            "_view_count": null,
            "_view_module": "@jupyter-widgets/base",
            "_view_module_version": "1.2.0",
            "_view_name": "LayoutView",
            "align_content": null,
            "align_items": null,
            "align_self": null,
            "border": null,
            "bottom": null,
            "display": null,
            "flex": null,
            "flex_flow": null,
            "grid_area": null,
            "grid_auto_columns": null,
            "grid_auto_flow": null,
            "grid_auto_rows": null,
            "grid_column": null,
            "grid_gap": null,
            "grid_row": null,
            "grid_template_areas": null,
            "grid_template_columns": null,
            "grid_template_rows": null,
            "height": null,
            "justify_content": null,
            "justify_items": null,
            "left": null,
            "margin": null,
            "max_height": null,
            "max_width": null,
            "min_height": null,
            "min_width": null,
            "object_fit": null,
            "object_position": null,
            "order": null,
            "overflow": null,
            "overflow_x": null,
            "overflow_y": null,
            "padding": null,
            "right": null,
            "top": null,
            "visibility": null,
            "width": null
          }
        },
        "a788bdd1cea64caa965fb17958bf76ac": {
          "model_module": "@jupyter-widgets/controls",
          "model_name": "DescriptionStyleModel",
          "model_module_version": "1.5.0",
          "state": {
            "_model_module": "@jupyter-widgets/controls",
            "_model_module_version": "1.5.0",
            "_model_name": "DescriptionStyleModel",
            "_view_count": null,
            "_view_module": "@jupyter-widgets/base",
            "_view_module_version": "1.2.0",
            "_view_name": "StyleView",
            "description_width": ""
          }
        },
        "3c8c154817374002bf2abccdfa572db8": {
          "model_module": "@jupyter-widgets/base",
          "model_name": "LayoutModel",
          "model_module_version": "1.2.0",
          "state": {
            "_model_module": "@jupyter-widgets/base",
            "_model_module_version": "1.2.0",
            "_model_name": "LayoutModel",
            "_view_count": null,
            "_view_module": "@jupyter-widgets/base",
            "_view_module_version": "1.2.0",
            "_view_name": "LayoutView",
            "align_content": null,
            "align_items": null,
            "align_self": null,
            "border": null,
            "bottom": null,
            "display": null,
            "flex": null,
            "flex_flow": null,
            "grid_area": null,
            "grid_auto_columns": null,
            "grid_auto_flow": null,
            "grid_auto_rows": null,
            "grid_column": null,
            "grid_gap": null,
            "grid_row": null,
            "grid_template_areas": null,
            "grid_template_columns": null,
            "grid_template_rows": null,
            "height": null,
            "justify_content": null,
            "justify_items": null,
            "left": null,
            "margin": null,
            "max_height": null,
            "max_width": null,
            "min_height": null,
            "min_width": null,
            "object_fit": null,
            "object_position": null,
            "order": null,
            "overflow": null,
            "overflow_x": null,
            "overflow_y": null,
            "padding": null,
            "right": null,
            "top": null,
            "visibility": null,
            "width": null
          }
        },
        "7a5672af1dff43f3b1f6c0fe90fc0eda": {
          "model_module": "@jupyter-widgets/controls",
          "model_name": "ProgressStyleModel",
          "model_module_version": "1.5.0",
          "state": {
            "_model_module": "@jupyter-widgets/controls",
            "_model_module_version": "1.5.0",
            "_model_name": "ProgressStyleModel",
            "_view_count": null,
            "_view_module": "@jupyter-widgets/base",
            "_view_module_version": "1.2.0",
            "_view_name": "StyleView",
            "bar_color": null,
            "description_width": ""
          }
        },
        "8be324601d4d4e178a573c005f26f84e": {
          "model_module": "@jupyter-widgets/base",
          "model_name": "LayoutModel",
          "model_module_version": "1.2.0",
          "state": {
            "_model_module": "@jupyter-widgets/base",
            "_model_module_version": "1.2.0",
            "_model_name": "LayoutModel",
            "_view_count": null,
            "_view_module": "@jupyter-widgets/base",
            "_view_module_version": "1.2.0",
            "_view_name": "LayoutView",
            "align_content": null,
            "align_items": null,
            "align_self": null,
            "border": null,
            "bottom": null,
            "display": null,
            "flex": null,
            "flex_flow": null,
            "grid_area": null,
            "grid_auto_columns": null,
            "grid_auto_flow": null,
            "grid_auto_rows": null,
            "grid_column": null,
            "grid_gap": null,
            "grid_row": null,
            "grid_template_areas": null,
            "grid_template_columns": null,
            "grid_template_rows": null,
            "height": null,
            "justify_content": null,
            "justify_items": null,
            "left": null,
            "margin": null,
            "max_height": null,
            "max_width": null,
            "min_height": null,
            "min_width": null,
            "object_fit": null,
            "object_position": null,
            "order": null,
            "overflow": null,
            "overflow_x": null,
            "overflow_y": null,
            "padding": null,
            "right": null,
            "top": null,
            "visibility": null,
            "width": null
          }
        },
        "e7cc5e10750a4f5abb06642156c9b2f0": {
          "model_module": "@jupyter-widgets/controls",
          "model_name": "DescriptionStyleModel",
          "model_module_version": "1.5.0",
          "state": {
            "_model_module": "@jupyter-widgets/controls",
            "_model_module_version": "1.5.0",
            "_model_name": "DescriptionStyleModel",
            "_view_count": null,
            "_view_module": "@jupyter-widgets/base",
            "_view_module_version": "1.2.0",
            "_view_name": "StyleView",
            "description_width": ""
          }
        },
        "e7209c2bff8040f0a9850e8428d45118": {
          "model_module": "@jupyter-widgets/controls",
          "model_name": "HBoxModel",
          "model_module_version": "1.5.0",
          "state": {
            "_dom_classes": [],
            "_model_module": "@jupyter-widgets/controls",
            "_model_module_version": "1.5.0",
            "_model_name": "HBoxModel",
            "_view_count": null,
            "_view_module": "@jupyter-widgets/controls",
            "_view_module_version": "1.5.0",
            "_view_name": "HBoxView",
            "box_style": "",
            "children": [
              "IPY_MODEL_d3e269aa3ef74352b1a2076118bcf541",
              "IPY_MODEL_5924f8a5c67243c9aa0800257b01fc10",
              "IPY_MODEL_f45b28e618d54211a50d62536e578f32"
            ],
            "layout": "IPY_MODEL_3937e6eb1c7a4550a89b6b922e86e3b8"
          }
        },
        "d3e269aa3ef74352b1a2076118bcf541": {
          "model_module": "@jupyter-widgets/controls",
          "model_name": "HTMLModel",
          "model_module_version": "1.5.0",
          "state": {
            "_dom_classes": [],
            "_model_module": "@jupyter-widgets/controls",
            "_model_module_version": "1.5.0",
            "_model_name": "HTMLModel",
            "_view_count": null,
            "_view_module": "@jupyter-widgets/controls",
            "_view_module_version": "1.5.0",
            "_view_name": "HTMLView",
            "description": "",
            "description_tooltip": null,
            "layout": "IPY_MODEL_3923c8f2e6ca45d3a8b40e0a4ab9dce2",
            "placeholder": "​",
            "style": "IPY_MODEL_8c726d20fa0c4ec6bdfe5a1545ae41f4",
            "value": "Downloading (…)solve/main/vocab.txt: 100%"
          }
        },
        "5924f8a5c67243c9aa0800257b01fc10": {
          "model_module": "@jupyter-widgets/controls",
          "model_name": "FloatProgressModel",
          "model_module_version": "1.5.0",
          "state": {
            "_dom_classes": [],
            "_model_module": "@jupyter-widgets/controls",
            "_model_module_version": "1.5.0",
            "_model_name": "FloatProgressModel",
            "_view_count": null,
            "_view_module": "@jupyter-widgets/controls",
            "_view_module_version": "1.5.0",
            "_view_name": "ProgressView",
            "bar_style": "success",
            "description": "",
            "description_tooltip": null,
            "layout": "IPY_MODEL_6c898d887550427fb7f1ff13085f2927",
            "max": 209528,
            "min": 0,
            "orientation": "horizontal",
            "style": "IPY_MODEL_a119364f1b2a4efbb338ec665ce16e1a",
            "value": 209528
          }
        },
        "f45b28e618d54211a50d62536e578f32": {
          "model_module": "@jupyter-widgets/controls",
          "model_name": "HTMLModel",
          "model_module_version": "1.5.0",
          "state": {
            "_dom_classes": [],
            "_model_module": "@jupyter-widgets/controls",
            "_model_module_version": "1.5.0",
            "_model_name": "HTMLModel",
            "_view_count": null,
            "_view_module": "@jupyter-widgets/controls",
            "_view_module_version": "1.5.0",
            "_view_name": "HTMLView",
            "description": "",
            "description_tooltip": null,
            "layout": "IPY_MODEL_aa9e032ab44f4d08b8a40199fb37f7b5",
            "placeholder": "​",
            "style": "IPY_MODEL_b523a6eeec374ac4b729bc0bcb95a89e",
            "value": " 210k/210k [00:00&lt;00:00, 1.80MB/s]"
          }
        },
        "3937e6eb1c7a4550a89b6b922e86e3b8": {
          "model_module": "@jupyter-widgets/base",
          "model_name": "LayoutModel",
          "model_module_version": "1.2.0",
          "state": {
            "_model_module": "@jupyter-widgets/base",
            "_model_module_version": "1.2.0",
            "_model_name": "LayoutModel",
            "_view_count": null,
            "_view_module": "@jupyter-widgets/base",
            "_view_module_version": "1.2.0",
            "_view_name": "LayoutView",
            "align_content": null,
            "align_items": null,
            "align_self": null,
            "border": null,
            "bottom": null,
            "display": null,
            "flex": null,
            "flex_flow": null,
            "grid_area": null,
            "grid_auto_columns": null,
            "grid_auto_flow": null,
            "grid_auto_rows": null,
            "grid_column": null,
            "grid_gap": null,
            "grid_row": null,
            "grid_template_areas": null,
            "grid_template_columns": null,
            "grid_template_rows": null,
            "height": null,
            "justify_content": null,
            "justify_items": null,
            "left": null,
            "margin": null,
            "max_height": null,
            "max_width": null,
            "min_height": null,
            "min_width": null,
            "object_fit": null,
            "object_position": null,
            "order": null,
            "overflow": null,
            "overflow_x": null,
            "overflow_y": null,
            "padding": null,
            "right": null,
            "top": null,
            "visibility": null,
            "width": null
          }
        },
        "3923c8f2e6ca45d3a8b40e0a4ab9dce2": {
          "model_module": "@jupyter-widgets/base",
          "model_name": "LayoutModel",
          "model_module_version": "1.2.0",
          "state": {
            "_model_module": "@jupyter-widgets/base",
            "_model_module_version": "1.2.0",
            "_model_name": "LayoutModel",
            "_view_count": null,
            "_view_module": "@jupyter-widgets/base",
            "_view_module_version": "1.2.0",
            "_view_name": "LayoutView",
            "align_content": null,
            "align_items": null,
            "align_self": null,
            "border": null,
            "bottom": null,
            "display": null,
            "flex": null,
            "flex_flow": null,
            "grid_area": null,
            "grid_auto_columns": null,
            "grid_auto_flow": null,
            "grid_auto_rows": null,
            "grid_column": null,
            "grid_gap": null,
            "grid_row": null,
            "grid_template_areas": null,
            "grid_template_columns": null,
            "grid_template_rows": null,
            "height": null,
            "justify_content": null,
            "justify_items": null,
            "left": null,
            "margin": null,
            "max_height": null,
            "max_width": null,
            "min_height": null,
            "min_width": null,
            "object_fit": null,
            "object_position": null,
            "order": null,
            "overflow": null,
            "overflow_x": null,
            "overflow_y": null,
            "padding": null,
            "right": null,
            "top": null,
            "visibility": null,
            "width": null
          }
        },
        "8c726d20fa0c4ec6bdfe5a1545ae41f4": {
          "model_module": "@jupyter-widgets/controls",
          "model_name": "DescriptionStyleModel",
          "model_module_version": "1.5.0",
          "state": {
            "_model_module": "@jupyter-widgets/controls",
            "_model_module_version": "1.5.0",
            "_model_name": "DescriptionStyleModel",
            "_view_count": null,
            "_view_module": "@jupyter-widgets/base",
            "_view_module_version": "1.2.0",
            "_view_name": "StyleView",
            "description_width": ""
          }
        },
        "6c898d887550427fb7f1ff13085f2927": {
          "model_module": "@jupyter-widgets/base",
          "model_name": "LayoutModel",
          "model_module_version": "1.2.0",
          "state": {
            "_model_module": "@jupyter-widgets/base",
            "_model_module_version": "1.2.0",
            "_model_name": "LayoutModel",
            "_view_count": null,
            "_view_module": "@jupyter-widgets/base",
            "_view_module_version": "1.2.0",
            "_view_name": "LayoutView",
            "align_content": null,
            "align_items": null,
            "align_self": null,
            "border": null,
            "bottom": null,
            "display": null,
            "flex": null,
            "flex_flow": null,
            "grid_area": null,
            "grid_auto_columns": null,
            "grid_auto_flow": null,
            "grid_auto_rows": null,
            "grid_column": null,
            "grid_gap": null,
            "grid_row": null,
            "grid_template_areas": null,
            "grid_template_columns": null,
            "grid_template_rows": null,
            "height": null,
            "justify_content": null,
            "justify_items": null,
            "left": null,
            "margin": null,
            "max_height": null,
            "max_width": null,
            "min_height": null,
            "min_width": null,
            "object_fit": null,
            "object_position": null,
            "order": null,
            "overflow": null,
            "overflow_x": null,
            "overflow_y": null,
            "padding": null,
            "right": null,
            "top": null,
            "visibility": null,
            "width": null
          }
        },
        "a119364f1b2a4efbb338ec665ce16e1a": {
          "model_module": "@jupyter-widgets/controls",
          "model_name": "ProgressStyleModel",
          "model_module_version": "1.5.0",
          "state": {
            "_model_module": "@jupyter-widgets/controls",
            "_model_module_version": "1.5.0",
            "_model_name": "ProgressStyleModel",
            "_view_count": null,
            "_view_module": "@jupyter-widgets/base",
            "_view_module_version": "1.2.0",
            "_view_name": "StyleView",
            "bar_color": null,
            "description_width": ""
          }
        },
        "aa9e032ab44f4d08b8a40199fb37f7b5": {
          "model_module": "@jupyter-widgets/base",
          "model_name": "LayoutModel",
          "model_module_version": "1.2.0",
          "state": {
            "_model_module": "@jupyter-widgets/base",
            "_model_module_version": "1.2.0",
            "_model_name": "LayoutModel",
            "_view_count": null,
            "_view_module": "@jupyter-widgets/base",
            "_view_module_version": "1.2.0",
            "_view_name": "LayoutView",
            "align_content": null,
            "align_items": null,
            "align_self": null,
            "border": null,
            "bottom": null,
            "display": null,
            "flex": null,
            "flex_flow": null,
            "grid_area": null,
            "grid_auto_columns": null,
            "grid_auto_flow": null,
            "grid_auto_rows": null,
            "grid_column": null,
            "grid_gap": null,
            "grid_row": null,
            "grid_template_areas": null,
            "grid_template_columns": null,
            "grid_template_rows": null,
            "height": null,
            "justify_content": null,
            "justify_items": null,
            "left": null,
            "margin": null,
            "max_height": null,
            "max_width": null,
            "min_height": null,
            "min_width": null,
            "object_fit": null,
            "object_position": null,
            "order": null,
            "overflow": null,
            "overflow_x": null,
            "overflow_y": null,
            "padding": null,
            "right": null,
            "top": null,
            "visibility": null,
            "width": null
          }
        },
        "b523a6eeec374ac4b729bc0bcb95a89e": {
          "model_module": "@jupyter-widgets/controls",
          "model_name": "DescriptionStyleModel",
          "model_module_version": "1.5.0",
          "state": {
            "_model_module": "@jupyter-widgets/controls",
            "_model_module_version": "1.5.0",
            "_model_name": "DescriptionStyleModel",
            "_view_count": null,
            "_view_module": "@jupyter-widgets/base",
            "_view_module_version": "1.2.0",
            "_view_name": "StyleView",
            "description_width": ""
          }
        },
        "90e6f4b9a44244abb5527ff9910a5c1a": {
          "model_module": "@jupyter-widgets/controls",
          "model_name": "HBoxModel",
          "model_module_version": "1.5.0",
          "state": {
            "_dom_classes": [],
            "_model_module": "@jupyter-widgets/controls",
            "_model_module_version": "1.5.0",
            "_model_name": "HBoxModel",
            "_view_count": null,
            "_view_module": "@jupyter-widgets/controls",
            "_view_module_version": "1.5.0",
            "_view_name": "HBoxView",
            "box_style": "",
            "children": [
              "IPY_MODEL_b832894ec88046048c40cd8c9ec49570",
              "IPY_MODEL_48dcf536a8134eb08883c8df67c7505e",
              "IPY_MODEL_dfdc4a6e1f984469961dd19e350b07a3"
            ],
            "layout": "IPY_MODEL_5e58fffb5cb34720a49322b303e66e9d"
          }
        },
        "b832894ec88046048c40cd8c9ec49570": {
          "model_module": "@jupyter-widgets/controls",
          "model_name": "HTMLModel",
          "model_module_version": "1.5.0",
          "state": {
            "_dom_classes": [],
            "_model_module": "@jupyter-widgets/controls",
            "_model_module_version": "1.5.0",
            "_model_name": "HTMLModel",
            "_view_count": null,
            "_view_module": "@jupyter-widgets/controls",
            "_view_module_version": "1.5.0",
            "_view_name": "HTMLView",
            "description": "",
            "description_tooltip": null,
            "layout": "IPY_MODEL_5c5a8cd52b32403bb67ce055cd44b39b",
            "placeholder": "​",
            "style": "IPY_MODEL_3ef546acc62843c1bea8c9bea53f7279",
            "value": "Downloading (…)in/added_tokens.json: 100%"
          }
        },
        "48dcf536a8134eb08883c8df67c7505e": {
          "model_module": "@jupyter-widgets/controls",
          "model_name": "FloatProgressModel",
          "model_module_version": "1.5.0",
          "state": {
            "_dom_classes": [],
            "_model_module": "@jupyter-widgets/controls",
            "_model_module_version": "1.5.0",
            "_model_name": "FloatProgressModel",
            "_view_count": null,
            "_view_module": "@jupyter-widgets/controls",
            "_view_module_version": "1.5.0",
            "_view_name": "ProgressView",
            "bar_style": "success",
            "description": "",
            "description_tooltip": null,
            "layout": "IPY_MODEL_ed73fcad13a144399aadd4dfa1274a68",
            "max": 2,
            "min": 0,
            "orientation": "horizontal",
            "style": "IPY_MODEL_0f0fe92d7c54497ea0c5b9154694f53a",
            "value": 2
          }
        },
        "dfdc4a6e1f984469961dd19e350b07a3": {
          "model_module": "@jupyter-widgets/controls",
          "model_name": "HTMLModel",
          "model_module_version": "1.5.0",
          "state": {
            "_dom_classes": [],
            "_model_module": "@jupyter-widgets/controls",
            "_model_module_version": "1.5.0",
            "_model_name": "HTMLModel",
            "_view_count": null,
            "_view_module": "@jupyter-widgets/controls",
            "_view_module_version": "1.5.0",
            "_view_name": "HTMLView",
            "description": "",
            "description_tooltip": null,
            "layout": "IPY_MODEL_e61cce5474a44fc9b88d3eddcbd3b877",
            "placeholder": "​",
            "style": "IPY_MODEL_d04b1b8f813c4c77b2660dae12591912",
            "value": " 2.00/2.00 [00:00&lt;00:00, 26.5B/s]"
          }
        },
        "5e58fffb5cb34720a49322b303e66e9d": {
          "model_module": "@jupyter-widgets/base",
          "model_name": "LayoutModel",
          "model_module_version": "1.2.0",
          "state": {
            "_model_module": "@jupyter-widgets/base",
            "_model_module_version": "1.2.0",
            "_model_name": "LayoutModel",
            "_view_count": null,
            "_view_module": "@jupyter-widgets/base",
            "_view_module_version": "1.2.0",
            "_view_name": "LayoutView",
            "align_content": null,
            "align_items": null,
            "align_self": null,
            "border": null,
            "bottom": null,
            "display": null,
            "flex": null,
            "flex_flow": null,
            "grid_area": null,
            "grid_auto_columns": null,
            "grid_auto_flow": null,
            "grid_auto_rows": null,
            "grid_column": null,
            "grid_gap": null,
            "grid_row": null,
            "grid_template_areas": null,
            "grid_template_columns": null,
            "grid_template_rows": null,
            "height": null,
            "justify_content": null,
            "justify_items": null,
            "left": null,
            "margin": null,
            "max_height": null,
            "max_width": null,
            "min_height": null,
            "min_width": null,
            "object_fit": null,
            "object_position": null,
            "order": null,
            "overflow": null,
            "overflow_x": null,
            "overflow_y": null,
            "padding": null,
            "right": null,
            "top": null,
            "visibility": null,
            "width": null
          }
        },
        "5c5a8cd52b32403bb67ce055cd44b39b": {
          "model_module": "@jupyter-widgets/base",
          "model_name": "LayoutModel",
          "model_module_version": "1.2.0",
          "state": {
            "_model_module": "@jupyter-widgets/base",
            "_model_module_version": "1.2.0",
            "_model_name": "LayoutModel",
            "_view_count": null,
            "_view_module": "@jupyter-widgets/base",
            "_view_module_version": "1.2.0",
            "_view_name": "LayoutView",
            "align_content": null,
            "align_items": null,
            "align_self": null,
            "border": null,
            "bottom": null,
            "display": null,
            "flex": null,
            "flex_flow": null,
            "grid_area": null,
            "grid_auto_columns": null,
            "grid_auto_flow": null,
            "grid_auto_rows": null,
            "grid_column": null,
            "grid_gap": null,
            "grid_row": null,
            "grid_template_areas": null,
            "grid_template_columns": null,
            "grid_template_rows": null,
            "height": null,
            "justify_content": null,
            "justify_items": null,
            "left": null,
            "margin": null,
            "max_height": null,
            "max_width": null,
            "min_height": null,
            "min_width": null,
            "object_fit": null,
            "object_position": null,
            "order": null,
            "overflow": null,
            "overflow_x": null,
            "overflow_y": null,
            "padding": null,
            "right": null,
            "top": null,
            "visibility": null,
            "width": null
          }
        },
        "3ef546acc62843c1bea8c9bea53f7279": {
          "model_module": "@jupyter-widgets/controls",
          "model_name": "DescriptionStyleModel",
          "model_module_version": "1.5.0",
          "state": {
            "_model_module": "@jupyter-widgets/controls",
            "_model_module_version": "1.5.0",
            "_model_name": "DescriptionStyleModel",
            "_view_count": null,
            "_view_module": "@jupyter-widgets/base",
            "_view_module_version": "1.2.0",
            "_view_name": "StyleView",
            "description_width": ""
          }
        },
        "ed73fcad13a144399aadd4dfa1274a68": {
          "model_module": "@jupyter-widgets/base",
          "model_name": "LayoutModel",
          "model_module_version": "1.2.0",
          "state": {
            "_model_module": "@jupyter-widgets/base",
            "_model_module_version": "1.2.0",
            "_model_name": "LayoutModel",
            "_view_count": null,
            "_view_module": "@jupyter-widgets/base",
            "_view_module_version": "1.2.0",
            "_view_name": "LayoutView",
            "align_content": null,
            "align_items": null,
            "align_self": null,
            "border": null,
            "bottom": null,
            "display": null,
            "flex": null,
            "flex_flow": null,
            "grid_area": null,
            "grid_auto_columns": null,
            "grid_auto_flow": null,
            "grid_auto_rows": null,
            "grid_column": null,
            "grid_gap": null,
            "grid_row": null,
            "grid_template_areas": null,
            "grid_template_columns": null,
            "grid_template_rows": null,
            "height": null,
            "justify_content": null,
            "justify_items": null,
            "left": null,
            "margin": null,
            "max_height": null,
            "max_width": null,
            "min_height": null,
            "min_width": null,
            "object_fit": null,
            "object_position": null,
            "order": null,
            "overflow": null,
            "overflow_x": null,
            "overflow_y": null,
            "padding": null,
            "right": null,
            "top": null,
            "visibility": null,
            "width": null
          }
        },
        "0f0fe92d7c54497ea0c5b9154694f53a": {
          "model_module": "@jupyter-widgets/controls",
          "model_name": "ProgressStyleModel",
          "model_module_version": "1.5.0",
          "state": {
            "_model_module": "@jupyter-widgets/controls",
            "_model_module_version": "1.5.0",
            "_model_name": "ProgressStyleModel",
            "_view_count": null,
            "_view_module": "@jupyter-widgets/base",
            "_view_module_version": "1.2.0",
            "_view_name": "StyleView",
            "bar_color": null,
            "description_width": ""
          }
        },
        "e61cce5474a44fc9b88d3eddcbd3b877": {
          "model_module": "@jupyter-widgets/base",
          "model_name": "LayoutModel",
          "model_module_version": "1.2.0",
          "state": {
            "_model_module": "@jupyter-widgets/base",
            "_model_module_version": "1.2.0",
            "_model_name": "LayoutModel",
            "_view_count": null,
            "_view_module": "@jupyter-widgets/base",
            "_view_module_version": "1.2.0",
            "_view_name": "LayoutView",
            "align_content": null,
            "align_items": null,
            "align_self": null,
            "border": null,
            "bottom": null,
            "display": null,
            "flex": null,
            "flex_flow": null,
            "grid_area": null,
            "grid_auto_columns": null,
            "grid_auto_flow": null,
            "grid_auto_rows": null,
            "grid_column": null,
            "grid_gap": null,
            "grid_row": null,
            "grid_template_areas": null,
            "grid_template_columns": null,
            "grid_template_rows": null,
            "height": null,
            "justify_content": null,
            "justify_items": null,
            "left": null,
            "margin": null,
            "max_height": null,
            "max_width": null,
            "min_height": null,
            "min_width": null,
            "object_fit": null,
            "object_position": null,
            "order": null,
            "overflow": null,
            "overflow_x": null,
            "overflow_y": null,
            "padding": null,
            "right": null,
            "top": null,
            "visibility": null,
            "width": null
          }
        },
        "d04b1b8f813c4c77b2660dae12591912": {
          "model_module": "@jupyter-widgets/controls",
          "model_name": "DescriptionStyleModel",
          "model_module_version": "1.5.0",
          "state": {
            "_model_module": "@jupyter-widgets/controls",
            "_model_module_version": "1.5.0",
            "_model_name": "DescriptionStyleModel",
            "_view_count": null,
            "_view_module": "@jupyter-widgets/base",
            "_view_module_version": "1.2.0",
            "_view_name": "StyleView",
            "description_width": ""
          }
        },
        "c8bf999125854685a05553ce363e7704": {
          "model_module": "@jupyter-widgets/controls",
          "model_name": "HBoxModel",
          "model_module_version": "1.5.0",
          "state": {
            "_dom_classes": [],
            "_model_module": "@jupyter-widgets/controls",
            "_model_module_version": "1.5.0",
            "_model_name": "HBoxModel",
            "_view_count": null,
            "_view_module": "@jupyter-widgets/controls",
            "_view_module_version": "1.5.0",
            "_view_name": "HBoxView",
            "box_style": "",
            "children": [
              "IPY_MODEL_c17909df37ce4225885bb7ebc8021603",
              "IPY_MODEL_bf618f4808174a03b03aa8415d47178f",
              "IPY_MODEL_ee797ebed5b540ee8467915241cf4bb5"
            ],
            "layout": "IPY_MODEL_b4e7446a99f747df9c4b369f52d60062"
          }
        },
        "c17909df37ce4225885bb7ebc8021603": {
          "model_module": "@jupyter-widgets/controls",
          "model_name": "HTMLModel",
          "model_module_version": "1.5.0",
          "state": {
            "_dom_classes": [],
            "_model_module": "@jupyter-widgets/controls",
            "_model_module_version": "1.5.0",
            "_model_name": "HTMLModel",
            "_view_count": null,
            "_view_module": "@jupyter-widgets/controls",
            "_view_module_version": "1.5.0",
            "_view_name": "HTMLView",
            "description": "",
            "description_tooltip": null,
            "layout": "IPY_MODEL_6b1e464717c64ca6b36b50006c3c4fa8",
            "placeholder": "​",
            "style": "IPY_MODEL_4f161def9c7f451fa6c44c106ea35bef",
            "value": "Downloading (…)cial_tokens_map.json: 100%"
          }
        },
        "bf618f4808174a03b03aa8415d47178f": {
          "model_module": "@jupyter-widgets/controls",
          "model_name": "FloatProgressModel",
          "model_module_version": "1.5.0",
          "state": {
            "_dom_classes": [],
            "_model_module": "@jupyter-widgets/controls",
            "_model_module_version": "1.5.0",
            "_model_name": "FloatProgressModel",
            "_view_count": null,
            "_view_module": "@jupyter-widgets/controls",
            "_view_module_version": "1.5.0",
            "_view_name": "ProgressView",
            "bar_style": "success",
            "description": "",
            "description_tooltip": null,
            "layout": "IPY_MODEL_c2f1aca278fa4907bf14f7645b4c9427",
            "max": 112,
            "min": 0,
            "orientation": "horizontal",
            "style": "IPY_MODEL_1a7bd57c1db040cf8d7a8222b2e381cb",
            "value": 112
          }
        },
        "ee797ebed5b540ee8467915241cf4bb5": {
          "model_module": "@jupyter-widgets/controls",
          "model_name": "HTMLModel",
          "model_module_version": "1.5.0",
          "state": {
            "_dom_classes": [],
            "_model_module": "@jupyter-widgets/controls",
            "_model_module_version": "1.5.0",
            "_model_name": "HTMLModel",
            "_view_count": null,
            "_view_module": "@jupyter-widgets/controls",
            "_view_module_version": "1.5.0",
            "_view_name": "HTMLView",
            "description": "",
            "description_tooltip": null,
            "layout": "IPY_MODEL_3cdba6f342854b538606f58f99e4ee2e",
            "placeholder": "​",
            "style": "IPY_MODEL_c2b2e981b5a34cd6a28f60a21a5361b9",
            "value": " 112/112 [00:00&lt;00:00, 2.66kB/s]"
          }
        },
        "b4e7446a99f747df9c4b369f52d60062": {
          "model_module": "@jupyter-widgets/base",
          "model_name": "LayoutModel",
          "model_module_version": "1.2.0",
          "state": {
            "_model_module": "@jupyter-widgets/base",
            "_model_module_version": "1.2.0",
            "_model_name": "LayoutModel",
            "_view_count": null,
            "_view_module": "@jupyter-widgets/base",
            "_view_module_version": "1.2.0",
            "_view_name": "LayoutView",
            "align_content": null,
            "align_items": null,
            "align_self": null,
            "border": null,
            "bottom": null,
            "display": null,
            "flex": null,
            "flex_flow": null,
            "grid_area": null,
            "grid_auto_columns": null,
            "grid_auto_flow": null,
            "grid_auto_rows": null,
            "grid_column": null,
            "grid_gap": null,
            "grid_row": null,
            "grid_template_areas": null,
            "grid_template_columns": null,
            "grid_template_rows": null,
            "height": null,
            "justify_content": null,
            "justify_items": null,
            "left": null,
            "margin": null,
            "max_height": null,
            "max_width": null,
            "min_height": null,
            "min_width": null,
            "object_fit": null,
            "object_position": null,
            "order": null,
            "overflow": null,
            "overflow_x": null,
            "overflow_y": null,
            "padding": null,
            "right": null,
            "top": null,
            "visibility": null,
            "width": null
          }
        },
        "6b1e464717c64ca6b36b50006c3c4fa8": {
          "model_module": "@jupyter-widgets/base",
          "model_name": "LayoutModel",
          "model_module_version": "1.2.0",
          "state": {
            "_model_module": "@jupyter-widgets/base",
            "_model_module_version": "1.2.0",
            "_model_name": "LayoutModel",
            "_view_count": null,
            "_view_module": "@jupyter-widgets/base",
            "_view_module_version": "1.2.0",
            "_view_name": "LayoutView",
            "align_content": null,
            "align_items": null,
            "align_self": null,
            "border": null,
            "bottom": null,
            "display": null,
            "flex": null,
            "flex_flow": null,
            "grid_area": null,
            "grid_auto_columns": null,
            "grid_auto_flow": null,
            "grid_auto_rows": null,
            "grid_column": null,
            "grid_gap": null,
            "grid_row": null,
            "grid_template_areas": null,
            "grid_template_columns": null,
            "grid_template_rows": null,
            "height": null,
            "justify_content": null,
            "justify_items": null,
            "left": null,
            "margin": null,
            "max_height": null,
            "max_width": null,
            "min_height": null,
            "min_width": null,
            "object_fit": null,
            "object_position": null,
            "order": null,
            "overflow": null,
            "overflow_x": null,
            "overflow_y": null,
            "padding": null,
            "right": null,
            "top": null,
            "visibility": null,
            "width": null
          }
        },
        "4f161def9c7f451fa6c44c106ea35bef": {
          "model_module": "@jupyter-widgets/controls",
          "model_name": "DescriptionStyleModel",
          "model_module_version": "1.5.0",
          "state": {
            "_model_module": "@jupyter-widgets/controls",
            "_model_module_version": "1.5.0",
            "_model_name": "DescriptionStyleModel",
            "_view_count": null,
            "_view_module": "@jupyter-widgets/base",
            "_view_module_version": "1.2.0",
            "_view_name": "StyleView",
            "description_width": ""
          }
        },
        "c2f1aca278fa4907bf14f7645b4c9427": {
          "model_module": "@jupyter-widgets/base",
          "model_name": "LayoutModel",
          "model_module_version": "1.2.0",
          "state": {
            "_model_module": "@jupyter-widgets/base",
            "_model_module_version": "1.2.0",
            "_model_name": "LayoutModel",
            "_view_count": null,
            "_view_module": "@jupyter-widgets/base",
            "_view_module_version": "1.2.0",
            "_view_name": "LayoutView",
            "align_content": null,
            "align_items": null,
            "align_self": null,
            "border": null,
            "bottom": null,
            "display": null,
            "flex": null,
            "flex_flow": null,
            "grid_area": null,
            "grid_auto_columns": null,
            "grid_auto_flow": null,
            "grid_auto_rows": null,
            "grid_column": null,
            "grid_gap": null,
            "grid_row": null,
            "grid_template_areas": null,
            "grid_template_columns": null,
            "grid_template_rows": null,
            "height": null,
            "justify_content": null,
            "justify_items": null,
            "left": null,
            "margin": null,
            "max_height": null,
            "max_width": null,
            "min_height": null,
            "min_width": null,
            "object_fit": null,
            "object_position": null,
            "order": null,
            "overflow": null,
            "overflow_x": null,
            "overflow_y": null,
            "padding": null,
            "right": null,
            "top": null,
            "visibility": null,
            "width": null
          }
        },
        "1a7bd57c1db040cf8d7a8222b2e381cb": {
          "model_module": "@jupyter-widgets/controls",
          "model_name": "ProgressStyleModel",
          "model_module_version": "1.5.0",
          "state": {
            "_model_module": "@jupyter-widgets/controls",
            "_model_module_version": "1.5.0",
            "_model_name": "ProgressStyleModel",
            "_view_count": null,
            "_view_module": "@jupyter-widgets/base",
            "_view_module_version": "1.2.0",
            "_view_name": "StyleView",
            "bar_color": null,
            "description_width": ""
          }
        },
        "3cdba6f342854b538606f58f99e4ee2e": {
          "model_module": "@jupyter-widgets/base",
          "model_name": "LayoutModel",
          "model_module_version": "1.2.0",
          "state": {
            "_model_module": "@jupyter-widgets/base",
            "_model_module_version": "1.2.0",
            "_model_name": "LayoutModel",
            "_view_count": null,
            "_view_module": "@jupyter-widgets/base",
            "_view_module_version": "1.2.0",
            "_view_name": "LayoutView",
            "align_content": null,
            "align_items": null,
            "align_self": null,
            "border": null,
            "bottom": null,
            "display": null,
            "flex": null,
            "flex_flow": null,
            "grid_area": null,
            "grid_auto_columns": null,
            "grid_auto_flow": null,
            "grid_auto_rows": null,
            "grid_column": null,
            "grid_gap": null,
            "grid_row": null,
            "grid_template_areas": null,
            "grid_template_columns": null,
            "grid_template_rows": null,
            "height": null,
            "justify_content": null,
            "justify_items": null,
            "left": null,
            "margin": null,
            "max_height": null,
            "max_width": null,
            "min_height": null,
            "min_width": null,
            "object_fit": null,
            "object_position": null,
            "order": null,
            "overflow": null,
            "overflow_x": null,
            "overflow_y": null,
            "padding": null,
            "right": null,
            "top": null,
            "visibility": null,
            "width": null
          }
        },
        "c2b2e981b5a34cd6a28f60a21a5361b9": {
          "model_module": "@jupyter-widgets/controls",
          "model_name": "DescriptionStyleModel",
          "model_module_version": "1.5.0",
          "state": {
            "_model_module": "@jupyter-widgets/controls",
            "_model_module_version": "1.5.0",
            "_model_name": "DescriptionStyleModel",
            "_view_count": null,
            "_view_module": "@jupyter-widgets/base",
            "_view_module_version": "1.2.0",
            "_view_name": "StyleView",
            "description_width": ""
          }
        }
      }
    }
  },
  "nbformat": 4,
  "nbformat_minor": 5
}