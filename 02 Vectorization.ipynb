{
 "cells": [
  {
   "cell_type": "markdown",
   "id": "bba64818",
   "metadata": {},
   "source": [
    "# Vectorization"
   ]
  },
  {
   "cell_type": "code",
   "execution_count": null,
   "id": "12942edd",
   "metadata": {
    "ExecuteTime": {
     "end_time": "2023-08-16T19:50:37.036971Z",
     "start_time": "2023-08-16T19:50:37.022870Z"
    }
   },
   "outputs": [],
   "source": [
    "# TO DO\n",
    "# (x) Bag of Words\n",
    "# ( ) Bag of bigrams\n",
    "# (x) TF-IDF\n",
    "# (x) Word2vec\n",
    "# (x) FastText\n",
    "# (x) Doc2vec\n",
    "# ( ) Infersent https://www.kaggle.com/code/jacksoncrow/infersent-demo"
   ]
  },
  {
   "cell_type": "code",
   "execution_count": null,
   "id": "39805500",
   "metadata": {
    "ExecuteTime": {
     "end_time": "2023-08-16T19:50:38.338557Z",
     "start_time": "2023-08-16T19:50:37.039133Z"
    }
   },
   "outputs": [],
   "source": [
    "import multiprocessing\n",
    "import pandas as pd\n",
    "import numpy as np\n",
    "from itertools import chain\n",
    "from scipy.spatial.distance import cosine"
   ]
  },
  {
   "cell_type": "code",
   "execution_count": null,
   "id": "20c692eb",
   "metadata": {
    "ExecuteTime": {
     "end_time": "2023-08-16T19:50:38.358234Z",
     "start_time": "2023-08-16T19:50:38.341560Z"
    }
   },
   "outputs": [],
   "source": [
    "cores = multiprocessing.cpu_count() - 1\n",
    "cores"
   ]
  },
  {
   "cell_type": "markdown",
   "id": "d0a45e72",
   "metadata": {},
   "source": [
    "**Nota:** A similaridade por cosseno pode ter 2 tipos de comportamento, dependendo do tipo de vetorização utilizada.\n",
    "* Para vetorizações que não apresentem valores negativos, como contagem de palavras (BoW ou TF-IDF), o cálculo de similaridade de cosseno varia apenas entre 0 e 1.\n",
    "* Para vetorizações que permitem valores negativos (vetorização densa), o cálculo de similaridade de cosseno pode variar apenas entre -1 e 1."
   ]
  },
  {
   "cell_type": "code",
   "execution_count": null,
   "id": "1df8dcde",
   "metadata": {
    "ExecuteTime": {
     "end_time": "2023-08-16T19:50:38.413621Z",
     "start_time": "2023-08-16T19:50:38.362299Z"
    }
   },
   "outputs": [],
   "source": [
    "# Vetores identicos\n",
    "similarity = 1 - cosine([1, 1, 1],\n",
    "                        [1, 1, 1])\n",
    "similarity"
   ]
  },
  {
   "cell_type": "code",
   "execution_count": null,
   "id": "257ade64",
   "metadata": {
    "ExecuteTime": {
     "end_time": "2023-08-16T19:50:38.477534Z",
     "start_time": "2023-08-16T19:50:38.413621Z"
    }
   },
   "outputs": [],
   "source": [
    "# Vetores ortogonais\n",
    "similarity = 1 - cosine([0, 1, 0],\n",
    "                        [1, 0, 1])\n",
    "similarity"
   ]
  },
  {
   "cell_type": "code",
   "execution_count": null,
   "id": "ecb42228",
   "metadata": {
    "ExecuteTime": {
     "end_time": "2023-08-16T19:50:38.519160Z",
     "start_time": "2023-08-16T19:50:38.477534Z"
    }
   },
   "outputs": [],
   "source": [
    "# Vetores com direções opostas\n",
    "similarity = 1 - cosine([-1, 1, -1],\n",
    "                        [1, -1, 1])\n",
    "similarity"
   ]
  },
  {
   "cell_type": "markdown",
   "id": "17220a72",
   "metadata": {},
   "source": [
    "## Dataset"
   ]
  },
  {
   "cell_type": "code",
   "execution_count": null,
   "id": "f6ce9c23",
   "metadata": {
    "ExecuteTime": {
     "end_time": "2023-08-16T19:50:38.792186Z",
     "start_time": "2023-08-16T19:50:38.519160Z"
    }
   },
   "outputs": [],
   "source": [
    "corpus = pd.read_csv('datasets\\corpus_cleaned.csv', encoding='1252')"
   ]
  },
  {
   "cell_type": "code",
   "execution_count": null,
   "id": "2e891bf4",
   "metadata": {
    "ExecuteTime": {
     "end_time": "2023-08-16T19:50:38.861358Z",
     "start_time": "2023-08-16T19:50:38.792186Z"
    }
   },
   "outputs": [],
   "source": [
    "corpus.head(10)"
   ]
  },
  {
   "cell_type": "code",
   "execution_count": null,
   "id": "f773490d",
   "metadata": {
    "ExecuteTime": {
     "end_time": "2023-08-16T19:50:38.876610Z",
     "start_time": "2023-08-16T19:50:38.861358Z"
    }
   },
   "outputs": [],
   "source": [
    "corpus.shape"
   ]
  },
  {
   "cell_type": "code",
   "execution_count": null,
   "id": "bbc03ffe",
   "metadata": {
    "ExecuteTime": {
     "end_time": "2023-08-16T19:50:41.042292Z",
     "start_time": "2023-08-16T19:50:38.879528Z"
    }
   },
   "outputs": [],
   "source": [
    "## Vocabulary size\n",
    "full_text = ' '.join(corpus['motivo_CLEAN'].tolist())\n",
    "words = full_text.split()\n",
    "vocabulary = set(words)\n",
    "len(vocabulary)"
   ]
  },
  {
   "cell_type": "markdown",
   "id": "bdbe9969",
   "metadata": {},
   "source": [
    "## Sparse"
   ]
  },
  {
   "cell_type": "markdown",
   "id": "e6861466",
   "metadata": {},
   "source": [
    "### Bag of Word"
   ]
  },
  {
   "cell_type": "code",
   "execution_count": null,
   "id": "80626732",
   "metadata": {
    "ExecuteTime": {
     "end_time": "2023-07-25T17:42:46.472927Z",
     "start_time": "2023-07-25T17:42:46.429443Z"
    }
   },
   "outputs": [],
   "source": [
    "from sklearn.feature_extraction.text import CountVectorizer"
   ]
  },
  {
   "cell_type": "code",
   "execution_count": null,
   "id": "e162b8e5",
   "metadata": {
    "ExecuteTime": {
     "end_time": "2023-07-25T17:42:46.535338Z",
     "start_time": "2023-07-25T17:42:46.474920Z"
    }
   },
   "outputs": [],
   "source": [
    "X = corpus.values.tolist()\n",
    "X = list(chain.from_iterable(X))\n",
    "X[0:3]"
   ]
  },
  {
   "cell_type": "code",
   "execution_count": null,
   "id": "00557104",
   "metadata": {
    "ExecuteTime": {
     "end_time": "2023-07-25T17:42:46.582191Z",
     "start_time": "2023-07-25T17:42:46.537332Z"
    }
   },
   "outputs": [],
   "source": [
    "count_vectorizer = CountVectorizer()"
   ]
  },
  {
   "cell_type": "code",
   "execution_count": null,
   "id": "17d2fc51",
   "metadata": {
    "ExecuteTime": {
     "end_time": "2023-07-25T17:42:46.780354Z",
     "start_time": "2023-07-25T17:42:46.585183Z"
    }
   },
   "outputs": [],
   "source": [
    "bag_of_words = count_vectorizer.fit_transform(corpus.motivo_CLEAN)"
   ]
  },
  {
   "cell_type": "code",
   "execution_count": null,
   "id": "5fc0040c",
   "metadata": {
    "ExecuteTime": {
     "end_time": "2023-07-25T17:42:46.795854Z",
     "start_time": "2023-07-25T17:42:46.784158Z"
    }
   },
   "outputs": [],
   "source": [
    "similarity = 1 - cosine(bag_of_words[1].toarray().flatten(),\n",
    "                        bag_of_words[2].toarray().flatten())\n",
    "similarity"
   ]
  },
  {
   "cell_type": "markdown",
   "id": "a7567b78",
   "metadata": {},
   "source": [
    "### TF-IDF"
   ]
  },
  {
   "cell_type": "code",
   "execution_count": null,
   "id": "69fe16a6",
   "metadata": {
    "ExecuteTime": {
     "end_time": "2023-07-25T17:42:46.842187Z",
     "start_time": "2023-07-25T17:42:46.799777Z"
    }
   },
   "outputs": [],
   "source": [
    "from sklearn.feature_extraction.text import TfidfVectorizer"
   ]
  },
  {
   "cell_type": "code",
   "execution_count": null,
   "id": "f5c535e6",
   "metadata": {
    "ExecuteTime": {
     "end_time": "2023-07-25T17:42:46.903345Z",
     "start_time": "2023-07-25T17:42:46.845695Z"
    }
   },
   "outputs": [],
   "source": [
    "X = corpus.values.tolist()\n",
    "X = list(chain.from_iterable(X))\n",
    "X[0:4]"
   ]
  },
  {
   "cell_type": "code",
   "execution_count": null,
   "id": "796b7dd6",
   "metadata": {
    "ExecuteTime": {
     "end_time": "2023-07-25T17:42:46.948720Z",
     "start_time": "2023-07-25T17:42:46.906334Z"
    }
   },
   "outputs": [],
   "source": [
    "tf_idf_vectorizer = TfidfVectorizer()"
   ]
  },
  {
   "cell_type": "code",
   "execution_count": null,
   "id": "e53b9c0a",
   "metadata": {
    "ExecuteTime": {
     "end_time": "2023-07-25T17:42:47.118913Z",
     "start_time": "2023-07-25T17:42:46.956630Z"
    }
   },
   "outputs": [],
   "source": [
    "tf_idf = tf_idf_vectorizer.fit_transform(corpus.motivo_CLEAN)"
   ]
  },
  {
   "cell_type": "code",
   "execution_count": null,
   "id": "b8fbeabf",
   "metadata": {
    "ExecuteTime": {
     "end_time": "2023-07-25T17:42:47.134441Z",
     "start_time": "2023-07-25T17:42:47.121413Z"
    }
   },
   "outputs": [],
   "source": [
    "tf_idf"
   ]
  },
  {
   "cell_type": "code",
   "execution_count": null,
   "id": "3ed7636e",
   "metadata": {
    "ExecuteTime": {
     "end_time": "2023-07-25T17:42:47.180609Z",
     "start_time": "2023-07-25T17:42:47.136360Z"
    }
   },
   "outputs": [],
   "source": [
    "similarity = 1 - cosine(tf_idf[1].toarray().flatten(),\n",
    "                        tf_idf[3].toarray().flatten())\n",
    "similarity"
   ]
  },
  {
   "cell_type": "markdown",
   "id": "b27a3e58",
   "metadata": {},
   "source": [
    "## Dense"
   ]
  },
  {
   "cell_type": "markdown",
   "id": "b6684fad",
   "metadata": {},
   "source": [
    "### Word2vec"
   ]
  },
  {
   "cell_type": "code",
   "execution_count": null,
   "id": "dfc1b300",
   "metadata": {
    "ExecuteTime": {
     "end_time": "2023-07-25T17:42:47.227462Z",
     "start_time": "2023-07-25T17:42:47.184701Z"
    }
   },
   "outputs": [],
   "source": [
    "from gensim.models import Word2Vec"
   ]
  },
  {
   "cell_type": "markdown",
   "id": "a1333a36",
   "metadata": {},
   "source": [
    "* Vetores: http://nilc.icmc.usp.br/nilc/index.php/repositorio-de-word-embeddings-do-nilc\n",
    "* Treinamento: https://www.youtube.com/watch?v=wjsKN4uyH90\n",
    "* Tutorial: https://www.kaggle.com/code/pierremegret/gensim-word2vec-tutorial\n",
    "* Teoria: https://towardsdatascience.com/word2vec-explained-49c52b4ccb71\n",
    "* Documentação: https://www.nltk.org/howto/portuguese_en.html"
   ]
  },
  {
   "cell_type": "markdown",
   "id": "f2729a5c",
   "metadata": {},
   "source": [
    "**Spacy**\n",
    "\n",
    "https://spacy.io/models/pt"
   ]
  },
  {
   "cell_type": "code",
   "execution_count": null,
   "id": "9ef969e2",
   "metadata": {
    "ExecuteTime": {
     "end_time": "2023-07-25T17:42:48.300621Z",
     "start_time": "2023-07-25T17:42:47.233711Z"
    }
   },
   "outputs": [],
   "source": [
    "import spacy\n",
    "nlp = spacy.load('pt_core_news_sm')"
   ]
  },
  {
   "cell_type": "code",
   "execution_count": null,
   "id": "f1bc5df6",
   "metadata": {
    "ExecuteTime": {
     "end_time": "2023-07-25T17:42:48.315784Z",
     "start_time": "2023-07-25T17:42:48.302712Z"
    }
   },
   "outputs": [],
   "source": [
    "def spacy_tokenizer(doc):\n",
    "  return [t.text for t in nlp(doc)]"
   ]
  },
  {
   "cell_type": "code",
   "execution_count": null,
   "id": "2785dbcf",
   "metadata": {
    "ExecuteTime": {
     "end_time": "2023-07-25T17:42:48.393583Z",
     "start_time": "2023-07-25T17:42:48.318612Z"
    }
   },
   "outputs": [],
   "source": [
    "X = corpus.values.tolist()[:3]\n",
    "X = [spacy_tokenizer(text[0]) for text in X]\n",
    "X[0:2]"
   ]
  },
  {
   "cell_type": "markdown",
   "id": "7cd0a4ed",
   "metadata": {},
   "source": [
    "**NLTK**"
   ]
  },
  {
   "cell_type": "code",
   "execution_count": null,
   "id": "a7c38c88",
   "metadata": {
    "ExecuteTime": {
     "end_time": "2023-07-25T17:42:48.424898Z",
     "start_time": "2023-07-25T17:42:48.397243Z"
    }
   },
   "outputs": [],
   "source": [
    "import nltk\n",
    "#nltk.download('punkt')\n",
    "from nltk.tokenize import word_tokenize"
   ]
  },
  {
   "cell_type": "code",
   "execution_count": null,
   "id": "75aa78be",
   "metadata": {
    "ExecuteTime": {
     "end_time": "2023-07-25T17:42:50.110794Z",
     "start_time": "2023-07-25T17:42:48.430235Z"
    }
   },
   "outputs": [],
   "source": [
    "X = corpus.values.tolist()\n",
    "X = [word_tokenize(text[0], language='portuguese') for text in X]\n",
    "X[0:2]"
   ]
  },
  {
   "cell_type": "markdown",
   "id": "0764cc79",
   "metadata": {},
   "source": [
    "#### CBOW - Continuous Bag of Words"
   ]
  },
  {
   "cell_type": "code",
   "execution_count": null,
   "id": "35f0f69a",
   "metadata": {
    "ExecuteTime": {
     "end_time": "2023-07-25T17:42:50.126776Z",
     "start_time": "2023-07-25T17:42:50.119727Z"
    }
   },
   "outputs": [],
   "source": [
    "#model.wv.key_to_index"
   ]
  },
  {
   "cell_type": "code",
   "execution_count": null,
   "id": "55e8b915",
   "metadata": {
    "ExecuteTime": {
     "end_time": "2023-07-25T17:42:50.174643Z",
     "start_time": "2023-07-25T17:42:50.128696Z"
    }
   },
   "outputs": [],
   "source": [
    "w2v_cbow = Word2Vec(sg=0, #CBOW\n",
    "                    min_count=20,\n",
    "                    window=2,\n",
    "                    vector_size=300,\n",
    "                    sample=6e-5, \n",
    "                    alpha=0.03, \n",
    "                    min_alpha=0.0007, \n",
    "                    negative=20,\n",
    "                    workers=cores-1)"
   ]
  },
  {
   "cell_type": "code",
   "execution_count": null,
   "id": "4ba94f78",
   "metadata": {
    "ExecuteTime": {
     "end_time": "2023-07-25T17:42:50.250876Z",
     "start_time": "2023-07-25T17:42:50.179639Z"
    }
   },
   "outputs": [],
   "source": [
    "w2v_cbow.build_vocab(X)"
   ]
  },
  {
   "cell_type": "code",
   "execution_count": null,
   "id": "1efd7852",
   "metadata": {
    "ExecuteTime": {
     "end_time": "2023-07-25T17:42:52.802340Z",
     "start_time": "2023-07-25T17:42:50.253829Z"
    }
   },
   "outputs": [],
   "source": [
    "w2v_cbow.train(X,\n",
    "               total_examples=w2v_cbow.corpus_count,\n",
    "               epochs=30,\n",
    "               report_delay=1)"
   ]
  },
  {
   "cell_type": "code",
   "execution_count": null,
   "id": "3d370c0b",
   "metadata": {
    "ExecuteTime": {
     "end_time": "2023-07-25T17:42:52.832239Z",
     "start_time": "2023-07-25T17:42:52.809157Z"
    }
   },
   "outputs": [],
   "source": [
    "similarity = 1 - cosine(np.mean(w2v_cbow.wv[X[1]].T, axis=1),\n",
    "                        np.mean(w2v_cbow.wv[X[3]].T, axis=1))\n",
    "similarity"
   ]
  },
  {
   "cell_type": "markdown",
   "id": "7ba58812",
   "metadata": {},
   "source": [
    "#### SG - Skip-Gram"
   ]
  },
  {
   "cell_type": "code",
   "execution_count": null,
   "id": "7969c2b0",
   "metadata": {
    "ExecuteTime": {
     "end_time": "2023-07-25T17:42:52.893582Z",
     "start_time": "2023-07-25T17:42:52.840459Z"
    }
   },
   "outputs": [],
   "source": [
    "w2v_skgram = Word2Vec(sg=1, #skip-gram\n",
    "                     min_count=20,\n",
    "                     window=2,\n",
    "                     vector_size=300,\n",
    "                     sample=6e-5, \n",
    "                     alpha=0.03, \n",
    "                     min_alpha=0.0007, \n",
    "                     negative=20,\n",
    "                     workers=cores-1)"
   ]
  },
  {
   "cell_type": "code",
   "execution_count": null,
   "id": "9d54f8a5",
   "metadata": {
    "ExecuteTime": {
     "end_time": "2023-07-25T17:42:52.987470Z",
     "start_time": "2023-07-25T17:42:52.898678Z"
    }
   },
   "outputs": [],
   "source": [
    "w2v_skgram.build_vocab(X)"
   ]
  },
  {
   "cell_type": "code",
   "execution_count": null,
   "id": "e76d17b3",
   "metadata": {
    "ExecuteTime": {
     "end_time": "2023-07-25T17:42:55.206499Z",
     "start_time": "2023-07-25T17:42:52.991469Z"
    }
   },
   "outputs": [],
   "source": [
    "w2v_skgram.train(X,\n",
    "                 total_examples=w2v_skgram.corpus_count,\n",
    "                 epochs=30,\n",
    "                 report_delay=1)"
   ]
  },
  {
   "cell_type": "code",
   "execution_count": null,
   "id": "7242ed3b",
   "metadata": {
    "ExecuteTime": {
     "end_time": "2023-07-25T17:42:55.221691Z",
     "start_time": "2023-07-25T17:42:55.208591Z"
    }
   },
   "outputs": [],
   "source": [
    "similarity = 1 - cosine(np.mean(w2v_skgram.wv[X[1]].T, axis=1),\n",
    "                        np.mean(w2v_skgram.wv[X[1]].T, axis=1))\n",
    "similarity"
   ]
  },
  {
   "cell_type": "markdown",
   "id": "ccf5b5fa",
   "metadata": {},
   "source": [
    "### FastText"
   ]
  },
  {
   "cell_type": "code",
   "execution_count": null,
   "id": "d06acc07",
   "metadata": {
    "ExecuteTime": {
     "end_time": "2023-07-25T17:42:55.467814Z",
     "start_time": "2023-07-25T17:42:55.223958Z"
    }
   },
   "outputs": [],
   "source": [
    "from gensim.models import FastText"
   ]
  },
  {
   "cell_type": "code",
   "execution_count": null,
   "id": "1d496fb8",
   "metadata": {
    "ExecuteTime": {
     "end_time": "2023-07-25T17:42:55.514442Z",
     "start_time": "2023-07-25T17:42:55.471550Z"
    }
   },
   "outputs": [],
   "source": [
    "import nltk\n",
    "nltk.download('punkt')\n",
    "from nltk.tokenize import word_tokenize"
   ]
  },
  {
   "cell_type": "code",
   "execution_count": null,
   "id": "1235315f",
   "metadata": {
    "ExecuteTime": {
     "end_time": "2023-07-25T17:42:57.654270Z",
     "start_time": "2023-07-25T17:42:55.517835Z"
    }
   },
   "outputs": [],
   "source": [
    "X = corpus.values.tolist()\n",
    "X = [word_tokenize(text[0], language='portuguese') for text in X]\n",
    "X[0:2]"
   ]
  },
  {
   "cell_type": "code",
   "execution_count": null,
   "id": "32b82663",
   "metadata": {
    "ExecuteTime": {
     "end_time": "2023-07-25T17:42:57.669179Z",
     "start_time": "2023-07-25T17:42:57.657164Z"
    }
   },
   "outputs": [],
   "source": [
    "fast_text = FastText(vector_size=4, window=3, min_count=1)"
   ]
  },
  {
   "cell_type": "code",
   "execution_count": null,
   "id": "afca2911",
   "metadata": {
    "ExecuteTime": {
     "end_time": "2023-07-25T17:42:57.837766Z",
     "start_time": "2023-07-25T17:42:57.673669Z"
    }
   },
   "outputs": [],
   "source": [
    "fast_text.build_vocab(corpus_iterable=X)"
   ]
  },
  {
   "cell_type": "code",
   "execution_count": null,
   "id": "480fd41d",
   "metadata": {
    "ExecuteTime": {
     "end_time": "2023-07-25T17:42:58.772680Z",
     "start_time": "2023-07-25T17:42:57.840756Z"
    }
   },
   "outputs": [],
   "source": [
    "fast_text.train(corpus_iterable=X, total_examples=len(X), epochs=10)"
   ]
  },
  {
   "cell_type": "code",
   "execution_count": null,
   "id": "c1080d05",
   "metadata": {
    "ExecuteTime": {
     "end_time": "2023-07-25T17:42:58.787814Z",
     "start_time": "2023-07-25T17:42:58.775722Z"
    }
   },
   "outputs": [],
   "source": [
    "similarity = 1 - cosine(np.mean(fast_text.wv[X[1]].T, axis=1),\n",
    "                        np.mean(fast_text.wv[X[3]].T, axis=1))\n",
    "similarity"
   ]
  },
  {
   "cell_type": "markdown",
   "id": "5952f18b",
   "metadata": {},
   "source": [
    "### Combined"
   ]
  },
  {
   "cell_type": "markdown",
   "id": "7945c081",
   "metadata": {},
   "source": [
    "#### Word2vec CBOW + TF-IDF"
   ]
  },
  {
   "cell_type": "markdown",
   "id": "2a07c15b",
   "metadata": {},
   "source": [
    "#### Word2vec SG + TF-IDF"
   ]
  },
  {
   "cell_type": "markdown",
   "id": "949525eb",
   "metadata": {},
   "source": [
    "#### FastTest + TF-IDF"
   ]
  },
  {
   "cell_type": "code",
   "execution_count": null,
   "id": "15363c13",
   "metadata": {
    "ExecuteTime": {
     "end_time": "2023-07-25T17:43:03.844310Z",
     "start_time": "2023-07-25T17:42:58.790848Z"
    }
   },
   "outputs": [],
   "source": [
    "tfidf_sent_vectors_ft = [] # the tfidf-ft for each sentence/review is stored in this list\n",
    "row = 0\n",
    "errors = 0\n",
    "tfidf_feat = tf_idf_vectorizer.get_feature_names_out()\n",
    "X = corpus.values.tolist()\n",
    "X = [word_tokenize(text[0], language='portuguese') for text in X]\n",
    "\n",
    "for sent in X[:]: # for each review/sentence\n",
    "    vec_shape = fast_text.wv[tfidf_feat[0]].shape[0]\n",
    "    sent_vec = np.zeros(vec_shape) # \n",
    "    weight_sum = 0; # num of words with a valid vector in the sentence/review\n",
    "    for word in sent: # for each word in a review/sentence\n",
    "        try:\n",
    "            vec = fast_text.wv[word]\n",
    "            # obtain the tf_idfidf of a word in a sentence/review\n",
    "            tfidf_idx = np.where(tfidf_feat == word)[0][0]\n",
    "            tfidf_weight = tf_idf[row, tfidf_idx]\n",
    "            sent_vec += (vec * tfidf_weight)\n",
    "            weight_sum += tfidf_weight\n",
    "        except:\n",
    "            errors +=1\n",
    "            print(f\"Error in {word}\")\n",
    "            pass\n",
    "    sent_vec /= weight_sum\n",
    "\n",
    "    tfidf_sent_vectors_ft.append(sent_vec)\n",
    "    row += 1\n",
    "print('errors noted: '+str(errors))"
   ]
  },
  {
   "cell_type": "code",
   "execution_count": null,
   "id": "bdcec4ae",
   "metadata": {
    "ExecuteTime": {
     "end_time": "2023-07-25T17:43:03.859680Z",
     "start_time": "2023-07-25T17:43:03.848164Z"
    }
   },
   "outputs": [],
   "source": [
    "similarity = 1 - cosine(tfidf_sent_vectors_ft[1],\n",
    "                        tfidf_sent_vectors_ft[3])\n",
    "similarity"
   ]
  },
  {
   "cell_type": "markdown",
   "id": "02444b2c",
   "metadata": {},
   "source": [
    "### Doc2Vec"
   ]
  },
  {
   "cell_type": "markdown",
   "id": "8edbc256",
   "metadata": {},
   "source": [
    "* https://medium.com/wisio/a-gentle-introduction-to-doc2vec-db3e8c0cce5e\n",
    "* https://aitechtrend.com/doc2vec-made-easy-a-step-by-step-guide-to-gensim-implementation/"
   ]
  },
  {
   "cell_type": "code",
   "execution_count": null,
   "id": "f4c71a6b",
   "metadata": {
    "ExecuteTime": {
     "end_time": "2023-07-24T20:05:35.982840Z",
     "start_time": "2023-07-24T20:05:35.910763Z"
    }
   },
   "outputs": [],
   "source": [
    "from gensim.models.doc2vec import TaggedDocument\n",
    "from gensim.models import Doc2Vec\n",
    "from nltk.tokenize import word_tokenize"
   ]
  },
  {
   "cell_type": "code",
   "execution_count": null,
   "id": "34ffa98d",
   "metadata": {
    "ExecuteTime": {
     "end_time": "2023-07-24T20:05:38.167691Z",
     "start_time": "2023-07-24T20:05:35.987447Z"
    }
   },
   "outputs": [],
   "source": [
    "X = corpus.values.tolist()\n",
    "X = list(chain.from_iterable(X))\n",
    "\n",
    "tagged_docs = [TaggedDocument(words=word_tokenize(doc), tags=[str(i)]) for i, doc in enumerate(X)]\n",
    "tagged_docs[:4]"
   ]
  },
  {
   "cell_type": "markdown",
   "id": "18672e00",
   "metadata": {},
   "source": [
    "#### DBOW - Distributed Bag of Words"
   ]
  },
  {
   "cell_type": "code",
   "execution_count": null,
   "id": "0c41bc72",
   "metadata": {
    "ExecuteTime": {
     "end_time": "2023-07-24T20:05:38.198743Z",
     "start_time": "2023-07-24T20:05:38.176185Z"
    }
   },
   "outputs": [],
   "source": [
    "d2v_dbow = Doc2Vec(dm=0,\n",
    "                   vector_size=300,\n",
    "                   negative=5,\n",
    "                   hs=0,\n",
    "                   min_count=2,\n",
    "                   sample=0,\n",
    "                   workers=cores)"
   ]
  },
  {
   "cell_type": "code",
   "execution_count": null,
   "id": "22cd3096",
   "metadata": {
    "ExecuteTime": {
     "end_time": "2023-07-24T20:05:38.527732Z",
     "start_time": "2023-07-24T20:05:38.201620Z"
    }
   },
   "outputs": [],
   "source": [
    "d2v_dbow.build_vocab(tagged_docs)"
   ]
  },
  {
   "cell_type": "code",
   "execution_count": null,
   "id": "8a3c8ebc",
   "metadata": {
    "ExecuteTime": {
     "end_time": "2023-07-24T20:06:00.524589Z",
     "start_time": "2023-07-24T20:05:38.531211Z"
    }
   },
   "outputs": [],
   "source": [
    "d2v_dbow.train(tagged_docs, total_examples=d2v_dbow.corpus_count, epochs=50) "
   ]
  },
  {
   "cell_type": "code",
   "execution_count": null,
   "id": "50d0fd8c",
   "metadata": {
    "ExecuteTime": {
     "end_time": "2023-07-24T20:06:00.540348Z",
     "start_time": "2023-07-24T20:06:00.525624Z"
    }
   },
   "outputs": [],
   "source": [
    "similarity = 1 - cosine(d2v_dbow.infer_vector(word_tokenize(X[1])),\n",
    "                        d2v_dbow.infer_vector(word_tokenize(X[3])))\n",
    "similarity"
   ]
  },
  {
   "cell_type": "markdown",
   "id": "13d6ea4e",
   "metadata": {},
   "source": [
    "#### DM - Distributed Memory"
   ]
  },
  {
   "cell_type": "code",
   "execution_count": null,
   "id": "ce08a57c",
   "metadata": {
    "ExecuteTime": {
     "end_time": "2023-07-24T20:06:00.601301Z",
     "start_time": "2023-07-24T20:06:00.545255Z"
    }
   },
   "outputs": [],
   "source": [
    "# 0.025 \n",
    "d2v_dm = Doc2Vec(dm=1,\n",
    "                 vector_size=300,\n",
    "                 negative=5,\n",
    "                 hs=0,\n",
    "                 min_count=2,\n",
    "                 sample=0,\n",
    "                 workers=cores)"
   ]
  },
  {
   "cell_type": "code",
   "execution_count": null,
   "id": "799a094a",
   "metadata": {
    "ExecuteTime": {
     "end_time": "2023-07-24T20:06:00.867876Z",
     "start_time": "2023-07-24T20:06:00.604996Z"
    }
   },
   "outputs": [],
   "source": [
    "d2v_dm.build_vocab(tagged_docs)"
   ]
  },
  {
   "cell_type": "code",
   "execution_count": null,
   "id": "d0ae5193",
   "metadata": {
    "ExecuteTime": {
     "end_time": "2023-07-24T20:06:44.950155Z",
     "start_time": "2023-07-24T20:06:00.870893Z"
    }
   },
   "outputs": [],
   "source": [
    "d2v_dm.train(tagged_docs, total_examples=d2v_dm.corpus_count, epochs=50) "
   ]
  },
  {
   "cell_type": "code",
   "execution_count": null,
   "id": "85147b22",
   "metadata": {
    "ExecuteTime": {
     "end_time": "2023-07-24T20:06:44.981587Z",
     "start_time": "2023-07-24T20:06:44.954189Z"
    }
   },
   "outputs": [],
   "source": [
    "similarity = 1 - cosine(d2v_dm.infer_vector(word_tokenize(X[1])),\n",
    "                        d2v_dm.infer_vector(word_tokenize(X[3])))\n",
    "similarity"
   ]
  },
  {
   "cell_type": "markdown",
   "id": "aba11c3d",
   "metadata": {},
   "source": [
    "#### Concatenated"
   ]
  },
  {
   "cell_type": "code",
   "execution_count": null,
   "id": "7adb367b",
   "metadata": {
    "ExecuteTime": {
     "end_time": "2023-07-24T20:06:45.512634Z",
     "start_time": "2023-07-24T20:06:44.986067Z"
    }
   },
   "outputs": [],
   "source": [
    "from gensim.test.test_doc2vec import ConcatenatedDoc2Vec"
   ]
  },
  {
   "cell_type": "code",
   "execution_count": null,
   "id": "e52aceba",
   "metadata": {
    "ExecuteTime": {
     "end_time": "2023-07-24T20:06:45.528546Z",
     "start_time": "2023-07-24T20:06:45.516703Z"
    }
   },
   "outputs": [],
   "source": [
    "d2v_combined = ConcatenatedDoc2Vec([d2v_dbow, d2v_dm])"
   ]
  },
  {
   "cell_type": "code",
   "execution_count": null,
   "id": "943b9306",
   "metadata": {
    "ExecuteTime": {
     "end_time": "2023-07-24T20:06:45.590715Z",
     "start_time": "2023-07-24T20:06:45.534527Z"
    }
   },
   "outputs": [],
   "source": [
    "similarity = 1 - cosine(d2v_combined.infer_vector(word_tokenize(X[1])),\n",
    "                        d2v_combined.infer_vector(word_tokenize(X[3])))\n",
    "similarity"
   ]
  },
  {
   "cell_type": "markdown",
   "id": "aa5b01a0",
   "metadata": {},
   "source": [
    "### Transformers"
   ]
  },
  {
   "cell_type": "markdown",
   "id": "54f9d586",
   "metadata": {},
   "source": [
    "* https://huggingface.co/models?pipeline_tag=sentence-similarity&language=pt&sort=trending\n",
    "* https://huggingface.co/blog/how-to-train-sentence-transformers"
   ]
  },
  {
   "cell_type": "code",
   "execution_count": null,
   "id": "33883135",
   "metadata": {
    "ExecuteTime": {
     "end_time": "2023-07-24T20:06:49.567212Z",
     "start_time": "2023-07-24T20:06:45.593705Z"
    }
   },
   "outputs": [],
   "source": [
    "from sentence_transformers import SentenceTransformer\n",
    "import torch"
   ]
  },
  {
   "cell_type": "code",
   "execution_count": null,
   "id": "8fc982be",
   "metadata": {
    "ExecuteTime": {
     "end_time": "2023-07-24T20:06:49.582171Z",
     "start_time": "2023-07-24T20:06:49.571288Z"
    }
   },
   "outputs": [],
   "source": [
    "# https://www.sbert.net/"
   ]
  },
  {
   "cell_type": "code",
   "execution_count": null,
   "id": "8c2dcd6c",
   "metadata": {
    "ExecuteTime": {
     "end_time": "2023-07-24T20:06:49.643168Z",
     "start_time": "2023-07-24T20:06:49.587288Z"
    }
   },
   "outputs": [],
   "source": [
    "X = corpus.values.tolist()\n",
    "X = list(chain.from_iterable(X))\n",
    "X[0:2]"
   ]
  },
  {
   "cell_type": "code",
   "execution_count": null,
   "id": "f3fcc71b",
   "metadata": {
    "ExecuteTime": {
     "end_time": "2023-07-24T20:06:51.588652Z",
     "start_time": "2023-07-24T20:06:49.648168Z"
    }
   },
   "outputs": [],
   "source": [
    "from sentence_transformers import SentenceTransformer\n",
    "model = SentenceTransformer('all-MiniLM-L6-v2')\n",
    "#model = SentenceTransformer('Legal-BERTimbau-sts-large-ma-v3')"
   ]
  },
  {
   "cell_type": "code",
   "execution_count": null,
   "id": "fef00e4a",
   "metadata": {
    "ExecuteTime": {
     "end_time": "2023-07-24T20:08:08.482343Z",
     "start_time": "2023-07-24T20:06:51.592639Z"
    }
   },
   "outputs": [],
   "source": [
    "#Sentences are encoded by calling model.encode()\n",
    "embeddings = model.encode(X)"
   ]
  },
  {
   "cell_type": "code",
   "execution_count": null,
   "id": "70c00909",
   "metadata": {
    "ExecuteTime": {
     "end_time": "2023-07-24T20:08:08.498393Z",
     "start_time": "2023-07-24T20:08:08.487115Z"
    }
   },
   "outputs": [],
   "source": [
    "embeddings[0].shape"
   ]
  },
  {
   "cell_type": "code",
   "execution_count": null,
   "id": "1f4d70e6",
   "metadata": {
    "ExecuteTime": {
     "end_time": "2023-07-24T20:08:08.545146Z",
     "start_time": "2023-07-24T20:08:08.501383Z"
    }
   },
   "outputs": [],
   "source": [
    "similarity = 1 - cosine(embeddings[1],\n",
    "                        embeddings[3])\n",
    "similarity"
   ]
  },
  {
   "cell_type": "markdown",
   "id": "63f0741a",
   "metadata": {},
   "source": [
    "## References"
   ]
  },
  {
   "cell_type": "markdown",
   "id": "6097900e",
   "metadata": {},
   "source": [
    "* http://hunterheidenreich.com/blog/intro-to-word-embeddings/"
   ]
  },
  {
   "cell_type": "code",
   "execution_count": null,
   "id": "c9ae3067",
   "metadata": {},
   "outputs": [],
   "source": []
  }
 ],
 "metadata": {
  "kernelspec": {
   "display_name": "Python 3 (ipykernel)",
   "language": "python",
   "name": "python3"
  },
  "language_info": {
   "codemirror_mode": {
    "name": "ipython",
    "version": 3
   },
   "file_extension": ".py",
   "mimetype": "text/x-python",
   "name": "python",
   "nbconvert_exporter": "python",
   "pygments_lexer": "ipython3",
   "version": "3.10.9"
  },
  "toc": {
   "base_numbering": 1,
   "nav_menu": {},
   "number_sections": false,
   "sideBar": true,
   "skip_h1_title": false,
   "title_cell": "Table of Contents",
   "title_sidebar": "Contents",
   "toc_cell": false,
   "toc_position": {
    "height": "calc(100% - 180px)",
    "left": "10px",
    "top": "150px",
    "width": "280.775px"
   },
   "toc_section_display": true,
   "toc_window_display": true
  },
  "varInspector": {
   "cols": {
    "lenName": 16,
    "lenType": 16,
    "lenVar": 40
   },
   "kernels_config": {
    "python": {
     "delete_cmd_postfix": "",
     "delete_cmd_prefix": "del ",
     "library": "var_list.py",
     "varRefreshCmd": "print(var_dic_list())"
    },
    "r": {
     "delete_cmd_postfix": ") ",
     "delete_cmd_prefix": "rm(",
     "library": "var_list.r",
     "varRefreshCmd": "cat(var_dic_list()) "
    }
   },
   "types_to_exclude": [
    "module",
    "function",
    "builtin_function_or_method",
    "instance",
    "_Feature"
   ],
   "window_display": false
  }
 },
 "nbformat": 4,
 "nbformat_minor": 5
}
